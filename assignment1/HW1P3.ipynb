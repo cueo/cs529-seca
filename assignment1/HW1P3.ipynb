{
 "cells": [
  {
   "cell_type": "markdown",
   "source": [
    "## 3.1"
   ],
   "metadata": {
    "collapsed": false,
    "pycharm": {
     "name": "#%% md\n"
    }
   }
  },
  {
   "cell_type": "code",
   "execution_count": 121,
   "outputs": [],
   "source": [
    "import matplotlib.pyplot as plt\n",
    "import pandas as pd\n",
    "import numpy as np\n",
    "\n",
    "from sklearn.model_selection import train_test_split\n",
    "\n",
    "df = pd.read_csv('data.txt', delim_whitespace=True, header=None)\n",
    "X, y = df[0], df[1]"
   ],
   "metadata": {
    "collapsed": false,
    "pycharm": {
     "name": "#%%\n"
    }
   }
  },
  {
   "cell_type": "code",
   "execution_count": 122,
   "outputs": [],
   "source": [
    "splits = 10\n",
    "\n",
    "X_trains = []\n",
    "X_vals = []\n",
    "Y_trains = []\n",
    "Y_vals = []\n",
    "\n",
    "for i in range(10):\n",
    "    X_train, X_val, Y_train, Y_val = train_test_split(X, y, test_size=0.2, random_state=i)\n",
    "    X_trains.append(X_train)\n",
    "    X_vals.append(X_val)\n",
    "    Y_trains.append(Y_train)\n",
    "    Y_vals.append(Y_val)\n",
    "\n",
    "    # print(len(X_train), len(X_val), len(Y_train), len(Y_val))\n"
   ],
   "metadata": {
    "collapsed": false,
    "pycharm": {
     "name": "#%%\n"
    }
   }
  },
  {
   "cell_type": "markdown",
   "source": [
    "## 3.2"
   ],
   "metadata": {
    "collapsed": false,
    "pycharm": {
     "name": "#%% md\n"
    }
   }
  },
  {
   "cell_type": "code",
   "execution_count": 123,
   "outputs": [],
   "source": [
    "from sklearn.preprocessing import StandardScaler\n",
    "\n",
    "scaler = StandardScaler()\n",
    "for i in range(splits):\n",
    "    # Reshape because only single feature\n",
    "    X_train = X_trains[i].values.reshape(-1, 1)\n",
    "    X_val = X_vals[i].values.reshape(-1, 1)\n",
    "    Y_train = Y_trains[i].values.reshape(-1, 1)\n",
    "    Y_val = Y_vals[i].values.reshape(-1, 1)\n",
    "\n",
    "    scaler.fit(X_train)\n",
    "    X_trains[i] = scaler.transform(X_train)\n",
    "    X_vals[i] = scaler.transform(X_val)\n",
    "\n",
    "    scaler.fit(Y_train)\n",
    "    Y_trains[i] = scaler.transform(Y_train)\n",
    "    Y_vals[i] = scaler.transform(Y_val)\n",
    "\n",
    "# print(X_trains)"
   ],
   "metadata": {
    "collapsed": false,
    "pycharm": {
     "name": "#%%\n"
    }
   }
  },
  {
   "cell_type": "markdown",
   "source": [
    "## 3.3"
   ],
   "metadata": {
    "collapsed": false,
    "pycharm": {
     "name": "#%% md\n"
    }
   }
  },
  {
   "cell_type": "code",
   "execution_count": 124,
   "outputs": [
    {
     "name": "stdout",
     "output_type": "stream",
     "text": [
      "hypothesis_deg=1 fold=0: w0=[-5.84498087e-17] weights=[[0.84701035]]\n",
      "hypothesis_deg=1 fold=1: w0=[-2.9804424e-17] weights=[[0.85236492]]\n",
      "hypothesis_deg=1 fold=2: w0=[-1.56495889e-17] weights=[[0.84139486]]\n",
      "hypothesis_deg=1 fold=3: w0=[2.1051832e-16] weights=[[0.83472184]]\n",
      "hypothesis_deg=1 fold=4: w0=[-3.60941219e-17] weights=[[0.85085558]]\n",
      "hypothesis_deg=1 fold=5: w0=[-1.05596766e-16] weights=[[0.84773778]]\n",
      "hypothesis_deg=1 fold=6: w0=[2.58428392e-17] weights=[[0.85043625]]\n",
      "hypothesis_deg=1 fold=7: w0=[1.99071887e-17] weights=[[0.83841832]]\n",
      "hypothesis_deg=1 fold=8: w0=[-5.55111512e-17] weights=[[0.85162214]]\n",
      "hypothesis_deg=1 fold=9: w0=[6.24500451e-17] weights=[[0.8318558]]\n",
      "\n",
      "hypothesis_deg=3 fold=0: w0=[-0.45183648] weights=[[0.24640905 0.4301508  0.32588316]]\n",
      "hypothesis_deg=3 fold=1: w0=[-0.40848812] weights=[[0.16911145 0.3646276  0.3762513 ]]\n",
      "hypothesis_deg=3 fold=2: w0=[-0.42787861] weights=[[0.24904806 0.43057374 0.33667866]]\n",
      "hypothesis_deg=3 fold=3: w0=[-0.49498315] weights=[[0.24811982 0.51455337 0.34666549]]\n",
      "hypothesis_deg=3 fold=4: w0=[-0.42690524] weights=[[0.3237816  0.42303345 0.28187026]]\n",
      "hypothesis_deg=3 fold=5: w0=[-0.47187136] weights=[[0.24107936 0.49200435 0.35877031]]\n",
      "hypothesis_deg=3 fold=6: w0=[-0.4726593] weights=[[0.30586994 0.47897739 0.3149876 ]]\n",
      "hypothesis_deg=3 fold=7: w0=[-0.48201054] weights=[[0.24600312 0.51421635 0.358185  ]]\n",
      "hypothesis_deg=3 fold=8: w0=[-0.46260164] weights=[[0.29501333 0.47221566 0.32636097]]\n",
      "hypothesis_deg=3 fold=9: w0=[-0.47587443] weights=[[0.24107467 0.50204778 0.36245774]]\n",
      "\n",
      "hypothesis_deg=5 fold=0: w0=[-0.42776719] weights=[[ 0.17773227  0.34308331  0.4363787   0.03738171 -0.03566855]]\n",
      "hypothesis_deg=5 fold=1: w0=[-0.32482449] weights=[[ 0.14792753  0.09353292  0.43270587  0.11358857 -0.02743671]]\n",
      "hypothesis_deg=5 fold=2: w0=[-0.39283705] weights=[[ 0.23062958  0.30839563  0.37196809  0.04971096 -0.01278903]]\n",
      "hypothesis_deg=5 fold=3: w0=[-0.4661777] weights=[[0.3237336  0.41614619 0.21929115 0.04117184 0.04122168]]\n",
      "hypothesis_deg=5 fold=4: w0=[-0.4032442] weights=[[0.37090053 0.34150475 0.2119097  0.03104785 0.01998055]]\n",
      "hypothesis_deg=5 fold=5: w0=[-0.44385573] weights=[[ 0.12036466  0.38946342  0.55735117  0.04027049 -0.06184589]]\n",
      "hypothesis_deg=5 fold=6: w0=[-0.4218545] weights=[[0.40225251 0.30525862 0.15829482 0.07042034 0.04990729]]\n",
      "hypothesis_deg=5 fold=7: w0=[-0.45008167] weights=[[ 0.19651999  0.40772153  0.43374086  0.04141915 -0.02133209]]\n",
      "hypothesis_deg=5 fold=8: w0=[-0.42759338] weights=[[0.38812936 0.35555579 0.18071815 0.04743497 0.04523788]]\n",
      "hypothesis_deg=5 fold=9: w0=[-0.44813682] weights=[[0.25187974 0.40208527 0.33942097 0.04177087 0.00861222]]\n",
      "\n",
      "hypothesis_deg=50 fold=0: w0=[-0.50893569] weights=[[-2.70955804e-01  4.30885131e+00 -1.89697439e+01 -6.76579952e-01\n",
      "   1.70322536e+02 -1.19656187e+02 -5.10235314e+02  3.50796161e+02\n",
      "   4.95758258e+02 -1.88741756e+02  2.09589016e+02 -2.72593597e+02\n",
      "  -3.46923059e+02  6.06909730e+01 -3.18048552e+02  2.64278913e+02\n",
      "   9.55686438e+01  1.31159768e+02  3.40303918e+02 -1.34463001e+02\n",
      "   1.77265312e+02 -2.28316283e+02 -1.65531087e+02 -5.93025504e+01\n",
      "  -2.91517409e+02  1.72017018e+02 -6.39315621e+01  1.85374098e+02\n",
      "   2.30954477e+02 -4.96229033e+01  1.97726650e+02 -2.17553229e+02\n",
      "  -1.31472971e+02 -3.56699597e+01 -2.32123050e+02  2.27016176e+02\n",
      "   1.15839743e+02  2.31461243e+01  2.04848443e+02 -2.69711220e+02\n",
      "  -2.60432676e+02  2.41984010e+02  1.34363851e+02 -1.08188376e+02\n",
      "  -3.72873126e+01  2.75151088e+01  5.50269356e+00 -3.82141994e+00\n",
      "  -3.41152525e-01  2.26515797e-01]]\n",
      "hypothesis_deg=50 fold=1: w0=[-0.42567789] weights=[[-7.48792933e-01 -1.42631730e+00 -3.51259753e+01  3.27131695e+01\n",
      "   3.33300939e+02 -1.97394985e+02 -1.06873416e+03  4.13966387e+02\n",
      "   1.15646138e+03 -1.41752926e+02  3.50712268e+02 -3.55537068e+02\n",
      "  -8.47360821e+02 -9.87973000e+00 -6.32510273e+02  3.29450227e+02\n",
      "   3.31253190e+02  2.60107532e+02  7.70134980e+02 -1.13443647e+02\n",
      "   2.89261524e+02 -3.66695772e+02 -4.61169360e+02 -1.99121855e+02\n",
      "  -6.10807241e+02  2.26857759e+02 -2.01047164e+01  3.93659086e+02\n",
      "   5.47409269e+02  1.76358962e+01  3.23298240e+02 -4.34998775e+02\n",
      "  -3.67734934e+02 -1.90125945e+02 -3.91038747e+02  4.78203921e+02\n",
      "   3.22200187e+02  1.63527750e+02  2.65799397e+02 -6.77102697e+02\n",
      "  -4.33457132e+02  5.61841240e+02  2.39550079e+02 -2.42801130e+02\n",
      "  -6.90649484e+01  6.05794748e+01  1.04782946e+01 -8.32012511e+00\n",
      "  -6.65031799e-01  4.90454676e-01]]\n",
      "hypothesis_deg=50 fold=2: w0=[-0.52297595] weights=[[ 2.04613232e-01  3.84312833e+00 -2.90077719e+00 -1.34012581e+01\n",
      "   4.89730056e+01 -1.72533387e+01 -1.83566685e+02  1.18018227e+02\n",
      "   1.82665999e+02 -7.20134292e+01  1.19305399e+02 -1.09848664e+02\n",
      "  -1.33191627e+02  1.32434390e+01 -1.73952470e+02  1.02405601e+02\n",
      "  -4.61377226e-01  6.51053502e+01  1.57694950e+02 -3.65233825e+01\n",
      "   1.32250806e+02 -8.71158821e+01 -3.58602807e+01 -3.84165260e+01\n",
      "  -1.56564954e+02  4.84029681e+01 -8.94154962e+01  6.97483369e+01\n",
      "   9.00007429e+01 -7.26641046e-01  1.45327726e+02 -6.59382414e+01\n",
      "  -2.25335949e+01 -2.29671755e+01 -1.57167608e+02  6.09420785e+01\n",
      "   2.01166772e+01  1.57904271e+01  1.63795863e+02 -7.07785854e+01\n",
      "  -1.62237270e+02  5.58057026e+01  7.47196681e+01 -2.28250376e+01\n",
      "  -1.91079819e+01  5.40159247e+00  2.63285398e+00 -7.06019261e-01\n",
      "  -1.53451631e-01  3.97404436e-02]]\n",
      "hypothesis_deg=50 fold=3: w0=[-0.39489002] weights=[[ 3.01685231e+00  4.98539235e-01 -1.03388575e+01 -1.98449743e+00\n",
      "  -3.86549471e+01  6.65847087e+00  2.63803599e+02  9.44069945e-01\n",
      "  -3.21385024e+02 -2.54252272e+01 -1.52051497e+02  8.75005971e+00\n",
      "   2.27473104e+02  3.33345891e+01  2.57062085e+02  8.78908374e+00\n",
      "  -1.50685016e+01 -3.10263127e+01 -2.42000198e+02 -3.58761979e+01\n",
      "  -1.92665139e+02  1.95038822e+00  5.84540177e+01  4.02578138e+01\n",
      "   2.31837779e+02  3.27533485e+01  1.29603387e+02 -1.56140284e+01\n",
      "  -1.32597876e+02 -4.51906456e+01 -2.11829806e+02 -1.18903656e+01\n",
      "   3.28094223e+01  3.95509952e+01  2.28751530e+02  2.26354512e+01\n",
      "  -2.88829392e+01 -3.60089058e+01 -2.39381879e+02 -1.06297259e+01\n",
      "   2.37663188e+02  3.30007530e+01 -1.09959919e+02 -2.07792071e+01\n",
      "   2.83017749e+01  6.41087189e+00 -3.93185277e+00 -1.01431536e+00\n",
      "   2.31447101e-01  6.61050586e-02]]\n",
      "hypothesis_deg=50 fold=4: w0=[-0.5218478] weights=[[ 7.51413665e-01  8.44311103e+00 -1.11211377e+01 -4.17361285e+01\n",
      "   6.07058144e+01  5.87060073e+01 -1.15652958e+02  7.06842833e+00\n",
      "   3.58237547e+01 -2.56520098e+01  8.05552623e+01 -2.81042492e+01\n",
      "   9.81080821e+00 -1.15282564e+01 -5.53627548e+01  1.15419409e+01\n",
      "  -5.17777136e+01  2.68675598e+01  5.28357013e-01  2.32103115e+01\n",
      "   4.36810318e+01  8.56681657e-01  3.85573843e+01 -2.43716692e+01\n",
      "  -4.04577507e+00 -2.94748643e+01 -3.64313407e+01 -4.81675426e+00\n",
      "  -2.29376469e+01  2.82830238e+01  1.72493849e+01  2.90307734e+01\n",
      "   2.74011115e+01 -1.29071964e+01 -7.22570633e+00 -3.89056794e+01\n",
      "  -2.18563037e+01  9.32464925e+00  1.29826827e+01  4.36614728e+01\n",
      "   2.27081476e+00 -4.66502896e+01 -4.49302214e+00  2.22222965e+01\n",
      "   1.74771958e+00 -5.77940008e+00 -3.02690467e-01  8.01251168e-01\n",
      "   2.04549474e-02 -4.66161845e-02]]\n",
      "hypothesis_deg=50 fold=5: w0=[-0.50770657] weights=[[ 1.01992767e+00 -5.39033414e+00 -1.25627386e+00  1.16629916e+02\n",
      "  -6.81962603e+01 -6.71381488e+02  3.88875074e+02  1.56159813e+03\n",
      "  -7.03495631e+02 -1.21439728e+03  2.41165024e+02 -6.45942226e+02\n",
      "   4.55887453e+02  8.47333692e+02 -1.05674973e+02  7.53622082e+02\n",
      "  -3.52830204e+02 -3.40213786e+02 -7.17362508e+01 -8.12222160e+02\n",
      "   2.11663643e+02 -1.82532996e+02  1.41792860e+02  6.08124779e+02\n",
      "  -8.50059383e+01  5.09951160e+02 -1.13890311e+02 -2.98321346e+02\n",
      "   3.79140288e+01 -6.04850602e+02  6.11679863e+01  1.02989840e+02\n",
      "  -5.92528530e+01  5.99965364e+02  5.39192377e-02 -1.60738169e+02\n",
      "   9.59461273e+01 -5.37058655e+02 -1.45505878e+02  6.13336134e+02\n",
      "   1.08563711e+02 -3.22564374e+02 -4.68678055e+01  9.88104477e+01\n",
      "   1.19516946e+01 -1.80911099e+01 -1.68073796e+00  1.83673035e+00\n",
      "   1.00948902e-01 -7.92981105e-02]]\n",
      "hypothesis_deg=50 fold=6: w0=[-0.54732101] weights=[[ 1.25677623e+00  4.48500680e+00 -1.25423828e+01 -3.84482945e+01\n",
      "   8.06413992e+01  2.43685407e+02 -2.97773416e+02 -8.63988133e+02\n",
      "   5.94718639e+02  1.29174414e+03 -3.92110737e+02 -1.00774582e+02\n",
      "  -3.95387285e+02 -1.17288143e+03  3.49838405e+02 -2.02588347e+02\n",
      "   4.74223076e+02  1.02611657e+03 -1.05309424e+02  7.83067759e+02\n",
      "  -4.98854875e+02 -5.12901722e+02 -1.96374354e+02 -1.11339731e+03\n",
      "   3.47782605e+02 -1.89027902e+02  3.75875232e+02  1.02533810e+03\n",
      "  -1.37404357e+02  7.11342872e+02 -4.01971293e+02 -7.98564470e+02\n",
      "   2.01073120e+01 -9.33231126e+02  3.68573714e+02  8.54785532e+02\n",
      "  -6.78773131e+01  7.78617988e+02 -2.94839557e+02 -1.50090667e+03\n",
      "   2.90781962e+02  1.01391640e+03 -1.31474860e+02 -3.80610593e+02\n",
      "   3.30581143e+01  8.44695359e+01 -4.49295622e+00 -1.04393072e+01\n",
      "   2.59111772e-01  5.57191325e-01]]\n",
      "hypothesis_deg=50 fold=7: w0=[-0.24956916] weights=[[ 6.70131167e-01 -1.58859212e+00  1.97097266e+01  3.05411272e+01\n",
      "  -1.63635780e+02 -1.39267091e+02  5.01348790e+02  2.26263243e+02\n",
      "  -5.12631632e+02 -3.54406836e+01 -2.01348146e+02 -1.77280758e+02\n",
      "   3.75969730e+02 -3.56576431e+01  3.33067252e+02  1.39890032e+02\n",
      "  -1.18030170e+02  1.35385434e+02 -3.80238261e+02 -3.13888286e+01\n",
      "  -1.88634712e+02 -1.67199659e+02  2.01072891e+02 -1.07837665e+02\n",
      "   3.34421321e+02  9.55728845e+01  5.77570403e+01  1.94153231e+02\n",
      "  -2.80871065e+02  2.10194976e+01 -2.16773985e+02 -2.15497723e+02\n",
      "   1.75596487e+02 -1.06628143e+02  2.55244983e+02  2.45296848e+02\n",
      "  -1.59914342e+02  9.49003467e+01 -1.99402450e+02 -3.65835216e+02\n",
      "   2.78431310e+02  3.03714595e+02 -1.47474384e+02 -1.31857464e+02\n",
      "   4.14679728e+01  3.30392125e+01 -6.16841126e+00 -4.54867142e+00\n",
      "   3.84412276e-01  2.68076393e-01]]\n",
      "hypothesis_deg=50 fold=8: w0=[-0.2925259] weights=[[ 8.83745164e-01 -1.71058316e+00  1.01183569e+01  4.43233733e+01\n",
      "  -1.25312313e+02 -2.28869303e+02  4.32767433e+02  4.17149084e+02\n",
      "  -4.35474610e+02 -1.22764746e+02 -2.38594202e+02 -3.08631698e+02\n",
      "   3.24674360e+02  1.75671033e+00  3.58949006e+02  2.56822858e+02\n",
      "  -4.94439334e+01  1.67578417e+02 -3.54515830e+02 -1.04556511e+02\n",
      "  -2.40379756e+02 -2.34109822e+02  1.26404820e+02 -8.55744436e+01\n",
      "   3.25290117e+02  1.58722075e+02  1.31996820e+02  1.97186591e+02\n",
      "  -2.17144188e+02 -3.19663920e+01 -2.59556886e+02 -2.17084973e+02\n",
      "   9.00708841e+01 -4.98339524e+01  2.85243979e+02  2.20087328e+02\n",
      "  -7.76665985e+01  3.39699340e+01 -2.74113157e+02 -2.59748354e+02\n",
      "   2.95504901e+02  2.22343725e+02 -1.41096228e+02 -9.57935933e+01\n",
      "   3.69329804e+01  2.35182943e+01 -5.17905956e+00 -3.15279564e+00\n",
      "   3.06189893e-01  1.80265241e-01]]\n",
      "hypothesis_deg=50 fold=9: w0=[-0.6743432] weights=[[ 1.15228792e+00  2.78199811e+00  5.47538260e+00  4.63252974e+00\n",
      "  -1.15480884e+02 -5.25326494e+01  5.07774946e+02 -7.24914904e+01\n",
      "  -7.26699832e+02  6.27508598e+02 -5.32129941e+01 -5.16589641e+02\n",
      "   5.95039588e+02 -6.82916926e+02  2.88759360e+02  3.41882469e+02\n",
      "  -3.75841488e+02  8.99691586e+02 -5.12833462e+02  2.21096635e+02\n",
      "  -9.79156535e+00 -7.81743350e+02  4.69838262e+02 -7.89159432e+02\n",
      "   3.26049969e+02  2.69754634e+02 -2.35120575e+02  1.00715770e+03\n",
      "  -4.27289264e+02  2.84216557e+02  4.00265115e+01 -9.53430032e+02\n",
      "   3.98927997e+02 -5.90679430e+02 -2.00691240e+01  1.00049982e+03\n",
      "  -3.39291259e+02  4.63287103e+02  2.29681926e+02 -1.42066008e+03\n",
      "  -3.20272207e+01  1.09143277e+03 -2.54188352e+01 -4.45669066e+02\n",
      "   1.33648435e+01  1.05741859e+02 -2.58541863e+00 -1.38409575e+01\n",
      "   1.87934185e-01  7.77782085e-01]]\n",
      "\n"
     ]
    }
   ],
   "source": [
    "from sklearn.metrics import mean_squared_error\n",
    "from sklearn.preprocessing import PolynomialFeatures\n",
    "from sklearn.linear_model import LinearRegression\n",
    "\n",
    "degrees = [1, 3, 5, 50]\n",
    "\n",
    "for degree in degrees:\n",
    "    poly = PolynomialFeatures(degree=degree, include_bias=False)\n",
    "    training_errors = []\n",
    "    validation_errors = []\n",
    "    for i in range(splits):\n",
    "        X_train = X_trains[i]\n",
    "        X_val = X_vals[i]\n",
    "        Y_train = Y_trains[i]\n",
    "        Y_val = Y_vals[i]\n",
    "\n",
    "        train_poly_features = poly.fit_transform(X_train)\n",
    "        poly_reg = LinearRegression()\n",
    "        poly_reg.fit(train_poly_features, Y_train)\n",
    "\n",
    "        print(f'hypothesis_deg={degree} fold={i}:', end=' ')\n",
    "        print(f'w0={poly_reg.intercept_} weights={poly_reg.coef_}')\n",
    "    print()"
   ],
   "metadata": {
    "collapsed": false,
    "pycharm": {
     "name": "#%%\n"
    }
   }
  },
  {
   "cell_type": "markdown",
   "source": [
    "## 3.4a"
   ],
   "metadata": {
    "collapsed": false,
    "pycharm": {
     "name": "#%% md\n"
    }
   }
  },
  {
   "cell_type": "code",
   "execution_count": 125,
   "outputs": [
    {
     "name": "stdout",
     "output_type": "stream",
     "text": [
      "Hypothesis class=0 degree=1 training error mean=0.28652956639912375 std=0.011998428171877178\n",
      "\n",
      "Hypothesis class=1 degree=3 training error mean=0.06028226428078004 std=0.0038722935138260357\n",
      "\n",
      "Hypothesis class=2 degree=5 training error mean=0.05885828680056717 std=0.004058724909364577\n",
      "\n",
      "Hypothesis class=3 degree=50 training error mean=0.19581915489822702 std=0.18238616743869968\n",
      "\n"
     ]
    }
   ],
   "source": [
    "import matplotlib.pyplot as plt\n",
    "%matplotlib inline\n",
    "\n",
    "training_errors_mean = []\n",
    "validation_errors_mean = []\n",
    "training_errors_std = []\n",
    "validation_errors_std = []\n",
    "\n",
    "best_model_index = [-1] * len(degrees)\n",
    "best_predictions = [[] for _ in range(len(degrees))]\n",
    "\n",
    "for hyp_class, degree in enumerate(degrees):\n",
    "    min_error = 9999999\n",
    "    poly = PolynomialFeatures(degree=degree, include_bias=False)\n",
    "    training_errors = []\n",
    "    validation_errors = []\n",
    "    for i in range(splits):\n",
    "        X_train = X_trains[i]\n",
    "        X_val = X_vals[i]\n",
    "        Y_train = Y_trains[i]\n",
    "        Y_val = Y_vals[i]\n",
    "\n",
    "        train_poly_features = poly.fit_transform(X_train)\n",
    "        poly_reg = LinearRegression()\n",
    "        poly_reg.fit(train_poly_features, Y_train)\n",
    "\n",
    "        y_train_preds = poly_reg.predict(train_poly_features)\n",
    "        error = mean_squared_error(Y_train, y_train_preds)\n",
    "        training_errors.append(error)\n",
    "        if min_error > error:\n",
    "            best_model_index[hyp_class] = i\n",
    "            best_predictions[hyp_class] = y_train_preds\n",
    "\n",
    "        val_poly_features = poly.transform(X_val)\n",
    "        y_val_preds = poly_reg.predict(val_poly_features)\n",
    "        error = mean_squared_error(Y_val, y_val_preds)\n",
    "        validation_errors.append(error)\n",
    "\n",
    "    training_errors_mean.append(np.mean(training_errors))\n",
    "    training_errors_std.append(np.std(training_errors) / (10 ** 0.5))\n",
    "    validation_errors_mean.append(np.mean(validation_errors))\n",
    "    validation_errors_std.append(np.std(validation_errors) / (10 ** 0.5))\n",
    "\n",
    "    print(f'Hypothesis class={hyp_class} degree={degree} training error mean={np.mean(training_errors)} std={np.std(training_errors)}')\n",
    "    # print(f'Validation error mean={np.mean(validation_errors)} std={np.std(validation_errors)}')\n",
    "    print()\n"
   ],
   "metadata": {
    "collapsed": false,
    "pycharm": {
     "name": "#%%\n"
    }
   }
  },
  {
   "cell_type": "code",
   "execution_count": 126,
   "outputs": [
    {
     "data": {
      "text/plain": "<matplotlib.legend.Legend at 0x149cb8a00>"
     },
     "execution_count": 126,
     "metadata": {},
     "output_type": "execute_result"
    },
    {
     "data": {
      "text/plain": "<Figure size 432x288 with 1 Axes>",
      "image/png": "[encoded data removed]"
     },
     "metadata": {
      "needs_background": "light"
     },
     "output_type": "display_data"
    }
   ],
   "source": [
    "x = [1, 2, 3, 4]\n",
    "yerr = [std / np.sqrt(10) for std in training_errors_std]\n",
    "\n",
    "plt.errorbar(x, training_errors_mean, yerr=yerr, label='Training error mean')\n",
    "# plt.errorbar(x, training_errors_std, label='Training error std')\n",
    "\n",
    "plt.legend(loc='lower right')"
   ],
   "metadata": {
    "collapsed": false,
    "pycharm": {
     "name": "#%%\n"
    }
   }
  },
  {
   "cell_type": "code",
   "execution_count": 127,
   "outputs": [
    {
     "data": {
      "text/plain": "<matplotlib.legend.Legend at 0x149b6a4c0>"
     },
     "execution_count": 127,
     "metadata": {},
     "output_type": "execute_result"
    },
    {
     "data": {
      "text/plain": "<Figure size 432x288 with 1 Axes>",
      "image/png": "[encoded data removed]"
     },
     "metadata": {
      "needs_background": "light"
     },
     "output_type": "display_data"
    }
   ],
   "source": [
    "yerr = [std / np.sqrt(10) for std in validation_errors_std]\n",
    "\n",
    "plt.errorbar(x, validation_errors_mean, yerr=yerr, label='Training error mean')\n",
    "# plt.errorbar(x, validation_errors_std, label='Validation error std')\n",
    "plt.legend(loc='lower right')"
   ],
   "metadata": {
    "collapsed": false,
    "pycharm": {
     "name": "#%%\n"
    }
   }
  },
  {
   "cell_type": "markdown",
   "source": [
    "## 3.4b"
   ],
   "metadata": {
    "collapsed": false,
    "pycharm": {
     "name": "#%% md\n"
    }
   }
  },
  {
   "cell_type": "code",
   "execution_count": 128,
   "outputs": [
    {
     "name": "stdout",
     "output_type": "stream",
     "text": [
      "Hypothesis class=0 degree=1 fold_index=9\n",
      "Hypothesis class=1 degree=3 fold_index=9\n",
      "Hypothesis class=2 degree=5 fold_index=9\n",
      "Hypothesis class=3 degree=50 fold_index=9\n"
     ]
    }
   ],
   "source": [
    "for i, degree in enumerate(degrees):\n",
    "    print(f'Hypothesis class={i} degree={degrees[i]} fold_index={best_model_index[i]}')\n",
    "\n",
    "def scatter_plot(index):\n",
    "    x = X_trains[best_model_index[index]]\n",
    "    y = Y_trains[best_model_index[index]]\n",
    "    y_pred = best_predictions[index]\n",
    "    plt.scatter(x, y, label='Actual')\n",
    "    plt.scatter(x, y_pred, label='Predicted')\n",
    "    plt.legend()"
   ],
   "metadata": {
    "collapsed": false,
    "pycharm": {
     "name": "#%%\n"
    }
   }
  },
  {
   "cell_type": "markdown",
   "source": [
    "### Hypothesis class (a)"
   ],
   "metadata": {
    "collapsed": false,
    "pycharm": {
     "name": "#%% md\n"
    }
   }
  },
  {
   "cell_type": "code",
   "execution_count": 129,
   "outputs": [
    {
     "data": {
      "text/plain": "<Figure size 432x288 with 1 Axes>",
      "image/png": "[encoded data removed]"
     },
     "metadata": {
      "needs_background": "light"
     },
     "output_type": "display_data"
    }
   ],
   "source": [
    "scatter_plot(0)"
   ],
   "metadata": {
    "collapsed": false,
    "pycharm": {
     "name": "#%%\n"
    }
   }
  },
  {
   "cell_type": "markdown",
   "source": [
    "### Hypothesis class (b)"
   ],
   "metadata": {
    "collapsed": false,
    "pycharm": {
     "name": "#%% md\n"
    }
   }
  },
  {
   "cell_type": "code",
   "execution_count": 130,
   "outputs": [
    {
     "data": {
      "text/plain": "<Figure size 432x288 with 1 Axes>",
      "image/png": "[encoded data removed]"
     },
     "metadata": {
      "needs_background": "light"
     },
     "output_type": "display_data"
    }
   ],
   "source": [
    "scatter_plot(1)"
   ],
   "metadata": {
    "collapsed": false,
    "pycharm": {
     "name": "#%%\n"
    }
   }
  },
  {
   "cell_type": "markdown",
   "source": [
    "### Hypothesis class (c)"
   ],
   "metadata": {
    "collapsed": false,
    "pycharm": {
     "name": "#%% md\n"
    }
   }
  },
  {
   "cell_type": "code",
   "execution_count": 131,
   "outputs": [
    {
     "data": {
      "text/plain": "<Figure size 432x288 with 1 Axes>",
      "image/png": "[encoded data removed]"
     },
     "metadata": {
      "needs_background": "light"
     },
     "output_type": "display_data"
    }
   ],
   "source": [
    "scatter_plot(2)"
   ],
   "metadata": {
    "collapsed": false,
    "pycharm": {
     "name": "#%%\n"
    }
   }
  },
  {
   "cell_type": "markdown",
   "source": [
    "### Hypothesis class (d)"
   ],
   "metadata": {
    "collapsed": false,
    "pycharm": {
     "name": "#%% md\n"
    }
   }
  },
  {
   "cell_type": "code",
   "execution_count": 132,
   "outputs": [
    {
     "data": {
      "text/plain": "<Figure size 432x288 with 1 Axes>",
      "image/png": "[encoded data removed]"
     },
     "metadata": {
      "needs_background": "light"
     },
     "output_type": "display_data"
    }
   ],
   "source": [
    "scatter_plot(3)"
   ],
   "metadata": {
    "collapsed": false,
    "pycharm": {
     "name": "#%%\n"
    }
   }
  },
  {
   "cell_type": "markdown",
   "source": [
    "## 3.5"
   ],
   "metadata": {
    "collapsed": false,
    "pycharm": {
     "name": "#%% md\n"
    }
   }
  },
  {
   "cell_type": "markdown",
   "source": [
    "* I would choose hypothesis class (b) because it generalizes well on the data.\n",
    "* We cannot choose class (a) since it underfits the data and nor can we choose class (d)\n",
    "since it is overfitting.\n",
    "* Both class (b) and (c) have low training and validation error but we choose (b) since it\n",
    "is a simpler model, so it is likely to perform better on unseen data."
   ],
   "metadata": {
    "collapsed": false,
    "pycharm": {
     "name": "#%% md\n"
    }
   }
  }
 ],
 "metadata": {
  "kernelspec": {
   "display_name": "Python 3 (ipykernel)",
   "language": "python",
   "name": "python3"
  },
  "language_info": {
   "codemirror_mode": {
    "name": "ipython",
    "version": 3
   },
   "file_extension": ".py",
   "mimetype": "text/x-python",
   "name": "python",
   "nbconvert_exporter": "python",
   "pygments_lexer": "ipython3",
   "version": "3.9.12"
  }
 },
 "nbformat": 4,
 "nbformat_minor": 1
}