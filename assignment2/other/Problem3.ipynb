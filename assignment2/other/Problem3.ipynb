{
 "cells": [
  {
   "cell_type": "code",
   "execution_count": 1,
   "id": "d178d2da",
   "metadata": {},
   "outputs": [
    {
     "data": {
      "text/plain": [
       "(768, 9)"
      ]
     },
     "execution_count": 1,
     "metadata": {},
     "output_type": "execute_result"
    }
   ],
   "source": [
    "# 3.1 Download the provided Pima.csv data file and load it using pandas. As a sanity check, make sure there are 768 rows \n",
    "# of data (potential diabetes patients) and 9 columns (8 input features including Pregnancies, Glucose, BloodPressure,\n",
    "# SkinThickness, Insulin, BMI, DiabetesPedigreeFunction, Age, and 1 target output). Note that the data file has no \n",
    "# header and you might want to explicitly create the header. The last value in each row contains the target label \n",
    "# for that row, and the remaining values are the features. Report the statistics of each feature \n",
    "# (min, max, average, standard deviation) and the histogram of the labels (target outputs) (5pt).\n",
    "\n",
    "import pandas as pd\n",
    "from matplotlib import pyplot as plt\n",
    "import numpy as np\n",
    "from sklearn.neighbors import KNeighborsClassifier\n",
    "from sklearn.model_selection import train_test_split\n",
    "from sklearn.model_selection import KFold\n",
    "from sklearn.model_selection import cross_val_score\n",
    "import warnings\n",
    "warnings.filterwarnings('ignore', category=DeprecationWarning)\n",
    "\n",
    "\n",
    "df = pd.read_csv(\"Pima.csv\", header=None)\n",
    "df.columns = [\"Pregnancies\", \"Glucose\", \"BloodPressure\", \"SkinThickness\", \"Insulin\", \"BMI\", \"DiabetesPedigreeFunction\", \"Age\", \"Class\"]\n",
    "df.shape"
   ]
  },
  {
   "cell_type": "code",
   "execution_count": 2,
   "id": "6d90beb1",
   "metadata": {
    "scrolled": true
   },
   "outputs": [
    {
     "data": {
      "text/html": [
       "<div>\n",
       "<style scoped>\n",
       "    .dataframe tbody tr th:only-of-type {\n",
       "        vertical-align: middle;\n",
       "    }\n",
       "\n",
       "    .dataframe tbody tr th {\n",
       "        vertical-align: top;\n",
       "    }\n",
       "\n",
       "    .dataframe thead th {\n",
       "        text-align: right;\n",
       "    }\n",
       "</style>\n",
       "<table border=\"1\" class=\"dataframe\">\n",
       "  <thead>\n",
       "    <tr style=\"text-align: right;\">\n",
       "      <th></th>\n",
       "      <th>Pregnancies</th>\n",
       "      <th>Glucose</th>\n",
       "      <th>BloodPressure</th>\n",
       "      <th>SkinThickness</th>\n",
       "      <th>Insulin</th>\n",
       "      <th>BMI</th>\n",
       "      <th>DiabetesPedigreeFunction</th>\n",
       "      <th>Age</th>\n",
       "      <th>Class</th>\n",
       "    </tr>\n",
       "  </thead>\n",
       "  <tbody>\n",
       "    <tr>\n",
       "      <td>count</td>\n",
       "      <td>768.000000</td>\n",
       "      <td>768.000000</td>\n",
       "      <td>768.000000</td>\n",
       "      <td>768.000000</td>\n",
       "      <td>768.000000</td>\n",
       "      <td>768.000000</td>\n",
       "      <td>768.000000</td>\n",
       "      <td>768.000000</td>\n",
       "      <td>768.000000</td>\n",
       "    </tr>\n",
       "    <tr>\n",
       "      <td>mean</td>\n",
       "      <td>3.845052</td>\n",
       "      <td>120.894531</td>\n",
       "      <td>69.105469</td>\n",
       "      <td>20.536458</td>\n",
       "      <td>79.799479</td>\n",
       "      <td>31.992578</td>\n",
       "      <td>0.471876</td>\n",
       "      <td>33.240885</td>\n",
       "      <td>0.348958</td>\n",
       "    </tr>\n",
       "    <tr>\n",
       "      <td>std</td>\n",
       "      <td>3.369578</td>\n",
       "      <td>31.972618</td>\n",
       "      <td>19.355807</td>\n",
       "      <td>15.952218</td>\n",
       "      <td>115.244002</td>\n",
       "      <td>7.884160</td>\n",
       "      <td>0.331329</td>\n",
       "      <td>11.760232</td>\n",
       "      <td>0.476951</td>\n",
       "    </tr>\n",
       "    <tr>\n",
       "      <td>min</td>\n",
       "      <td>0.000000</td>\n",
       "      <td>0.000000</td>\n",
       "      <td>0.000000</td>\n",
       "      <td>0.000000</td>\n",
       "      <td>0.000000</td>\n",
       "      <td>0.000000</td>\n",
       "      <td>0.078000</td>\n",
       "      <td>21.000000</td>\n",
       "      <td>0.000000</td>\n",
       "    </tr>\n",
       "    <tr>\n",
       "      <td>25%</td>\n",
       "      <td>1.000000</td>\n",
       "      <td>99.000000</td>\n",
       "      <td>62.000000</td>\n",
       "      <td>0.000000</td>\n",
       "      <td>0.000000</td>\n",
       "      <td>27.300000</td>\n",
       "      <td>0.243750</td>\n",
       "      <td>24.000000</td>\n",
       "      <td>0.000000</td>\n",
       "    </tr>\n",
       "    <tr>\n",
       "      <td>50%</td>\n",
       "      <td>3.000000</td>\n",
       "      <td>117.000000</td>\n",
       "      <td>72.000000</td>\n",
       "      <td>23.000000</td>\n",
       "      <td>30.500000</td>\n",
       "      <td>32.000000</td>\n",
       "      <td>0.372500</td>\n",
       "      <td>29.000000</td>\n",
       "      <td>0.000000</td>\n",
       "    </tr>\n",
       "    <tr>\n",
       "      <td>75%</td>\n",
       "      <td>6.000000</td>\n",
       "      <td>140.250000</td>\n",
       "      <td>80.000000</td>\n",
       "      <td>32.000000</td>\n",
       "      <td>127.250000</td>\n",
       "      <td>36.600000</td>\n",
       "      <td>0.626250</td>\n",
       "      <td>41.000000</td>\n",
       "      <td>1.000000</td>\n",
       "    </tr>\n",
       "    <tr>\n",
       "      <td>max</td>\n",
       "      <td>17.000000</td>\n",
       "      <td>199.000000</td>\n",
       "      <td>122.000000</td>\n",
       "      <td>99.000000</td>\n",
       "      <td>846.000000</td>\n",
       "      <td>67.100000</td>\n",
       "      <td>2.420000</td>\n",
       "      <td>81.000000</td>\n",
       "      <td>1.000000</td>\n",
       "    </tr>\n",
       "  </tbody>\n",
       "</table>\n",
       "</div>"
      ],
      "text/plain": [
       "       Pregnancies     Glucose  BloodPressure  SkinThickness     Insulin  \\\n",
       "count   768.000000  768.000000     768.000000     768.000000  768.000000   \n",
       "mean      3.845052  120.894531      69.105469      20.536458   79.799479   \n",
       "std       3.369578   31.972618      19.355807      15.952218  115.244002   \n",
       "min       0.000000    0.000000       0.000000       0.000000    0.000000   \n",
       "25%       1.000000   99.000000      62.000000       0.000000    0.000000   \n",
       "50%       3.000000  117.000000      72.000000      23.000000   30.500000   \n",
       "75%       6.000000  140.250000      80.000000      32.000000  127.250000   \n",
       "max      17.000000  199.000000     122.000000      99.000000  846.000000   \n",
       "\n",
       "              BMI  DiabetesPedigreeFunction         Age       Class  \n",
       "count  768.000000                768.000000  768.000000  768.000000  \n",
       "mean    31.992578                  0.471876   33.240885    0.348958  \n",
       "std      7.884160                  0.331329   11.760232    0.476951  \n",
       "min      0.000000                  0.078000   21.000000    0.000000  \n",
       "25%     27.300000                  0.243750   24.000000    0.000000  \n",
       "50%     32.000000                  0.372500   29.000000    0.000000  \n",
       "75%     36.600000                  0.626250   41.000000    1.000000  \n",
       "max     67.100000                  2.420000   81.000000    1.000000  "
      ]
     },
     "execution_count": 2,
     "metadata": {},
     "output_type": "execute_result"
    }
   ],
   "source": [
    "# Report the statistics of each feature\n",
    "\n",
    "df.describe()"
   ]
  },
  {
   "cell_type": "code",
   "execution_count": 3,
   "id": "4d5f7e8a",
   "metadata": {},
   "outputs": [
    {
     "data": {
      "image/png": "[encoded data removed]",
      "text/plain": [
       "<Figure size 360x576 with 1 Axes>"
      ]
     },
     "metadata": {
      "needs_background": "light"
     },
     "output_type": "display_data"
    }
   ],
   "source": [
    "# Create histogram of the labels (target outputs)\n",
    "\n",
    "plt.figure(figsize=(5, 8))\n",
    "values, bins, bars = plt.hist(df[\"Class\"], edgecolor='white')\n",
    "plt.xlabel(\"Class\")\n",
    "plt.ylabel(\"Number of samples\")\n",
    "plt.title = ('Class distribution')\n",
    "plt.bar_label(bars, fontsize=20, color='navy')\n",
    "plt.show()"
   ]
  },
  {
   "cell_type": "code",
   "execution_count": 4,
   "id": "7d6ef4bb",
   "metadata": {},
   "outputs": [],
   "source": [
    "# 3.2 Split the data into training and test sets with 80% training and 20% test data sizes.\n",
    "# Use 5-fold cross-validation on training data to decide the best number of neighbours k.\n",
    "\n",
    "y = df.pop('Class')\n",
    "X = df\n",
    "np.random.seed(18)\n",
    "X_train,X_test,y_train,y_test = train_test_split(X.index,y,test_size=0.2)"
   ]
  },
  {
   "cell_type": "code",
   "execution_count": 5,
   "id": "ff63b4d7",
   "metadata": {},
   "outputs": [
    {
     "name": "stderr",
     "output_type": "stream",
     "text": [
      "/Users/akarshbolar/opt/anaconda3/envs/cs529/lib/python3.7/site-packages/sklearn/model_selection/_split.py:1978: FutureWarning: The default value of cv will change from 3 to 5 in version 0.22. Specify it explicitly to silence this warning.\n",
      "  warnings.warn(CV_WARNING, FutureWarning)\n",
      "/Users/akarshbolar/opt/anaconda3/envs/cs529/lib/python3.7/site-packages/sklearn/model_selection/_split.py:1978: FutureWarning: The default value of cv will change from 3 to 5 in version 0.22. Specify it explicitly to silence this warning.\n",
      "  warnings.warn(CV_WARNING, FutureWarning)\n",
      "/Users/akarshbolar/opt/anaconda3/envs/cs529/lib/python3.7/site-packages/sklearn/model_selection/_split.py:1978: FutureWarning: The default value of cv will change from 3 to 5 in version 0.22. Specify it explicitly to silence this warning.\n",
      "  warnings.warn(CV_WARNING, FutureWarning)\n",
      "/Users/akarshbolar/opt/anaconda3/envs/cs529/lib/python3.7/site-packages/sklearn/model_selection/_split.py:1978: FutureWarning: The default value of cv will change from 3 to 5 in version 0.22. Specify it explicitly to silence this warning.\n",
      "  warnings.warn(CV_WARNING, FutureWarning)\n",
      "/Users/akarshbolar/opt/anaconda3/envs/cs529/lib/python3.7/site-packages/sklearn/model_selection/_split.py:1978: FutureWarning: The default value of cv will change from 3 to 5 in version 0.22. Specify it explicitly to silence this warning.\n",
      "  warnings.warn(CV_WARNING, FutureWarning)\n",
      "/Users/akarshbolar/opt/anaconda3/envs/cs529/lib/python3.7/site-packages/sklearn/model_selection/_split.py:1978: FutureWarning: The default value of cv will change from 3 to 5 in version 0.22. Specify it explicitly to silence this warning.\n",
      "  warnings.warn(CV_WARNING, FutureWarning)\n",
      "/Users/akarshbolar/opt/anaconda3/envs/cs529/lib/python3.7/site-packages/sklearn/model_selection/_split.py:1978: FutureWarning: The default value of cv will change from 3 to 5 in version 0.22. Specify it explicitly to silence this warning.\n",
      "  warnings.warn(CV_WARNING, FutureWarning)\n",
      "/Users/akarshbolar/opt/anaconda3/envs/cs529/lib/python3.7/site-packages/sklearn/model_selection/_split.py:1978: FutureWarning: The default value of cv will change from 3 to 5 in version 0.22. Specify it explicitly to silence this warning.\n",
      "  warnings.warn(CV_WARNING, FutureWarning)\n",
      "/Users/akarshbolar/opt/anaconda3/envs/cs529/lib/python3.7/site-packages/sklearn/model_selection/_split.py:1978: FutureWarning: The default value of cv will change from 3 to 5 in version 0.22. Specify it explicitly to silence this warning.\n",
      "  warnings.warn(CV_WARNING, FutureWarning)\n",
      "/Users/akarshbolar/opt/anaconda3/envs/cs529/lib/python3.7/site-packages/sklearn/model_selection/_split.py:1978: FutureWarning: The default value of cv will change from 3 to 5 in version 0.22. Specify it explicitly to silence this warning.\n",
      "  warnings.warn(CV_WARNING, FutureWarning)\n",
      "/Users/akarshbolar/opt/anaconda3/envs/cs529/lib/python3.7/site-packages/sklearn/model_selection/_split.py:1978: FutureWarning: The default value of cv will change from 3 to 5 in version 0.22. Specify it explicitly to silence this warning.\n",
      "  warnings.warn(CV_WARNING, FutureWarning)\n",
      "/Users/akarshbolar/opt/anaconda3/envs/cs529/lib/python3.7/site-packages/sklearn/model_selection/_split.py:1978: FutureWarning: The default value of cv will change from 3 to 5 in version 0.22. Specify it explicitly to silence this warning.\n",
      "  warnings.warn(CV_WARNING, FutureWarning)\n",
      "/Users/akarshbolar/opt/anaconda3/envs/cs529/lib/python3.7/site-packages/sklearn/model_selection/_split.py:1978: FutureWarning: The default value of cv will change from 3 to 5 in version 0.22. Specify it explicitly to silence this warning.\n",
      "  warnings.warn(CV_WARNING, FutureWarning)\n",
      "/Users/akarshbolar/opt/anaconda3/envs/cs529/lib/python3.7/site-packages/sklearn/model_selection/_split.py:1978: FutureWarning: The default value of cv will change from 3 to 5 in version 0.22. Specify it explicitly to silence this warning.\n",
      "  warnings.warn(CV_WARNING, FutureWarning)\n"
     ]
    },
    {
     "name": "stdout",
     "output_type": "stream",
     "text": [
      "Accuracy: 0.681 (0.016) K: 1\n",
      "Accuracy: 0.661 (0.009) K: 2\n",
      "Accuracy: 0.710 (0.013) K: 3\n",
      "Accuracy: 0.704 (0.026) K: 4\n",
      "Accuracy: 0.728 (0.045) K: 5\n",
      "Accuracy: 0.717 (0.050) K: 6\n",
      "Accuracy: 0.743 (0.046) K: 7\n",
      "Accuracy: 0.739 (0.048) K: 8\n",
      "Accuracy: 0.749 (0.044) K: 9\n",
      "Accuracy: 0.744 (0.050) K: 10\n",
      "Accuracy: 0.738 (0.045) K: 11\n",
      "Accuracy: 0.741 (0.055) K: 12\n",
      "Accuracy: 0.744 (0.046) K: 13\n",
      "Accuracy: 0.730 (0.042) K: 14\n",
      "Accuracy: 0.735 (0.042) K: 15\n"
     ]
    },
    {
     "name": "stderr",
     "output_type": "stream",
     "text": [
      "/Users/akarshbolar/opt/anaconda3/envs/cs529/lib/python3.7/site-packages/sklearn/model_selection/_split.py:1978: FutureWarning: The default value of cv will change from 3 to 5 in version 0.22. Specify it explicitly to silence this warning.\n",
      "  warnings.warn(CV_WARNING, FutureWarning)\n"
     ]
    }
   ],
   "source": [
    "# For k = 1, 2, 3, . . . , 15 compute the 5-fold cross validation error and plot the results\n",
    "warnings.filterwarnings('ignore', category=DeprecationWarning)\n",
    "\n",
    "cv = KFold(n_splits=5, random_state=1)\n",
    "mean_error = []\n",
    "std_error = []\n",
    "for k in range(1,16):\n",
    "    # create model\n",
    "    model = KNeighborsClassifier(n_neighbors=k)\n",
    "    # evaluate model - By default the number of folds are 5.\n",
    "    scores = cross_val_score(model, X.iloc[X_train], y.iloc[y_train])\n",
    "    mean_error.append(np.mean(scores))\n",
    "    std_error.append(np.std(scores))\n",
    "    print('Accuracy: %.3f (%.3f) K:' % (np.mean(scores), np.std(scores)),k)"
   ]
  },
  {
   "cell_type": "code",
   "execution_count": 6,
   "id": "45b42367",
   "metadata": {},
   "outputs": [
    {
     "data": {
      "text/plain": [
       "[<matplotlib.lines.Line2D at 0x7f9954e00ad0>]"
      ]
     },
     "execution_count": 6,
     "metadata": {},
     "output_type": "execute_result"
    },
    {
     "data": {
      "image/png": "[encoded data removed]",
      "text/plain": [
       "<Figure size 432x288 with 1 Axes>"
      ]
     },
     "metadata": {
      "needs_background": "light"
     },
     "output_type": "display_data"
    }
   ],
   "source": [
    "# Include the plot in your report and justify your decision for picking a particular number of neighbors k\n",
    "\n",
    "plt.xlabel(\"K neighbour values\")\n",
    "plt.ylabel(\"Accuracy\")\n",
    "plt.title = ('Error Rate')\n",
    "plt.plot([x for x in range(1,16)], mean_error)"
   ]
  },
  {
   "cell_type": "markdown",
   "id": "2cb83dad",
   "metadata": {},
   "source": [
    "For justification as to what is the k value to choose, looking at the graph, we see that K=9 has maximum accuracy of 75.6.  Hence, k = 9, would be the best choice for k.\n"
   ]
  },
  {
   "cell_type": "code",
   "execution_count": 7,
   "id": "bf4fb674",
   "metadata": {},
   "outputs": [
    {
     "name": "stdout",
     "output_type": "stream",
     "text": [
      "Test Accuracy 74.02597402597402 %\n",
      "Test Error: 25.974025974025977 %\n"
     ]
    }
   ],
   "source": [
    "# 3.3 Evaluate the k-NN algorithm on test data with the optimal number of neighbours you obtained in previous step \n",
    "# and report the test error (you will use the same value of k you have found in 2.) \n",
    "\n",
    "k=9\n",
    "knn = KNeighborsClassifier(n_neighbors=k)\n",
    "knn.fit(X.iloc[X_train],y.iloc[y_train])\n",
    "yhat = knn.predict(X.iloc[X_test])\n",
    "print(\"Test Accuracy\",knn.score(X.iloc[X_test],y.iloc[y_test])*100,\"%\")\n",
    "print(\"Test Error:\",100-knn.score(X.iloc[X_test],y.iloc[y_test])*100,\"%\")"
   ]
  },
  {
   "cell_type": "code",
   "execution_count": 8,
   "id": "95be09d3",
   "metadata": {},
   "outputs": [
    {
     "name": "stdout",
     "output_type": "stream",
     "text": [
      "Test Accuracy 77.27272727272727 %\n",
      "Test Error: 22.727272727272734 %\n"
     ]
    }
   ],
   "source": [
    "# 3.4 Process the input data by subtracting the mean (a.k.a. centralization) and dividing by the standard deviation\n",
    "# (a.k.a. standardization) over each dimension (feature), repeat the previous part and report the accuracy (5pt). \n",
    "# Do centralization and standardization impact the accuracy? Why?\n",
    "\n",
    "X_centered = (X - X.mean(axis=0))/X.std(axis=0)\n",
    "\n",
    "X_train,X_test,y_train,y_test = train_test_split(X_centered.index,y,test_size=0.2)\n",
    "k=9\n",
    "knn = KNeighborsClassifier(n_neighbors=k)\n",
    "knn.fit(X_centered.iloc[X_train],y.iloc[y_train])\n",
    "yhat = knn.predict(X_centered.iloc[X_test])\n",
    "print(\"Test Accuracy\",knn.score(X_centered.iloc[X_test],y.iloc[y_test])*100,\"%\")\n",
    "print(\"Test Error:\",100-knn.score(X_centered.iloc[X_test],y.iloc[y_test])*100,\"%\")"
   ]
  },
  {
   "cell_type": "markdown",
   "id": "dcc5cb7e",
   "metadata": {},
   "source": [
    "3.4 Centralization and standardization has no impact since sometimes normalizing data removes important feature differences therefore causing accuracy to go down. Other times, it helps to eliminate noise in your features which cause incorrect classifications. Instead of trying to label normalization as good/bad, consider the feature inputs you are using for classification, determine which ones are important to your model, and make sure differences in those features are reflected accurately in your classification model"
   ]
  },
  {
   "cell_type": "code",
   "execution_count": 9,
   "id": "5386693d",
   "metadata": {},
   "outputs": [],
   "source": [
    "# Perform 2 and 3 for part 4 - IMPORTANTTTTTT"
   ]
  }
 ],
 "metadata": {
  "kernelspec": {
   "display_name": "Python-CS529",
   "language": "python",
   "name": "cs529"
  },
  "language_info": {
   "codemirror_mode": {
    "name": "ipython",
    "version": 3
   },
   "file_extension": ".py",
   "mimetype": "text/x-python",
   "name": "python",
   "nbconvert_exporter": "python",
   "pygments_lexer": "ipython3",
   "version": "3.7.13"
  }
 },
 "nbformat": 4,
 "nbformat_minor": 5
}
