{
 "cells": [
  {
   "cell_type": "code",
   "execution_count": 1,
   "id": "10668cc4",
   "metadata": {},
   "outputs": [],
   "source": [
    "import pandas as pd\n",
    "import numpy as np\n",
    "from matplotlib import pyplot as plt"
   ]
  },
  {
   "cell_type": "markdown",
   "id": "74023a46",
   "metadata": {},
   "source": [
    "## Use the logistic regression (multi class; implemented from scratch) training algorithm and plot the training and test errors."
   ]
  },
  {
   "cell_type": "code",
   "execution_count": 2,
   "id": "c470f0c1",
   "metadata": {},
   "outputs": [],
   "source": [
    "tra_df = pd.read_csv('optdigits.tra', header=None, sep=',')\n",
    "tes_df = pd.read_csv('optdigits.tes', header=None, sep=',')\n",
    "tra_lbl = tra_df.pop(64)\n",
    "tes_lbl = tes_df.pop(64)"
   ]
  },
  {
   "cell_type": "code",
   "execution_count": 3,
   "id": "632bdd35",
   "metadata": {},
   "outputs": [],
   "source": [
    "def standardScaler(feature_array):\n",
    "    total_cols = feature_array.shape[1] # total number of columns \n",
    "    for i in range(total_cols): # iterating through each column\n",
    "        feature_col = feature_array[i]\n",
    "        mean = feature_col.mean() # mean stores mean value for the column\n",
    "        std = feature_col.std() # std stores standard deviation value for the column\n",
    "        if(std==float(0)):\n",
    "            std=1\n",
    "        feature_array[i] = (feature_array[i] - mean) / std\n",
    "        \n",
    "def sigmoid(z):\n",
    "    return 1.0/(1 + np.exp(-z))\n",
    "\n",
    "\n",
    "def loss(y, y_hat):\n",
    "    loss = -np.mean(y*(np.log(y_hat)) + (1-y)*np.log(1-y_hat))\n",
    "    return loss\n",
    "\n",
    "\n",
    "def gradients(X, y, y_hat,w=None,Lambda=None):\n",
    "    \n",
    "    # X --> Input.\n",
    "    # y --> true/target value.\n",
    "    # y_hat --> hypothesis/predictions.\n",
    "    # w --> weights (parameter).\n",
    "    # b --> bias (parameter).\n",
    "    # Lambda - Regularization parameter    \n",
    "    \n",
    "    # m-> number of training examples.\n",
    "    m = X.shape[0]\n",
    "    \n",
    "    # Gradient of loss w.r.t weights.\n",
    "    if(Lambda==None):\n",
    "        dw = (1/m)*np.dot(X.T, (y_hat - y))\n",
    "    else:\n",
    "        dw = (1/m)*(np.dot(X.T, (y_hat - y)) + Lambda*w)\n",
    "    \n",
    "    # Gradient of loss w.r.t bias.\n",
    "    db = (1/m)*np.sum((y_hat - y)) \n",
    "    \n",
    "    return dw, db\n",
    "\n",
    "def train(X_train, y_train,X_test,y_test, epochs, lr,Lambda=None):\n",
    "    \n",
    "    # X_train --> Training Input.\n",
    "    # y_train --> Training true/target value.\n",
    "    # X_test --> Testing Input.\n",
    "    # y_test --> Testing true/target value.\n",
    "    # epochs --> Number of iterations.\n",
    "    # lr --> Learning rate.\n",
    "        \n",
    "    # Initializing weights and bias to zeros.\n",
    "    w = np.zeros((X_train.shape[1],1))\n",
    "    b = 0\n",
    "    \n",
    "    # Reshaping y.\n",
    "    y_train = y_train.reshape(X_train.shape[0],1)\n",
    "    y_test = y_test.reshape(X_test.shape[0],1)\n",
    "    # Normalizing the inputs.\n",
    "    \n",
    "    # Empty list to store losses.\n",
    "    train_losses,test_losses = [],[]\n",
    "    \n",
    "    # Training loop.\n",
    "    for epoch in range(epochs):\n",
    "\n",
    "        # Calculating hypothesis/prediction.\n",
    "        y_hat = sigmoid(np.dot(X_train, w) + b)\n",
    "        # Getting the gradients of loss w.r.t parameters.\n",
    "        dw, db = gradients(X_train, y_train, y_hat,w,Lambda)\n",
    "\n",
    "        # Updating the parameters.\n",
    "        w -= lr*dw\n",
    "        b -= lr*db\n",
    "        \n",
    "        # Calculating loss and appending it in the list.\n",
    "        l_train = loss(y_train, y_hat)\n",
    "        l_test = loss(y_test, sigmoid(np.dot(X_test, w) + b))\n",
    "        train_losses.append(l_train)\n",
    "        test_losses.append(l_test)\n",
    "        \n",
    "    # returning weights, bias and losses(List).\n",
    "    return w, b, train_losses,test_losses\n",
    "\n",
    "def predict(X,w,b):\n",
    "    \n",
    "    # Calculating presictions/y_hat.\n",
    "    preds = sigmoid(np.dot(X, w) + b)\n",
    "    \n",
    "    # Empty List to store predictions.\n",
    "    pred_class = []\n",
    "    # if y_hat >= 0.5 --> round up to 1\n",
    "    # if y_hat < 0.5 --> round up to 1\n",
    "    pred_class = [1 if i > 0.5 else 0 for i in preds]\n",
    "    return np.array(pred_class),np.array(preds.reshape(1,-1)[0])\n",
    "\n",
    "def convert_labels(train_label,test_label):\n",
    "    n_class = np.unique(train_label)\n",
    "    train_labels,test_labels = [],[]\n",
    "    for i in n_class:\n",
    "        train_labels.append(np.where(train_label == i, 1, 0))\n",
    "        test_labels.append(np.where(test_label == i, 1, 0))\n",
    "    return train_labels,test_labels\n",
    "        "
   ]
  },
  {
   "cell_type": "code",
   "execution_count": 4,
   "id": "a99bb0e3",
   "metadata": {},
   "outputs": [],
   "source": [
    "# Scaling the Training and test Dataset\n",
    "standardScaler(tra_df)\n",
    "standardScaler(tes_df)\n",
    "\n",
    "# Building label data sets for each class to build 0-1 Logistic Regression models.\n",
    "train_labels,test_labels = convert_labels(tra_lbl,tes_lbl)"
   ]
  },
  {
   "cell_type": "code",
   "execution_count": 5,
   "id": "a1757eda",
   "metadata": {
    "scrolled": true
   },
   "outputs": [],
   "source": [
    "# Training \n",
    "model_w,model_b = [],[]\n",
    "num_epoch = 1000\n",
    "train_loss,test_loss = np.zeros((num_epoch, 10)),np.zeros((num_epoch, 10))\n",
    "for i in np.unique(tra_lbl):\n",
    "    w, b, train_l,test_l = train(tra_df, train_labels[i],tes_df,test_labels[i], epochs=num_epoch, lr=0.01)\n",
    "    model_w.append(w)\n",
    "    model_b.append(b)\n",
    "    train_loss[:, i] = train_l\n",
    "    test_loss[:, i] = test_l\n",
    "training_losses = np.mean(train_loss, axis = 1)\n",
    "testing_losses = np.mean(test_loss, axis = 1)\n"
   ]
  },
  {
   "cell_type": "code",
   "execution_count": 6,
   "id": "8f2dffd3",
   "metadata": {},
   "outputs": [],
   "source": [
    "#Prediction\n",
    "train_preds,test_preds = pd.DataFrame(),pd.DataFrame()\n",
    "for i in np.unique(tra_lbl):\n",
    "    _,train_preds[i] = predict(tra_df,model_w[i],model_b[i])\n",
    "    _,test_preds[i] = predict(tes_df,model_w[i],model_b[i])"
   ]
  },
  {
   "cell_type": "code",
   "execution_count": 7,
   "id": "4f389027",
   "metadata": {},
   "outputs": [
    {
     "name": "stdout",
     "output_type": "stream",
     "text": [
      "Train Accuracy:  94.1145697096521\n",
      "Test Accuracy:  91.81969949916528\n"
     ]
    }
   ],
   "source": [
    "#Train error and Test error\n",
    "from sklearn.metrics import accuracy_score\n",
    "\n",
    "train_accuracy=accuracy_score(tra_lbl, train_preds.idxmax(axis=1))*100\n",
    "test_accuracy=accuracy_score(tes_lbl, test_preds.idxmax(axis=1))*100\n",
    "print(\"Train Accuracy: \",train_accuracy)\n",
    "print(\"Test Accuracy: \", test_accuracy)"
   ]
  },
  {
   "cell_type": "code",
   "execution_count": 8,
   "id": "37f3723f",
   "metadata": {},
   "outputs": [
    {
     "data": {
      "image/png": "[encoded data removed]",
      "text/plain": [
       "<Figure size 432x288 with 1 Axes>"
      ]
     },
     "metadata": {
      "needs_background": "light"
     },
     "output_type": "display_data"
    },
    {
     "data": {
      "image/png": "[encoded data removed]",
      "text/plain": [
       "<Figure size 432x288 with 1 Axes>"
      ]
     },
     "metadata": {
      "needs_background": "light"
     },
     "output_type": "display_data"
    }
   ],
   "source": [
    "# Plotting Training Error and Test Error per epochs.\n",
    "plt.plot(range(num_epoch), training_losses)\n",
    "plt.xlabel('Number of Iterations')\n",
    "plt.ylabel('Mean Training Error')\n",
    "plt.show()\n",
    "\n",
    "plt.plot(range(num_epoch), testing_losses)\n",
    "plt.xlabel('Number of Iterations')\n",
    "plt.ylabel('Mean Testing Error')\n",
    "plt.show()\n"
   ]
  },
  {
   "cell_type": "markdown",
   "id": "570ef1c5",
   "metadata": {},
   "source": [
    "## Use the logistic regression classifier with regularization so that you also penalize large weights (λ∥w∥2). Plot the average training and test errors for at least 5 different values of regularization parameter λ."
   ]
  },
  {
   "cell_type": "code",
   "execution_count": 9,
   "id": "54c05395",
   "metadata": {},
   "outputs": [
    {
     "name": "stdout",
     "output_type": "stream",
     "text": [
      "Train Accuracy :  95.5793879152498 With regularization : 0.0001\n",
      "Test Accuracy:  93.43350027824151 With regularization : 0.0001\n",
      "Train Accuracy :  95.5793879152498 With regularization : 0.001\n",
      "Test Accuracy:  93.43350027824151 With regularization : 0.001\n",
      "Train Accuracy :  95.5793879152498 With regularization : 0.01\n",
      "Test Accuracy:  93.43350027824151 With regularization : 0.01\n",
      "Train Accuracy :  95.5793879152498 With regularization : 0.05\n",
      "Test Accuracy:  93.43350027824151 With regularization : 0.05\n",
      "Train Accuracy :  95.5793879152498 With regularization : 0.1\n",
      "Test Accuracy:  93.43350027824151 With regularization : 0.1\n"
     ]
    },
    {
     "data": {
      "image/png": "[encoded data removed]",
      "text/plain": [
       "<Figure size 432x288 with 1 Axes>"
      ]
     },
     "metadata": {
      "needs_background": "light"
     },
     "output_type": "display_data"
    },
    {
     "data": {
      "image/png": "[encoded data removed]",
      "text/plain": [
       "<Figure size 432x288 with 1 Axes>"
      ]
     },
     "metadata": {
      "needs_background": "light"
     },
     "output_type": "display_data"
    }
   ],
   "source": [
    "\n",
    "\n",
    "reg_values = [0.0001, 0.001, 0.01, 0.05, 0.1]\n",
    "reg_training_loss_list = []\n",
    "reg_testing_loss_list = []\n",
    "\n",
    "num_epoch=5000\n",
    "for val in reg_values:\n",
    "    model_w,model_b,model_l = [],[],[]\n",
    "    train_loss,test_loss = np.zeros((num_epoch, 10)),np.zeros((num_epoch, 10))\n",
    "    for i in np.unique(tra_lbl):\n",
    "        w, b, train_l,test_l = train(tra_df, train_labels[i],tes_df,test_labels[i], epochs=num_epoch, lr=0.01,Lambda=val)\n",
    "        model_w.append(w)\n",
    "        model_b.append(b)\n",
    "        train_loss[:, i] = train_l\n",
    "        test_loss[:, i] = test_l\n",
    "\n",
    "    training_losses = np.mean(np.mean(train_loss, axis = 1))\n",
    "    testing_losses = np.mean(np.mean(test_loss, axis = 1))\n",
    "    reg_training_loss_list.append(training_losses)\n",
    "    reg_testing_loss_list.append(testing_losses)\n",
    "\n",
    "    train_preds,test_preds = pd.DataFrame(),pd.DataFrame()\n",
    "    for i in np.unique(tra_lbl):\n",
    "        _,train_preds[i] = predict(tra_df,model_w[i],model_b[i])\n",
    "        _,test_preds[i] = predict(tes_df,model_w[i],model_b[i])\n",
    "\n",
    "    train_accuracy=accuracy_score(tra_lbl, train_preds.idxmax(axis=1))*100\n",
    "    test_accuracy=accuracy_score(tes_lbl, test_preds.idxmax(axis=1))*100\n",
    "    print(\"Train Accuracy : \",train_accuracy, \"With regularization :\", val)\n",
    "    print(\"Test Accuracy: \", test_accuracy, \"With regularization :\", val)\n",
    "    \n",
    "plt.figure()\n",
    "plt.plot(reg_values, reg_training_loss_list)\n",
    "plt.xlabel('Regularization parameter')\n",
    "plt.ylabel('Mean Training Error')\n",
    "plt.show()\n",
    "\n",
    "plt.plot(reg_values, reg_testing_loss_list)\n",
    "plt.xlabel('Regularization Parameter')\n",
    "plt.ylabel('Mean Testing Error')\n",
    "plt.show()\n",
    "    \n"
   ]
  }
 ],
 "metadata": {
  "kernelspec": {
   "display_name": "Python-CS529",
   "language": "python",
   "name": "cs529"
  },
  "language_info": {
   "codemirror_mode": {
    "name": "ipython",
    "version": 3
   },
   "file_extension": ".py",
   "mimetype": "text/x-python",
   "name": "python",
   "nbconvert_exporter": "python",
   "pygments_lexer": "ipython3",
   "version": "3.7.13"
  }
 },
 "nbformat": 4,
 "nbformat_minor": 5
}
