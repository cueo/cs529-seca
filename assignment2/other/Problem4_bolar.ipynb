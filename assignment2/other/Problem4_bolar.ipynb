{
 "cells": [
  {
   "cell_type": "markdown",
   "id": "d6f9e6dc",
   "metadata": {},
   "source": [
    "# Note: I am not standardizing the input"
   ]
  },
  {
   "cell_type": "code",
   "execution_count": 1,
   "id": "07b9dcf5",
   "metadata": {},
   "outputs": [
    {
     "data": {
      "text/plain": [
       "(150, 4)"
      ]
     },
     "execution_count": 1,
     "metadata": {},
     "output_type": "execute_result"
    }
   ],
   "source": [
    "import pandas as pd\n",
    "from matplotlib import pyplot as plt\n",
    "import numpy as np\n",
    "from sklearn.cluster import KMeans\n",
    "import random as rd\n",
    "from scipy.spatial.distance import cdist \n",
    "import warnings\n",
    "warnings.filterwarnings('ignore', category=DeprecationWarning)\n",
    "\n",
    "\n",
    "df = pd.read_csv('iris.data', header=None, sep=',')\n",
    "df.columns = [\"sepal_length\", \"sepal_width\", \"petal_length\", \"petal_width\",\"class\"] \n",
    "class_labels = df.pop(\"class\")\n",
    "# Standardization of data\n",
    "# df = (df - df.mean(axis=0))\n",
    "df.shape\n"
   ]
  },
  {
   "cell_type": "markdown",
   "id": "906427ff",
   "metadata": {},
   "source": [
    "## 4.1 Create a new data set with two features by computing the ratio of raw features x = (x1, x2) where x1 = (sepal length/sepal width) and x2 = (petal length/petal width)) and plot the data to observe the clusters in data by yourself (use class label to color the data points for better illustration of clusters)"
   ]
  },
  {
   "cell_type": "code",
   "execution_count": 2,
   "id": "e83f4557",
   "metadata": {},
   "outputs": [],
   "source": [
    "new_df = pd.DataFrame()\n",
    "new_df[\"x1\"] = df[\"sepal_length\"]/df[\"sepal_width\"]\n",
    "new_df[\"x2\"] = df[\"petal_length\"]/df[\"petal_width\"]"
   ]
  },
  {
   "cell_type": "code",
   "execution_count": 3,
   "id": "158776ad",
   "metadata": {},
   "outputs": [
    {
     "data": {
      "image/png": "[encoded data removed]",
      "text/plain": [
       "<Figure size 432x288 with 1 Axes>"
      ]
     },
     "metadata": {
      "needs_background": "light"
     },
     "output_type": "display_data"
    }
   ],
   "source": [
    "frames = []\n",
    "for c in np.unique(class_labels):\n",
    "    frames.append(new_df[class_labels.isin([c])])\n",
    "\n",
    "colors = [\"red\",\"black\",\"green\"]\n",
    "for i,f in enumerate(frames):\n",
    "    plt.scatter(frames[i][\"x1\"] , frames[i][\"x2\"] , color = colors[i])\n",
    "plt.show()"
   ]
  },
  {
   "cell_type": "markdown",
   "id": "a47bffb9",
   "metadata": {},
   "source": [
    "## 4.2 Implement the k-means++ algorithm. Submit the source code (documented!) of your implementation"
   ]
  },
  {
   "cell_type": "code",
   "execution_count": 4,
   "id": "51461663",
   "metadata": {},
   "outputs": [],
   "source": [
    "# Solution:\n",
    "# We begin by choosing a random point from the data.\n",
    "# Then, we choose the next point such that is more probable to lie at a large distance from the first point. \n",
    "# We do so by sampling a point from a probability distribution that is proportional to the squared distance of a point\n",
    "# from the first center.\n",
    "# The remaining points are generated by a probability distribution that is proportional to the squared distance of \n",
    "# each point from its closest center. So, a point having a large distance from its closest center is more likely \n",
    "# to be sampled.\n",
    "\n",
    "\n",
    "def k_means_fit(X,centroids, n = 5,iterations=999999,strict = False):\n",
    "    X_data = X.copy()\n",
    "    X_columns = X.columns.values\n",
    "    diff = 1\n",
    "    j=0\n",
    "\n",
    "    while(diff!=0 and j!=iterations):\n",
    "        i=1\n",
    "        #iterating over each centroid \n",
    "        for index1,row_c in centroids.iterrows():\n",
    "            distance=[]\n",
    "            #iterate over each data point\n",
    "            for index2,row_d in X_data.iterrows():\n",
    "                #calculate distance between current point and centroid\n",
    "                d=np.sum((row_c.to_numpy() - row_d[X_columns].to_numpy())**2)\n",
    "                distance.append(d)\n",
    "            #append distace for a centroid in original data frame\n",
    "            X[i]=distance\n",
    "            i=i+1\n",
    "\n",
    "        C=[]\n",
    "        for index,row in X.iterrows():\n",
    "            #get distance from centroid of current data point\n",
    "            min_dist=row[1]\n",
    "            pos=1\n",
    "            #loop to locate the closest centroid to current point\n",
    "            for i in range(n):\n",
    "                #if current distance is greater than that of other centroids\n",
    "                if row[i+1] < min_dist:\n",
    "                    #the smaller distanc becomes the minimum distance \n",
    "                    min_dist = row[i+1]\n",
    "                    pos=i+1\n",
    "            C.append(pos)\n",
    "        #assigning the closest cluster to each data point\n",
    "        X[\"Cluster\"]=C\n",
    "        #grouping each cluster by their mean value to create new centroids\n",
    "        centroids_new = X.groupby([\"Cluster\"]).mean()[X_columns]\n",
    "        if j == 0:\n",
    "            diff=1\n",
    "            j=j+1\n",
    "        else:\n",
    "            #check if there is a difference between old and new centroids\n",
    "            if(not strict):\n",
    "                diff = ((centroids_new - centroids).sum()**2).sum()\n",
    "            j+=1\n",
    "        centroids = X.groupby([\"Cluster\"]).mean()[X_columns]\n",
    "    return X, centroids\n",
    "\n",
    "def get_centroids(X,columns,k = 3):\n",
    "    centroids = X.sample()\n",
    "    i = 1\n",
    "    dist = []\n",
    "    while i != k:\n",
    "        max_dist = [0 for i in range(X.shape[0])]\n",
    "        #go through the centroids\n",
    "        for index, row in centroids.iterrows():\n",
    "            #calculate distance of every centroid with every other data point \n",
    "            d = np.sum((X[columns] - row[columns])**2,axis=1)\n",
    "            #check which centroid has a max distance with another point\n",
    "            if max(d) > max(max_dist):\n",
    "                max_dist = d    \n",
    "        X[\"dist\"] = max_dist\n",
    "        idx = X['dist'].idxmax()\n",
    "        max_coor = pd.DataFrame(X.iloc[idx][columns]).T\n",
    "        centroids = pd.concat([centroids,max_coor])\n",
    "        X = X.drop(idx)\n",
    "        i+=1\n",
    "    return centroids"
   ]
  },
  {
   "cell_type": "markdown",
   "id": "cec180b3",
   "metadata": {},
   "source": [
    "## 4.3 Cluster the modified Iris dataset with the two features explained above. Run your algorithm 50 times over the data with different values of clusters k = 1, 2, . . . , 5 and plot the accuracies (x and y axes should be the number of clusters and the clustering objective "
   ]
  },
  {
   "cell_type": "code",
   "execution_count": 6,
   "id": "cbf49035",
   "metadata": {},
   "outputs": [],
   "source": [
    "# Cluster the modified Iris dataset with the two features explained above. Run your algorithm 50 times over the data \n",
    "# with different values of clusters k = 1, 2, . . . , 5 and plot the accuracies (x and y axes should be the number \n",
    "# of clusters and the clustering objective \n",
    "\n",
    "from sklearn.metrics import davies_bouldin_score\n",
    "\n",
    "k_values = [1,2,3,4,5]\n",
    "column = new_df.columns\n",
    "clustered_results,centroid_results,dbi = [],[],[]\n",
    "color=['brown','blue','green','cyan','pink']\n",
    "for k in k_values:\n",
    "    centroids = pd.DataFrame(get_centroids(new_df.copy(),column,k))\n",
    "    clustered_x,centroids = k_means_fit(new_df.copy(),centroids,k,50)\n",
    "    if(k!=1):\n",
    "        dbi.append(davies_bouldin_score(new_df, clustered_x['Cluster']))"
   ]
  },
  {
   "cell_type": "markdown",
   "id": "4c1da03b",
   "metadata": {},
   "source": [
    "The Dunn index (DI) (introduced by J. C. Dunn in 1974), a metric for evaluating clustering algorithms, is an internal\n",
    "evaluation scheme, where the result is based on the clustered data itself. Like all other such indices, the aim of \n",
    "this Dunn index to identify sets of clusters that are compact, with a small variance between members of the cluster, \n",
    "and well separated, where the means of different clusters are sufficiently far apart, as compared to the within \n",
    "cluster variance. \n",
    "Higher the Dunn index value, better is the clustering. The number of clusters that maximizes Dunn index is taken \n",
    "as the optimal number of clusters k\n",
    "\n",
    "\n",
    "DB index :\n",
    "The Davies–Bouldin index (DBI) (introduced by David L. Davies and Donald W. Bouldin in 1979), a metric for evaluating clustering algorithms, is an internal evaluation scheme, where the validation of how well the clustering has been done is made using quantities and features inherent to the dataset. \n",
    "Lower the DB index value, better is the clustering.\n",
    "\n",
    "For k=1, since they all belong to the same cluster, it doesn't make sense to check the intra cluster distance.\n"
   ]
  },
  {
   "cell_type": "code",
   "execution_count": 7,
   "id": "775e34c3",
   "metadata": {},
   "outputs": [
    {
     "data": {
      "image/png": "[encoded data removed]",
      "text/plain": [
       "<Figure size 720x360 with 1 Axes>"
      ]
     },
     "metadata": {
      "needs_background": "light"
     },
     "output_type": "display_data"
    }
   ],
   "source": [
    "  \n",
    "fig = plt.figure(figsize = (10, 5))\n",
    "k_clusters = [i for i in range(2,len(dbi)+2)]\n",
    "# creating the bar plot\n",
    "plt.plot(k_clusters, dbi)\n",
    " \n",
    "plt.xlabel(\"K values\")\n",
    "plt.ylabel(\"DBI index\")\n",
    "plt.title(\"Accuracy\")\n",
    "plt.show()"
   ]
  },
  {
   "cell_type": "markdown",
   "id": "723327bc",
   "metadata": {},
   "source": [
    "Based on the above graph, k=3 has the least DBI index. Hence, we take k=3 to make our predictions."
   ]
  },
  {
   "cell_type": "markdown",
   "id": "8209f497",
   "metadata": {},
   "source": [
    "## 4.4 Based on the above plot, decide the number of final clusters and justify your answer. For the chosen number of clusters,\n",
    "           Taking k = 3, since that has the best accuracy(i.e., lowest intra cluster distance and highest inter cluster distance), we have k = 3 as our final number of clusters \n",
    "\n",
    "\n",
    "## 4.4.1 Create a plot showing how the accuracy changes with the number of iterations. "
   ]
  },
  {
   "cell_type": "code",
   "execution_count": 10,
   "id": "a3f05218",
   "metadata": {},
   "outputs": [
    {
     "data": {
      "image/png": "[encoded data removed]",
      "text/plain": [
       "<Figure size 720x360 with 1 Axes>"
      ]
     },
     "metadata": {
      "needs_background": "light"
     },
     "output_type": "display_data"
    }
   ],
   "source": [
    "#plot data\n",
    "\n",
    "k = 3\n",
    "dbi3 = []\n",
    "for i in range(1,51):\n",
    "    centroids = pd.DataFrame(get_centroids(new_df.copy(),column,k))\n",
    "    clustered_x,centroids = k_means_fit(new_df.copy(),centroids,k,i,strict=True)\n",
    "    if(k!=1):\n",
    "        dbi3.append(davies_bouldin_score(new_df, clustered_x['Cluster']))\n",
    "    \n",
    "fig = plt.figure(figsize = (10, 5))\n",
    "k_clusters = [i for i in range(2,len(dbi3)+2)]\n",
    "# creating the bar plot\n",
    "plt.plot(k_clusters, dbi3)\n",
    " \n",
    "plt.xlabel(\"No of iterations\")\n",
    "plt.ylabel(\"DBI index\")\n",
    "plt.title(\"Accuracy\")\n",
    "plt.show()    "
   ]
  },
  {
   "cell_type": "markdown",
   "id": "6e97e2d4",
   "metadata": {},
   "source": [
    "## 4.4.2 Create a plot with the data colored by assignment, and the cluster centers."
   ]
  },
  {
   "cell_type": "code",
   "execution_count": 11,
   "id": "83b474f9",
   "metadata": {},
   "outputs": [
    {
     "data": {
      "image/png": "[encoded data removed]",
      "text/plain": [
       "<Figure size 432x288 with 1 Axes>"
      ]
     },
     "metadata": {
      "needs_background": "light"
     },
     "output_type": "display_data"
    }
   ],
   "source": [
    "k = 3\n",
    "centroids = pd.DataFrame(get_centroids(new_df.copy(),column,k))\n",
    "clustered_x,centroids = k_means_fit(new_df.copy(),centroids,k,50)\n",
    "\n",
    "plt.figure()\n",
    "for i in range(k):\n",
    "    cluster=clustered_x[clustered_x[\"Cluster\"]==i+1]\n",
    "    plt.scatter(cluster[\"x1\"],cluster[\"x2\"],c=color[i])\n",
    "\n",
    "#plot centroids   \n",
    "plt.scatter(centroids[\"x1\"],centroids[\"x2\"],c='red')\n",
    "plt.xlabel('sepal length/sepal width')\n",
    "plt.ylabel('petal length/petal width')\n",
    "plt.show()"
   ]
  },
  {
   "cell_type": "code",
   "execution_count": null,
   "id": "a6b864f8",
   "metadata": {},
   "outputs": [],
   "source": []
  }
 ],
 "metadata": {
  "kernelspec": {
   "display_name": "Python-CS529",
   "language": "python",
   "name": "cs529"
  },
  "language_info": {
   "codemirror_mode": {
    "name": "ipython",
    "version": 3
   },
   "file_extension": ".py",
   "mimetype": "text/x-python",
   "name": "python",
   "nbconvert_exporter": "python",
   "pygments_lexer": "ipython3",
   "version": "3.7.13"
  }
 },
 "nbformat": 4,
 "nbformat_minor": 5
}
