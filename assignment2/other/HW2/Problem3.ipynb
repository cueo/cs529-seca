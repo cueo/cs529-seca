{
 "cells": [
  {
   "cell_type": "code",
   "execution_count": 1,
   "id": "b9afe47c",
   "metadata": {},
   "outputs": [],
   "source": [
    "import pandas as pd"
   ]
  },
  {
   "cell_type": "code",
   "execution_count": 2,
   "id": "a6c46aa9",
   "metadata": {},
   "outputs": [],
   "source": [
    "df = pd.read_csv('Pima.csv',header=None)\n",
    "df.columns = ['Pregnancies', 'Glucose', 'BloodPressure', 'SkinThickness', 'Insulin', 'BMI', 'DiabetesPedigreeFunction', 'Age','output']"
   ]
  },
  {
   "cell_type": "code",
   "execution_count": 3,
   "id": "2dd785ca",
   "metadata": {},
   "outputs": [],
   "source": [
    "df.output = df.output.apply(str)"
   ]
  },
  {
   "cell_type": "code",
   "execution_count": 4,
   "id": "21aaea8d",
   "metadata": {},
   "outputs": [
    {
     "name": "stdout",
     "output_type": "stream",
     "text": [
      "Verified that data contains 768 rows and 9 columns\n"
     ]
    }
   ],
   "source": [
    "#Q.1.\n",
    "if df.shape[0] == 768 and df.shape[1] == 9:\n",
    "    print(\"Verified that data contains 768 rows and 9 columns\")\n",
    "else:\n",
    "    print(\"Verified that data does not contain 768 rows and 9 columns\")"
   ]
  },
  {
   "cell_type": "code",
   "execution_count": 5,
   "id": "2186d699",
   "metadata": {},
   "outputs": [
    {
     "data": {
      "text/html": [
       "<div>\n",
       "<style scoped>\n",
       "    .dataframe tbody tr th:only-of-type {\n",
       "        vertical-align: middle;\n",
       "    }\n",
       "\n",
       "    .dataframe tbody tr th {\n",
       "        vertical-align: top;\n",
       "    }\n",
       "\n",
       "    .dataframe thead th {\n",
       "        text-align: right;\n",
       "    }\n",
       "</style>\n",
       "<table border=\"1\" class=\"dataframe\">\n",
       "  <thead>\n",
       "    <tr style=\"text-align: right;\">\n",
       "      <th></th>\n",
       "      <th>Pregnancies</th>\n",
       "      <th>Glucose</th>\n",
       "      <th>BloodPressure</th>\n",
       "      <th>SkinThickness</th>\n",
       "      <th>Insulin</th>\n",
       "      <th>BMI</th>\n",
       "      <th>DiabetesPedigreeFunction</th>\n",
       "      <th>Age</th>\n",
       "    </tr>\n",
       "  </thead>\n",
       "  <tbody>\n",
       "    <tr>\n",
       "      <th>count</th>\n",
       "      <td>768.000000</td>\n",
       "      <td>768.000000</td>\n",
       "      <td>768.000000</td>\n",
       "      <td>768.000000</td>\n",
       "      <td>768.000000</td>\n",
       "      <td>768.000000</td>\n",
       "      <td>768.000000</td>\n",
       "      <td>768.000000</td>\n",
       "    </tr>\n",
       "    <tr>\n",
       "      <th>mean</th>\n",
       "      <td>3.845052</td>\n",
       "      <td>120.894531</td>\n",
       "      <td>69.105469</td>\n",
       "      <td>20.536458</td>\n",
       "      <td>79.799479</td>\n",
       "      <td>31.992578</td>\n",
       "      <td>0.471876</td>\n",
       "      <td>33.240885</td>\n",
       "    </tr>\n",
       "    <tr>\n",
       "      <th>std</th>\n",
       "      <td>3.369578</td>\n",
       "      <td>31.972618</td>\n",
       "      <td>19.355807</td>\n",
       "      <td>15.952218</td>\n",
       "      <td>115.244002</td>\n",
       "      <td>7.884160</td>\n",
       "      <td>0.331329</td>\n",
       "      <td>11.760232</td>\n",
       "    </tr>\n",
       "    <tr>\n",
       "      <th>min</th>\n",
       "      <td>0.000000</td>\n",
       "      <td>0.000000</td>\n",
       "      <td>0.000000</td>\n",
       "      <td>0.000000</td>\n",
       "      <td>0.000000</td>\n",
       "      <td>0.000000</td>\n",
       "      <td>0.078000</td>\n",
       "      <td>21.000000</td>\n",
       "    </tr>\n",
       "    <tr>\n",
       "      <th>25%</th>\n",
       "      <td>1.000000</td>\n",
       "      <td>99.000000</td>\n",
       "      <td>62.000000</td>\n",
       "      <td>0.000000</td>\n",
       "      <td>0.000000</td>\n",
       "      <td>27.300000</td>\n",
       "      <td>0.243750</td>\n",
       "      <td>24.000000</td>\n",
       "    </tr>\n",
       "    <tr>\n",
       "      <th>50%</th>\n",
       "      <td>3.000000</td>\n",
       "      <td>117.000000</td>\n",
       "      <td>72.000000</td>\n",
       "      <td>23.000000</td>\n",
       "      <td>30.500000</td>\n",
       "      <td>32.000000</td>\n",
       "      <td>0.372500</td>\n",
       "      <td>29.000000</td>\n",
       "    </tr>\n",
       "    <tr>\n",
       "      <th>75%</th>\n",
       "      <td>6.000000</td>\n",
       "      <td>140.250000</td>\n",
       "      <td>80.000000</td>\n",
       "      <td>32.000000</td>\n",
       "      <td>127.250000</td>\n",
       "      <td>36.600000</td>\n",
       "      <td>0.626250</td>\n",
       "      <td>41.000000</td>\n",
       "    </tr>\n",
       "    <tr>\n",
       "      <th>max</th>\n",
       "      <td>17.000000</td>\n",
       "      <td>199.000000</td>\n",
       "      <td>122.000000</td>\n",
       "      <td>99.000000</td>\n",
       "      <td>846.000000</td>\n",
       "      <td>67.100000</td>\n",
       "      <td>2.420000</td>\n",
       "      <td>81.000000</td>\n",
       "    </tr>\n",
       "  </tbody>\n",
       "</table>\n",
       "</div>"
      ],
      "text/plain": [
       "       Pregnancies     Glucose  BloodPressure  SkinThickness     Insulin  \\\n",
       "count   768.000000  768.000000     768.000000     768.000000  768.000000   \n",
       "mean      3.845052  120.894531      69.105469      20.536458   79.799479   \n",
       "std       3.369578   31.972618      19.355807      15.952218  115.244002   \n",
       "min       0.000000    0.000000       0.000000       0.000000    0.000000   \n",
       "25%       1.000000   99.000000      62.000000       0.000000    0.000000   \n",
       "50%       3.000000  117.000000      72.000000      23.000000   30.500000   \n",
       "75%       6.000000  140.250000      80.000000      32.000000  127.250000   \n",
       "max      17.000000  199.000000     122.000000      99.000000  846.000000   \n",
       "\n",
       "              BMI  DiabetesPedigreeFunction         Age  \n",
       "count  768.000000                768.000000  768.000000  \n",
       "mean    31.992578                  0.471876   33.240885  \n",
       "std      7.884160                  0.331329   11.760232  \n",
       "min      0.000000                  0.078000   21.000000  \n",
       "25%     27.300000                  0.243750   24.000000  \n",
       "50%     32.000000                  0.372500   29.000000  \n",
       "75%     36.600000                  0.626250   41.000000  \n",
       "max     67.100000                  2.420000   81.000000  "
      ]
     },
     "execution_count": 5,
     "metadata": {},
     "output_type": "execute_result"
    }
   ],
   "source": [
    "#Q.1. The following table describes the statistics of the features\n",
    "df.describe()"
   ]
  },
  {
   "cell_type": "code",
   "execution_count": 6,
   "id": "53e237c7",
   "metadata": {},
   "outputs": [
    {
     "data": {
      "text/plain": [
       "<AxesSubplot:xlabel='output', ylabel='Count'>"
      ]
     },
     "execution_count": 6,
     "metadata": {},
     "output_type": "execute_result"
    },
    {
     "data": {
      "image/png": "[encoded data removed]",
      "text/plain": [
       "<Figure size 432x288 with 1 Axes>"
      ]
     },
     "metadata": {
      "needs_background": "light"
     },
     "output_type": "display_data"
    }
   ],
   "source": [
    "#Q.1. The following is the Histogram of the labels\n",
    "import seaborn as sns\n",
    "sns.histplot(data=df, x=\"output\")"
   ]
  },
  {
   "cell_type": "code",
   "execution_count": 7,
   "id": "f909c0be",
   "metadata": {},
   "outputs": [],
   "source": [
    "X_columns = df.columns.to_list()\n",
    "X_columns.remove('output')"
   ]
  },
  {
   "cell_type": "code",
   "execution_count": 8,
   "id": "280eed17",
   "metadata": {},
   "outputs": [],
   "source": [
    "X = df[X_columns]\n",
    "y = df['output']"
   ]
  },
  {
   "cell_type": "code",
   "execution_count": 9,
   "id": "0d1fd79d",
   "metadata": {},
   "outputs": [],
   "source": [
    "#Q.2. This code splits the data in 80% training data and 20% test data\n",
    "from sklearn.model_selection import train_test_split\n",
    "X_train, X_test, y_train, y_test = train_test_split(X,y, test_size=0.2)"
   ]
  },
  {
   "cell_type": "code",
   "execution_count": 10,
   "id": "028ef292",
   "metadata": {},
   "outputs": [],
   "source": [
    "from sklearn.model_selection import cross_val_score\n",
    "from sklearn.neighbors import KNeighborsClassifier\n",
    "import matplotlib.pyplot as plt\n",
    "\n",
    "def get_accuracy(X_train, y_train):\n",
    "    mean_accuracy = []\n",
    "    for i in range(1,16):\n",
    "        neigh = KNeighborsClassifier(n_neighbors=i, metric=\"euclidean\")\n",
    "        mean_accuracy.append(cross_val_score(neigh, X_train, y_train.values.ravel(), cv=5,scoring=\"accuracy\").mean())\n",
    "        \n",
    "    for i in range(len(mean_accuracy)):\n",
    "        print(\"k = \",i+1, \", mean_accuracy=\", mean_accuracy[i])\n",
    "\n",
    "    \n",
    "    data = {'k': [i+1 for i in range(len(mean_accuracy))],\n",
    "            'mean_accuracy': mean_accuracy\n",
    "           }\n",
    "\n",
    "    df = pd.DataFrame(data,columns=['k','mean_accuracy'])\n",
    "    df.plot(x ='k', y='mean_accuracy', kind = 'line')\n",
    "    plt.show()\n",
    "\n",
    "    return mean_accuracy"
   ]
  },
  {
   "cell_type": "code",
   "execution_count": 11,
   "id": "b36cd370",
   "metadata": {},
   "outputs": [
    {
     "name": "stdout",
     "output_type": "stream",
     "text": [
      "k =  1 , mean_accuracy= 0.6676795948287353\n",
      "k =  2 , mean_accuracy= 0.6954551512728242\n",
      "k =  3 , mean_accuracy= 0.6987338397974143\n",
      "k =  4 , mean_accuracy= 0.7231107556977209\n",
      "k =  5 , mean_accuracy= 0.7313074770091963\n",
      "k =  6 , mean_accuracy= 0.7296681327469012\n",
      "k =  7 , mean_accuracy= 0.7280287884846062\n",
      "k =  8 , mean_accuracy= 0.7313074770091963\n",
      "k =  9 , mean_accuracy= 0.7378248700519792\n",
      "k =  10 , mean_accuracy= 0.7475543116086898\n",
      "k =  11 , mean_accuracy= 0.7378248700519792\n",
      "k =  12 , mean_accuracy= 0.7442889510862322\n",
      "k =  13 , mean_accuracy= 0.7459282953485273\n",
      "k =  14 , mean_accuracy= 0.7491536718645875\n",
      "k =  15 , mean_accuracy= 0.7507930161268827\n"
     ]
    },
    {
     "data": {
      "image/png": "[encoded data removed]",
      "text/plain": [
       "<Figure size 432x288 with 1 Axes>"
      ]
     },
     "metadata": {
      "needs_background": "light"
     },
     "output_type": "display_data"
    }
   ],
   "source": [
    "#Q.2. The following are the mean accuracy when k changes and its graph\n",
    "mean_accuracy = get_accuracy(X_train, y_train)"
   ]
  },
  {
   "cell_type": "code",
   "execution_count": 17,
   "id": "526bb7c1",
   "metadata": {},
   "outputs": [],
   "source": [
    "import numpy as np\n",
    "\n",
    "def calculate_test_error_rate(mean_accuracy, X_train, y_train, X_test, y_test):\n",
    "    max_acc_fold = np.argmax(mean_accuracy) + 1\n",
    "    neigh = KNeighborsClassifier(n_neighbors=max_acc_fold, metric=\"euclidean\")\n",
    "    neigh.fit(X_train, y_train.values.ravel())\n",
    "    y_pred = neigh.predict(X_test)\n",
    "    print(\"We chose k =\", max_acc_fold, \"with Test error : \",np.mean(y_pred != y_test))"
   ]
  },
  {
   "cell_type": "code",
   "execution_count": 18,
   "id": "38403c2d",
   "metadata": {},
   "outputs": [
    {
     "name": "stdout",
     "output_type": "stream",
     "text": [
      "We chose k = 15 with Test error :  0.24675324675324675\n"
     ]
    }
   ],
   "source": [
    "#Q.3. This returns the test error for the k fold with maximum training accuracy \n",
    "calculate_test_error_rate(mean_accuracy, X_train, y_train, X_test, y_test)"
   ]
  },
  {
   "cell_type": "code",
   "execution_count": 19,
   "id": "8456982f",
   "metadata": {},
   "outputs": [],
   "source": [
    "from sklearn.preprocessing import StandardScaler\n",
    "scaler = StandardScaler()\n",
    "tempX_train = scaler.fit_transform(X_train, y_train)\n",
    "tempX_test = scaler.transform(X_test)"
   ]
  },
  {
   "cell_type": "code",
   "execution_count": 20,
   "id": "3f7ed78a",
   "metadata": {},
   "outputs": [
    {
     "name": "stdout",
     "output_type": "stream",
     "text": [
      "k =  1 , mean_accuracy= 0.700333200053312\n",
      "k =  2 , mean_accuracy= 0.7117686258829802\n",
      "k =  3 , mean_accuracy= 0.7394375583100093\n",
      "k =  4 , mean_accuracy= 0.7280421164867387\n",
      "k =  5 , mean_accuracy= 0.7410769025723044\n",
      "k =  6 , mean_accuracy= 0.7377848860455818\n",
      "k =  7 , mean_accuracy= 0.7377582300413168\n",
      "k =  8 , mean_accuracy= 0.7312275089964014\n",
      "k =  9 , mean_accuracy= 0.7507530321204852\n",
      "k =  10 , mean_accuracy= 0.7507663601226175\n",
      "k =  11 , mean_accuracy= 0.7475009996001599\n",
      "k =  12 , mean_accuracy= 0.7605357856857257\n",
      "k =  13 , mean_accuracy= 0.7589097694255631\n",
      "k =  14 , mean_accuracy= 0.7459016393442622\n",
      "k =  15 , mean_accuracy= 0.7442889510862323\n"
     ]
    },
    {
     "data": {
      "image/png": "[encoded data removed]",
      "text/plain": [
       "<Figure size 432x288 with 1 Axes>"
      ]
     },
     "metadata": {
      "needs_background": "light"
     },
     "output_type": "display_data"
    }
   ],
   "source": [
    "#Q.4. After centralization and standardization of the features, following is the new accuracy for each k\n",
    "temp_mean_accuracy = get_accuracy(tempX_train, y_train)"
   ]
  },
  {
   "cell_type": "code",
   "execution_count": 23,
   "id": "e46dd1ea",
   "metadata": {},
   "outputs": [
    {
     "name": "stdout",
     "output_type": "stream",
     "text": [
      "We chose k = 12 with Test error :  0.24025974025974026\n"
     ]
    }
   ],
   "source": [
    "#Q.4. centralization and standardization the accuracy has changed and the maximum accuracy is for k = 12\n",
    "calculate_test_error_rate(temp_mean_accuracy, tempX_train, y_train, tempX_test, y_test)"
   ]
  }
 ],
 "metadata": {
  "kernelspec": {
   "display_name": "Python 3",
   "language": "python",
   "name": "python3"
  },
  "language_info": {
   "codemirror_mode": {
    "name": "ipython",
    "version": 3
   },
   "file_extension": ".py",
   "mimetype": "text/x-python",
   "name": "python",
   "nbconvert_exporter": "python",
   "pygments_lexer": "ipython3",
   "version": "3.8.8"
  }
 },
 "nbformat": 4,
 "nbformat_minor": 5
}
