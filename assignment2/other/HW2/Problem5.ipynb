{
 "cells": [
  {
   "cell_type": "code",
   "execution_count": 1,
   "id": "1a787afe",
   "metadata": {},
   "outputs": [],
   "source": [
    "import pandas as pd\n",
    "import numpy as np\n",
    "import matplotlib.pyplot as plt"
   ]
  },
  {
   "cell_type": "code",
   "execution_count": 2,
   "id": "9baa679e",
   "metadata": {},
   "outputs": [],
   "source": [
    "df = pd.read_csv('optdigits.tra',header=None)"
   ]
  },
  {
   "cell_type": "code",
   "execution_count": 3,
   "id": "2925f86a",
   "metadata": {},
   "outputs": [],
   "source": [
    "test_df = pd.read_csv('optdigits.tes',header=None)"
   ]
  },
  {
   "cell_type": "code",
   "execution_count": 4,
   "id": "47816b09",
   "metadata": {},
   "outputs": [],
   "source": [
    "X_train,  y_train  = df.iloc[:, : 64] , df.iloc[:, -1: ]\n",
    "y_train = y_train[64]"
   ]
  },
  {
   "cell_type": "code",
   "execution_count": 5,
   "id": "a41d21bd",
   "metadata": {},
   "outputs": [],
   "source": [
    "X_test,  y_test  = test_df.iloc[:, : 64] , test_df.iloc[:, -1: ]\n",
    "y_test = y_test[64]"
   ]
  },
  {
   "cell_type": "code",
   "execution_count": 6,
   "id": "476f9b23",
   "metadata": {},
   "outputs": [],
   "source": [
    "#Calculates the sigmoid value of the input value\n",
    "def sigmoid(z):\n",
    "    value = 1 / (1 + np.exp(-z))\n",
    "    return value\n",
    "\n",
    "# Calculates the cost \n",
    "def Cost(z, y):\n",
    "    m = len(y)\n",
    "    cost = (1 / m) * (np.sum(-y.T.dot(np.log(z)) - (1 - y).T.dot(np.log(1 - z))))\n",
    "    return cost\n",
    "    \n",
    "# Calculates the weights by gradient descent\n",
    "def gradient_descent(X,h,w,y,m,flag,l):\n",
    "    reg=0\n",
    "    if flag:\n",
    "        reg = abs(sum([i**2 for i in w]))\n",
    "    gradient_value = np.dot(X.T, (h - y)) / m\n",
    "    w -= alpha * (gradient_value + (l/m)*reg)\n",
    "    return w\n",
    "\n",
    "# Calculates the cost \n",
    "def Cost_with_reg(z, y,wt,l):\n",
    "    m = len(y)\n",
    "    cost = (1 / m) * (np.sum(-y.T.dot(np.log(z)) - (1 - y).T.dot(np.log(1 - z))))\n",
    "    return cost"
   ]
  },
  {
   "cell_type": "code",
   "execution_count": 7,
   "id": "462701b3",
   "metadata": {},
   "outputs": [],
   "source": [
    "# Calculates the optimal weights using which we predict the future data\n",
    "def train(X, y, iterv, flag,l=1):\n",
    "    weight = []\n",
    "    cost = []\n",
    "    m = len(y)\n",
    "    for i in np.unique(y):\n",
    "        y_ova = np.where(y==i,1,0)\n",
    "        w = np.zeros(X.shape[1])\n",
    "        c = []\n",
    "        for j in range(iterv):\n",
    "            z = X.dot(w)\n",
    "            h = sigmoid(z)\n",
    "            w = gradient_descent(X,h, w, y_ova, m,flag,l)\n",
    "            c.append(Cost(h,y_ova))\n",
    "        weight.append((w,i))\n",
    "        cost.append((c,i))\n",
    "    return weight, cost"
   ]
  },
  {
   "cell_type": "code",
   "execution_count": 8,
   "id": "ef4060d7",
   "metadata": {},
   "outputs": [],
   "source": [
    "def pred2(weight, X):\n",
    "    i_list = []\n",
    "    X_predicted = [[(sigmoid(i.dot(w))) for w in weight] for i in X ]\n",
    "    for x in X_predicted:\n",
    "        i_list.append(x.index(max(x)))\n",
    "    return i_list"
   ]
  },
  {
   "cell_type": "code",
   "execution_count": 9,
   "id": "324c592f",
   "metadata": {},
   "outputs": [],
   "source": [
    "def pred(weight, X):\n",
    "    i_list = []\n",
    "    X_predicted = [[(sigmoid(i.dot(w))) for w,c in weight] for i in X ]\n",
    "    for x in X_predicted:\n",
    "        i_list.append(x.index(max(x)))\n",
    "    return i_list"
   ]
  },
  {
   "cell_type": "code",
   "execution_count": 10,
   "id": "08a2945c",
   "metadata": {},
   "outputs": [],
   "source": [
    "# Compares the predicted label with the actual label to find the model performance\n",
    "def accuracy(y_pred, y):\n",
    "    score = sum(y_pred == y) / len(y)\n",
    "    return score"
   ]
  },
  {
   "cell_type": "code",
   "execution_count": 11,
   "id": "afd93ab0",
   "metadata": {},
   "outputs": [],
   "source": [
    "def error(acc):\n",
    "    return 1 - acc"
   ]
  },
  {
   "cell_type": "code",
   "execution_count": 12,
   "id": "80ae940f",
   "metadata": {},
   "outputs": [],
   "source": [
    "alpha = 0.01\n",
    "train_plot = []\n",
    "test_plot = []\n",
    "for i in range(0,1000, 100):\n",
    "    weights, cost = train(X_train, y_train,i,0)\n",
    "    pred_train = pred(weights, X_train.to_numpy())\n",
    "    train_acc = accuracy(pred_train,y_train)\n",
    "    pred_test = pred(weights, X_test.to_numpy())\n",
    "    test_acc = accuracy(pred_test,y_test)\n",
    "    train_plot.append(error(train_acc))\n",
    "    test_plot.append(error(test_acc))"
   ]
  },
  {
   "cell_type": "code",
   "execution_count": 13,
   "id": "c19bcde2",
   "metadata": {},
   "outputs": [
    {
     "data": {
      "image/png": "[encoded data removed]",
      "text/plain": [
       "<Figure size 432x288 with 1 Axes>"
      ]
     },
     "metadata": {
      "needs_background": "light"
     },
     "output_type": "display_data"
    }
   ],
   "source": [
    "#Q.1.\n",
    "plt.plot([j for j in range(100,1000,100)], train_plot[1:], label = \"train\")\n",
    "plt.plot([j for j in range(100,1000,100)], test_plot[1:], label = \"test\")\n",
    "plt.xlabel('Iterations', fontsize=18)\n",
    "plt.ylabel('Errors', fontsize=16)\n",
    "plt.legend()\n",
    "plt.show()"
   ]
  },
  {
   "cell_type": "code",
   "execution_count": 16,
   "id": "749bef6e",
   "metadata": {},
   "outputs": [],
   "source": [
    "alpha = 0.01\n",
    "lam = [1,10,50,100,500]\n",
    "train_error_list = []\n",
    "test_error_list = []\n",
    "for l in lam:    \n",
    "    weights_reg, cost_reg = train(X_train, y_train,100,1, l)\n",
    "    pred_train_reg = pred(weights_reg, X_train.to_numpy())\n",
    "    train_acc_reg = accuracy(pred_train_reg,y_train)\n",
    "    pred_test_reg = pred(weights_reg, X_test.to_numpy())\n",
    "    test_acc_reg = accuracy(pred_test_reg,y_test)\n",
    "    train_error_list.append(error(train_acc_reg))\n",
    "    test_error_list.append(error(test_acc_reg))"
   ]
  },
  {
   "cell_type": "code",
   "execution_count": 17,
   "id": "070a03f8",
   "metadata": {},
   "outputs": [
    {
     "data": {
      "image/png": "[encoded data removed]",
      "text/plain": [
       "<Figure size 432x288 with 1 Axes>"
      ]
     },
     "metadata": {
      "needs_background": "light"
     },
     "output_type": "display_data"
    }
   ],
   "source": [
    "#Q.2 \n",
    "plt.plot([str(i) for i in lam], train_error_list, label = \"training\")\n",
    "plt.plot([str(i) for i in lam], test_error_list, label= \"test\")\n",
    "plt.xlabel('λ', fontsize=18)\n",
    "plt.ylabel('Error rate', fontsize=16)\n",
    "plt.legend()\n",
    "plt.show()"
   ]
  },
  {
   "cell_type": "code",
   "execution_count": null,
   "id": "8d37d177",
   "metadata": {},
   "outputs": [],
   "source": []
  }
 ],
 "metadata": {
  "kernelspec": {
   "display_name": "Python 3",
   "language": "python",
   "name": "python3"
  },
  "language_info": {
   "codemirror_mode": {
    "name": "ipython",
    "version": 3
   },
   "file_extension": ".py",
   "mimetype": "text/x-python",
   "name": "python",
   "nbconvert_exporter": "python",
   "pygments_lexer": "ipython3",
   "version": "3.8.8"
  }
 },
 "nbformat": 4,
 "nbformat_minor": 5
}
