{
 "cells": [
  {
   "cell_type": "code",
   "execution_count": 8,
   "metadata": {},
   "outputs": [],
   "source": [
    "# Imports.\n",
    "import random\n",
    "import network.network as Network\n",
    "import network.mnist_loader as mnist_loader\n",
    "import pickle\n",
    "import matplotlib.pyplot as plt\n",
    "import numpy as np\n",
    "\n",
    "# Set the random seed. DO NOT CHANGE THIS!\n",
    "seedVal = 41\n",
    "random.seed(seedVal)\n",
    "np.random.seed(seedVal)\n",
    "\n",
    "%matplotlib inline"
   ]
  },
  {
   "cell_type": "markdown",
   "metadata": {},
   "source": [
    "Use a pre-trained network. It has been saved as a pickle file. Load the model, and continue.\n",
    "The network has only one hidden layer of 30 units, 784 input units (MNIST images are $ 28 \\times 28 = 784 $ pixels large), and 10 output units. All the activations are sigmoidal."
   ]
  },
  {
   "cell_type": "code",
   "execution_count": 9,
   "metadata": {},
   "outputs": [],
   "source": [
    "# Load the pre-trained model.\n",
    "with open('network/trained_network.pkl', 'rb') as f:\n",
    "    u = pickle._Unpickler(f)\n",
    "    u.encoding = 'latin1'\n",
    "    net = u.load()\n",
    "\n",
    "# Helpful function to load the MNIST data.\n",
    "training_data, validation_data, test_data = mnist_loader.load_data_wrapper()"
   ]
  },
  {
   "cell_type": "markdown",
   "metadata": {},
   "source": [
    "The neural network is pretrained, so it should already be set up to predict characters. Run `predict(n)` to evaluate the $ n^{th} $ digit in the test set using the network. You should see that even this relatively simple network works really well (~97% accuracy). The output of the network is a one-hot vector indicating the network's predictions:"
   ]
  },
  {
   "cell_type": "code",
   "execution_count": 10,
   "metadata": {},
   "outputs": [
    {
     "name": "stdout",
     "output_type": "stream",
     "text": [
      "Network output: \n",
      "[[0.]\n",
      " [0.]\n",
      " [0.]\n",
      " [0.]\n",
      " [0.]\n",
      " [0.]\n",
      " [0.]\n",
      " [0.]\n",
      " [1.]\n",
      " [0.]]\n",
      "\n",
      "Network prediction: 8\n",
      "\n",
      "Actual image: \n"
     ]
    },
    {
     "data": {
      "image/png": "[encoded data removed]",
      "text/plain": [
       "<Figure size 640x480 with 1 Axes>"
      ]
     },
     "metadata": {},
     "output_type": "display_data"
    }
   ],
   "source": [
    "def predict(n):\n",
    "    # Get the data from the test set\n",
    "    x = test_data[n][0]\n",
    "\n",
    "    # Print the prediction of the network\n",
    "    print('Network output: \\n' + str(np.round(net.feedforward(x), 2)) + '\\n')\n",
    "    print('Network prediction: ' + str(np.argmax(net.feedforward(x))) + '\\n')\n",
    "    print('Actual image: ')\n",
    "\n",
    "    # Draw the image\n",
    "    plt.imshow(x.reshape((28, 28)), cmap='Greys')\n",
    "\n",
    "\n",
    "# Replace the argument with any number between 0 and 9999\n",
    "predict(8384)"
   ]
  },
  {
   "cell_type": "markdown",
   "metadata": {},
   "source": [
    "To actually generate adversarial examples we solve a minimization problem. We do this by setting a \"goal\" label called $ \\vec y_{goal} $ (for instance, if we wanted the network to think the adversarial image is an 8, then we would choose $ \\vec y_{goal} $ to be a one-hot vector with the eighth entry being 1). Now we define a cost function:\n",
    "\n",
    "$$ C = \\frac{1}{2} \\|\\vec y_{goal} - \\hat y(\\vec x)\\|^2_2 $$\n",
    "\n",
    "where $ \\| \\cdot \\|^2_2 $ is the squared Euclidean norm and $ \\hat y $ is the network's output. It is a function of $ \\vec x $, the input image to the network, so we write $ \\hat y(\\vec x) $. Our goal is to find an $ \\vec x $ such that $ C $ is minimized. Hopefully this makes sense, because if we find an image $ \\vec x $ that minimizes $ C $ then that means the output of the network when given $ \\vec x $ is close to our desired output, $ \\vec y_{goal} $. So in full mathy language, our optimization problem is:\n",
    "\n",
    "$$ \\arg \\min_{\\vec x} C(\\vec x) $$\n",
    "\n",
    "that is, find the $ \\vec x $ that minimizes the cost $ C $.\n",
    "\n",
    "To actually do this we can do gradient descent on $ C $. Start with an initially random vector $ \\vec x $ and take steps (changing $ \\vec x $) gradually in the direction opposite of the gradient $ \\nabla_x C $. To actually get these derivatives we can perform backpropagation on the network. In contrast to training a network, where we perform gradient descent on the weights and biases, when we create adversarial examples we hold the weights and biases constant (because we don't want to change the network!), and change the inputs to our network."
   ]
  },
  {
   "cell_type": "markdown",
   "metadata": {},
   "source": [
    "Helper functions to evaluate the non-linearity and it's derivative:"
   ]
  },
  {
   "cell_type": "code",
   "execution_count": 11,
   "metadata": {},
   "outputs": [],
   "source": [
    "def sigmoid(z):\n",
    "    \"\"\"The sigmoid function.\"\"\"\n",
    "    return 1.0 / (1.0 + np.exp(-z))\n",
    "\n",
    "\n",
    "def sigmoid_prime(z):\n",
    "    \"\"\"Derivative of the sigmoid function.\"\"\"\n",
    "    return sigmoid(z) * (1 - sigmoid(z))"
   ]
  },
  {
   "cell_type": "markdown",
   "metadata": {},
   "source": [
    "Also, a function to find the gradient derivatives of the cost function, $ \\nabla_x C $ with respect to the input $ \\vec x $, with a goal label of $ \\vec y_{goal} $. (Don't worry too much about the implementation, just know it calculates derivatives)."
   ]
  },
  {
   "cell_type": "code",
   "execution_count": 12,
   "metadata": {},
   "outputs": [],
   "source": [
    "def input_derivative(net, x, y):\n",
    "    \"\"\" Calculate derivatives wrt the inputs\"\"\"\n",
    "    nabla_b = [np.zeros(b.shape) for b in net.biases]\n",
    "    nabla_w = [np.zeros(w.shape) for w in net.weights]\n",
    "\n",
    "    # feedforward\n",
    "    activation = x\n",
    "    activations = [x]  # list to store all the activations, layer by layer\n",
    "    zs = []  # list to store all the z vectors, layer by layer\n",
    "    for b, w in zip(net.biases, net.weights):\n",
    "        z = np.dot(w, activation) + b\n",
    "        zs.append(z)\n",
    "        activation = sigmoid(z)\n",
    "        activations.append(activation)\n",
    "\n",
    "    # backward pass\n",
    "    delta = net.cost_derivative(activations[-1], y) * sigmoid_prime(zs[-1])\n",
    "    nabla_b[-1] = delta\n",
    "    nabla_w[-1] = np.dot(delta, activations[-2].transpose())\n",
    "\n",
    "    for l in range(2, net.num_layers):\n",
    "        z = zs[-l]\n",
    "        sp = sigmoid_prime(z)\n",
    "        delta = np.dot(net.weights[-l + 1].transpose(), delta) * sp\n",
    "        nabla_b[-l] = delta\n",
    "        nabla_w[-l] = np.dot(delta, activations[-l - 1].transpose())\n",
    "\n",
    "    # Return derivatives WRT to input\n",
    "    return net.weights[0].T.dot(delta)"
   ]
  },
  {
   "cell_type": "markdown",
   "metadata": {},
   "source": [
    "The actual function that generates adversarial examples and a wrapper function:"
   ]
  },
  {
   "cell_type": "markdown",
   "metadata": {},
   "source": [
    "## (a) Non Targeted Attack"
   ]
  },
  {
   "cell_type": "code",
   "execution_count": 13,
   "metadata": {},
   "outputs": [],
   "source": [
    "NUM_CLASSES = 10\n",
    "\n",
    "input_shape = training_data[0][0].shape\n",
    "output_shape = training_data[0][1].shape"
   ]
  },
  {
   "cell_type": "code",
   "execution_count": 14,
   "metadata": {},
   "outputs": [],
   "source": [
    "loc = 0.5\n",
    "scale = 0.3"
   ]
  },
  {
   "cell_type": "code",
   "execution_count": 31,
   "metadata": {},
   "outputs": [],
   "source": [
    "def nonTargetedAdversarial(net, n, steps, eta):\n",
    "    \"\"\"\n",
    "    net : network object\n",
    "        neural network instance to use\n",
    "    n : integer\n",
    "        our goal label (just an int, the function transforms it into a one-hot vector)\n",
    "    steps : integer\n",
    "        number of steps for gradient descent\n",
    "    eta : float\n",
    "        step size for gradient descent\n",
    "    \"\"\"\n",
    "\n",
    "    ####### Enter your code below #######\n",
    "\n",
    "    # Set the goal output\n",
    "    goal = np.zeros(output_shape)\n",
    "    goal[n] = 1\n",
    "\n",
    "    # Create a random image to initialize gradient descent with\n",
    "    x = np.random.normal(loc=loc, scale=scale, size=input_shape)\n",
    "\n",
    "    # Gradient descent on the input\n",
    "    for i in range(steps):\n",
    "        # Calculate the derivative\n",
    "        dx = input_derivative(net, x, goal)\n",
    "\n",
    "        # The GD update on x\n",
    "        x -= eta * dx\n",
    "\n",
    "    return x\n",
    "\n",
    "\n",
    "# Wrapper function \n",
    "def generate(n):\n",
    "    \"\"\"\n",
    "    n : integer\n",
    "        goal label (not a one hot vector)\n",
    "    \"\"\"\n",
    "\n",
    "    ####### Enter your code below #######\n",
    "\n",
    "    # Find the vector x with the above function that you just wrote.\n",
    "    a = nonTargetedAdversarial(net, n, 100, 1e-2)\n",
    "\n",
    "    # Pass the generated image (vector) to the neural network. Perform a forward pass, and get the prediction.\n",
    "    x = net.feedforward(a)\n",
    "\n",
    "    print('Network Output: \\n' + str(x) + '\\n')\n",
    "\n",
    "    print('Network Prediction: ' + str(np.argmax(x)) + '\\n')\n",
    "\n",
    "    print('Adversarial Example: ')\n",
    "\n",
    "    plt.imshow(a.reshape(28, 28), cmap='Greys')"
   ]
  },
  {
   "cell_type": "markdown",
   "metadata": {},
   "source": [
    "Now let's generate some adversarial examples! Use the function provided to mess around with the neural network. (For some inputs gradient descent doesn't always converge; 0 and 5 seem to work pretty well though. I suspect convergence is very highly dependent on our choice of random initial $ \\vec x $. We'll see later in the notebook if we force the adversarial example to \"look like\" a handwritten digit, convergence is much more likely. In a sense we will be adding regularization to our generation process)."
   ]
  },
  {
   "cell_type": "code",
   "execution_count": 32,
   "metadata": {},
   "outputs": [
    {
     "name": "stdout",
     "output_type": "stream",
     "text": [
      "Network Output: \n",
      "[[6.82115241e-13]\n",
      " [1.10302727e-09]\n",
      " [9.83942374e-01]\n",
      " [1.24413298e-03]\n",
      " [2.97708094e-08]\n",
      " [2.52743361e-08]\n",
      " [1.70658684e-03]\n",
      " [1.08394569e-11]\n",
      " [1.83097579e-05]\n",
      " [1.82196528e-05]]\n",
      "\n",
      "Network Prediction: 2\n",
      "\n",
      "Adversarial Example: \n"
     ]
    },
    {
     "data": {
      "text/plain": "<Figure size 640x480 with 1 Axes>",
      "image/png": "[encoded data removed]"
     },
     "metadata": {},
     "output_type": "display_data"
    }
   ],
   "source": [
    "generate(2)"
   ]
  },
  {
   "cell_type": "markdown",
   "metadata": {},
   "source": [
    "## (b) Targeted Attack(s)"
   ]
  },
  {
   "cell_type": "markdown",
   "metadata": {},
   "source": [
    "Sweet! We've just managed to create an image that looks utterly meaningless to a human, but the neural network thinks is a '5' with very high certainty. We can actually take this a bit further. Let's generate an image that looks like one number, but the neural network is certain is another. To do this we will modify our cost function a bit. Instead of just optimizing the input image, $ \\vec x $, to get a desired output label, we'll also optimize the input to look like a certain image, $ \\vec x_{target} $, at the same time. Our new cost function will be\n",
    "\n",
    "$$ C = \\|\\vec y_{goal} - y_{hat}(\\vec x)\\|^2_2 + \\lambda \\|\\vec x - \\vec x_{target}\\|^2_2 $$\n",
    "\n",
    "The added term tells us the distance from our $ \\vec x $ and some $ \\vec x_{target} $ (which is the image we want our adversarial example to look like). Because we want to minimize $ C $, we also want to minimize the distance between our adversarial example and this image. The $ \\lambda $ is hyperparameter that we can tune; it determines which is more important: optimizing for the desired output or optimizing for an image that looks like $ \\vec x_{target} $.\n",
    "\n",
    "If you are familiar with ridge regularization, the above cost function might look suspiciously like the ridge regression cost function. In fact, we can view this generation method as giving our model a prior, centered on our target image.\n",
    "\n",
    "Here is a function that implements optimizing the modified cost function, called `sneaky_adversarial` (because it is very sneaky). Note that the only difference between this function and `adversarial` is an additional term on the gradient descent update for the regularization term:"
   ]
  },
  {
   "cell_type": "code",
   "execution_count": 17,
   "metadata": {},
   "outputs": [],
   "source": [
    "# Probably include a question on why not generate an image of 5, instead of having to find the vector x using \n",
    "# gradient based optimization methods. (as in the above case)"
   ]
  },
  {
   "cell_type": "code",
   "execution_count": 18,
   "metadata": {},
   "outputs": [],
   "source": [
    "def targetedAdversarial(net, n, x_target, steps, eta, lam=.05):\n",
    "    \"\"\"\n",
    "    net : network object\n",
    "        neural network instance to use\n",
    "    n : integer\n",
    "        our goal label (just an int, the function transforms it into a one-hot vector)\n",
    "    x_target : numpy vector\n",
    "        our goal image for the adversarial example\n",
    "    steps : integer\n",
    "        number of steps for gradient descent\n",
    "    eta : float\n",
    "        step size for gradient descent\n",
    "    lam : float\n",
    "        lambda, our regularization parameter. Default is .05\n",
    "    \"\"\"\n",
    "\n",
    "    # Set the goal output\n",
    "    goal = np.zeros(shape=output_shape)\n",
    "    goal[n] = 1\n",
    "\n",
    "    # Create a random image to initialize gradient descent with\n",
    "    x = np.random.normal(loc=loc, scale=scale, size=input_shape)\n",
    "\n",
    "    # Gradient descent on the input\n",
    "    for i in range(steps):\n",
    "        # Calculate the derivative\n",
    "        dx = input_derivative(net, x, goal)\n",
    "\n",
    "        # The GD update on x, with an added penalty to the cost function\n",
    "        x -= eta * (dx + lam * (x - x_target))\n",
    "\n",
    "    return x\n",
    "\n",
    "\n",
    "# Wrapper function\n",
    "def generate_advSample(n, m):\n",
    "    \"\"\"\n",
    "    n: int 0-9, the target number to match\n",
    "    m: index of example image to use (from the test set)\n",
    "    \"\"\"\n",
    "\n",
    "    # Find random instance of m in test set\n",
    "    idx = np.random.randint(0, 8000)\n",
    "    while test_data[idx][1] != m:\n",
    "        idx += 1\n",
    "\n",
    "    # Hardcode the parameters for the wrapper function\n",
    "    a = targetedAdversarial(net, n, test_data[idx][0], 100, 1)\n",
    "    x = np.round(net.feedforward(a), 2)\n",
    "\n",
    "    print('\\nWhat we want our adversarial example to look like: ')\n",
    "    plt.imshow(test_data[idx][0].reshape((28, 28)), cmap='Greys')\n",
    "    plt.show()\n",
    "\n",
    "    print('\\n')\n",
    "\n",
    "    print('Adversarial Example: ')\n",
    "\n",
    "    plt.imshow(a.reshape(28, 28), cmap='Greys')\n",
    "    plt.show()\n",
    "\n",
    "    print('Network Prediction: ' + str(np.argmax(x)) + '\\n')\n",
    "\n",
    "    print('Network Output: \\n' + str(x) + '\\n')\n",
    "\n",
    "    return a"
   ]
  },
  {
   "cell_type": "markdown",
   "metadata": {},
   "source": [
    "Play around with this function to make \"sneaky\" adversarial examples! (Again, some numbers converge better than others... try 0, 2, 3, 5, 6, or 8 as a target label. 1, 4, 7, and 9 still don't work as well... no idea why... We get more numbers that converge because we've added regularization term to our cost function. Perhaps changing $ \\lambda $ will get more to converge?)"
   ]
  },
  {
   "cell_type": "code",
   "execution_count": 19,
   "metadata": {},
   "outputs": [
    {
     "name": "stdout",
     "output_type": "stream",
     "text": [
      "\n",
      "What we want our adversarial example to look like: \n"
     ]
    },
    {
     "data": {
      "image/png": "[encoded data removed]",
      "text/plain": [
       "<Figure size 640x480 with 1 Axes>"
      ]
     },
     "metadata": {},
     "output_type": "display_data"
    },
    {
     "name": "stdout",
     "output_type": "stream",
     "text": [
      "\n",
      "\n",
      "Adversarial Example: \n"
     ]
    },
    {
     "data": {
      "image/png": "[encoded data removed]",
      "text/plain": [
       "<Figure size 640x480 with 1 Axes>"
      ]
     },
     "metadata": {},
     "output_type": "display_data"
    },
    {
     "name": "stdout",
     "output_type": "stream",
     "text": [
      "Network Prediction: 8\n",
      "\n",
      "Network Output: \n",
      "[[0.  ]\n",
      " [0.  ]\n",
      " [0.02]\n",
      " [0.  ]\n",
      " [0.  ]\n",
      " [0.  ]\n",
      " [0.  ]\n",
      " [0.  ]\n",
      " [0.99]\n",
      " [0.  ]]\n",
      "\n"
     ]
    }
   ],
   "source": [
    "# generate_advSample(target label, target digit)\n",
    "adv_ex = generate_advSample(8, 2)"
   ]
  },
  {
   "cell_type": "markdown",
   "metadata": {},
   "source": [
    "## (c) Protection against adversarial attacks"
   ]
  },
  {
   "cell_type": "raw",
   "metadata": {},
   "source": [
    "Awesome! We’ve just created images that trick neural networks. The next question we could ask is whether or not we could protect against these kinds of attacks. If you look closely at the original images and the adversarial examples you’ll see that the adversarial examples have some sort of grey tinged background."
   ]
  },
  {
   "cell_type": "markdown",
   "metadata": {},
   "source": [
    "So how could we protect against these adversarial attacks? One very simple way would be to use binary thresholding. Set a pixel as completely black or completely white depending on a threshold. This should remove the \"noise\" that's always present in the adversarial images. Let's see if it works:"
   ]
  },
  {
   "cell_type": "code",
   "execution_count": 26,
   "metadata": {},
   "outputs": [],
   "source": [
    "def simple_defense(n, m):\n",
    "    \"\"\"\n",
    "    n: int 0-9, the target number to match\n",
    "    m: index of example image to use (from the test set)\n",
    "    \"\"\"\n",
    "\n",
    "    # Generate an adversarial sample.\n",
    "    x = generate_advSample(n, m)\n",
    "\n",
    "    # Perform binary thresholding on the generated sample. You can choose the threshold as 0.5.\n",
    "    threshold = 0.6\n",
    "\n",
    "    print(\"With binary thresholding: \")\n",
    "    x = np.where(x < threshold, 0, 1)\n",
    "\n",
    "    # Plot a grayscale image of the binarized generated sample.\n",
    "    plt.imshow(x.reshape(28, 28), cmap='Greys')\n",
    "\n",
    "    # Print the network's predictions.\n",
    "    prediction = net.feedforward(x)\n",
    "    print(\"Prediction with binary thresholding: \" + str(np.argmax(prediction)) + '\\n')\n",
    "\n",
    "    # The output of the network.\n",
    "    print(\"Network output: \")\n",
    "    print(prediction)"
   ]
  },
  {
   "cell_type": "code",
   "execution_count": 30,
   "metadata": {},
   "outputs": [
    {
     "name": "stdout",
     "output_type": "stream",
     "text": [
      "\n",
      "What we want our adversarial example to look like: \n"
     ]
    },
    {
     "data": {
      "image/png": "[encoded data removed]",
      "text/plain": [
       "<Figure size 640x480 with 1 Axes>"
      ]
     },
     "metadata": {},
     "output_type": "display_data"
    },
    {
     "name": "stdout",
     "output_type": "stream",
     "text": [
      "\n",
      "\n",
      "Adversarial Example: \n"
     ]
    },
    {
     "data": {
      "image/png": "[encoded data removed]",
      "text/plain": [
       "<Figure size 640x480 with 1 Axes>"
      ]
     },
     "metadata": {},
     "output_type": "display_data"
    },
    {
     "name": "stdout",
     "output_type": "stream",
     "text": [
      "Network Prediction: 0\n",
      "\n",
      "Network Output: \n",
      "[[0.99]\n",
      " [0.  ]\n",
      " [0.  ]\n",
      " [0.01]\n",
      " [0.  ]\n",
      " [0.  ]\n",
      " [0.  ]\n",
      " [0.  ]\n",
      " [0.  ]\n",
      " [0.  ]]\n",
      "\n",
      "With binary thresholding: \n",
      "Prediction with binary thresholding: 3\n",
      "\n",
      "Network output: \n",
      "[[5.09190468e-06]\n",
      " [9.64751699e-10]\n",
      " [1.13257468e-07]\n",
      " [9.99993806e-01]\n",
      " [7.24936694e-09]\n",
      " [8.74248503e-07]\n",
      " [7.54132830e-09]\n",
      " [5.16329314e-09]\n",
      " [2.37990919e-10]\n",
      " [3.94959552e-13]]\n"
     ]
    },
    {
     "data": {
      "image/png": "[encoded data removed]",
      "text/plain": [
       "<Figure size 640x480 with 1 Axes>"
      ]
     },
     "metadata": {},
     "output_type": "display_data"
    }
   ],
   "source": [
    "# binary_thresholding(target digit, actual digit)\n",
    "simple_defense(0, 3)"
   ]
  },
  {
   "cell_type": "markdown",
   "metadata": {},
   "source": [
    "Looks like it works pretty well! However, note that most adversarial attacks, especially on convolutional neural networks trained on massive full color image sets such as imagenet, can't be defended against by a simple binary threshold."
   ]
  },
  {
   "cell_type": "code",
   "execution_count": null,
   "metadata": {},
   "outputs": [],
   "source": []
  }
 ],
 "metadata": {
  "kernelspec": {
   "display_name": "Python 3 (ipykernel)",
   "language": "python",
   "name": "python3"
  },
  "language_info": {
   "codemirror_mode": {
    "name": "ipython",
    "version": 3
   },
   "file_extension": ".py",
   "mimetype": "text/x-python",
   "name": "python",
   "nbconvert_exporter": "python",
   "pygments_lexer": "ipython3",
   "version": "3.10.6"
  },
  "vscode": {
   "interpreter": {
    "hash": "1c9f439cdf62a9ebb07dc2af8d7bf220d77eb850c07d6f9df42203b0fbcb22d6"
   }
  }
 },
 "nbformat": 4,
 "nbformat_minor": 2
}
