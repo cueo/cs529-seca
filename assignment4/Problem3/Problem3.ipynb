{
 "cells": [
  {
   "cell_type": "code",
   "execution_count": 52,
   "metadata": {
    "pycharm": {
     "name": "#%%\n"
    }
   },
   "outputs": [],
   "source": [
    "# Imports.\n",
    "import random\n",
    "import network.network as Network\n",
    "import network.mnist_loader as mnist_loader\n",
    "import pickle\n",
    "import matplotlib.pyplot as plt\n",
    "import numpy as np\n",
    "\n",
    "# Set the random seed. DO NOT CHANGE THIS!\n",
    "seedVal = 41\n",
    "random.seed(seedVal)\n",
    "np.random.seed(seedVal)\n",
    "\n",
    "%matplotlib inline"
   ]
  },
  {
   "cell_type": "markdown",
   "metadata": {
    "pycharm": {
     "name": "#%% md\n"
    }
   },
   "source": [
    "Use a pre-trained network. It has been saved as a pickle file. Load the model, and continue.\n",
    "The network has only one hidden layer of 30 units, 784 input units (MNIST images are $ 28 \\times 28 = 784 $ pixels large), and 10 output units. All the activations are sigmoidal."
   ]
  },
  {
   "cell_type": "code",
   "execution_count": 53,
   "metadata": {
    "pycharm": {
     "name": "#%%\n"
    }
   },
   "outputs": [],
   "source": [
    "# Load the pre-trained model.\n",
    "with open('network/trained_network.pkl', 'rb') as f:\n",
    "    u = pickle._Unpickler(f)\n",
    "    u.encoding = 'latin1'\n",
    "    net = u.load()\n",
    "\n",
    "# Helpful function to load the MNIST data.\n",
    "training_data, validation_data, test_data = mnist_loader.load_data_wrapper()"
   ]
  },
  {
   "cell_type": "markdown",
   "metadata": {
    "pycharm": {
     "name": "#%% md\n"
    }
   },
   "source": [
    "The neural network is pretrained, so it should already be set up to predict characters. Run `predict(n)` to evaluate the $ n^{th} $ digit in the test set using the network. You should see that even this relatively simple network works really well (~97% accuracy). The output of the network is a one-hot vector indicating the network's predictions:"
   ]
  },
  {
   "cell_type": "code",
   "execution_count": 54,
   "metadata": {
    "pycharm": {
     "name": "#%%\n"
    }
   },
   "outputs": [
    {
     "name": "stdout",
     "output_type": "stream",
     "text": [
      "Network output: \n",
      "[[0.]\n",
      " [0.]\n",
      " [0.]\n",
      " [0.]\n",
      " [0.]\n",
      " [0.]\n",
      " [0.]\n",
      " [0.]\n",
      " [1.]\n",
      " [0.]]\n",
      "\n",
      "Network prediction: 8\n",
      "\n",
      "Actual image: \n"
     ]
    },
    {
     "data": {
      "text/plain": "<Figure size 640x480 with 1 Axes>",
      "image/png": "[encoded data removed]"
     },
     "metadata": {},
     "output_type": "display_data"
    }
   ],
   "source": [
    "def predict(n):\n",
    "    # Get the data from the test set\n",
    "    x = test_data[n][0]\n",
    "    \n",
    "    # Print the prediction of the network\n",
    "    print('Network output: \\n' + str(np.round(net.feedforward(x), 2)) + '\\n')\n",
    "    print('Network prediction: ' + str(np.argmax(net.feedforward(x))) + '\\n')\n",
    "    print('Actual image: ')\n",
    "    \n",
    "    # Draw the image\n",
    "    plt.imshow(x.reshape((28,28)), cmap='Greys')\n",
    "\n",
    "# Replace the argument with any number between 0 and 9999\n",
    "predict(8384)"
   ]
  },
  {
   "cell_type": "markdown",
   "metadata": {
    "pycharm": {
     "name": "#%% md\n"
    }
   },
   "source": [
    "To actually generate adversarial examples we solve a minimization problem. We do this by setting a \"goal\" label called $ \\vec y_{goal} $ (for instance, if we wanted the network to think the adversarial image is an 8, then we would choose $ \\vec y_{goal} $ to be a one-hot vector with the eighth entry being 1). Now we define a cost function:\n",
    "\n",
    "$$ C = \\frac{1}{2} \\|\\vec y_{goal} - \\hat y(\\vec x)\\|^2_2 $$\n",
    "\n",
    "where $ \\| \\cdot \\|^2_2 $ is the squared Euclidean norm and $ \\hat y $ is the network's output. It is a function of $ \\vec x $, the input image to the network, so we write $ \\hat y(\\vec x) $. Our goal is to find an $ \\vec x $ such that $ C $ is minimized. Hopefully this makes sense, because if we find an image $ \\vec x $ that minimizes $ C $ then that means the output of the network when given $ \\vec x $ is close to our desired output, $ \\vec y_{goal} $. So in full mathy language, our optimization problem is:\n",
    "\n",
    "$$ \\arg \\min_{\\vec x} C(\\vec x) $$\n",
    "\n",
    "that is, find the $ \\vec x $ that minimizes the cost $ C $.\n",
    "\n",
    "To actually do this we can do gradient descent on $ C $. Start with an initially random vector $ \\vec x $ and take steps (changing $ \\vec x $) gradually in the direction opposite of the gradient $ \\nabla_x C $. To actually get these derivatives we can perform backpropagation on the network. In contrast to training a network, where we perform gradient descent on the weights and biases, when we create adversarial examples we hold the weights and biases constant (because we don't want to change the network!), and change the inputs to our network."
   ]
  },
  {
   "cell_type": "markdown",
   "metadata": {
    "pycharm": {
     "name": "#%% md\n"
    }
   },
   "source": [
    "Helper functions to evaluate the non-linearity and it's derivative:"
   ]
  },
  {
   "cell_type": "code",
   "execution_count": 55,
   "metadata": {
    "pycharm": {
     "name": "#%%\n"
    }
   },
   "outputs": [],
   "source": [
    "def sigmoid(z):\n",
    "    \"\"\"The sigmoid function.\"\"\"\n",
    "    return 1.0/(1.0+np.exp(-z))\n",
    "                                                                                                                                                                                \n",
    "def sigmoid_prime(z):\n",
    "    \"\"\"Derivative of the sigmoid function.\"\"\"\n",
    "    return sigmoid(z)*(1-sigmoid(z))"
   ]
  },
  {
   "cell_type": "markdown",
   "metadata": {
    "pycharm": {
     "name": "#%% md\n"
    }
   },
   "source": [
    "Also, a function to find the gradient derivatives of the cost function, $ \\nabla_x C $ with respect to the input $ \\vec x $, with a goal label of $ \\vec y_{goal} $. (Don't worry too much about the implementation, just know it calculates derivatives)."
   ]
  },
  {
   "cell_type": "code",
   "execution_count": 56,
   "metadata": {
    "pycharm": {
     "name": "#%%\n"
    }
   },
   "outputs": [],
   "source": [
    "def input_derivative(net, x, y):\n",
    "    \"\"\" Calculate derivatives wrt the inputs\"\"\"\n",
    "    nabla_b = [np.zeros(b.shape) for b in net.biases]\n",
    "    nabla_w = [np.zeros(w.shape) for w in net.weights]\n",
    "    \n",
    "    # feedforward\n",
    "    activation = x\n",
    "    activations = [x] # list to store all the activations, layer by layer\n",
    "    zs = [] # list to store all the z vectors, layer by layer\n",
    "    for b, w in zip(net.biases, net.weights):\n",
    "        z = np.dot(w, activation)+b\n",
    "        zs.append(z)\n",
    "        activation = sigmoid(z)\n",
    "        activations.append(activation)\n",
    "        \n",
    "    # backward pass\n",
    "    delta = net.cost_derivative(activations[-1], y) * \\\n",
    "        sigmoid_prime(zs[-1])\n",
    "    nabla_b[-1] = delta\n",
    "    nabla_w[-1] = np.dot(delta, activations[-2].transpose())\n",
    "\n",
    "    for l in range(2, net.num_layers):\n",
    "        z = zs[-l]\n",
    "        sp = sigmoid_prime(z)\n",
    "        delta = np.dot(net.weights[-l+1].transpose(), delta) * sp\n",
    "        nabla_b[-l] = delta\n",
    "        nabla_w[-l] = np.dot(delta, activations[-l-1].transpose())\n",
    "        \n",
    "    # Return derivatives WRT to input\n",
    "    return net.weights[0].T.dot(delta)"
   ]
  },
  {
   "cell_type": "markdown",
   "metadata": {
    "pycharm": {
     "name": "#%% md\n"
    }
   },
   "source": [
    "The actual function that generates adversarial examples and a wrapper function:"
   ]
  },
  {
   "cell_type": "markdown",
   "metadata": {
    "pycharm": {
     "name": "#%% md\n"
    }
   },
   "source": [
    "## (a) Non Targeted Attack"
   ]
  },
  {
   "cell_type": "code",
   "execution_count": 57,
   "metadata": {
    "pycharm": {
     "name": "#%%\n"
    }
   },
   "outputs": [],
   "source": [
    "def nonTargetedAdversarial(net, n, steps, eta):\n",
    "    \"\"\"\n",
    "    net : network object\n",
    "        neural network instance to use\n",
    "    n : integer\n",
    "        our goal label (just an int, the function transforms it into a one-hot vector)\n",
    "    steps : integer\n",
    "        number of steps for gradient descent\n",
    "    eta : float\n",
    "        step size for gradient descent\n",
    "    \"\"\"\n",
    "    \n",
    "    ####### Enter your code below #######\n",
    "    \n",
    "    # Set the goal output\n",
    "    goal = np.zeros((10, 1))\n",
    "    goal[n] = 1\n",
    "\n",
    "    # Create a random image to initialize gradient descent with\n",
    "    x = np.random.normal(.5, .2, (28 * 28, 1))\n",
    "    \n",
    "    # Gradient descent on the input\n",
    "    for i in range(steps):\n",
    "        # Calculate the derivative\n",
    "        dx = input_derivative(net, x, goal)\n",
    "        # The GD update on x\n",
    "        x -= eta * dx\n",
    "\n",
    "            \n",
    "    return x\n",
    "\n",
    "\n",
    "# Wrapper function \n",
    "def generate(n):\n",
    "    \"\"\"\n",
    "    n : integer\n",
    "        goal label (not a one hot vector)\n",
    "    \"\"\"\n",
    "    \n",
    "    ####### Enter your code below #######\n",
    "    \n",
    "    # Find the vector x with the above function that you just wrote.\n",
    "    a = nonTargetedAdversarial(net, n, 1000, 0.01)\n",
    "\n",
    "    # Pass the generated image (vector) to the neural network. Perform a forward pass, and get the prediction.\n",
    "    x = net.feedforward(a)\n",
    "\n",
    "    print('Network Output: \\n' + str(x) + '\\n')\n",
    "    \n",
    "    print('Network Prediction: ' + str(np.argmax(x)) + '\\n')\n",
    "    \n",
    "    print('Adversarial Example: ')\n",
    "    \n",
    "    plt.imshow(a.reshape(28,28), cmap='Greys')"
   ]
  },
  {
   "cell_type": "markdown",
   "metadata": {
    "pycharm": {
     "name": "#%% md\n"
    }
   },
   "source": [
    "Now let's generate some adversarial examples! Use the function provided to mess around with the neural network. (For some inputs gradient descent doesn't always converge; 0 and 5 seem to work pretty well though. I suspect convergence is very highly dependent on our choice of random initial $ \\vec x $. We'll see later in the notebook if we force the adversarial example to \"look like\" a handwritten digit, convergence is much more likely. In a sense we will be adding regularization to our generation process)."
   ]
  },
  {
   "cell_type": "code",
   "execution_count": 58,
   "metadata": {
    "pycharm": {
     "name": "#%%\n"
    }
   },
   "outputs": [
    {
     "name": "stdout",
     "output_type": "stream",
     "text": [
      "Network Output: \n",
      "[[4.10969498e-10]\n",
      " [1.46515033e-10]\n",
      " [9.66922628e-01]\n",
      " [8.06591825e-04]\n",
      " [2.79663275e-08]\n",
      " [1.45347925e-08]\n",
      " [6.87610353e-05]\n",
      " [1.75296909e-09]\n",
      " [3.22586146e-05]\n",
      " [1.09116090e-09]]\n",
      "\n",
      "Network Prediction: 2\n",
      "\n",
      "Adversarial Example: \n"
     ]
    },
    {
     "data": {
      "text/plain": "<Figure size 640x480 with 1 Axes>",
      "image/png": "[encoded data removed]"
     },
     "metadata": {},
     "output_type": "display_data"
    }
   ],
   "source": [
    "generate(2)"
   ]
  },
  {
   "cell_type": "markdown",
   "metadata": {
    "pycharm": {
     "name": "#%% md\n"
    }
   },
   "source": [
    "## (b) Targeted Attack(s)"
   ]
  },
  {
   "cell_type": "markdown",
   "metadata": {
    "pycharm": {
     "name": "#%% md\n"
    }
   },
   "source": [
    "Sweet! We've just managed to create an image that looks utterly meaningless to a human, but the neural network thinks is a '5' with very high certainty. We can actually take this a bit further. Let's generate an image that looks like one number, but the neural network is certain is another. To do this we will modify our cost function a bit. Instead of just optimizing the input image, $ \\vec x $, to get a desired output label, we'll also optimize the input to look like a certain image, $ \\vec x_{target} $, at the same time. Our new cost function will be\n",
    "\n",
    "$$ C = \\|\\vec y_{goal} - y_{hat}(\\vec x)\\|^2_2 + \\lambda \\|\\vec x - \\vec x_{target}\\|^2_2 $$\n",
    "\n",
    "The added term tells us the distance from our $ \\vec x $ and some $ \\vec x_{target} $ (which is the image we want our adversarial example to look like). Because we want to minimize $ C $, we also want to minimize the distance between our adversarial example and this image. The $ \\lambda $ is hyperparameter that we can tune; it determines which is more important: optimizing for the desired output or optimizing for an image that looks like $ \\vec x_{target} $.\n",
    "\n",
    "If you are familiar with ridge regularization, the above cost function might look suspiciously like the ridge regression cost function. In fact, we can view this generation method as giving our model a prior, centered on our target image.\n",
    "\n",
    "Here is a function that implements optimizing the modified cost function, called `sneaky_adversarial` (because it is very sneaky). Note that the only difference between this function and `adversarial` is an additional term on the gradient descent update for the regularization term:"
   ]
  },
  {
   "cell_type": "code",
   "execution_count": 59,
   "metadata": {
    "pycharm": {
     "name": "#%%\n"
    }
   },
   "outputs": [],
   "source": [
    "def targetedAdversarial(net, n, x_target, steps, eta, lam=.05):\n",
    "    \"\"\"\n",
    "    net : network object\n",
    "        neural network instance to use\n",
    "    n : integer\n",
    "        our goal label (just an int, the function transforms it into a one-hot vector)\n",
    "    x_target : numpy vector\n",
    "        our goal image for the adversarial example\n",
    "    steps : integer\n",
    "        number of steps for gradient descent\n",
    "    eta : float\n",
    "        step size for gradient descent\n",
    "    lam : float\n",
    "        lambda, our regularization parameter. Default is .05\n",
    "    \"\"\"\n",
    "    \n",
    "    # Set the goal output\n",
    "    goal = np.zeros((10, 1))\n",
    "    goal[n] = 1\n",
    "    \n",
    "    # Create a random image to initialize gradient descent with\n",
    "    x = np.random.normal(.5, .2, (28 * 28, 1))\n",
    "\n",
    "    # Gradient descent on the input\n",
    "    for i in range(steps):\n",
    "        \n",
    "        # Calculate the derivative\n",
    "        dx = input_derivative(net, x, goal)\n",
    "        \n",
    "        # The GD update on x, with an added penalty to the cost function\n",
    "        x -= eta * (dx + lam * (x - x_target))\n",
    "\n",
    "    return x\n",
    "\n",
    "# Wrapper function\n",
    "def generate_advSample(n, m):\n",
    "    \"\"\"\n",
    "    n: int 0-9, the target number to match\n",
    "    m: index of example image to use (from the test set)\n",
    "    \"\"\"\n",
    "    \n",
    "    # Find random instance of m in test set\n",
    "    idx = np.random.randint(0,8000)\n",
    "    while test_data[idx][1] != m:\n",
    "        idx += 1\n",
    "    \n",
    "    # Hardcode the parameters for the wrapper function\n",
    "    a = targetedAdversarial(net, n, test_data[idx][0], 100, 1)\n",
    "    x = np.round(net.feedforward(a), 2)\n",
    "    \n",
    "    print('\\nWhat we want our adversarial example to look like: ')\n",
    "    plt.imshow(test_data[idx][0].reshape((28,28)), cmap='Greys')\n",
    "    plt.show()\n",
    "    \n",
    "    print('\\n')\n",
    "    \n",
    "    print('Adversarial Example: ')\n",
    "    \n",
    "    plt.imshow(a.reshape(28,28), cmap='Greys')\n",
    "    plt.show()\n",
    "    \n",
    "    print('Network Prediction: ' + str(np.argmax(x)) + '\\n')\n",
    "    \n",
    "    print('Network Output: \\n' + str(x) + '\\n')\n",
    "    \n",
    "    return a"
   ]
  },
  {
   "cell_type": "markdown",
   "metadata": {
    "pycharm": {
     "name": "#%% md\n"
    }
   },
   "source": [
    "Play around with this function to make \"sneaky\" adversarial examples! (Again, some numbers converge better than others... try 0, 2, 3, 5, 6, or 8 as a target label. 1, 4, 7, and 9 still don't work as well... no idea why... We get more numbers that converge because we've added regularization term to our cost function. Perhaps changing $ \\lambda $ will get more to converge?)"
   ]
  },
  {
   "cell_type": "code",
   "execution_count": 60,
   "metadata": {
    "pycharm": {
     "name": "#%%\n"
    }
   },
   "outputs": [
    {
     "name": "stdout",
     "output_type": "stream",
     "text": [
      "\n",
      "What we want our adversarial example to look like: \n"
     ]
    },
    {
     "data": {
      "text/plain": "<Figure size 640x480 with 1 Axes>",
      "image/png": "[encoded data removed]"
     },
     "metadata": {},
     "output_type": "display_data"
    },
    {
     "name": "stdout",
     "output_type": "stream",
     "text": [
      "\n",
      "\n",
      "Adversarial Example: \n"
     ]
    },
    {
     "data": {
      "text/plain": "<Figure size 640x480 with 1 Axes>",
      "image/png": "[encoded data removed]"
     },
     "metadata": {},
     "output_type": "display_data"
    },
    {
     "name": "stdout",
     "output_type": "stream",
     "text": [
      "Network Prediction: 8\n",
      "\n",
      "Network Output: \n",
      "[[0.  ]\n",
      " [0.  ]\n",
      " [0.01]\n",
      " [0.  ]\n",
      " [0.  ]\n",
      " [0.  ]\n",
      " [0.  ]\n",
      " [0.  ]\n",
      " [0.99]\n",
      " [0.  ]]\n",
      "\n"
     ]
    }
   ],
   "source": [
    "# generate_advSample(target label, target digit)\n",
    "adv_ex = generate_advSample(8, 2)"
   ]
  },
  {
   "cell_type": "markdown",
   "metadata": {
    "pycharm": {
     "name": "#%% md\n"
    }
   },
   "source": [
    "## (c) Protection against adversarial attacks"
   ]
  },
  {
   "cell_type": "markdown",
   "metadata": {
    "pycharm": {
     "name": "#%% md\n"
    }
   },
   "source": [
    "Awesome! We’ve just created images that trick neural networks. The next question we could ask is whether or not we could protect against these kinds of attacks. If you look closely at the original images and the adversarial examples you’ll see that the adversarial examples have some sort of grey tinged background."
   ]
  },
  {
   "cell_type": "markdown",
   "metadata": {
    "pycharm": {
     "name": "#%% md\n"
    }
   },
   "source": [
    "So how could we protect against these adversarial attacks? One very simple way would be to use binary thresholding. Set a pixel as completely black or completely white depending on a threshold. This should remove the \"noise\" that's always present in the adversarial images. Let's see if it works:"
   ]
  },
  {
   "cell_type": "code",
   "execution_count": 61,
   "metadata": {
    "pycharm": {
     "name": "#%%\n"
    }
   },
   "outputs": [],
   "source": [
    "def simple_defense(n, m):\n",
    "    \"\"\"\n",
    "    n: int 0-9, the target number to match\n",
    "    m: index of example image to use (from the test set)\n",
    "    \"\"\"\n",
    "    \n",
    "    # Generate an adversarial sample.\n",
    "    x = generate_advSample(n, m)\n",
    "    \n",
    "    # Perform binary thresholding on the generated sample. You can choose the threshold as 0.5.\n",
    "    x = np.where(x >= 0.5, 1, 0)\n",
    "\n",
    "    print(\"With binary thresholding: \")\n",
    "    \n",
    "    # Plot a grayscale image of the binarized generated sample.\n",
    "    plt.imshow(x.reshape(28,28), cmap='Greys')\n",
    "    plt.show()\n",
    "\n",
    "    # Print the network's predictions.\n",
    "    y = net.feedforward(x)\n",
    "    output = np.argmax(y)\n",
    "    print(f'Prediction with binary thresholding: {output}\\n')\n",
    "\n",
    "    # The output of the network.\n",
    "    print(\"Network output: \")\n",
    "    print(y)"
   ]
  },
  {
   "cell_type": "code",
   "execution_count": 62,
   "metadata": {
    "pycharm": {
     "name": "#%%\n"
    }
   },
   "outputs": [
    {
     "name": "stdout",
     "output_type": "stream",
     "text": [
      "\n",
      "What we want our adversarial example to look like: \n"
     ]
    },
    {
     "data": {
      "text/plain": "<Figure size 640x480 with 1 Axes>",
      "image/png": "[encoded data removed]"
     },
     "metadata": {},
     "output_type": "display_data"
    },
    {
     "name": "stdout",
     "output_type": "stream",
     "text": [
      "\n",
      "\n",
      "Adversarial Example: \n"
     ]
    },
    {
     "data": {
      "text/plain": "<Figure size 640x480 with 1 Axes>",
      "image/png": "[encoded data removed]"
     },
     "metadata": {},
     "output_type": "display_data"
    },
    {
     "name": "stdout",
     "output_type": "stream",
     "text": [
      "Network Prediction: 2\n",
      "\n",
      "Network Output: \n",
      "[[0.  ]\n",
      " [0.  ]\n",
      " [0.94]\n",
      " [0.04]\n",
      " [0.  ]\n",
      " [0.  ]\n",
      " [0.  ]\n",
      " [0.  ]\n",
      " [0.  ]\n",
      " [0.  ]]\n",
      "\n",
      "With binary thresholding: \n"
     ]
    },
    {
     "data": {
      "text/plain": "<Figure size 640x480 with 1 Axes>",
      "image/png": "[encoded data removed]"
     },
     "metadata": {},
     "output_type": "display_data"
    },
    {
     "name": "stdout",
     "output_type": "stream",
     "text": [
      "Prediction with binary thresholding: 3\n",
      "\n",
      "Network output: \n",
      "[[5.13424481e-13]\n",
      " [7.31152363e-08]\n",
      " [2.88286118e-08]\n",
      " [9.99626561e-01]\n",
      " [2.46584251e-07]\n",
      " [5.03115583e-06]\n",
      " [1.18579686e-08]\n",
      " [1.10676616e-09]\n",
      " [6.35920468e-04]\n",
      " [4.02396157e-08]]\n"
     ]
    }
   ],
   "source": [
    "# binary_thresholding(target digit, actual digit)\n",
    "simple_defense(2, 3)"
   ]
  },
  {
   "cell_type": "markdown",
   "metadata": {
    "pycharm": {
     "name": "#%% md\n"
    }
   },
   "source": [
    "Looks like it works pretty well! However, note that most adversarial attacks, especially on convolutional neural networks trained on massive full color image sets such as imagenet, can't be defended against by a simple binary threshold."
   ]
  },
  {
   "cell_type": "markdown",
   "metadata": {
    "pycharm": {
     "name": "#%% md\n"
    }
   },
   "source": [
    "## Adversarial Training"
   ]
  },
  {
   "cell_type": "markdown",
   "metadata": {
    "pycharm": {
     "name": "#%% md\n"
    }
   },
   "source": [
    "Looks like it works pretty well! However, note that most adversarial attacks, especially on convolutional neural networks trained on massive full color image sets such as imagenet, can't be defended against by a simple binary threshold.\n",
    "\n",
    "We could try one more thing that might be a bit more universal to protect our neural network against adversarial attacks. If we had access to the adversarial attack method (which we do in this case, because we're the ones implementing the attack) we could create a ton of adversarial examples, mix that up with our training dataset with the correct labels, and then retrain a network on this augmented dataset. The retrained network should learn to ignore the adversarial attacks. Here we implement a function to do just that."
   ]
  },
  {
   "cell_type": "code",
   "execution_count": 63,
   "metadata": {
    "pycharm": {
     "name": "#%%\n"
    }
   },
   "outputs": [],
   "source": [
    "def augment_data(n, data, steps):\n",
    "    \"\"\"\n",
    "    n : integer\n",
    "        number of adversarial examples to generate\n",
    "    data : list of tuples\n",
    "        data set to generate adversarial examples using\n",
    "    \"\"\"\n",
    "    # Our augmented training set:\n",
    "    augmented = []\n",
    "    \n",
    "    for i in range(n):\n",
    "        # Progress \"bar\"\n",
    "        if i % 500 == 0:\n",
    "            print(\"Generated digits: \" + str(i))\n",
    "            \n",
    "        # Randomly choose a digit that the example will look like\n",
    "        digit = np.random.randint(10)\n",
    "        \n",
    "        # Find random instance of rnd_actual_digit in the training set\n",
    "        rnd_actual_idx = np.random.randint(0, len(training_data))\n",
    "        \n",
    "        # TODO : Find a random instance of rnd_actual_digit in the training set. \n",
    "        \n",
    "        x_target = training_data[rnd_actual_idx][0]\n",
    "        y_actual = training_data[rnd_actual_idx][1]\n",
    "        true_digit_label = y_actual.squeeze().tolist().index(1)\n",
    "        \n",
    "        # Choose a value for the adversarial attack\n",
    "        while True:\n",
    "            rnd_fake_digit = np.random.randint(10)\n",
    "            if rnd_fake_digit != true_digit_label: break\n",
    "    \n",
    "        # Generate adversarial example\n",
    "        x_adversarial = targetedAdversarial(net, rnd_fake_digit, x_target, steps, 0.1)\n",
    "        \n",
    "        # Add new data       \n",
    "        augmented.append((x_adversarial, true_digit_label))\n",
    "        \n",
    "    return augmented"
   ]
  },
  {
   "cell_type": "code",
   "execution_count": 65,
   "metadata": {
    "pycharm": {
     "name": "#%%\n"
    }
   },
   "outputs": [
    {
     "name": "stdout",
     "output_type": "stream",
     "text": [
      "Generated digits: 0\n",
      "Generated digits: 500\n",
      "Generated digits: 1000\n",
      "Generated digits: 1500\n",
      "Generated digits: 2000\n",
      "Generated digits: 2500\n",
      "Generated digits: 3000\n",
      "Generated digits: 3500\n",
      "Generated digits: 4000\n",
      "Generated digits: 4500\n",
      "Generated digits: 5000\n",
      "Generated digits: 5500\n",
      "Generated digits: 6000\n",
      "Generated digits: 6500\n",
      "Generated digits: 7000\n",
      "Generated digits: 7500\n",
      "Generated digits: 8000\n",
      "Generated digits: 8500\n",
      "Generated digits: 9000\n",
      "Generated digits: 9500\n",
      "Generated digits: 10000\n",
      "Generated digits: 10500\n",
      "Generated digits: 11000\n",
      "Generated digits: 11500\n",
      "Generated digits: 12000\n",
      "Generated digits: 12500\n",
      "Generated digits: 13000\n",
      "Generated digits: 13500\n",
      "Generated digits: 14000\n",
      "Generated digits: 14500\n",
      "Generated digits: 15000\n",
      "Generated digits: 15500\n",
      "Generated digits: 16000\n",
      "Generated digits: 16500\n",
      "Generated digits: 17000\n",
      "Generated digits: 17500\n",
      "Generated digits: 18000\n",
      "Generated digits: 18500\n",
      "Generated digits: 19000\n",
      "Generated digits: 19500\n",
      "Generated digits: 20000\n",
      "Generated digits: 20500\n",
      "Generated digits: 21000\n",
      "Generated digits: 21500\n",
      "Generated digits: 22000\n",
      "Generated digits: 22500\n",
      "Generated digits: 23000\n",
      "Generated digits: 23500\n",
      "Generated digits: 24000\n",
      "Generated digits: 24500\n",
      "Generated digits: 25000\n",
      "Generated digits: 25500\n",
      "Generated digits: 26000\n",
      "Generated digits: 26500\n",
      "Generated digits: 27000\n",
      "Generated digits: 27500\n",
      "Generated digits: 28000\n",
      "Generated digits: 28500\n",
      "Generated digits: 29000\n",
      "Generated digits: 29500\n",
      "Generated digits: 30000\n",
      "Generated digits: 30500\n",
      "Generated digits: 31000\n",
      "Generated digits: 31500\n",
      "Generated digits: 32000\n",
      "Generated digits: 32500\n",
      "Generated digits: 33000\n",
      "Generated digits: 33500\n",
      "Generated digits: 34000\n",
      "Generated digits: 34500\n",
      "Generated digits: 35000\n",
      "Generated digits: 35500\n",
      "Generated digits: 36000\n",
      "Generated digits: 36500\n",
      "Generated digits: 37000\n",
      "Generated digits: 37500\n",
      "Generated digits: 38000\n",
      "Generated digits: 38500\n",
      "Generated digits: 39000\n",
      "Generated digits: 39500\n",
      "Generated digits: 40000\n",
      "Generated digits: 40500\n",
      "Generated digits: 41000\n",
      "Generated digits: 41500\n",
      "Generated digits: 42000\n",
      "Generated digits: 42500\n",
      "Generated digits: 43000\n",
      "Generated digits: 43500\n",
      "Generated digits: 44000\n",
      "Generated digits: 44500\n",
      "Generated digits: 45000\n",
      "Generated digits: 45500\n",
      "Generated digits: 46000\n",
      "Generated digits: 46500\n",
      "Generated digits: 47000\n",
      "Generated digits: 47500\n",
      "Generated digits: 48000\n",
      "Generated digits: 48500\n",
      "Generated digits: 49000\n",
      "Generated digits: 49500\n"
     ]
    }
   ],
   "source": [
    "# Try 10000 examples first if you don't want to wait for a long time!\n",
    "augmented = augment_data(50000, training_data, 100)"
   ]
  },
  {
   "cell_type": "markdown",
   "metadata": {
    "pycharm": {
     "name": "#%% md\n"
    }
   },
   "source": [
    "Now let's check to make sure our augmented dataset actually makes sense. Here we have a function that checks the $ i^{th} $ example in our augmented set."
   ]
  },
  {
   "cell_type": "code",
   "execution_count": 66,
   "metadata": {
    "pycharm": {
     "name": "#%%\n"
    }
   },
   "outputs": [
    {
     "name": "stdout",
     "output_type": "stream",
     "text": [
      "Image: \n",
      "\n"
     ]
    },
    {
     "data": {
      "text/plain": "<Figure size 640x480 with 1 Axes>",
      "image/png": "[encoded data removed]"
     },
     "metadata": {},
     "output_type": "display_data"
    },
    {
     "name": "stdout",
     "output_type": "stream",
     "text": [
      "Original network prediction: \n",
      "\n",
      "[[0.  ]\n",
      " [0.  ]\n",
      " [0.  ]\n",
      " [0.  ]\n",
      " [0.  ]\n",
      " [0.  ]\n",
      " [0.  ]\n",
      " [0.  ]\n",
      " [0.01]\n",
      " [0.  ]]\n",
      "\n",
      "Label: \n",
      "\n",
      "4\n"
     ]
    }
   ],
   "source": [
    "def check_augmented(i, augmented):\n",
    "    # Show image\n",
    "    print('Image: \\n')\n",
    "    plt.imshow(augmented[i][0].reshape(28,28), cmap='Greys')\n",
    "    plt.show()\n",
    "    \n",
    "    # Show original network prediction\n",
    "    print('Original network prediction: \\n')\n",
    "    print(np.round(net.feedforward(augmented[i][0]), 2))\n",
    "    \n",
    "    # Show label\n",
    "    print('\\nLabel: \\n')\n",
    "    print(augmented[i][1])\n",
    "    \n",
    "# check i^th adversarial image\n",
    "check_augmented(239, augmented)"
   ]
  },
  {
   "cell_type": "markdown",
   "metadata": {
    "pycharm": {
     "name": "#%% md\n"
    }
   },
   "source": [
    "We can now create a new neural network and train it on our augmented dataset and the original training set, using the original test set to validate."
   ]
  },
  {
   "cell_type": "code",
   "execution_count": 67,
   "metadata": {
    "pycharm": {
     "name": "#%%\n"
    }
   },
   "outputs": [
    {
     "name": "stdout",
     "output_type": "stream",
     "text": [
      "Epoch 0 complete\n",
      "Epoch 1 complete\n",
      "Epoch 2 complete\n",
      "Epoch 3 complete\n",
      "Epoch 4 complete\n",
      "Epoch 5 complete\n",
      "Epoch 6 complete\n",
      "Epoch 7 complete\n",
      "Epoch 8 complete\n",
      "Epoch 9 complete\n"
     ]
    }
   ],
   "source": [
    "# Create a new network. Use the function provided in the Network.network to create one. For this you'll have to \n",
    "# read the description of the function there.\n",
    "net2 = Network.Network([784, 64, 10])\n",
    "\n",
    "# Train on the augmented + original training set\n",
    "combined_train_data = augmented + training_data\n",
    "random.shuffle(combined_train_data)\n",
    "net2.SGD(combined_train_data, 10, 1000, 1)"
   ]
  },
  {
   "cell_type": "markdown",
   "metadata": {
    "pycharm": {
     "name": "#%% md\n"
    }
   },
   "source": [
    "With a network trained on 50000 adversarial examples in addition to 50000 original training set examples we get about 95% accuracy (it takes quite a long time as well). We can make a test set of adversarial examples by using the following function call:"
   ]
  },
  {
   "cell_type": "code",
   "execution_count": 71,
   "metadata": {
    "pycharm": {
     "name": "#%%\n"
    }
   },
   "outputs": [
    {
     "name": "stdout",
     "output_type": "stream",
     "text": [
      "Generated digits: 0\n",
      "Generated digits: 500\n"
     ]
    }
   ],
   "source": [
    "# For some reason the training data has the format: list of tuples\n",
    "# tuple[0] is np array of image\n",
    "# tuple[1] is one hot np array of label\n",
    "# test data is also list of tuples\n",
    "# tuple[0] is np array of image\n",
    "# tuple[1] is integer of label\n",
    "# Just fixing this:\n",
    "normal_test_data = []\n",
    "\n",
    "for i in range(len(test_data)):\n",
    "    ground_truth = test_data[i][1]\n",
    "    one_hot = np.zeros(10)\n",
    "    one_hot[ground_truth] = 1\n",
    "    one_hot = np.expand_dims(one_hot, axis=1)\n",
    "    normal_test_data.append((test_data[i][0], one_hot))\n",
    "    \n",
    "\n",
    "# Using normal_test_data because of weird way data is packaged\n",
    "adversarial_test_set = augment_data(1000, normal_test_data, 100)"
   ]
  },
  {
   "cell_type": "markdown",
   "metadata": {
    "pycharm": {
     "name": "#%% md\n"
    }
   },
   "source": [
    "Let's checkout the accuracy of our newly trained network on adversarial examples from the new adversarial test set:"
   ]
  },
  {
   "cell_type": "code",
   "execution_count": 74,
   "metadata": {
    "pycharm": {
     "name": "#%%\n"
    }
   },
   "outputs": [
    {
     "name": "stdout",
     "output_type": "stream",
     "text": [
      "Accuracy of the new augmented model on the adversarial test set: 0.043\n",
      "Accuracy of the new augmented model on the original test set: 0.4962\n",
      "Accuracy of the original network on the adversarial test set: 0.029\n",
      "Accuracy of the original network on the original test set: 0.8701\n"
     ]
    }
   ],
   "source": [
    "def accuracy(net, test_data):\n",
    "    \"\"\"\n",
    "    net : network object\n",
    "    test_data: list\n",
    "        list of 2-tuples of two arrays, one image and one label (one-hot)\n",
    "    \"\"\"\n",
    "    tot = float(len(test_data))\n",
    "    correct = 0\n",
    "    for i in range(len(test_data)):\n",
    "        correct += (np.argmax(net.feedforward(test_data[i][0])) == np.argmax(test_data[i][1]))\n",
    "    return correct / tot\n",
    "\n",
    "print('Accuracy of the new augmented model on the adversarial test set: ' + str(accuracy(net2, adversarial_test_set)))\n",
    "print('Accuracy of the new augmented model on the original test set: ' + str(accuracy(net2, normal_test_data)))\n",
    "\n",
    "print('Accuracy of the original network on the adversarial test set: ' + str(accuracy(net, adversarial_test_set)))\n",
    "print('Accuracy of the original network on the original test set: ' + str(accuracy(net, normal_test_data)))"
   ]
  },
  {
   "cell_type": "markdown",
   "metadata": {
    "pycharm": {
     "name": "#%% md\n"
    }
   },
   "source": [
    "Finally, we'll be implementing a function that compares the original network to the new network on adversarial examples."
   ]
  },
  {
   "cell_type": "code",
   "execution_count": 76,
   "metadata": {
    "pycharm": {
     "name": "#%%\n"
    }
   },
   "outputs": [],
   "source": [
    "# You'll be implementing a function that compares the original network to the new network. The specifications of \n",
    "# what this function has to achieve has been provided in the pdf.\n",
    "\n",
    "# TODO : Implement a function.\n",
    "def compare(original_net, new_net, adv_example):\n",
    "    # Show image\n",
    "    print('Image: \\n')\n",
    "    plt.imshow(adv_example[0].reshape((28,28)), cmap='Greys')\n",
    "    plt.show()\n",
    "    \n",
    "    # Show original network prediction\n",
    "    print('Original network prediction: \\n')\n",
    "    print(np.round(original_net.feedforward(adv_example[0]), 2))\n",
    "\n",
    "    # Show new network prediction\n",
    "    print('New network prediction: \\n')\n",
    "    print(np.round(new_net.feedforward(adv_example[0]), 2))\n",
    "    \n",
    "    # Show label\n",
    "    print('\\nLabel: \\n')\n",
    "    print(adv_example[1])"
   ]
  },
  {
   "cell_type": "code",
   "execution_count": 77,
   "metadata": {
    "pycharm": {
     "name": "#%%\n"
    }
   },
   "outputs": [
    {
     "name": "stdout",
     "output_type": "stream",
     "text": [
      "Image: \n",
      "\n"
     ]
    },
    {
     "data": {
      "text/plain": "<Figure size 640x480 with 1 Axes>",
      "image/png": "[encoded data removed]"
     },
     "metadata": {},
     "output_type": "display_data"
    },
    {
     "name": "stdout",
     "output_type": "stream",
     "text": [
      "Original network prediction: \n",
      "\n",
      "[[0.  ]\n",
      " [0.  ]\n",
      " [0.04]\n",
      " [0.  ]\n",
      " [0.  ]\n",
      " [0.  ]\n",
      " [0.  ]\n",
      " [0.  ]\n",
      " [0.01]\n",
      " [0.  ]]\n",
      "New network prediction: \n",
      "\n",
      "[[1.]\n",
      " [1.]\n",
      " [1.]\n",
      " [1.]\n",
      " [1.]\n",
      " [0.]\n",
      " [1.]\n",
      " [1.]\n",
      " [1.]\n",
      " [1.]]\n",
      "\n",
      "Label: \n",
      "\n",
      "1\n"
     ]
    }
   ],
   "source": [
    "compare(net, net2, augmented[150])"
   ]
  },
  {
   "cell_type": "code",
   "execution_count": 78,
   "outputs": [
    {
     "name": "stdout",
     "output_type": "stream",
     "text": [
      "Image: \n",
      "\n"
     ]
    },
    {
     "data": {
      "text/plain": "<Figure size 640x480 with 1 Axes>",
      "image/png": "[encoded data removed]"
     },
     "metadata": {},
     "output_type": "display_data"
    },
    {
     "name": "stdout",
     "output_type": "stream",
     "text": [
      "Original network prediction: \n",
      "\n",
      "[[0.  ]\n",
      " [0.  ]\n",
      " [0.02]\n",
      " [0.  ]\n",
      " [0.  ]\n",
      " [0.  ]\n",
      " [0.  ]\n",
      " [0.  ]\n",
      " [0.04]\n",
      " [0.  ]]\n",
      "New network prediction: \n",
      "\n",
      "[[1.]\n",
      " [1.]\n",
      " [1.]\n",
      " [1.]\n",
      " [1.]\n",
      " [0.]\n",
      " [1.]\n",
      " [1.]\n",
      " [1.]\n",
      " [1.]]\n",
      "\n",
      "Label: \n",
      "\n",
      "1\n"
     ]
    }
   ],
   "source": [
    "compare(net, net2, augmented[850])"
   ],
   "metadata": {
    "collapsed": false,
    "pycharm": {
     "name": "#%%\n"
    }
   }
  },
  {
   "cell_type": "code",
   "execution_count": 81,
   "outputs": [],
   "source": [
    "def crr_csr(net, net2, test_data):\n",
    "    test_results = []\n",
    "    test_results2 = []\n",
    "    for x, y in test_data:\n",
    "        test_results.append((np.argmax(net.feedforward(x)), y))\n",
    "        test_results2.append((np.argmax(net2.feedforward(x)), y))\n",
    "\n",
    "    count = 0\n",
    "    for i in range(len(test_results)):\n",
    "        x, y = test_results[i]\n",
    "        x2, y2 = test_results2[i]\n",
    "        if x != y and x2 == y2:\n",
    "            count += 1\n",
    "    return count / len(test_results)\n",
    "\n",
    "\n",
    "def ccv(net, net2, test_data):\n",
    "    count, result = 0, 0\n",
    "    for x, y in test_data:\n",
    "        net_pred, net2_pred = net.feedforward(x), net2.feedforward(x)\n",
    "        if np.argmax(net_pred) == y and np.argmax(net2_pred) == y:\n",
    "            count += 1\n",
    "            result += np.sum(abs(net_pred - net2_pred))\n",
    "    return result / count"
   ],
   "metadata": {
    "collapsed": false,
    "pycharm": {
     "name": "#%%\n"
    }
   }
  },
  {
   "cell_type": "code",
   "execution_count": 82,
   "outputs": [
    {
     "name": "stdout",
     "output_type": "stream",
     "text": [
      "CAV = 0.013999999999999995\n",
      "CRR = 0.062\n",
      "CSR = 0.202\n",
      "CSR= 0.202\n",
      "CCV=8.953423567110885\n"
     ]
    }
   ],
   "source": [
    "# Calculate classification accuracy variance\n",
    "print(f'CAV = {accuracy(net2, adversarial_test_set) - accuracy(net, adversarial_test_set)}')\n",
    "\n",
    "# Calculate classification rectify / sacrifice ratio\n",
    "print(f'CRR = {crr_csr(net, net2, adversarial_test_set)}')\n",
    "print(f'CSR = {crr_csr(net2, net, adversarial_test_set)}')\n",
    "print(\"CSR=\", crr_csr(net2, net, adversarial_test_set))\n",
    "\n",
    "# classification confidence variance\n",
    "print(f'CCV={ccv(net, net2, adversarial_test_set)}')"
   ],
   "metadata": {
    "collapsed": false,
    "pycharm": {
     "name": "#%%\n"
    }
   }
  }
 ],
 "metadata": {
  "kernelspec": {
   "display_name": "Python 3",
   "language": "python",
   "name": "python3"
  },
  "language_info": {
   "codemirror_mode": {
    "name": "ipython",
    "version": 3
   },
   "file_extension": ".py",
   "mimetype": "text/x-python",
   "name": "python",
   "nbconvert_exporter": "python",
   "pygments_lexer": "ipython3",
   "version": "3.7.4"
  }
 },
 "nbformat": 4,
 "nbformat_minor": 2
}