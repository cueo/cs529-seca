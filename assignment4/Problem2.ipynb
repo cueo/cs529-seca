{
  "cells": [
    {
      "cell_type": "code",
      "execution_count": 1,
      "metadata": {
        "pycharm": {
          "name": "#%%\n"
        },
        "id": "zCI1-FTp40tp",
        "outputId": "87161414-9d13-498e-8491-4703f5a13811",
        "colab": {
          "base_uri": "https://localhost:8080/"
        }
      },
      "outputs": [
        {
          "output_type": "stream",
          "name": "stdout",
          "text": [
            "Looking in indexes: https://pypi.org/simple, https://us-python.pkg.dev/colab-wheels/public/simple/\n",
            "Collecting adversarial-robustness-toolbox\n",
            "  Downloading adversarial_robustness_toolbox-1.12.2-py3-none-any.whl (1.4 MB)\n",
            "\u001b[K     |████████████████████████████████| 1.4 MB 16.7 MB/s \n",
            "\u001b[?25hRequirement already satisfied: numpy>=1.18.0 in /usr/local/lib/python3.8/dist-packages (from adversarial-robustness-toolbox) (1.21.6)\n",
            "Requirement already satisfied: six in /usr/local/lib/python3.8/dist-packages (from adversarial-robustness-toolbox) (1.15.0)\n",
            "Requirement already satisfied: tqdm in /usr/local/lib/python3.8/dist-packages (from adversarial-robustness-toolbox) (4.64.1)\n",
            "Requirement already satisfied: scikit-learn<1.1.0,>=0.22.2 in /usr/local/lib/python3.8/dist-packages (from adversarial-robustness-toolbox) (1.0.2)\n",
            "Requirement already satisfied: scipy>=1.4.1 in /usr/local/lib/python3.8/dist-packages (from adversarial-robustness-toolbox) (1.7.3)\n",
            "Requirement already satisfied: setuptools in /usr/local/lib/python3.8/dist-packages (from adversarial-robustness-toolbox) (57.4.0)\n",
            "Requirement already satisfied: joblib>=0.11 in /usr/local/lib/python3.8/dist-packages (from scikit-learn<1.1.0,>=0.22.2->adversarial-robustness-toolbox) (1.2.0)\n",
            "Requirement already satisfied: threadpoolctl>=2.0.0 in /usr/local/lib/python3.8/dist-packages (from scikit-learn<1.1.0,>=0.22.2->adversarial-robustness-toolbox) (3.1.0)\n",
            "Installing collected packages: adversarial-robustness-toolbox\n",
            "Successfully installed adversarial-robustness-toolbox-1.12.2\n"
          ]
        }
      ],
      "source": [
        "!pip install adversarial-robustness-toolbox"
      ]
    },
    {
      "cell_type": "code",
      "execution_count": 2,
      "metadata": {
        "pycharm": {
          "name": "#%%\n"
        },
        "id": "1kMuOXHX40tq"
      },
      "outputs": [],
      "source": [
        "# Imports\n",
        "import keras\n",
        "import random\n",
        "import numpy as np\n",
        "import matplotlib.pyplot as plt\n",
        "\n",
        "from keras.datasets import mnist\n",
        "from keras.models import Sequential\n",
        "from keras.layers import Dense, Dropout, Flatten\n",
        "from keras.layers import Conv2D, MaxPooling2D\n",
        "from keras import backend as K\n",
        "\n",
        "from art.attacks.evasion import CarliniL2Method, SaliencyMapMethod, ElasticNet\n",
        "from art.estimators.classification import KerasClassifier\n",
        "\n",
        "# Set the random seeds. Do not change this!\n",
        "seedVal = 41\n",
        "random.seed(seedVal)\n",
        "np.random.seed(seedVal)\n",
        "\n",
        "# Define some constants.\n",
        "NUM_CLASSES = 10\n",
        "BATCH_SIZE = 32"
      ]
    },
    {
      "cell_type": "markdown",
      "metadata": {
        "pycharm": {
          "name": "#%% md\n"
        },
        "id": "R7Ctq2y440tr"
      },
      "source": [
        "## Part 1"
      ]
    },
    {
      "cell_type": "markdown",
      "metadata": {
        "pycharm": {
          "name": "#%% md\n"
        },
        "id": "LUMS_akl40tt"
      },
      "source": [
        "### You need to complete the following."
      ]
    },
    {
      "cell_type": "code",
      "execution_count": 3,
      "metadata": {
        "pycharm": {
          "name": "#%%\n"
        },
        "id": "jyGcJdg540tt",
        "outputId": "61acc55b-5a55-44e8-c424-b982bb934a0f",
        "colab": {
          "base_uri": "https://localhost:8080/"
        }
      },
      "outputs": [
        {
          "output_type": "stream",
          "name": "stdout",
          "text": [
            "Downloading data from https://storage.googleapis.com/tensorflow/tf-keras-datasets/mnist.npz\n",
            "11490434/11490434 [==============================] - 2s 0us/step\n"
          ]
        }
      ],
      "source": [
        "# Load the MNIST dataset\n",
        "(x_train, y_train), (x_test, y_test) = mnist.load_data()\n",
        "\n",
        "# Normalization\n",
        "x_train = keras.utils.normalize(x_train, axis=1)\n",
        "x_test = keras.utils.normalize(x_test, axis=1)\n",
        "\n",
        "# convert class vectors to binary class matrices\n",
        "y_train = keras.utils.to_categorical(y_train, NUM_CLASSES)\n",
        "y_test = keras.utils.to_categorical(y_test, NUM_CLASSES)\n",
        "\n",
        "K.set_image_data_format('channels_first')\n",
        "\n",
        "# Reshape the data.\n",
        "x_train = x_train.reshape(x_train.shape[0], 1, 28, 28)\n",
        "x_test = x_test.reshape(x_test.shape[0], 1, 28, 28)"
      ]
    },
    {
      "cell_type": "code",
      "execution_count": 4,
      "metadata": {
        "pycharm": {
          "name": "#%%\n"
        },
        "id": "-_W8Ugdc40tu"
      },
      "outputs": [],
      "source": [
        "# Build a training dataset for the substitute model\n",
        "# Collect ten images from each dataset class (numbers 0-9)\n",
        "selected_examples = []\n",
        "for target_label in range(0, 10):\n",
        "    count = 0\n",
        "    for i in range(y_train.shape[0]):\n",
        "        if y_train[i].tolist().index(1) == target_label:\n",
        "            count += 1\n",
        "            selected_examples.append((x_train[i, :, :], y_train[i]))\n",
        "            if count == 10:\n",
        "                break\n",
        "\n",
        "# Convert selected examples to numpy array\n",
        "# final_train_x =  np.array([selected_examples[i][0] for i in range(len(selected_examples))])\n",
        "# final_train_y = np.array([selected_examples[i][1] for i in range(len(selected_examples))])\n",
        "final_train_x = []\n",
        "final_train_y = []\n",
        "\n",
        "for example in selected_examples:\n",
        "  final_train_x.append(example[0])\n",
        "  final_train_y.append(example[1])\n",
        "final_train_x = np.array(final_train_x)\n",
        "final_train_y = np.array(final_train_y)"
      ]
    },
    {
      "cell_type": "code",
      "source": [
        "import tensorflow as tf\n",
        "\n",
        "tf.compat.v1.disable_eager_execution()"
      ],
      "metadata": {
        "id": "pmZXAqoi4-3L"
      },
      "execution_count": 5,
      "outputs": []
    },
    {
      "cell_type": "code",
      "execution_count": 6,
      "metadata": {
        "pycharm": {
          "name": "#%%\n"
        },
        "id": "FcH2uqyq40tu",
        "outputId": "c02cbdae-eb57-4f26-ca2e-809aaf94a4ff",
        "colab": {
          "base_uri": "https://localhost:8080/"
        }
      },
      "outputs": [
        {
          "output_type": "stream",
          "name": "stdout",
          "text": [
            "(1, 28, 28)\n",
            "Model: \"sequential\"\n",
            "_________________________________________________________________\n",
            " Layer (type)                Output Shape              Param #   \n",
            "=================================================================\n",
            " conv2d (Conv2D)             (None, 32, 26, 26)        320       \n",
            "                                                                 \n",
            " max_pooling2d (MaxPooling2D  (None, 32, 13, 13)       0         \n",
            " )                                                               \n",
            "                                                                 \n",
            " conv2d_1 (Conv2D)           (None, 64, 11, 11)        18496     \n",
            "                                                                 \n",
            " max_pooling2d_1 (MaxPooling  (None, 64, 5, 5)         0         \n",
            " 2D)                                                             \n",
            "                                                                 \n",
            " conv2d_2 (Conv2D)           (None, 64, 3, 3)          36928     \n",
            "                                                                 \n",
            " flatten (Flatten)           (None, 576)               0         \n",
            "                                                                 \n",
            " dense (Dense)               (None, 64)                36928     \n",
            "                                                                 \n",
            " dense_1 (Dense)             (None, 10)                650       \n",
            "                                                                 \n",
            "=================================================================\n",
            "Total params: 93,322\n",
            "Trainable params: 93,322\n",
            "Non-trainable params: 0\n",
            "_________________________________________________________________\n"
          ]
        },
        {
          "output_type": "stream",
          "name": "stderr",
          "text": [
            "/usr/local/lib/python3.8/dist-packages/tensorflow/python/util/dispatch.py:1082: UserWarning: \"`sparse_categorical_crossentropy` received `from_logits=True`, but the `output` argument was produced by a sigmoid or softmax activation and thus does not represent logits. Was this intended?\"\n",
            "  return dispatch_target(*args, **kwargs)\n"
          ]
        },
        {
          "output_type": "stream",
          "name": "stdout",
          "text": [
            "Train on 100 samples\n",
            "Epoch 1/30\n",
            "100/100 [==============================] - 9s 89ms/sample - loss: 2.3009 - accuracy: 0.1100\n",
            "Epoch 2/30\n",
            "100/100 [==============================] - 0s 272us/sample - loss: 2.2570 - accuracy: 0.3400\n",
            "Epoch 3/30\n",
            "100/100 [==============================] - 0s 275us/sample - loss: 2.1986 - accuracy: 0.4500\n",
            "Epoch 4/30\n",
            "100/100 [==============================] - 0s 262us/sample - loss: 2.1039 - accuracy: 0.5900\n",
            "Epoch 5/30\n",
            "100/100 [==============================] - 0s 233us/sample - loss: 1.9598 - accuracy: 0.5700\n",
            "Epoch 6/30\n",
            "100/100 [==============================] - 0s 232us/sample - loss: 1.7647 - accuracy: 0.4900\n",
            "Epoch 7/30\n",
            "100/100 [==============================] - 0s 271us/sample - loss: 1.5610 - accuracy: 0.5300\n",
            "Epoch 8/30\n",
            "100/100 [==============================] - 0s 229us/sample - loss: 1.2485 - accuracy: 0.6300\n",
            "Epoch 9/30\n",
            "100/100 [==============================] - 0s 234us/sample - loss: 1.0554 - accuracy: 0.7100\n",
            "Epoch 10/30\n",
            "100/100 [==============================] - 0s 224us/sample - loss: 0.7940 - accuracy: 0.8200\n",
            "Epoch 11/30\n",
            "100/100 [==============================] - 0s 205us/sample - loss: 0.6539 - accuracy: 0.8500\n",
            "Epoch 12/30\n",
            "100/100 [==============================] - 0s 231us/sample - loss: 0.5666 - accuracy: 0.8400\n",
            "Epoch 13/30\n",
            "100/100 [==============================] - 0s 293us/sample - loss: 0.4919 - accuracy: 0.8400\n",
            "Epoch 14/30\n",
            "100/100 [==============================] - 0s 212us/sample - loss: 0.4346 - accuracy: 0.8600\n",
            "Epoch 15/30\n",
            "100/100 [==============================] - 0s 265us/sample - loss: 0.3365 - accuracy: 0.9100\n",
            "Epoch 16/30\n",
            "100/100 [==============================] - 0s 437us/sample - loss: 0.2267 - accuracy: 0.9400\n",
            "Epoch 17/30\n",
            "100/100 [==============================] - 0s 352us/sample - loss: 0.2234 - accuracy: 0.9300\n",
            "Epoch 18/30\n",
            "100/100 [==============================] - 0s 221us/sample - loss: 0.1643 - accuracy: 0.9800\n",
            "Epoch 19/30\n",
            "100/100 [==============================] - 0s 374us/sample - loss: 0.1602 - accuracy: 0.9500\n",
            "Epoch 20/30\n",
            "100/100 [==============================] - 0s 221us/sample - loss: 0.0969 - accuracy: 0.9800\n",
            "Epoch 21/30\n",
            "100/100 [==============================] - 0s 221us/sample - loss: 0.1456 - accuracy: 0.9500\n",
            "Epoch 22/30\n",
            "100/100 [==============================] - 0s 232us/sample - loss: 0.1013 - accuracy: 0.9700\n",
            "Epoch 23/30\n",
            "100/100 [==============================] - 0s 223us/sample - loss: 0.0781 - accuracy: 0.9900\n",
            "Epoch 24/30\n",
            "100/100 [==============================] - 0s 210us/sample - loss: 0.1030 - accuracy: 0.9600\n",
            "Epoch 25/30\n",
            "100/100 [==============================] - 0s 214us/sample - loss: 0.0721 - accuracy: 0.9900\n",
            "Epoch 26/30\n",
            "100/100 [==============================] - 0s 257us/sample - loss: 0.0438 - accuracy: 0.9900\n",
            "Epoch 27/30\n",
            "100/100 [==============================] - 0s 210us/sample - loss: 0.0364 - accuracy: 1.0000\n",
            "Epoch 28/30\n",
            "100/100 [==============================] - 0s 536us/sample - loss: 0.0311 - accuracy: 1.0000\n",
            "Epoch 29/30\n",
            "100/100 [==============================] - 0s 413us/sample - loss: 0.0214 - accuracy: 1.0000\n",
            "Epoch 30/30\n",
            "100/100 [==============================] - 0s 275us/sample - loss: 0.0162 - accuracy: 1.0000\n"
          ]
        }
      ],
      "source": [
        "# Train a CNN-based substitute model using the newly collected dataset\n",
        "substitute_model = Sequential()\n",
        "\n",
        "input_shape = final_train_x[0].shape\n",
        "print(input_shape)\n",
        "\n",
        "# Define the intermediate layers.\n",
        "# GPU\n",
        "substitute_model.add(Conv2D(32, (3, 3), activation='relu', input_shape=input_shape))\n",
        "substitute_model.add(MaxPooling2D((2, 2), data_format='channels_first'))\n",
        "substitute_model.add(Conv2D(64, (3, 3), activation='relu'))\n",
        "substitute_model.add(MaxPooling2D((2, 2), data_format='channels_first'))\n",
        "substitute_model.add(Conv2D(64, (3, 3), activation='relu'))\n",
        "\n",
        "substitute_model.add(Flatten())\n",
        "\n",
        "substitute_model.add(Dense(64, activation='relu'))\n",
        "substitute_model.add(Dense(NUM_CLASSES, activation='softmax'))\n",
        "\n",
        "substitute_model.summary()\n",
        "\n",
        "# Compile the model\n",
        "substitute_model.compile(optimizer='adam',\n",
        "              loss=keras.losses.SparseCategoricalCrossentropy(from_logits=True),\n",
        "              metrics=['accuracy'])\n",
        "\n",
        "substitute_model = KerasClassifier(model=substitute_model, clip_values=(0,1))\n",
        "\n",
        "# Fit the model\n",
        "substitute_model.fit(final_train_x, final_train_y, nb_epochs=30, batch_size=BATCH_SIZE)"
      ]
    },
    {
      "cell_type": "markdown",
      "metadata": {
        "pycharm": {
          "name": "#%% md\n"
        },
        "id": "v_Q_cG9r40tu"
      },
      "source": [
        "    Please ONLY use the following attack methods."
      ]
    },
    {
      "cell_type": "code",
      "execution_count": 17,
      "metadata": {
        "pycharm": {
          "name": "#%%\n"
        },
        "id": "5uZ1IFVQ40tv"
      },
      "outputs": [],
      "source": [
        "import pickle\n",
        "\n",
        "# Define methods for generating \"targetted\" adversarial examples\n",
        "def generate_adv_examples_CarliniL2Method(classifier, x, target_y):\n",
        "    filename = 'carlinil_adv_examples_gpu.pkl'\n",
        "    if os.path.exists(filename):\n",
        "      with open(filename, 'rb') as f:\n",
        "        return pickle.load(f)\n",
        "    \n",
        "    attack = CarliniL2Method(classifier, targeted=True)\n",
        "    examples = attack.generate(x, target_y)\n",
        "    \n",
        "    with open(filename, 'wb') as f:\n",
        "      pickle.dump(examples, f)\n",
        "    return examples\n",
        "\n",
        "def generate_adv_examples_ElasticNet(classifier, x, target_y):\n",
        "    filename = 'elastic_net_adv_examples_gpu.pkl'\n",
        "    if os.path.exists(filename):\n",
        "      with open(filename, 'rb') as f:\n",
        "        return pickle.load(f)\n",
        "    \n",
        "    attack = ElasticNet(classifier, targeted=True)\n",
        "    examples = attack.generate(x, target_y)\n",
        "    \n",
        "    with open(filename, 'wb') as f:\n",
        "      pickle.dump(examples, f)\n",
        "    return examples\n",
        "\n",
        "def generate_adv_examples_SaliencyMapMethod(classifier, x, target_y):\n",
        "    filename = 'saliency_adv_examples_gpu.pkl'\n",
        "    if os.path.exists(filename):\n",
        "      with open(filename, 'rb') as f:\n",
        "        return pickle.load(f)\n",
        "\n",
        "    attack = SaliencyMapMethod(classifier)\n",
        "    examples = attack.generate(x, target_y)\n",
        "    \n",
        "    with open(filename, 'wb') as f:\n",
        "      pickle.dump(examples, f)\n",
        "    return examples"
      ]
    },
    {
      "cell_type": "code",
      "source": [
        "import os\n",
        "\n",
        "from google.colab import drive\n",
        "from shutil import copy\n",
        "\n",
        "drive.mount('/content/drive')\n",
        "\n",
        "for filename in ['carlinil_adv_examples_gpu.pkl', 'elastic_net_adv_examples_gpu.pkl', 'saliency_adv_examples_gpu.pkl']:\n",
        "  # copy(filename, os.path.join('drive/MyDrive/Colab Notebooks', filename))\n",
        "  src = os.path.join('drive/MyDrive/Colab Notebooks', filename)\n",
        "  if os.path.exists(src):\n",
        "    copy(src, filename)"
      ],
      "metadata": {
        "id": "nhnyj4F15unH",
        "outputId": "3a598f3a-20c8-4a96-e4aa-4be9ef5a1a7f",
        "colab": {
          "base_uri": "https://localhost:8080/"
        }
      },
      "execution_count": 10,
      "outputs": [
        {
          "output_type": "stream",
          "name": "stdout",
          "text": [
            "Drive already mounted at /content/drive; to attempt to forcibly remount, call drive.mount(\"/content/drive\", force_remount=True).\n"
          ]
        }
      ]
    },
    {
      "cell_type": "code",
      "execution_count": 18,
      "metadata": {
        "pycharm": {
          "name": "#%%\n"
        },
        "id": "wo7TX4DI40tv",
        "outputId": "293d9d4b-aaac-429e-cdb7-6e107bb4c3ba",
        "colab": {
          "base_uri": "https://localhost:8080/",
          "height": 130,
          "referenced_widgets": [
            "10bff20fc3d748e7ace8b6ff82afd9c9",
            "78efba2645ee45e4a1af261d2d9dacf8",
            "6fa0d0070b7e4afc92261f9d8487ebf0",
            "601a8eb9598b454f91affae6a95f24b7",
            "478dc99b4a42497c95652170780c2eea",
            "fd3123f902904e079e18ac390c1a8004",
            "5d5d4c8136604621a1b98569ecdd6005",
            "3491b3e9aaab4671a3b432448958428d",
            "a965bb35bcf24388be525b243d0b67ba",
            "d8546013c2eb43689f62109a672848c3",
            "93014becf74d46f5a7127b5b458f014c",
            "25a49bc23355400396bf3ab0a79d2502",
            "40f5f9383e67411095c7c533a3c2729b",
            "c6ada14f2576423f84548154284cab14",
            "30008c01724c4baf9f78bd39b653dfb8",
            "ef431f9e86b34b7c95cab96d65fce215",
            "dff4c9fb807d4cb58260ce08ae40be5a",
            "ddf8107d223b4c9d98d1d5627b9ec72b",
            "5cabeb270e184d4b9bcdfd8f9ad1d05c",
            "9da5fdc34d134a5991e64dae115831b5",
            "6238b05e27594129b2f21abf007d4227",
            "a202fc5e8528460eb039dbde8c610e5e",
            "b9dc4ac02ce2455a8a75fcc3b2c27f9b",
            "30ea4d16bd664f39a1e9aaa9eadae3ea",
            "41fcb2a5f1694a5993ddb6eb0291c172",
            "c86f0ab9f4fe452db8e761676a60fe60",
            "64d36cb18b3e49bc8eee46e805660d30",
            "2abfeccc682543e582bf291b46957bdf",
            "824e77e37b144d8c9b5f0cf587ad0269",
            "132cef3f43e547c1a0e5de18dd09db92",
            "7ab57ffeadde48939072390bd946723d",
            "15d528599cba4a79b0dadf17ed2afae4",
            "8b2ce681d8ea43d89cb91cfa86c1deec"
          ]
        }
      },
      "outputs": [
        {
          "output_type": "display_data",
          "data": {
            "text/plain": [
              "C&W L_2:   0%|          | 0/100 [00:00<?, ?it/s]"
            ],
            "application/vnd.jupyter.widget-view+json": {
              "version_major": 2,
              "version_minor": 0,
              "model_id": "10bff20fc3d748e7ace8b6ff82afd9c9"
            }
          },
          "metadata": {}
        },
        {
          "output_type": "display_data",
          "data": {
            "text/plain": [
              "EAD:   0%|          | 0/100 [00:00<?, ?it/s]"
            ],
            "application/vnd.jupyter.widget-view+json": {
              "version_major": 2,
              "version_minor": 0,
              "model_id": "25a49bc23355400396bf3ab0a79d2502"
            }
          },
          "metadata": {}
        },
        {
          "output_type": "display_data",
          "data": {
            "text/plain": [
              "JSMA:   0%|          | 0/100 [00:00<?, ?it/s]"
            ],
            "application/vnd.jupyter.widget-view+json": {
              "version_major": 2,
              "version_minor": 0,
              "model_id": "b9dc4ac02ce2455a8a75fcc3b2c27f9b"
            }
          },
          "metadata": {}
        },
        {
          "output_type": "stream",
          "name": "stdout",
          "text": [
            "(100, 1, 28, 28) (100, 1, 28, 28) (100, 1, 28, 28)\n"
          ]
        }
      ],
      "source": [
        "# Build a mapping from the true label to the fake label\n",
        "# For example, in the mapping below, we want the classifier to predict 0 images as 8.\n",
        "label_map = {0:8, 1:9, 2:3, 3:5, 4:6, 5:7, 6:4, 7:2, 8:1, 9:0}\n",
        "for k, v in label_map.items():\n",
        "    assert(k != v)\n",
        "assert(len(set(label_map.keys())) == 10)\n",
        "assert(len(set(label_map.values())) == 10)\n",
        "\n",
        "# Build target_y\n",
        "target_y_labels = []\n",
        "for i in range(final_train_y.shape[0]):\n",
        "    cur_true_label = final_train_y[i].tolist().index(1)\n",
        "    target_label = label_map[cur_true_label]\n",
        "    target_y_labels.append(target_label)\n",
        "target_y_labels = np.asarray(target_y_labels)\n",
        "target_y = keras.utils.to_categorical(target_y_labels, NUM_CLASSES)\n",
        "\n",
        "# Generate 300 adversarial images\n",
        "carlinil_adv_examples = generate_adv_examples_CarliniL2Method(substitute_model, final_train_x, target_y_labels)\n",
        "elastic_net_adv_examples = generate_adv_examples_ElasticNet(substitute_model, final_train_x, target_y_labels)\n",
        "saliency_adv_examples = generate_adv_examples_SaliencyMapMethod(substitute_model, final_train_x, target_y_labels)\n",
        "\n",
        "print(carlinil_adv_examples.shape, elastic_net_adv_examples.shape, saliency_adv_examples.shape)"
      ]
    },
    {
      "cell_type": "code",
      "source": [
        "def misclassification_ratio(labels, predictions):\n",
        "  if predictions.shape != (100,):\n",
        "    predictions = np.argmax(predictions, axis=1)\n",
        "  return np.count_nonzero(predictions==target_y_labels) / len(target_y_labels)"
      ],
      "metadata": {
        "id": "38pvE3ho5P3M"
      },
      "execution_count": 14,
      "outputs": []
    },
    {
      "cell_type": "code",
      "execution_count": 20,
      "metadata": {
        "pycharm": {
          "name": "#%%\n"
        },
        "id": "uLMrOQkA40tv",
        "outputId": "9af3895c-b214-4f4a-a20b-a887f0212654",
        "colab": {
          "base_uri": "https://localhost:8080/"
        }
      },
      "outputs": [
        {
          "output_type": "stream",
          "name": "stdout",
          "text": [
            "For CarliniL2Method attack, MR = 0.21\n",
            "For ElasticNet attack, MR = 0.85\n",
            "For SaliencyMapMethod attack, MR = 1.0\n"
          ]
        }
      ],
      "source": [
        "# Calculate Misclassification Ratio (MR) for CarliniL2Method attack\n",
        "predictions = substitute_model.predict(carlinil_adv_examples)\n",
        "carlinil_mr = misclassification_ratio(target_y_labels, predictions)\n",
        "print('For CarliniL2Method attack, MR = {}'.format(carlinil_mr))\n",
        "\n",
        "# # Calculate Misclassification Ratio (MR) for ElasticNet attack\n",
        "predictions = substitute_model.predict(elastic_net_adv_examples)\n",
        "elastic_net_mr = misclassification_ratio(target_y_labels, predictions)\n",
        "print('For ElasticNet attack, MR = {}'.format(elastic_net_mr))\n",
        "\n",
        "# # Calculate Misclassification Ratio (MR) for SaliencyMapMethod attack\n",
        "predictions = substitute_model.predict(saliency_adv_examples)\n",
        "saliency_mr = misclassification_ratio(target_y_labels, predictions)\n",
        "print('For SaliencyMapMethod attack, MR = {}'.format(saliency_mr))"
      ]
    },
    {
      "cell_type": "code",
      "execution_count": 23,
      "metadata": {
        "pycharm": {
          "name": "#%%\n"
        },
        "id": "13ClSlGi40tw",
        "outputId": "6c5af711-0abd-4c32-88a1-42ad431ce260",
        "colab": {
          "base_uri": "https://localhost:8080/",
          "height": 281
        }
      },
      "outputs": [
        {
          "output_type": "display_data",
          "data": {
            "text/plain": [
              "<Figure size 432x288 with 1 Axes>"
            ],
            "image/png": "[encoded data removed]"
          },
          "metadata": {
            "needs_background": "light"
          }
        }
      ],
      "source": [
        "# Make a plot\n",
        "X = ['CarliniL2Method','ElasticNet', 'SaliencyMapMethod']\n",
        "Y = [carlinil_mr, elastic_net_mr, saliency_mr]\n",
        "plt.bar(X, Y, color=['r', 'g', 'b'])\n",
        "plt.title('Misclassification Ratio (MR) for each attack')\n",
        "plt.show()\n",
        "plt.close()"
      ]
    },
    {
      "cell_type": "markdown",
      "metadata": {
        "pycharm": {
          "name": "#%% md\n"
        },
        "id": "K6iD7ckW40tw"
      },
      "source": [
        "## Part 2"
      ]
    },
    {
      "cell_type": "markdown",
      "metadata": {
        "pycharm": {
          "name": "#%% md\n"
        },
        "id": "KCkVzizU40tw"
      },
      "source": [
        "### You need to complete the following."
      ]
    },
    {
      "cell_type": "code",
      "execution_count": 24,
      "metadata": {
        "pycharm": {
          "name": "#%%\n"
        },
        "id": "lNhK2R-E40tw",
        "outputId": "c1a97a07-569c-4a1d-ca9d-97863295c24f",
        "colab": {
          "base_uri": "https://localhost:8080/"
        }
      },
      "outputs": [
        {
          "output_type": "stream",
          "name": "stdout",
          "text": [
            "For images of true class = 0\n",
            "Methods \t L0 \t L2 \t L_inf\n",
            "carlinil \t 258.6 \t 0.047363905983104616 \t 0.015909620955168475\n",
            "elastic_net \t 301.7 \t 2.2371393795663996 \t 0.3188082023981028\n",
            "saliency \t 203.5 \t 2.0112981264771332 \t 0.9315154637323285\n",
            "\n",
            "\n",
            "For images of true class = 1\n",
            "Methods \t L0 \t L2 \t L_inf\n",
            "carlinil \t 307.9 \t 0.23182663844902995 \t 0.09644928324443146\n",
            "elastic_net \t 203.1 \t 1.899119870482749 \t 0.42412535991158745\n",
            "saliency \t 99.6 \t 1.7386111742273929 \t 0.9300000190734863\n",
            "\n",
            "\n",
            "For images of true class = 2\n",
            "Methods \t L0 \t L2 \t L_inf\n",
            "carlinil \t 424.9 \t 0.24092135161402597 \t 0.07783480029999187\n",
            "elastic_net \t 313.2 \t 2.2626752483967976 \t 0.4282004784211475\n",
            "saliency \t 186.4 \t 1.5362545734341277 \t 0.8184155067720564\n",
            "\n",
            "\n",
            "For images of true class = 3\n",
            "Methods \t L0 \t L2 \t L_inf\n",
            "carlinil \t 288.2 \t 0.15842594222293716 \t 0.04581827498200639\n",
            "elastic_net \t 309.6 \t 3.975448261535791 \t 0.5492351912165455\n",
            "saliency \t 170.9 \t 2.5138429575748895 \t 0.9557545014232034\n",
            "\n",
            "\n",
            "For images of true class = 4\n",
            "Methods \t L0 \t L2 \t L_inf\n",
            "carlinil \t 204.9 \t 0.09440101954040225 \t 0.030336339244623457\n",
            "elastic_net \t 161.6 \t 0.17275591451167716 \t 0.05899798549239331\n",
            "saliency \t 153.2 \t 3.1991678600418845 \t 0.9950857495059434\n",
            "\n",
            "\n",
            "For images of true class = 5\n",
            "Methods \t L0 \t L2 \t L_inf\n",
            "carlinil \t 117.6 \t 9.957177775996605e-08 \t 2.7308131922421097e-08\n",
            "elastic_net \t 207.6 \t 2.9605400403599815 \t 0.6426713788676898\n",
            "saliency \t 121.7 \t 1.9422867742461236 \t 0.9674627062123771\n",
            "\n",
            "\n",
            "For images of true class = 6\n",
            "Methods \t L0 \t L2 \t L_inf\n",
            "carlinil \t 525.7 \t 0.707184151344541 \t 0.28000335808138777\n",
            "elastic_net \t 306.7 \t 0.991188299386286 \t 0.32018344634908563\n",
            "saliency \t 150.2 \t 1.511793184296673 \t 0.8224371520548981\n",
            "\n",
            "\n",
            "For images of true class = 7\n",
            "Methods \t L0 \t L2 \t L_inf\n",
            "carlinil \t 257.3 \t 0.12786208129872914 \t 0.039374974097510965\n",
            "elastic_net \t 312.8 \t 4.797935342633976 \t 0.6755264760288827\n",
            "saliency \t 136.1 \t 2.8996599324682757 \t 0.9659864775259646\n",
            "\n",
            "\n",
            "For images of true class = 8\n",
            "Methods \t L0 \t L2 \t L_inf\n",
            "carlinil \t 228.0 \t 0.07732994001857565 \t 0.02300656555181424\n",
            "elastic_net \t 269.7 \t 3.2424799417573036 \t 0.5267469234635399\n",
            "saliency \t 163.7 \t 1.939456512036155 \t 0.9255054620946777\n",
            "\n",
            "\n",
            "For images of true class = 9\n",
            "Methods \t L0 \t L2 \t L_inf\n",
            "carlinil \t 189.8 \t 0.04043495544087789 \t 0.01739722510928174\n",
            "elastic_net \t 353.0 \t 4.885423180809501 \t 0.6808202535565566\n",
            "saliency \t 132.9 \t 2.466317252987214 \t 0.960611956602872\n",
            "\n",
            "\n"
          ]
        }
      ],
      "source": [
        "# Imports\n",
        "from numpy import linalg as LA\n",
        "\n",
        "for class_label in range(0, 10):\n",
        "    print('For images of true class = {}'.format(class_label))\n",
        "    norms_average = {\n",
        "        'carlinil': {\n",
        "            'l0': 0,\n",
        "            'l2': 0,\n",
        "            'l_inf': 0,\n",
        "        },\n",
        "        'elastic_net': {\n",
        "            'l0': 0,\n",
        "            'l2': 0,\n",
        "            'l_inf': 0,\n",
        "        },\n",
        "        'saliency': {\n",
        "            'l0': 0,\n",
        "            'l2': 0,\n",
        "            'l_inf': 0,\n",
        "        },\n",
        "    }\n",
        "    \n",
        "    ctr = 0\n",
        "    n = final_train_y.shape[0]\n",
        "    cur_adv_examples = np.zeros(n)\n",
        "    for i in range(n):\n",
        "        cur_true_label = final_train_y[i].tolist().index(1)\n",
        "        if cur_true_label == class_label:\n",
        "            ctr += 1\n",
        "            for attack_method in ['carlinil', 'elastic_net', 'saliency']:\n",
        "                if attack_method == 'carlinil': cur_adv_examples = carlinil_adv_examples\n",
        "                elif attack_method == 'elastic_net': cur_adv_examples = elastic_net_adv_examples\n",
        "                elif attack_method == 'saliency': cur_adv_examples = saliency_adv_examples\n",
        "                x_diff = (final_train_x[i].squeeze() - cur_adv_examples[i].squeeze()).reshape(-1)\n",
        "                norms_average[attack_method]['l0'] += LA.norm(x_diff, 0)\n",
        "                norms_average[attack_method]['l2'] += LA.norm(x_diff, 2)\n",
        "                norms_average[attack_method]['l_inf'] += LA.norm(x_diff, np.inf)\n",
        "    \n",
        "    print('Methods \\t L0 \\t L2 \\t L_inf')\n",
        "    for attack_method in ['carlinil', 'elastic_net', 'saliency']:\n",
        "        l0_average = norms_average[attack_method]['l0'] / ctr\n",
        "        l2_average = norms_average[attack_method]['l2'] / ctr\n",
        "        linf_average = norms_average[attack_method]['l_inf'] / ctr\n",
        "        print('{} \\t {} \\t {} \\t {}'.format(attack_method, l0_average, l2_average, linf_average))\n",
        "    print('\\n')"
      ]
    },
    {
      "cell_type": "markdown",
      "metadata": {
        "pycharm": {
          "name": "#%% md\n"
        },
        "id": "zVayMw6A40tx"
      },
      "source": [
        "## Part 3"
      ]
    },
    {
      "cell_type": "markdown",
      "metadata": {
        "pycharm": {
          "name": "#%% md\n"
        },
        "id": "IVLBjIKO40tx"
      },
      "source": [
        "### You need to complete the following."
      ]
    },
    {
      "cell_type": "code",
      "source": [
        "!unzip network.zip"
      ],
      "metadata": {
        "id": "bjD8MQhJ5i2U",
        "outputId": "29653315-cf56-4bb6-b0a6-271cce564cc8",
        "colab": {
          "base_uri": "https://localhost:8080/"
        }
      },
      "execution_count": 27,
      "outputs": [
        {
          "output_type": "stream",
          "name": "stdout",
          "text": [
            "Archive:  network.zip\n",
            "   creating: network/\n",
            "  inflating: __MACOSX/._network      \n",
            "  inflating: network/mnist_loader.py  \n",
            "  inflating: __MACOSX/network/._mnist_loader.py  \n",
            "  inflating: network/trained_network.pkl  \n",
            "  inflating: __MACOSX/network/._trained_network.pkl  \n",
            "   creating: network/__pycache__/\n",
            "  inflating: network/network.py      \n",
            "  inflating: __MACOSX/network/._network.py  \n",
            "  inflating: network/__pycache__/mnist_loader.cpython-310.pyc  \n",
            "  inflating: network/__pycache__/network.cpython-310.pyc  \n"
          ]
        }
      ]
    },
    {
      "cell_type": "code",
      "execution_count": 28,
      "metadata": {
        "pycharm": {
          "name": "#%%\n"
        },
        "id": "z9mxn4UQ40tx"
      },
      "outputs": [],
      "source": [
        "# Imports\n",
        "\n",
        "# Reload the trained model from HW#3 Problem 4\n",
        "import network.network as Network\n",
        "import network.mnist_loader as mnist_loader\n",
        "import pickle\n",
        "\n",
        "# Load the pre-trained model.\n",
        "with open('network/trained_network.pkl', 'rb') as f:\n",
        "    u = pickle._Unpickler(f)\n",
        "    u.encoding = 'latin1'\n",
        "    target_net = u.load()"
      ]
    },
    {
      "cell_type": "code",
      "execution_count": 29,
      "metadata": {
        "pycharm": {
          "name": "#%%\n"
        },
        "id": "QjJOnoLY40ty"
      },
      "outputs": [],
      "source": [
        "def predict_using_target_net(x, verbose=False):\n",
        "    x = x.squeeze().reshape(-1, 1)\n",
        "    outputs = target_net.feedforward(x)\n",
        "    predictions = np.argmax(outputs)\n",
        "    if verbose:\n",
        "        print('Network output: \\n' + str(np.round(outputs, 2)) + '\\n')\n",
        "        print('Network prediction: ' + str(predictions) + '\\n')\n",
        "        print('Actual image: ')\n",
        "    \n",
        "        # Draw the image\n",
        "        plt.imshow(x.reshape((28,28)), cmap='Greys')\n",
        "    return predictions"
      ]
    },
    {
      "cell_type": "code",
      "execution_count": 30,
      "metadata": {
        "pycharm": {
          "name": "#%%\n"
        },
        "id": "6sY-Cm8240ty",
        "outputId": "96d86891-7b0e-46e6-fa29-65494be40601",
        "colab": {
          "base_uri": "https://localhost:8080/"
        }
      },
      "outputs": [
        {
          "output_type": "stream",
          "name": "stdout",
          "text": [
            "For carlinil, Misclassification Ratio = 0.04\n",
            "For elastic_net, Misclassification Ratio = 0.16\n",
            "For saliency, Misclassification Ratio = 0.06\n"
          ]
        }
      ],
      "source": [
        "# Evaluate whether adversarial examples generated with the substitute model will transfer to the target model\n",
        "for attack_method in ['carlinil', 'elastic_net', 'saliency']:\n",
        "    if attack_method == 'carlinil': cur_adv_examples = carlinil_adv_examples\n",
        "    elif attack_method == 'elastic_net': cur_adv_examples = elastic_net_adv_examples\n",
        "    elif attack_method == 'saliency': cur_adv_examples = saliency_adv_examples\n",
        "    predictions = [predict_using_target_net(example) for example in cur_adv_examples]\n",
        "    predictions = np.asarray(predictions)\n",
        "    mr = misclassification_ratio(target_y_labels, predictions)\n",
        "    print('For {}, Misclassification Ratio = {}'.format(attack_method, mr))"
      ]
    },
    {
      "cell_type": "markdown",
      "metadata": {
        "pycharm": {
          "name": "#%% md\n"
        },
        "id": "40Z9TjIc40ty"
      },
      "source": [
        "## Part 4"
      ]
    },
    {
      "cell_type": "markdown",
      "metadata": {
        "pycharm": {
          "name": "#%% md\n"
        },
        "id": "N7jQ5jap40tz"
      },
      "source": [
        "### You need to complete the following."
      ]
    },
    {
      "cell_type": "code",
      "execution_count": 31,
      "metadata": {
        "pycharm": {
          "name": "#%%\n"
        },
        "id": "vVkk9KQu40tz"
      },
      "outputs": [],
      "source": [
        "# Imports\n",
        "from sklearn.model_selection import GridSearchCV\n",
        "from sklearn.neural_network import MLPClassifier\n",
        "from sklearn.linear_model import LogisticRegression\n",
        "from sklearn.neighbors import KNeighborsClassifier\n",
        "from sklearn.naive_bayes import GaussianNB\n",
        "from sklearn.ensemble import VotingClassifier\n",
        "from sklearn.svm import SVC"
      ]
    },
    {
      "cell_type": "code",
      "execution_count": 32,
      "metadata": {
        "pycharm": {
          "name": "#%%\n"
        },
        "id": "M_Cqwo1N40tz"
      },
      "outputs": [],
      "source": [
        "# Re-load the MNIST dataset\n",
        "(x_train, y_train), (x_test, y_test) = mnist.load_data()\n",
        "\n",
        "# Normalization\n",
        "x_train = keras.utils.normalize(x_train, axis=1)\n",
        "x_test = keras.utils.normalize(x_test, axis=1)\n",
        "\n",
        "nb_trains = x_train.shape[0]\n",
        "nb_tests = x_test.shape[0]"
      ]
    },
    {
      "cell_type": "code",
      "execution_count": null,
      "metadata": {
        "pycharm": {
          "name": "#%%\n"
        },
        "id": "lCjHJ-Un40tz"
      },
      "outputs": [],
      "source": [
        "# ANN model\n",
        "ann_parameters = {\n",
        "'hidden_layer_sizes': [(100), (100,100)]\n",
        "}\n",
        "\n",
        "ann_clf = GridSearchCV(None)\n",
        "ann_clf.fit(None)\n",
        "print(None)"
      ]
    },
    {
      "cell_type": "code",
      "execution_count": null,
      "metadata": {
        "pycharm": {
          "name": "#%%\n"
        },
        "id": "go3v6PS140t0"
      },
      "outputs": [],
      "source": [
        "# SVM model\n",
        "svm_parameters = {\n",
        "    'kernel': ['rbf'],\n",
        "    'C': [1, 10]\n",
        "}\n",
        "\n",
        "svm_clf = GridSearchCV(None)\n",
        "svm_clf.fit(None)\n",
        "print(None)"
      ]
    },
    {
      "cell_type": "code",
      "execution_count": null,
      "metadata": {
        "pycharm": {
          "name": "#%%\n"
        },
        "id": "YLXaOIo-40t0"
      },
      "outputs": [],
      "source": [
        "# Logistic Regression model\n",
        "lr_parameters = {\n",
        "    'multi_class': ['auto'],\n",
        "    'penalty' : ['l1', 'l2'],\n",
        "    'C': [1, 10],\n",
        "}\n",
        "\n",
        "lr_clf = GridSearchCV(None)\n",
        "lr_clf.fit(None)\n",
        "print(None)"
      ]
    },
    {
      "cell_type": "code",
      "execution_count": null,
      "metadata": {
        "pycharm": {
          "name": "#%%\n"
        },
        "id": "enBWvBU040t0"
      },
      "outputs": [],
      "source": [
        "# kNN\n",
        "knn_parameters = {\n",
        "    'n_neighbors': [5],\n",
        "    'weights': ['uniform', 'distance']\n",
        "}\n",
        "knn_clf = GridSearchCV(None)\n",
        "knn_clf.fit(None)\n",
        "print(None)"
      ]
    },
    {
      "cell_type": "code",
      "execution_count": null,
      "metadata": {
        "pycharm": {
          "name": "#%%\n"
        },
        "id": "BkuBGVK740t0"
      },
      "outputs": [],
      "source": [
        "# Naive Bayes\n",
        "naive_bayes_parameters = {\n",
        "    'var_smoothing': [1e-3, 1e-2, 1e-1]\n",
        "}\n",
        "naive_bayes_clf = None\n",
        "naive_bayes_clf.fit(None)\n",
        "print(None)"
      ]
    },
    {
      "cell_type": "code",
      "execution_count": null,
      "metadata": {
        "pycharm": {
          "name": "#%%\n"
        },
        "id": "6UKXRhh-40t1"
      },
      "outputs": [],
      "source": [
        "# Voting classifiers\n",
        "voting_clf = VotingClassifier(estimators=[\n",
        "                                ('naive_bayes', GaussianNB()),\n",
        "                                ('ann', MLPClassifier()),\n",
        "                                ('lr', LogisticRegression()),\n",
        "                               ], voting='soft')\n",
        "\n",
        "params = {\n",
        "          'naive_bayes__var_smoothing': [1e-3, 1e-2, 1e-1],\n",
        "          'lr__C': [1, 10],\n",
        "          'ann__hidden_layer_sizes': [(100), (100,100)]}\n",
        "\n",
        "voting_clf = GridSearchCV(None)\n",
        "voting_clf.fit(None)\n",
        "print(None)"
      ]
    },
    {
      "cell_type": "code",
      "execution_count": null,
      "metadata": {
        "pycharm": {
          "name": "#%%\n"
        },
        "id": "qAlcx4hg40t1"
      },
      "outputs": [],
      "source": [
        "classifier_names = ['ANN', 'SVM', 'Logistic Regression', 'kNN', 'Naive Bayes', 'Voting classifiers']\n",
        "classifiers = [ann_clf, svm_clf, lr_clf, knn_clf, naive_bayes_clf, voting_clf]\n",
        "print('Methods \\t Test Acc \\t Carlinil MR \\t ElasticNet MR \\t Saliency MR')\n",
        "for i in range(len(classifiers)):\n",
        "    test_acc = None\n",
        "    carlinil_acc = None\n",
        "    elasticnet_acc = None\n",
        "    saliency_acc = None\n",
        "    print('{} \\t {} \\t {} \\t {} \\t {}'.format(classifier_names[i], str(test_acc), str(carlinil_acc), str(elasticnet_acc), str(saliency_acc)))"
      ]
    }
  ],
  "metadata": {
    "kernelspec": {
      "display_name": "Python 3 (ipykernel)",
      "language": "python",
      "name": "python3"
    },
    "language_info": {
      "codemirror_mode": {
        "name": "ipython",
        "version": 3
      },
      "file_extension": ".py",
      "mimetype": "text/x-python",
      "name": "python",
      "nbconvert_exporter": "python",
      "pygments_lexer": "ipython3",
      "version": "3.10.6"
    },
    "colab": {
      "provenance": []
    },
    "accelerator": "GPU",
    "gpuClass": "standard",
    "widgets": {
      "application/vnd.jupyter.widget-state+json": {
        "10bff20fc3d748e7ace8b6ff82afd9c9": {
          "model_module": "@jupyter-widgets/controls",
          "model_name": "HBoxModel",
          "model_module_version": "1.5.0",
          "state": {
            "_dom_classes": [],
            "_model_module": "@jupyter-widgets/controls",
            "_model_module_version": "1.5.0",
            "_model_name": "HBoxModel",
            "_view_count": null,
            "_view_module": "@jupyter-widgets/controls",
            "_view_module_version": "1.5.0",
            "_view_name": "HBoxView",
            "box_style": "",
            "children": [
              "IPY_MODEL_78efba2645ee45e4a1af261d2d9dacf8",
              "IPY_MODEL_6fa0d0070b7e4afc92261f9d8487ebf0",
              "IPY_MODEL_601a8eb9598b454f91affae6a95f24b7"
            ],
            "layout": "IPY_MODEL_478dc99b4a42497c95652170780c2eea"
          }
        },
        "78efba2645ee45e4a1af261d2d9dacf8": {
          "model_module": "@jupyter-widgets/controls",
          "model_name": "HTMLModel",
          "model_module_version": "1.5.0",
          "state": {
            "_dom_classes": [],
            "_model_module": "@jupyter-widgets/controls",
            "_model_module_version": "1.5.0",
            "_model_name": "HTMLModel",
            "_view_count": null,
            "_view_module": "@jupyter-widgets/controls",
            "_view_module_version": "1.5.0",
            "_view_name": "HTMLView",
            "description": "",
            "description_tooltip": null,
            "layout": "IPY_MODEL_fd3123f902904e079e18ac390c1a8004",
            "placeholder": "​",
            "style": "IPY_MODEL_5d5d4c8136604621a1b98569ecdd6005",
            "value": "C&amp;W L_2: 100%"
          }
        },
        "6fa0d0070b7e4afc92261f9d8487ebf0": {
          "model_module": "@jupyter-widgets/controls",
          "model_name": "FloatProgressModel",
          "model_module_version": "1.5.0",
          "state": {
            "_dom_classes": [],
            "_model_module": "@jupyter-widgets/controls",
            "_model_module_version": "1.5.0",
            "_model_name": "FloatProgressModel",
            "_view_count": null,
            "_view_module": "@jupyter-widgets/controls",
            "_view_module_version": "1.5.0",
            "_view_name": "ProgressView",
            "bar_style": "success",
            "description": "",
            "description_tooltip": null,
            "layout": "IPY_MODEL_3491b3e9aaab4671a3b432448958428d",
            "max": 100,
            "min": 0,
            "orientation": "horizontal",
            "style": "IPY_MODEL_a965bb35bcf24388be525b243d0b67ba",
            "value": 100
          }
        },
        "601a8eb9598b454f91affae6a95f24b7": {
          "model_module": "@jupyter-widgets/controls",
          "model_name": "HTMLModel",
          "model_module_version": "1.5.0",
          "state": {
            "_dom_classes": [],
            "_model_module": "@jupyter-widgets/controls",
            "_model_module_version": "1.5.0",
            "_model_name": "HTMLModel",
            "_view_count": null,
            "_view_module": "@jupyter-widgets/controls",
            "_view_module_version": "1.5.0",
            "_view_name": "HTMLView",
            "description": "",
            "description_tooltip": null,
            "layout": "IPY_MODEL_d8546013c2eb43689f62109a672848c3",
            "placeholder": "​",
            "style": "IPY_MODEL_93014becf74d46f5a7127b5b458f014c",
            "value": " 100/100 [01:58&lt;00:00,  1.20s/it]"
          }
        },
        "478dc99b4a42497c95652170780c2eea": {
          "model_module": "@jupyter-widgets/base",
          "model_name": "LayoutModel",
          "model_module_version": "1.2.0",
          "state": {
            "_model_module": "@jupyter-widgets/base",
            "_model_module_version": "1.2.0",
            "_model_name": "LayoutModel",
            "_view_count": null,
            "_view_module": "@jupyter-widgets/base",
            "_view_module_version": "1.2.0",
            "_view_name": "LayoutView",
            "align_content": null,
            "align_items": null,
            "align_self": null,
            "border": null,
            "bottom": null,
            "display": null,
            "flex": null,
            "flex_flow": null,
            "grid_area": null,
            "grid_auto_columns": null,
            "grid_auto_flow": null,
            "grid_auto_rows": null,
            "grid_column": null,
            "grid_gap": null,
            "grid_row": null,
            "grid_template_areas": null,
            "grid_template_columns": null,
            "grid_template_rows": null,
            "height": null,
            "justify_content": null,
            "justify_items": null,
            "left": null,
            "margin": null,
            "max_height": null,
            "max_width": null,
            "min_height": null,
            "min_width": null,
            "object_fit": null,
            "object_position": null,
            "order": null,
            "overflow": null,
            "overflow_x": null,
            "overflow_y": null,
            "padding": null,
            "right": null,
            "top": null,
            "visibility": null,
            "width": null
          }
        },
        "fd3123f902904e079e18ac390c1a8004": {
          "model_module": "@jupyter-widgets/base",
          "model_name": "LayoutModel",
          "model_module_version": "1.2.0",
          "state": {
            "_model_module": "@jupyter-widgets/base",
            "_model_module_version": "1.2.0",
            "_model_name": "LayoutModel",
            "_view_count": null,
            "_view_module": "@jupyter-widgets/base",
            "_view_module_version": "1.2.0",
            "_view_name": "LayoutView",
            "align_content": null,
            "align_items": null,
            "align_self": null,
            "border": null,
            "bottom": null,
            "display": null,
            "flex": null,
            "flex_flow": null,
            "grid_area": null,
            "grid_auto_columns": null,
            "grid_auto_flow": null,
            "grid_auto_rows": null,
            "grid_column": null,
            "grid_gap": null,
            "grid_row": null,
            "grid_template_areas": null,
            "grid_template_columns": null,
            "grid_template_rows": null,
            "height": null,
            "justify_content": null,
            "justify_items": null,
            "left": null,
            "margin": null,
            "max_height": null,
            "max_width": null,
            "min_height": null,
            "min_width": null,
            "object_fit": null,
            "object_position": null,
            "order": null,
            "overflow": null,
            "overflow_x": null,
            "overflow_y": null,
            "padding": null,
            "right": null,
            "top": null,
            "visibility": null,
            "width": null
          }
        },
        "5d5d4c8136604621a1b98569ecdd6005": {
          "model_module": "@jupyter-widgets/controls",
          "model_name": "DescriptionStyleModel",
          "model_module_version": "1.5.0",
          "state": {
            "_model_module": "@jupyter-widgets/controls",
            "_model_module_version": "1.5.0",
            "_model_name": "DescriptionStyleModel",
            "_view_count": null,
            "_view_module": "@jupyter-widgets/base",
            "_view_module_version": "1.2.0",
            "_view_name": "StyleView",
            "description_width": ""
          }
        },
        "3491b3e9aaab4671a3b432448958428d": {
          "model_module": "@jupyter-widgets/base",
          "model_name": "LayoutModel",
          "model_module_version": "1.2.0",
          "state": {
            "_model_module": "@jupyter-widgets/base",
            "_model_module_version": "1.2.0",
            "_model_name": "LayoutModel",
            "_view_count": null,
            "_view_module": "@jupyter-widgets/base",
            "_view_module_version": "1.2.0",
            "_view_name": "LayoutView",
            "align_content": null,
            "align_items": null,
            "align_self": null,
            "border": null,
            "bottom": null,
            "display": null,
            "flex": null,
            "flex_flow": null,
            "grid_area": null,
            "grid_auto_columns": null,
            "grid_auto_flow": null,
            "grid_auto_rows": null,
            "grid_column": null,
            "grid_gap": null,
            "grid_row": null,
            "grid_template_areas": null,
            "grid_template_columns": null,
            "grid_template_rows": null,
            "height": null,
            "justify_content": null,
            "justify_items": null,
            "left": null,
            "margin": null,
            "max_height": null,
            "max_width": null,
            "min_height": null,
            "min_width": null,
            "object_fit": null,
            "object_position": null,
            "order": null,
            "overflow": null,
            "overflow_x": null,
            "overflow_y": null,
            "padding": null,
            "right": null,
            "top": null,
            "visibility": null,
            "width": null
          }
        },
        "a965bb35bcf24388be525b243d0b67ba": {
          "model_module": "@jupyter-widgets/controls",
          "model_name": "ProgressStyleModel",
          "model_module_version": "1.5.0",
          "state": {
            "_model_module": "@jupyter-widgets/controls",
            "_model_module_version": "1.5.0",
            "_model_name": "ProgressStyleModel",
            "_view_count": null,
            "_view_module": "@jupyter-widgets/base",
            "_view_module_version": "1.2.0",
            "_view_name": "StyleView",
            "bar_color": null,
            "description_width": ""
          }
        },
        "d8546013c2eb43689f62109a672848c3": {
          "model_module": "@jupyter-widgets/base",
          "model_name": "LayoutModel",
          "model_module_version": "1.2.0",
          "state": {
            "_model_module": "@jupyter-widgets/base",
            "_model_module_version": "1.2.0",
            "_model_name": "LayoutModel",
            "_view_count": null,
            "_view_module": "@jupyter-widgets/base",
            "_view_module_version": "1.2.0",
            "_view_name": "LayoutView",
            "align_content": null,
            "align_items": null,
            "align_self": null,
            "border": null,
            "bottom": null,
            "display": null,
            "flex": null,
            "flex_flow": null,
            "grid_area": null,
            "grid_auto_columns": null,
            "grid_auto_flow": null,
            "grid_auto_rows": null,
            "grid_column": null,
            "grid_gap": null,
            "grid_row": null,
            "grid_template_areas": null,
            "grid_template_columns": null,
            "grid_template_rows": null,
            "height": null,
            "justify_content": null,
            "justify_items": null,
            "left": null,
            "margin": null,
            "max_height": null,
            "max_width": null,
            "min_height": null,
            "min_width": null,
            "object_fit": null,
            "object_position": null,
            "order": null,
            "overflow": null,
            "overflow_x": null,
            "overflow_y": null,
            "padding": null,
            "right": null,
            "top": null,
            "visibility": null,
            "width": null
          }
        },
        "93014becf74d46f5a7127b5b458f014c": {
          "model_module": "@jupyter-widgets/controls",
          "model_name": "DescriptionStyleModel",
          "model_module_version": "1.5.0",
          "state": {
            "_model_module": "@jupyter-widgets/controls",
            "_model_module_version": "1.5.0",
            "_model_name": "DescriptionStyleModel",
            "_view_count": null,
            "_view_module": "@jupyter-widgets/base",
            "_view_module_version": "1.2.0",
            "_view_name": "StyleView",
            "description_width": ""
          }
        },
        "25a49bc23355400396bf3ab0a79d2502": {
          "model_module": "@jupyter-widgets/controls",
          "model_name": "HBoxModel",
          "model_module_version": "1.5.0",
          "state": {
            "_dom_classes": [],
            "_model_module": "@jupyter-widgets/controls",
            "_model_module_version": "1.5.0",
            "_model_name": "HBoxModel",
            "_view_count": null,
            "_view_module": "@jupyter-widgets/controls",
            "_view_module_version": "1.5.0",
            "_view_name": "HBoxView",
            "box_style": "",
            "children": [
              "IPY_MODEL_40f5f9383e67411095c7c533a3c2729b",
              "IPY_MODEL_c6ada14f2576423f84548154284cab14",
              "IPY_MODEL_30008c01724c4baf9f78bd39b653dfb8"
            ],
            "layout": "IPY_MODEL_ef431f9e86b34b7c95cab96d65fce215"
          }
        },
        "40f5f9383e67411095c7c533a3c2729b": {
          "model_module": "@jupyter-widgets/controls",
          "model_name": "HTMLModel",
          "model_module_version": "1.5.0",
          "state": {
            "_dom_classes": [],
            "_model_module": "@jupyter-widgets/controls",
            "_model_module_version": "1.5.0",
            "_model_name": "HTMLModel",
            "_view_count": null,
            "_view_module": "@jupyter-widgets/controls",
            "_view_module_version": "1.5.0",
            "_view_name": "HTMLView",
            "description": "",
            "description_tooltip": null,
            "layout": "IPY_MODEL_dff4c9fb807d4cb58260ce08ae40be5a",
            "placeholder": "​",
            "style": "IPY_MODEL_ddf8107d223b4c9d98d1d5627b9ec72b",
            "value": "EAD: 100%"
          }
        },
        "c6ada14f2576423f84548154284cab14": {
          "model_module": "@jupyter-widgets/controls",
          "model_name": "FloatProgressModel",
          "model_module_version": "1.5.0",
          "state": {
            "_dom_classes": [],
            "_model_module": "@jupyter-widgets/controls",
            "_model_module_version": "1.5.0",
            "_model_name": "FloatProgressModel",
            "_view_count": null,
            "_view_module": "@jupyter-widgets/controls",
            "_view_module_version": "1.5.0",
            "_view_name": "ProgressView",
            "bar_style": "success",
            "description": "",
            "description_tooltip": null,
            "layout": "IPY_MODEL_5cabeb270e184d4b9bcdfd8f9ad1d05c",
            "max": 100,
            "min": 0,
            "orientation": "horizontal",
            "style": "IPY_MODEL_9da5fdc34d134a5991e64dae115831b5",
            "value": 100
          }
        },
        "30008c01724c4baf9f78bd39b653dfb8": {
          "model_module": "@jupyter-widgets/controls",
          "model_name": "HTMLModel",
          "model_module_version": "1.5.0",
          "state": {
            "_dom_classes": [],
            "_model_module": "@jupyter-widgets/controls",
            "_model_module_version": "1.5.0",
            "_model_name": "HTMLModel",
            "_view_count": null,
            "_view_module": "@jupyter-widgets/controls",
            "_view_module_version": "1.5.0",
            "_view_name": "HTMLView",
            "description": "",
            "description_tooltip": null,
            "layout": "IPY_MODEL_6238b05e27594129b2f21abf007d4227",
            "placeholder": "​",
            "style": "IPY_MODEL_a202fc5e8528460eb039dbde8c610e5e",
            "value": " 100/100 [09:55&lt;00:00,  5.82s/it]"
          }
        },
        "ef431f9e86b34b7c95cab96d65fce215": {
          "model_module": "@jupyter-widgets/base",
          "model_name": "LayoutModel",
          "model_module_version": "1.2.0",
          "state": {
            "_model_module": "@jupyter-widgets/base",
            "_model_module_version": "1.2.0",
            "_model_name": "LayoutModel",
            "_view_count": null,
            "_view_module": "@jupyter-widgets/base",
            "_view_module_version": "1.2.0",
            "_view_name": "LayoutView",
            "align_content": null,
            "align_items": null,
            "align_self": null,
            "border": null,
            "bottom": null,
            "display": null,
            "flex": null,
            "flex_flow": null,
            "grid_area": null,
            "grid_auto_columns": null,
            "grid_auto_flow": null,
            "grid_auto_rows": null,
            "grid_column": null,
            "grid_gap": null,
            "grid_row": null,
            "grid_template_areas": null,
            "grid_template_columns": null,
            "grid_template_rows": null,
            "height": null,
            "justify_content": null,
            "justify_items": null,
            "left": null,
            "margin": null,
            "max_height": null,
            "max_width": null,
            "min_height": null,
            "min_width": null,
            "object_fit": null,
            "object_position": null,
            "order": null,
            "overflow": null,
            "overflow_x": null,
            "overflow_y": null,
            "padding": null,
            "right": null,
            "top": null,
            "visibility": null,
            "width": null
          }
        },
        "dff4c9fb807d4cb58260ce08ae40be5a": {
          "model_module": "@jupyter-widgets/base",
          "model_name": "LayoutModel",
          "model_module_version": "1.2.0",
          "state": {
            "_model_module": "@jupyter-widgets/base",
            "_model_module_version": "1.2.0",
            "_model_name": "LayoutModel",
            "_view_count": null,
            "_view_module": "@jupyter-widgets/base",
            "_view_module_version": "1.2.0",
            "_view_name": "LayoutView",
            "align_content": null,
            "align_items": null,
            "align_self": null,
            "border": null,
            "bottom": null,
            "display": null,
            "flex": null,
            "flex_flow": null,
            "grid_area": null,
            "grid_auto_columns": null,
            "grid_auto_flow": null,
            "grid_auto_rows": null,
            "grid_column": null,
            "grid_gap": null,
            "grid_row": null,
            "grid_template_areas": null,
            "grid_template_columns": null,
            "grid_template_rows": null,
            "height": null,
            "justify_content": null,
            "justify_items": null,
            "left": null,
            "margin": null,
            "max_height": null,
            "max_width": null,
            "min_height": null,
            "min_width": null,
            "object_fit": null,
            "object_position": null,
            "order": null,
            "overflow": null,
            "overflow_x": null,
            "overflow_y": null,
            "padding": null,
            "right": null,
            "top": null,
            "visibility": null,
            "width": null
          }
        },
        "ddf8107d223b4c9d98d1d5627b9ec72b": {
          "model_module": "@jupyter-widgets/controls",
          "model_name": "DescriptionStyleModel",
          "model_module_version": "1.5.0",
          "state": {
            "_model_module": "@jupyter-widgets/controls",
            "_model_module_version": "1.5.0",
            "_model_name": "DescriptionStyleModel",
            "_view_count": null,
            "_view_module": "@jupyter-widgets/base",
            "_view_module_version": "1.2.0",
            "_view_name": "StyleView",
            "description_width": ""
          }
        },
        "5cabeb270e184d4b9bcdfd8f9ad1d05c": {
          "model_module": "@jupyter-widgets/base",
          "model_name": "LayoutModel",
          "model_module_version": "1.2.0",
          "state": {
            "_model_module": "@jupyter-widgets/base",
            "_model_module_version": "1.2.0",
            "_model_name": "LayoutModel",
            "_view_count": null,
            "_view_module": "@jupyter-widgets/base",
            "_view_module_version": "1.2.0",
            "_view_name": "LayoutView",
            "align_content": null,
            "align_items": null,
            "align_self": null,
            "border": null,
            "bottom": null,
            "display": null,
            "flex": null,
            "flex_flow": null,
            "grid_area": null,
            "grid_auto_columns": null,
            "grid_auto_flow": null,
            "grid_auto_rows": null,
            "grid_column": null,
            "grid_gap": null,
            "grid_row": null,
            "grid_template_areas": null,
            "grid_template_columns": null,
            "grid_template_rows": null,
            "height": null,
            "justify_content": null,
            "justify_items": null,
            "left": null,
            "margin": null,
            "max_height": null,
            "max_width": null,
            "min_height": null,
            "min_width": null,
            "object_fit": null,
            "object_position": null,
            "order": null,
            "overflow": null,
            "overflow_x": null,
            "overflow_y": null,
            "padding": null,
            "right": null,
            "top": null,
            "visibility": null,
            "width": null
          }
        },
        "9da5fdc34d134a5991e64dae115831b5": {
          "model_module": "@jupyter-widgets/controls",
          "model_name": "ProgressStyleModel",
          "model_module_version": "1.5.0",
          "state": {
            "_model_module": "@jupyter-widgets/controls",
            "_model_module_version": "1.5.0",
            "_model_name": "ProgressStyleModel",
            "_view_count": null,
            "_view_module": "@jupyter-widgets/base",
            "_view_module_version": "1.2.0",
            "_view_name": "StyleView",
            "bar_color": null,
            "description_width": ""
          }
        },
        "6238b05e27594129b2f21abf007d4227": {
          "model_module": "@jupyter-widgets/base",
          "model_name": "LayoutModel",
          "model_module_version": "1.2.0",
          "state": {
            "_model_module": "@jupyter-widgets/base",
            "_model_module_version": "1.2.0",
            "_model_name": "LayoutModel",
            "_view_count": null,
            "_view_module": "@jupyter-widgets/base",
            "_view_module_version": "1.2.0",
            "_view_name": "LayoutView",
            "align_content": null,
            "align_items": null,
            "align_self": null,
            "border": null,
            "bottom": null,
            "display": null,
            "flex": null,
            "flex_flow": null,
            "grid_area": null,
            "grid_auto_columns": null,
            "grid_auto_flow": null,
            "grid_auto_rows": null,
            "grid_column": null,
            "grid_gap": null,
            "grid_row": null,
            "grid_template_areas": null,
            "grid_template_columns": null,
            "grid_template_rows": null,
            "height": null,
            "justify_content": null,
            "justify_items": null,
            "left": null,
            "margin": null,
            "max_height": null,
            "max_width": null,
            "min_height": null,
            "min_width": null,
            "object_fit": null,
            "object_position": null,
            "order": null,
            "overflow": null,
            "overflow_x": null,
            "overflow_y": null,
            "padding": null,
            "right": null,
            "top": null,
            "visibility": null,
            "width": null
          }
        },
        "a202fc5e8528460eb039dbde8c610e5e": {
          "model_module": "@jupyter-widgets/controls",
          "model_name": "DescriptionStyleModel",
          "model_module_version": "1.5.0",
          "state": {
            "_model_module": "@jupyter-widgets/controls",
            "_model_module_version": "1.5.0",
            "_model_name": "DescriptionStyleModel",
            "_view_count": null,
            "_view_module": "@jupyter-widgets/base",
            "_view_module_version": "1.2.0",
            "_view_name": "StyleView",
            "description_width": ""
          }
        },
        "b9dc4ac02ce2455a8a75fcc3b2c27f9b": {
          "model_module": "@jupyter-widgets/controls",
          "model_name": "HBoxModel",
          "model_module_version": "1.5.0",
          "state": {
            "_dom_classes": [],
            "_model_module": "@jupyter-widgets/controls",
            "_model_module_version": "1.5.0",
            "_model_name": "HBoxModel",
            "_view_count": null,
            "_view_module": "@jupyter-widgets/controls",
            "_view_module_version": "1.5.0",
            "_view_name": "HBoxView",
            "box_style": "",
            "children": [
              "IPY_MODEL_30ea4d16bd664f39a1e9aaa9eadae3ea",
              "IPY_MODEL_41fcb2a5f1694a5993ddb6eb0291c172",
              "IPY_MODEL_c86f0ab9f4fe452db8e761676a60fe60"
            ],
            "layout": "IPY_MODEL_64d36cb18b3e49bc8eee46e805660d30"
          }
        },
        "30ea4d16bd664f39a1e9aaa9eadae3ea": {
          "model_module": "@jupyter-widgets/controls",
          "model_name": "HTMLModel",
          "model_module_version": "1.5.0",
          "state": {
            "_dom_classes": [],
            "_model_module": "@jupyter-widgets/controls",
            "_model_module_version": "1.5.0",
            "_model_name": "HTMLModel",
            "_view_count": null,
            "_view_module": "@jupyter-widgets/controls",
            "_view_module_version": "1.5.0",
            "_view_name": "HTMLView",
            "description": "",
            "description_tooltip": null,
            "layout": "IPY_MODEL_2abfeccc682543e582bf291b46957bdf",
            "placeholder": "​",
            "style": "IPY_MODEL_824e77e37b144d8c9b5f0cf587ad0269",
            "value": "JSMA: 100%"
          }
        },
        "41fcb2a5f1694a5993ddb6eb0291c172": {
          "model_module": "@jupyter-widgets/controls",
          "model_name": "FloatProgressModel",
          "model_module_version": "1.5.0",
          "state": {
            "_dom_classes": [],
            "_model_module": "@jupyter-widgets/controls",
            "_model_module_version": "1.5.0",
            "_model_name": "FloatProgressModel",
            "_view_count": null,
            "_view_module": "@jupyter-widgets/controls",
            "_view_module_version": "1.5.0",
            "_view_name": "ProgressView",
            "bar_style": "success",
            "description": "",
            "description_tooltip": null,
            "layout": "IPY_MODEL_132cef3f43e547c1a0e5de18dd09db92",
            "max": 100,
            "min": 0,
            "orientation": "horizontal",
            "style": "IPY_MODEL_7ab57ffeadde48939072390bd946723d",
            "value": 100
          }
        },
        "c86f0ab9f4fe452db8e761676a60fe60": {
          "model_module": "@jupyter-widgets/controls",
          "model_name": "HTMLModel",
          "model_module_version": "1.5.0",
          "state": {
            "_dom_classes": [],
            "_model_module": "@jupyter-widgets/controls",
            "_model_module_version": "1.5.0",
            "_model_name": "HTMLModel",
            "_view_count": null,
            "_view_module": "@jupyter-widgets/controls",
            "_view_module_version": "1.5.0",
            "_view_name": "HTMLView",
            "description": "",
            "description_tooltip": null,
            "layout": "IPY_MODEL_15d528599cba4a79b0dadf17ed2afae4",
            "placeholder": "​",
            "style": "IPY_MODEL_8b2ce681d8ea43d89cb91cfa86c1deec",
            "value": " 100/100 [00:11&lt;00:00,  6.46it/s]"
          }
        },
        "64d36cb18b3e49bc8eee46e805660d30": {
          "model_module": "@jupyter-widgets/base",
          "model_name": "LayoutModel",
          "model_module_version": "1.2.0",
          "state": {
            "_model_module": "@jupyter-widgets/base",
            "_model_module_version": "1.2.0",
            "_model_name": "LayoutModel",
            "_view_count": null,
            "_view_module": "@jupyter-widgets/base",
            "_view_module_version": "1.2.0",
            "_view_name": "LayoutView",
            "align_content": null,
            "align_items": null,
            "align_self": null,
            "border": null,
            "bottom": null,
            "display": null,
            "flex": null,
            "flex_flow": null,
            "grid_area": null,
            "grid_auto_columns": null,
            "grid_auto_flow": null,
            "grid_auto_rows": null,
            "grid_column": null,
            "grid_gap": null,
            "grid_row": null,
            "grid_template_areas": null,
            "grid_template_columns": null,
            "grid_template_rows": null,
            "height": null,
            "justify_content": null,
            "justify_items": null,
            "left": null,
            "margin": null,
            "max_height": null,
            "max_width": null,
            "min_height": null,
            "min_width": null,
            "object_fit": null,
            "object_position": null,
            "order": null,
            "overflow": null,
            "overflow_x": null,
            "overflow_y": null,
            "padding": null,
            "right": null,
            "top": null,
            "visibility": null,
            "width": null
          }
        },
        "2abfeccc682543e582bf291b46957bdf": {
          "model_module": "@jupyter-widgets/base",
          "model_name": "LayoutModel",
          "model_module_version": "1.2.0",
          "state": {
            "_model_module": "@jupyter-widgets/base",
            "_model_module_version": "1.2.0",
            "_model_name": "LayoutModel",
            "_view_count": null,
            "_view_module": "@jupyter-widgets/base",
            "_view_module_version": "1.2.0",
            "_view_name": "LayoutView",
            "align_content": null,
            "align_items": null,
            "align_self": null,
            "border": null,
            "bottom": null,
            "display": null,
            "flex": null,
            "flex_flow": null,
            "grid_area": null,
            "grid_auto_columns": null,
            "grid_auto_flow": null,
            "grid_auto_rows": null,
            "grid_column": null,
            "grid_gap": null,
            "grid_row": null,
            "grid_template_areas": null,
            "grid_template_columns": null,
            "grid_template_rows": null,
            "height": null,
            "justify_content": null,
            "justify_items": null,
            "left": null,
            "margin": null,
            "max_height": null,
            "max_width": null,
            "min_height": null,
            "min_width": null,
            "object_fit": null,
            "object_position": null,
            "order": null,
            "overflow": null,
            "overflow_x": null,
            "overflow_y": null,
            "padding": null,
            "right": null,
            "top": null,
            "visibility": null,
            "width": null
          }
        },
        "824e77e37b144d8c9b5f0cf587ad0269": {
          "model_module": "@jupyter-widgets/controls",
          "model_name": "DescriptionStyleModel",
          "model_module_version": "1.5.0",
          "state": {
            "_model_module": "@jupyter-widgets/controls",
            "_model_module_version": "1.5.0",
            "_model_name": "DescriptionStyleModel",
            "_view_count": null,
            "_view_module": "@jupyter-widgets/base",
            "_view_module_version": "1.2.0",
            "_view_name": "StyleView",
            "description_width": ""
          }
        },
        "132cef3f43e547c1a0e5de18dd09db92": {
          "model_module": "@jupyter-widgets/base",
          "model_name": "LayoutModel",
          "model_module_version": "1.2.0",
          "state": {
            "_model_module": "@jupyter-widgets/base",
            "_model_module_version": "1.2.0",
            "_model_name": "LayoutModel",
            "_view_count": null,
            "_view_module": "@jupyter-widgets/base",
            "_view_module_version": "1.2.0",
            "_view_name": "LayoutView",
            "align_content": null,
            "align_items": null,
            "align_self": null,
            "border": null,
            "bottom": null,
            "display": null,
            "flex": null,
            "flex_flow": null,
            "grid_area": null,
            "grid_auto_columns": null,
            "grid_auto_flow": null,
            "grid_auto_rows": null,
            "grid_column": null,
            "grid_gap": null,
            "grid_row": null,
            "grid_template_areas": null,
            "grid_template_columns": null,
            "grid_template_rows": null,
            "height": null,
            "justify_content": null,
            "justify_items": null,
            "left": null,
            "margin": null,
            "max_height": null,
            "max_width": null,
            "min_height": null,
            "min_width": null,
            "object_fit": null,
            "object_position": null,
            "order": null,
            "overflow": null,
            "overflow_x": null,
            "overflow_y": null,
            "padding": null,
            "right": null,
            "top": null,
            "visibility": null,
            "width": null
          }
        },
        "7ab57ffeadde48939072390bd946723d": {
          "model_module": "@jupyter-widgets/controls",
          "model_name": "ProgressStyleModel",
          "model_module_version": "1.5.0",
          "state": {
            "_model_module": "@jupyter-widgets/controls",
            "_model_module_version": "1.5.0",
            "_model_name": "ProgressStyleModel",
            "_view_count": null,
            "_view_module": "@jupyter-widgets/base",
            "_view_module_version": "1.2.0",
            "_view_name": "StyleView",
            "bar_color": null,
            "description_width": ""
          }
        },
        "15d528599cba4a79b0dadf17ed2afae4": {
          "model_module": "@jupyter-widgets/base",
          "model_name": "LayoutModel",
          "model_module_version": "1.2.0",
          "state": {
            "_model_module": "@jupyter-widgets/base",
            "_model_module_version": "1.2.0",
            "_model_name": "LayoutModel",
            "_view_count": null,
            "_view_module": "@jupyter-widgets/base",
            "_view_module_version": "1.2.0",
            "_view_name": "LayoutView",
            "align_content": null,
            "align_items": null,
            "align_self": null,
            "border": null,
            "bottom": null,
            "display": null,
            "flex": null,
            "flex_flow": null,
            "grid_area": null,
            "grid_auto_columns": null,
            "grid_auto_flow": null,
            "grid_auto_rows": null,
            "grid_column": null,
            "grid_gap": null,
            "grid_row": null,
            "grid_template_areas": null,
            "grid_template_columns": null,
            "grid_template_rows": null,
            "height": null,
            "justify_content": null,
            "justify_items": null,
            "left": null,
            "margin": null,
            "max_height": null,
            "max_width": null,
            "min_height": null,
            "min_width": null,
            "object_fit": null,
            "object_position": null,
            "order": null,
            "overflow": null,
            "overflow_x": null,
            "overflow_y": null,
            "padding": null,
            "right": null,
            "top": null,
            "visibility": null,
            "width": null
          }
        },
        "8b2ce681d8ea43d89cb91cfa86c1deec": {
          "model_module": "@jupyter-widgets/controls",
          "model_name": "DescriptionStyleModel",
          "model_module_version": "1.5.0",
          "state": {
            "_model_module": "@jupyter-widgets/controls",
            "_model_module_version": "1.5.0",
            "_model_name": "DescriptionStyleModel",
            "_view_count": null,
            "_view_module": "@jupyter-widgets/base",
            "_view_module_version": "1.2.0",
            "_view_name": "StyleView",
            "description_width": ""
          }
        }
      }
    }
  },
  "nbformat": 4,
  "nbformat_minor": 0
}