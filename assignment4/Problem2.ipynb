{
 "cells": [
  {
   "cell_type": "code",
   "execution_count": null,
   "metadata": {
    "pycharm": {
     "name": "#%%\n"
    }
   },
   "outputs": [],
   "source": [
    "!pip install adversarial-robustness-toolbox"
   ]
  },
  {
   "cell_type": "code",
   "execution_count": null,
   "metadata": {
    "pycharm": {
     "name": "#%%\n"
    }
   },
   "outputs": [],
   "source": [
    "# Imports\n",
    "import keras\n",
    "import random\n",
    "import numpy as np\n",
    "import matplotlib.pyplot as plt\n",
    "\n",
    "from keras.datasets import mnist\n",
    "from keras.models import Sequential\n",
    "from keras.layers import Dense, Dropout, Flatten\n",
    "from keras.layers import Conv2D, MaxPooling2D\n",
    "from keras import backend as K\n",
    "\n",
    "from art.attacks.evasion import CarliniL2Method, SaliencyMapMethod, ElasticNet\n",
    "from art.estimators.classification import KerasClassifier\n",
    "\n",
    "# Set the random seeds. Do not change this!\n",
    "seedVal = 41\n",
    "random.seed(seedVal)\n",
    "np.random.seed(seedVal)\n",
    "\n",
    "# Define some constants.\n",
    "NUM_CLASSES = 10\n",
    "BATCH_SIZE = 32"
   ]
  },
  {
   "cell_type": "markdown",
   "metadata": {
    "pycharm": {
     "name": "#%% md\n"
    }
   },
   "source": [
    "## Part 1"
   ]
  },
  {
   "cell_type": "markdown",
   "metadata": {
    "pycharm": {
     "name": "#%% md\n"
    }
   },
   "source": [
    "### You need to complete the following."
   ]
  },
  {
   "cell_type": "code",
   "execution_count": null,
   "metadata": {
    "pycharm": {
     "name": "#%%\n"
    }
   },
   "outputs": [],
   "source": [
    "# Load the MNIST dataset\n",
    "(x_train, y_train), (x_test, y_test) = mnist.load_data()\n",
    "\n",
    "# Normalization\n",
    "x_train = keras.utils.normalize(x_train, axis=1)\n",
    "x_test = keras.utils.normalize(x_test, axis=1)\n",
    "\n",
    "# convert class vectors to binary class matrices\n",
    "y_train = keras.utils.to_categorical(y_train, NUM_CLASSES)\n",
    "y_test = keras.utils.to_categorical(y_test, NUM_CLASSES)\n",
    "\n",
    "K.set_image_data_format('channels_first')\n",
    "\n",
    "# Reshape the data.\n",
    "x_train = None\n",
    "x_test = None"
   ]
  },
  {
   "cell_type": "code",
   "execution_count": null,
   "metadata": {
    "pycharm": {
     "name": "#%%\n"
    }
   },
   "outputs": [],
   "source": [
    "# Build a training dataset for the substitute model\n",
    "# Collect ten images from each dataset class (numbers 0-9)\n",
    "selected_examples = []\n",
    "for target_label in range(0, 10):\n",
    "    count = 0\n",
    "    for i in range(y_train.shape[0]):\n",
    "        if y_train[i].tolist().index(1) == target_label:\n",
    "            count += 1\n",
    "            selected_examples.append((x_train[i, :, :], y_train[i]))\n",
    "            if count == 10:\n",
    "                break\n",
    "\n",
    "# Convert selected examples to numpy array\n",
    "final_train_x =  None\n",
    "final_train_y = None"
   ]
  },
  {
   "cell_type": "code",
   "execution_count": null,
   "metadata": {
    "pycharm": {
     "name": "#%%\n"
    }
   },
   "outputs": [],
   "source": [
    "# Train a CNN-based substitute model using the newly collected dataset\n",
    "substitute_model = Sequential()\n",
    "\n",
    "# Define the intermediate layers.\n",
    "None\n",
    "\n",
    "substitute_model.add(Dense(NUM_CLASSES, activation='softmax'))\n",
    "\n",
    "# Compile the model\n",
    "None\n",
    "\n",
    "substitute_model = KerasClassifier(model=substitute_model, clip_values=(0,1))\n",
    "\n",
    "# Fit the model\n",
    "None"
   ]
  },
  {
   "cell_type": "markdown",
   "metadata": {
    "pycharm": {
     "name": "#%% md\n"
    }
   },
   "source": [
    "    Please ONLY use the following attack methods."
   ]
  },
  {
   "cell_type": "code",
   "execution_count": null,
   "metadata": {
    "pycharm": {
     "name": "#%%\n"
    }
   },
   "outputs": [],
   "source": [
    "# Define methods for generating \"targetted\" adversarial examples\n",
    "def generate_adv_examples_CarliniL2Method(classifier, x, target_y):\n",
    "    attack = None\n",
    "    return None\n",
    "\n",
    "def generate_adv_examples_ElasticNet(classifier, x, target_y):\n",
    "    attack = None\n",
    "    return None\n",
    "\n",
    "def generate_adv_examples_SaliencyMapMethod(classifier, x, target_y):\n",
    "    attack = None\n",
    "    return None"
   ]
  },
  {
   "cell_type": "code",
   "execution_count": null,
   "metadata": {
    "pycharm": {
     "name": "#%%\n"
    }
   },
   "outputs": [],
   "source": [
    "# Build a mapping from the true label to the fake label\n",
    "# For example, in the mapping below, we want the classifier to predict 0 images as 8.\n",
    "label_map = {0:8, 1:9, 2:3, 3:5, 4:6, 5:7, 6:4, 7:2, 8:1, 9:0}\n",
    "for k, v in label_map.items():\n",
    "    assert(k != v)\n",
    "assert(len(set(label_map.keys())) == 10)\n",
    "assert(len(set(label_map.values())) == 10)\n",
    "\n",
    "# Build target_y\n",
    "target_y_labels = []\n",
    "for i in range(final_train_y.shape[0]):\n",
    "    cur_true_label = final_train_y[i].tolist().index(1)\n",
    "    target_label = label_map[cur_true_label]\n",
    "    target_y_labels.append(target_label)\n",
    "target_y_labels = np.asarray(target_y_labels)\n",
    "target_y = keras.utils.to_categorical(target_y_labels, NUM_CLASSES)\n",
    "\n",
    "# Generate 300 adversarial images\n",
    "carlinil_adv_examples = None\n",
    "elastic_net_adv_examples = None\n",
    "saliency_adv_examples = None"
   ]
  },
  {
   "cell_type": "code",
   "execution_count": null,
   "metadata": {
    "pycharm": {
     "name": "#%%\n"
    }
   },
   "outputs": [],
   "source": [
    "# Calculate Misclassification Ratio (MR) for CarliniL2Method attack\n",
    "predictions = None\n",
    "carlinil_mr = None\n",
    "print('For CarliniL2Method attack, MR = {}'.format(carlinil_mr))\n",
    "\n",
    "# Calculate Misclassification Ratio (MR) for ElasticNet attack\n",
    "predictions = None\n",
    "elastic_net_mr = None\n",
    "print('For ElasticNet attack, MR = {}'.format(elastic_net_mr))\n",
    "\n",
    "# Calculate Misclassification Ratio (MR) for SaliencyMapMethod attack\n",
    "predictions = None\n",
    "saliency_mr = None\n",
    "print('For SaliencyMapMethod attack, MR = {}'.format(saliency_mr))"
   ]
  },
  {
   "cell_type": "code",
   "execution_count": null,
   "metadata": {
    "pycharm": {
     "name": "#%%\n"
    }
   },
   "outputs": [],
   "source": [
    "# Make a plot\n",
    "X = ['CarliniL2Method','ElasticNet', 'SaliencyMapMethod']\n",
    "plt.bar(None, color=['r', 'g', 'b'])\n",
    "plt.title('Misclassification Ratio (MR) for each attack')\n",
    "plt.show()\n",
    "plt.close()"
   ]
  },
  {
   "cell_type": "markdown",
   "metadata": {
    "pycharm": {
     "name": "#%% md\n"
    }
   },
   "source": [
    "## Part 2"
   ]
  },
  {
   "cell_type": "markdown",
   "metadata": {
    "pycharm": {
     "name": "#%% md\n"
    }
   },
   "source": [
    "### You need to complete the following."
   ]
  },
  {
   "cell_type": "code",
   "execution_count": null,
   "metadata": {
    "pycharm": {
     "name": "#%%\n"
    }
   },
   "outputs": [],
   "source": [
    "# Imports\n",
    "from numpy import linalg as LA\n",
    "\n",
    "for class_label in range(0, 10):\n",
    "    print('For images of true class = {}'.format(class_label))\n",
    "    norms_average = None\n",
    "    \n",
    "    for i in range(final_train_y.shape[0]):\n",
    "        cur_true_label = final_train_y[i].tolist().index(1)\n",
    "        if cur_true_label == class_label:\n",
    "            for attack_method in ['carlinil', 'elastic_net', 'saliency']:\n",
    "                if attack_method == 'carlinil': None\n",
    "                elif attack_method == 'elastic_net': None\n",
    "                elif attack_method == 'saliency': None\n",
    "                x_diff = (final_train_x[i].squeeze() - cur_adv_examples[i].squeeze()).reshape(-1)\n",
    "                norms_average[attack_method]['l0'] += None\n",
    "                norms_average[attack_method]['l2'] += None\n",
    "                norms_average[attack_method]['l_inf'] += None\n",
    "            \n",
    "    print('Methods \\t L0 \\t L2 \\t L_inf')\n",
    "    for attack_method in ['carlinil', 'elastic_net', 'saliency']:\n",
    "        l0_average = None\n",
    "        l2_average = None\n",
    "        linf_average = None\n",
    "        print('{} \\t {} \\t {} \\t {}'.format(attack_method, l0_average, l2_average, linf_average))\n",
    "    print('\\n')\n"
   ]
  },
  {
   "cell_type": "markdown",
   "metadata": {
    "pycharm": {
     "name": "#%% md\n"
    }
   },
   "source": [
    "## Part 3"
   ]
  },
  {
   "cell_type": "markdown",
   "metadata": {
    "pycharm": {
     "name": "#%% md\n"
    }
   },
   "source": [
    "### You need to complete the following."
   ]
  },
  {
   "cell_type": "code",
   "execution_count": null,
   "metadata": {
    "pycharm": {
     "name": "#%%\n"
    }
   },
   "outputs": [],
   "source": [
    "# Imports\n",
    "\n",
    "# Reload the trained model from HW#3 Problem 4\n",
    "import network.network as Network\n",
    "import network.mnist_loader as mnist_loader\n",
    "import pickle\n",
    "\n",
    "# Load the pre-trained model.\n",
    "with open('network/trained_network.pkl', 'rb') as f:\n",
    "    u = pickle._Unpickler(f)\n",
    "    u.encoding = 'latin1'\n",
    "    target_net = u.load()"
   ]
  },
  {
   "cell_type": "code",
   "execution_count": null,
   "metadata": {
    "pycharm": {
     "name": "#%%\n"
    }
   },
   "outputs": [],
   "source": [
    "def predict_using_target_net(x, verbose=False):\n",
    "    x = x.squeeze().reshape(-1, 1)\n",
    "    outputs = target_net.feedforward(x)\n",
    "    predictions = np.argmax(outputs)\n",
    "    if verbose:\n",
    "        print('Network output: \\n' + str(np.round(outputs, 2)) + '\\n')\n",
    "        print('Network prediction: ' + str(predictions) + '\\n')\n",
    "        print('Actual image: ')\n",
    "    \n",
    "        # Draw the image\n",
    "        plt.imshow(x.reshape((28,28)), cmap='Greys')\n",
    "    return predictions"
   ]
  },
  {
   "cell_type": "code",
   "execution_count": null,
   "metadata": {
    "pycharm": {
     "name": "#%%\n"
    }
   },
   "outputs": [],
   "source": [
    "# Evaluate whether adversarial examples generated with the substitute model will transfer to the target model\n",
    "for attack_method in ['carlinil', 'elastic_net', 'saliency']:\n",
    "    if attack_method == 'carlinil': None\n",
    "    elif attack_method == 'elastic_net': None\n",
    "    elif attack_method == 'saliency':None\n",
    "    predictions = None\n",
    "    predictions = np.asarray(predictions)\n",
    "    mr = None\n",
    "    print('For {}, Misclassification Ratio = {}'.format(attack_method, mr))"
   ]
  },
  {
   "cell_type": "markdown",
   "metadata": {
    "pycharm": {
     "name": "#%% md\n"
    }
   },
   "source": [
    "## Part 4"
   ]
  },
  {
   "cell_type": "markdown",
   "metadata": {
    "pycharm": {
     "name": "#%% md\n"
    }
   },
   "source": [
    "### You need to complete the following."
   ]
  },
  {
   "cell_type": "code",
   "execution_count": null,
   "metadata": {
    "pycharm": {
     "name": "#%%\n"
    }
   },
   "outputs": [],
   "source": [
    "# Imports\n",
    "from sklearn.model_selection import GridSearchCV\n",
    "from sklearn.neural_network import MLPClassifier\n",
    "from sklearn.linear_model import LogisticRegression\n",
    "from sklearn.neighbors import KNeighborsClassifier\n",
    "from sklearn.naive_bayes import GaussianNB\n",
    "from sklearn.ensemble import VotingClassifier\n",
    "from sklearn.svm import SVC"
   ]
  },
  {
   "cell_type": "code",
   "execution_count": null,
   "metadata": {
    "pycharm": {
     "name": "#%%\n"
    }
   },
   "outputs": [],
   "source": [
    "# Re-load the MNIST dataset\n",
    "(x_train, y_train), (x_test, y_test) = mnist.load_data()\n",
    "\n",
    "# Normalization\n",
    "x_train = keras.utils.normalize(x_train, axis=1)\n",
    "x_test = keras.utils.normalize(x_test, axis=1)\n",
    "\n",
    "nb_trains = x_train.shape[0]\n",
    "nb_tests = x_test.shape[0]"
   ]
  },
  {
   "cell_type": "code",
   "execution_count": null,
   "metadata": {
    "pycharm": {
     "name": "#%%\n"
    }
   },
   "outputs": [],
   "source": [
    "# ANN model\n",
    "ann_parameters = {\n",
    "'hidden_layer_sizes': [(100), (100,100)]\n",
    "}\n",
    "\n",
    "ann_clf = GridSearchCV(None)\n",
    "ann_clf.fit(None)\n",
    "print(None)"
   ]
  },
  {
   "cell_type": "code",
   "execution_count": null,
   "metadata": {
    "pycharm": {
     "name": "#%%\n"
    }
   },
   "outputs": [],
   "source": [
    "# SVM model\n",
    "svm_parameters = {\n",
    "    'kernel': ['rbf'],\n",
    "    'C': [1, 10]\n",
    "}\n",
    "\n",
    "svm_clf = GridSearchCV(None)\n",
    "svm_clf.fit(None)\n",
    "print(None)"
   ]
  },
  {
   "cell_type": "code",
   "execution_count": null,
   "metadata": {
    "pycharm": {
     "name": "#%%\n"
    }
   },
   "outputs": [],
   "source": [
    "# Logistic Regression model\n",
    "lr_parameters = {\n",
    "    'multi_class': ['auto'],\n",
    "    'penalty' : ['l1', 'l2'],\n",
    "    'C': [1, 10],\n",
    "}\n",
    "\n",
    "lr_clf = GridSearchCV(None)\n",
    "lr_clf.fit(None)\n",
    "print(None)"
   ]
  },
  {
   "cell_type": "code",
   "execution_count": null,
   "metadata": {
    "pycharm": {
     "name": "#%%\n"
    }
   },
   "outputs": [],
   "source": [
    "# kNN\n",
    "knn_parameters = {\n",
    "    'n_neighbors': [5],\n",
    "    'weights': ['uniform', 'distance']\n",
    "}\n",
    "knn_clf = GridSearchCV(None)\n",
    "knn_clf.fit(None)\n",
    "print(None)"
   ]
  },
  {
   "cell_type": "code",
   "execution_count": null,
   "metadata": {
    "pycharm": {
     "name": "#%%\n"
    }
   },
   "outputs": [],
   "source": [
    "# Naive Bayes\n",
    "naive_bayes_parameters = {\n",
    "    'var_smoothing': [1e-3, 1e-2, 1e-1]\n",
    "}\n",
    "naive_bayes_clf = None\n",
    "naive_bayes_clf.fit(None)\n",
    "print(None)"
   ]
  },
  {
   "cell_type": "code",
   "execution_count": null,
   "metadata": {
    "pycharm": {
     "name": "#%%\n"
    }
   },
   "outputs": [],
   "source": [
    "# Voting classifiers\n",
    "voting_clf = VotingClassifier(estimators=[\n",
    "                                ('naive_bayes', GaussianNB()),\n",
    "                                ('ann', MLPClassifier()),\n",
    "                                ('lr', LogisticRegression()),\n",
    "                               ], voting='soft')\n",
    "\n",
    "params = {\n",
    "          'naive_bayes__var_smoothing': [1e-3, 1e-2, 1e-1],\n",
    "          'lr__C': [1, 10],\n",
    "          'ann__hidden_layer_sizes': [(100), (100,100)]}\n",
    "\n",
    "voting_clf = GridSearchCV(None)\n",
    "voting_clf.fit(None)\n",
    "print(None)"
   ]
  },
  {
   "cell_type": "code",
   "execution_count": null,
   "metadata": {
    "pycharm": {
     "name": "#%%\n"
    }
   },
   "outputs": [],
   "source": [
    "classifier_names = ['ANN', 'SVM', 'Logistic Regression', 'kNN', 'Naive Bayes', 'Voting classifiers']\n",
    "classifiers = [ann_clf, svm_clf, lr_clf, knn_clf, naive_bayes_clf, voting_clf]\n",
    "print('Methods \\t Test Acc \\t Carlinil MR \\t ElasticNet MR \\t Saliency MR')\n",
    "for i in range(len(classifiers)):\n",
    "    test_acc = None\n",
    "    carlinil_acc = None\n",
    "    elasticnet_acc = None\n",
    "    saliency_acc = None\n",
    "    print('{} \\t {} \\t {} \\t {} \\t {}'.format(classifier_names[i], str(test_acc), str(carlinil_acc), str(elasticnet_acc), str(saliency_acc)))"
   ]
  }
 ],
 "metadata": {
  "kernelspec": {
   "display_name": "Python 3 (ipykernel)",
   "language": "python",
   "name": "python3"
  },
  "language_info": {
   "codemirror_mode": {
    "name": "ipython",
    "version": 3
   },
   "file_extension": ".py",
   "mimetype": "text/x-python",
   "name": "python",
   "nbconvert_exporter": "python",
   "pygments_lexer": "ipython3",
   "version": "3.10.6"
  }
 },
 "nbformat": 4,
 "nbformat_minor": 2
}