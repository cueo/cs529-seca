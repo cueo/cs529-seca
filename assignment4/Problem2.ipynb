{
  "cells": [
    {
      "cell_type": "code",
      "source": [
        "import os\n",
        "\n",
        "from google.colab import drive\n",
        "from shutil import copy\n",
        "\n",
        "drive.mount('/content/drive')\n",
        "\n",
        "for filename in ['carlinil_adv_examples_gpu.pkl', 'elastic_net_adv_examples_gpu.pkl', 'saliency_adv_examples_gpu.pkl']:\n",
        "  # copy(filename, os.path.join('drive/MyDrive/Colab Notebooks', filename))\n",
        "  src = os.path.join('drive/MyDrive/Colab Notebooks', filename)\n",
        "  if os.path.exists(src):\n",
        "    copy(src, filename)"
      ],
      "metadata": {
        "id": "nEx1aZQay0KT",
        "outputId": "1ba23f58-81dd-48d5-fb2a-eb2dee6030cf",
        "colab": {
          "base_uri": "https://localhost:8080/"
        }
      },
      "execution_count": 4,
      "outputs": [
        {
          "output_type": "stream",
          "name": "stdout",
          "text": [
            "Drive already mounted at /content/drive; to attempt to forcibly remount, call drive.mount(\"/content/drive\", force_remount=True).\n"
          ]
        }
      ]
    },
    {
      "cell_type": "code",
      "execution_count": 5,
      "metadata": {
        "pycharm": {
          "name": "#%%\n"
        },
        "colab": {
          "base_uri": "https://localhost:8080/"
        },
        "id": "zCI1-FTp40tp",
        "outputId": "be6116bc-5540-462e-ad15-44deaa79c38d"
      },
      "outputs": [
        {
          "output_type": "stream",
          "name": "stdout",
          "text": [
            "Looking in indexes: https://pypi.org/simple, https://us-python.pkg.dev/colab-wheels/public/simple/\n",
            "Collecting adversarial-robustness-toolbox\n",
            "  Downloading adversarial_robustness_toolbox-1.12.2-py3-none-any.whl (1.4 MB)\n",
            "\u001b[K     |████████████████████████████████| 1.4 MB 7.5 MB/s \n",
            "\u001b[?25hRequirement already satisfied: six in /usr/local/lib/python3.8/dist-packages (from adversarial-robustness-toolbox) (1.15.0)\n",
            "Requirement already satisfied: setuptools in /usr/local/lib/python3.8/dist-packages (from adversarial-robustness-toolbox) (57.4.0)\n",
            "Requirement already satisfied: scikit-learn<1.1.0,>=0.22.2 in /usr/local/lib/python3.8/dist-packages (from adversarial-robustness-toolbox) (1.0.2)\n",
            "Requirement already satisfied: scipy>=1.4.1 in /usr/local/lib/python3.8/dist-packages (from adversarial-robustness-toolbox) (1.7.3)\n",
            "Requirement already satisfied: tqdm in /usr/local/lib/python3.8/dist-packages (from adversarial-robustness-toolbox) (4.64.1)\n",
            "Requirement already satisfied: numpy>=1.18.0 in /usr/local/lib/python3.8/dist-packages (from adversarial-robustness-toolbox) (1.21.6)\n",
            "Requirement already satisfied: joblib>=0.11 in /usr/local/lib/python3.8/dist-packages (from scikit-learn<1.1.0,>=0.22.2->adversarial-robustness-toolbox) (1.2.0)\n",
            "Requirement already satisfied: threadpoolctl>=2.0.0 in /usr/local/lib/python3.8/dist-packages (from scikit-learn<1.1.0,>=0.22.2->adversarial-robustness-toolbox) (3.1.0)\n",
            "Installing collected packages: adversarial-robustness-toolbox\n",
            "Successfully installed adversarial-robustness-toolbox-1.12.2\n"
          ]
        }
      ],
      "source": [
        "!pip install adversarial-robustness-toolbox"
      ]
    },
    {
      "cell_type": "code",
      "execution_count": 6,
      "metadata": {
        "pycharm": {
          "name": "#%%\n"
        },
        "id": "1kMuOXHX40tq"
      },
      "outputs": [],
      "source": [
        "# Imports\n",
        "import keras\n",
        "import random\n",
        "import numpy as np\n",
        "import matplotlib.pyplot as plt\n",
        "\n",
        "from keras.datasets import mnist\n",
        "from keras.models import Sequential\n",
        "from keras.layers import Dense, Dropout, Flatten\n",
        "from keras.layers import Conv2D, MaxPooling2D\n",
        "from keras import backend as K\n",
        "\n",
        "from art.attacks.evasion import CarliniL2Method, SaliencyMapMethod, ElasticNet\n",
        "from art.estimators.classification import KerasClassifier\n",
        "\n",
        "# Set the random seeds. Do not change this!\n",
        "seedVal = 41\n",
        "random.seed(seedVal)\n",
        "np.random.seed(seedVal)\n",
        "\n",
        "# Define some constants.\n",
        "NUM_CLASSES = 10\n",
        "BATCH_SIZE = 32"
      ]
    },
    {
      "cell_type": "markdown",
      "metadata": {
        "pycharm": {
          "name": "#%% md\n"
        },
        "id": "R7Ctq2y440tr"
      },
      "source": [
        "## Part 1"
      ]
    },
    {
      "cell_type": "markdown",
      "metadata": {
        "pycharm": {
          "name": "#%% md\n"
        },
        "id": "LUMS_akl40tt"
      },
      "source": [
        "### You need to complete the following."
      ]
    },
    {
      "cell_type": "code",
      "execution_count": 7,
      "metadata": {
        "pycharm": {
          "name": "#%%\n"
        },
        "id": "jyGcJdg540tt",
        "outputId": "9f10279b-f899-43df-9f20-cc71b64f6df4",
        "colab": {
          "base_uri": "https://localhost:8080/"
        }
      },
      "outputs": [
        {
          "output_type": "stream",
          "name": "stdout",
          "text": [
            "Downloading data from https://storage.googleapis.com/tensorflow/tf-keras-datasets/mnist.npz\n",
            "11490434/11490434 [==============================] - 0s 0us/step\n"
          ]
        }
      ],
      "source": [
        "# Load the MNIST dataset\n",
        "(x_train, y_train), (x_test, y_test) = mnist.load_data()\n",
        "\n",
        "# Normalization\n",
        "x_train = keras.utils.normalize(x_train, axis=1)\n",
        "x_test = keras.utils.normalize(x_test, axis=1)\n",
        "\n",
        "# convert class vectors to binary class matrices\n",
        "y_train = keras.utils.to_categorical(y_train, NUM_CLASSES)\n",
        "y_test = keras.utils.to_categorical(y_test, NUM_CLASSES)\n",
        "\n",
        "K.set_image_data_format('channels_first')\n",
        "\n",
        "# Reshape the data.\n",
        "x_train = x_train.reshape(x_train.shape[0], 1, 28, 28)\n",
        "x_test = x_test.reshape(x_test.shape[0], 1, 28, 28)"
      ]
    },
    {
      "cell_type": "code",
      "execution_count": 8,
      "metadata": {
        "pycharm": {
          "name": "#%%\n"
        },
        "id": "-_W8Ugdc40tu"
      },
      "outputs": [],
      "source": [
        "# Build a training dataset for the substitute model\n",
        "# Collect ten images from each dataset class (numbers 0-9)\n",
        "selected_examples = []\n",
        "for target_label in range(0, 10):\n",
        "    count = 0\n",
        "    for i in range(y_train.shape[0]):\n",
        "        if y_train[i].tolist().index(1) == target_label:\n",
        "            count += 1\n",
        "            selected_examples.append((x_train[i, :, :], y_train[i]))\n",
        "            if count == 10:\n",
        "                break\n",
        "\n",
        "# Convert selected examples to numpy array\n",
        "# final_train_x =  np.array([selected_examples[i][0] for i in range(len(selected_examples))])\n",
        "# final_train_y = np.array([selected_examples[i][1] for i in range(len(selected_examples))])\n",
        "final_train_x = []\n",
        "final_train_y = []\n",
        "\n",
        "for example in selected_examples:\n",
        "  final_train_x.append(example[0])\n",
        "  final_train_y.append(example[1])\n",
        "final_train_x = np.array(final_train_x)\n",
        "final_train_y = np.array(final_train_y)"
      ]
    },
    {
      "cell_type": "code",
      "source": [
        "import tensorflow as tf\n",
        "\n",
        "tf.compat.v1.disable_eager_execution()"
      ],
      "metadata": {
        "id": "pmZXAqoi4-3L"
      },
      "execution_count": 9,
      "outputs": []
    },
    {
      "cell_type": "code",
      "execution_count": 10,
      "metadata": {
        "pycharm": {
          "name": "#%%\n"
        },
        "colab": {
          "base_uri": "https://localhost:8080/"
        },
        "id": "FcH2uqyq40tu",
        "outputId": "2c1013ef-7135-429a-d56c-ce5915b30441"
      },
      "outputs": [
        {
          "output_type": "stream",
          "name": "stdout",
          "text": [
            "(1, 28, 28)\n",
            "Model: \"sequential\"\n",
            "_________________________________________________________________\n",
            " Layer (type)                Output Shape              Param #   \n",
            "=================================================================\n",
            " conv2d (Conv2D)             (None, 32, 26, 26)        320       \n",
            "                                                                 \n",
            " max_pooling2d (MaxPooling2D  (None, 32, 13, 13)       0         \n",
            " )                                                               \n",
            "                                                                 \n",
            " conv2d_1 (Conv2D)           (None, 64, 11, 11)        18496     \n",
            "                                                                 \n",
            " max_pooling2d_1 (MaxPooling  (None, 64, 5, 5)         0         \n",
            " 2D)                                                             \n",
            "                                                                 \n",
            " conv2d_2 (Conv2D)           (None, 64, 3, 3)          36928     \n",
            "                                                                 \n",
            " flatten (Flatten)           (None, 576)               0         \n",
            "                                                                 \n",
            " dense (Dense)               (None, 64)                36928     \n",
            "                                                                 \n",
            " dense_1 (Dense)             (None, 10)                650       \n",
            "                                                                 \n",
            "=================================================================\n",
            "Total params: 93,322\n",
            "Trainable params: 93,322\n",
            "Non-trainable params: 0\n",
            "_________________________________________________________________\n"
          ]
        },
        {
          "output_type": "stream",
          "name": "stderr",
          "text": [
            "/usr/local/lib/python3.8/dist-packages/tensorflow/python/util/dispatch.py:1082: UserWarning: \"`sparse_categorical_crossentropy` received `from_logits=True`, but the `output` argument was produced by a sigmoid or softmax activation and thus does not represent logits. Was this intended?\"\n",
            "  return dispatch_target(*args, **kwargs)\n"
          ]
        },
        {
          "output_type": "stream",
          "name": "stdout",
          "text": [
            "Train on 100 samples\n",
            "Epoch 1/30\n",
            "100/100 [==============================] - 12s 115ms/sample - loss: 2.2961 - accuracy: 0.1500\n",
            "Epoch 2/30\n",
            "100/100 [==============================] - 0s 372us/sample - loss: 2.2462 - accuracy: 0.2900\n",
            "Epoch 3/30\n",
            "100/100 [==============================] - 0s 373us/sample - loss: 2.1861 - accuracy: 0.6100\n",
            "Epoch 4/30\n",
            "100/100 [==============================] - 0s 337us/sample - loss: 2.0844 - accuracy: 0.6000\n",
            "Epoch 5/30\n",
            "100/100 [==============================] - 0s 627us/sample - loss: 1.9321 - accuracy: 0.5900\n",
            "Epoch 6/30\n",
            "100/100 [==============================] - 0s 223us/sample - loss: 1.7329 - accuracy: 0.5400\n",
            "Epoch 7/30\n",
            "100/100 [==============================] - 0s 295us/sample - loss: 1.5275 - accuracy: 0.6400\n",
            "Epoch 8/30\n",
            "100/100 [==============================] - 0s 421us/sample - loss: 1.2737 - accuracy: 0.6700\n",
            "Epoch 9/30\n",
            "100/100 [==============================] - 0s 283us/sample - loss: 0.9919 - accuracy: 0.8200\n",
            "Epoch 10/30\n",
            "100/100 [==============================] - 0s 407us/sample - loss: 0.7498 - accuracy: 0.8400\n",
            "Epoch 11/30\n",
            "100/100 [==============================] - 0s 273us/sample - loss: 0.6336 - accuracy: 0.8400\n",
            "Epoch 12/30\n",
            "100/100 [==============================] - 0s 231us/sample - loss: 0.5371 - accuracy: 0.8400\n",
            "Epoch 13/30\n",
            "100/100 [==============================] - 0s 429us/sample - loss: 0.4104 - accuracy: 0.8800\n",
            "Epoch 14/30\n",
            "100/100 [==============================] - 0s 384us/sample - loss: 0.3195 - accuracy: 0.9300\n",
            "Epoch 15/30\n",
            "100/100 [==============================] - 0s 195us/sample - loss: 0.2668 - accuracy: 0.9200\n",
            "Epoch 16/30\n",
            "100/100 [==============================] - 0s 312us/sample - loss: 0.2421 - accuracy: 0.9300\n",
            "Epoch 17/30\n",
            "100/100 [==============================] - 0s 352us/sample - loss: 0.2634 - accuracy: 0.9300\n",
            "Epoch 18/30\n",
            "100/100 [==============================] - 0s 274us/sample - loss: 0.1607 - accuracy: 0.9600\n",
            "Epoch 19/30\n",
            "100/100 [==============================] - 0s 410us/sample - loss: 0.1454 - accuracy: 0.9600\n",
            "Epoch 20/30\n",
            "100/100 [==============================] - 0s 333us/sample - loss: 0.1239 - accuracy: 0.9700\n",
            "Epoch 21/30\n",
            "100/100 [==============================] - 0s 513us/sample - loss: 0.1485 - accuracy: 0.9600\n",
            "Epoch 22/30\n",
            "100/100 [==============================] - 0s 262us/sample - loss: 0.0914 - accuracy: 0.9900\n",
            "Epoch 23/30\n",
            "100/100 [==============================] - 0s 303us/sample - loss: 0.0560 - accuracy: 0.9900\n",
            "Epoch 24/30\n",
            "100/100 [==============================] - 0s 222us/sample - loss: 0.0633 - accuracy: 1.0000\n",
            "Epoch 25/30\n",
            "100/100 [==============================] - 0s 230us/sample - loss: 0.0487 - accuracy: 1.0000\n",
            "Epoch 26/30\n",
            "100/100 [==============================] - 0s 455us/sample - loss: 0.0308 - accuracy: 1.0000\n",
            "Epoch 27/30\n",
            "100/100 [==============================] - 0s 482us/sample - loss: 0.0299 - accuracy: 1.0000\n",
            "Epoch 28/30\n",
            "100/100 [==============================] - 0s 413us/sample - loss: 0.0289 - accuracy: 1.0000\n",
            "Epoch 29/30\n",
            "100/100 [==============================] - 0s 515us/sample - loss: 0.0206 - accuracy: 1.0000\n",
            "Epoch 30/30\n",
            "100/100 [==============================] - 0s 314us/sample - loss: 0.0168 - accuracy: 1.0000\n"
          ]
        }
      ],
      "source": [
        "# Train a CNN-based substitute model using the newly collected dataset\n",
        "substitute_model = Sequential()\n",
        "\n",
        "input_shape = final_train_x[0].shape\n",
        "print(input_shape)\n",
        "\n",
        "# Define the intermediate layers.\n",
        "# GPU\n",
        "substitute_model.add(Conv2D(32, (3, 3), activation='relu', input_shape=input_shape))\n",
        "substitute_model.add(MaxPooling2D((2, 2), data_format='channels_first'))\n",
        "substitute_model.add(Conv2D(64, (3, 3), activation='relu'))\n",
        "substitute_model.add(MaxPooling2D((2, 2), data_format='channels_first'))\n",
        "substitute_model.add(Conv2D(64, (3, 3), activation='relu'))\n",
        "\n",
        "substitute_model.add(Flatten())\n",
        "\n",
        "substitute_model.add(Dense(64, activation='relu'))\n",
        "substitute_model.add(Dense(NUM_CLASSES, activation='softmax'))\n",
        "\n",
        "substitute_model.summary()\n",
        "\n",
        "# Compile the model\n",
        "substitute_model.compile(optimizer='adam',\n",
        "              loss=keras.losses.SparseCategoricalCrossentropy(from_logits=True),\n",
        "              metrics=['accuracy'])\n",
        "\n",
        "substitute_model = KerasClassifier(model=substitute_model, clip_values=(0,1))\n",
        "\n",
        "# Fit the model\n",
        "substitute_model.fit(final_train_x, final_train_y, nb_epochs=30, batch_size=BATCH_SIZE)"
      ]
    },
    {
      "cell_type": "markdown",
      "metadata": {
        "pycharm": {
          "name": "#%% md\n"
        },
        "id": "v_Q_cG9r40tu"
      },
      "source": [
        "    Please ONLY use the following attack methods."
      ]
    },
    {
      "cell_type": "code",
      "execution_count": 11,
      "metadata": {
        "pycharm": {
          "name": "#%%\n"
        },
        "id": "5uZ1IFVQ40tv"
      },
      "outputs": [],
      "source": [
        "import pickle\n",
        "\n",
        "# Define methods for generating \"targetted\" adversarial examples\n",
        "def generate_adv_examples_CarliniL2Method(classifier, x, target_y):\n",
        "    filename = 'carlinil_adv_examples_gpu.pkl'\n",
        "    if os.path.exists(filename):\n",
        "      with open(filename, 'rb') as f:\n",
        "        return pickle.load(f)\n",
        "    \n",
        "    attack = CarliniL2Method(classifier, targeted=True)\n",
        "    examples = attack.generate(x, target_y)\n",
        "    \n",
        "    with open(filename, 'wb') as f:\n",
        "      pickle.dump(examples, f)\n",
        "    return examples\n",
        "\n",
        "def generate_adv_examples_ElasticNet(classifier, x, target_y):\n",
        "    filename = 'elastic_net_adv_examples_gpu.pkl'\n",
        "    if os.path.exists(filename):\n",
        "      with open(filename, 'rb') as f:\n",
        "        return pickle.load(f)\n",
        "    \n",
        "    attack = ElasticNet(classifier, targeted=True)\n",
        "    examples = attack.generate(x, target_y)\n",
        "    \n",
        "    with open(filename, 'wb') as f:\n",
        "      pickle.dump(examples, f)\n",
        "    return examples\n",
        "\n",
        "def generate_adv_examples_SaliencyMapMethod(classifier, x, target_y):\n",
        "    filename = 'saliency_adv_examples_gpu.pkl'\n",
        "    if os.path.exists(filename):\n",
        "      with open(filename, 'rb') as f:\n",
        "        return pickle.load(f)\n",
        "\n",
        "    attack = SaliencyMapMethod(classifier)\n",
        "    examples = attack.generate(x, target_y)\n",
        "    \n",
        "    with open(filename, 'wb') as f:\n",
        "      pickle.dump(examples, f)\n",
        "    return examples"
      ]
    },
    {
      "cell_type": "code",
      "execution_count": 12,
      "metadata": {
        "pycharm": {
          "name": "#%%\n"
        },
        "colab": {
          "base_uri": "https://localhost:8080/"
        },
        "id": "wo7TX4DI40tv",
        "outputId": "ca9007e4-8577-4e72-c253-bda3448bcd80"
      },
      "outputs": [
        {
          "output_type": "stream",
          "name": "stdout",
          "text": [
            "(100, 1, 28, 28) (100, 1, 28, 28) (100, 1, 28, 28)\n"
          ]
        }
      ],
      "source": [
        "# Build a mapping from the true label to the fake label\n",
        "# For example, in the mapping below, we want the classifier to predict 0 images as 8.\n",
        "label_map = {0:8, 1:9, 2:3, 3:5, 4:6, 5:7, 6:4, 7:2, 8:1, 9:0}\n",
        "for k, v in label_map.items():\n",
        "    assert(k != v)\n",
        "assert(len(set(label_map.keys())) == 10)\n",
        "assert(len(set(label_map.values())) == 10)\n",
        "\n",
        "# Build target_y\n",
        "target_y_labels = []\n",
        "for i in range(final_train_y.shape[0]):\n",
        "    cur_true_label = final_train_y[i].tolist().index(1)\n",
        "    target_label = label_map[cur_true_label]\n",
        "    target_y_labels.append(target_label)\n",
        "target_y_labels = np.asarray(target_y_labels)\n",
        "target_y = keras.utils.to_categorical(target_y_labels, NUM_CLASSES)\n",
        "\n",
        "# Generate 300 adversarial images\n",
        "carlinil_adv_examples = generate_adv_examples_CarliniL2Method(substitute_model, final_train_x, target_y_labels)\n",
        "elastic_net_adv_examples = generate_adv_examples_ElasticNet(substitute_model, final_train_x, target_y_labels)\n",
        "saliency_adv_examples = generate_adv_examples_SaliencyMapMethod(substitute_model, final_train_x, target_y_labels)\n",
        "\n",
        "print(carlinil_adv_examples.shape, elastic_net_adv_examples.shape, saliency_adv_examples.shape)"
      ]
    },
    {
      "cell_type": "code",
      "source": [
        "# for filename in ['carlinil_adv_examples_gpu.pkl', 'elastic_net_adv_examples_gpu.pkl', 'saliency_adv_examples_gpu.pkl']:\n",
        "#   copy(filename, os.path.join('drive/MyDrive/Colab Notebooks', filename))\n",
        "  # src = os.path.join('drive/MyDrive/Colab Notebooks', filename)\n",
        "  # if os.path.exists(src):\n",
        "  #   copy(src, filename)"
      ],
      "metadata": {
        "id": "5dOOFxf-Wql0"
      },
      "execution_count": 13,
      "outputs": []
    },
    {
      "cell_type": "code",
      "source": [
        "def misclassification_ratio(labels, predictions):\n",
        "  if predictions.shape != (100,):\n",
        "    predictions = np.argmax(predictions, axis=1)\n",
        "  return np.count_nonzero(predictions==target_y_labels) / len(target_y_labels)"
      ],
      "metadata": {
        "id": "38pvE3ho5P3M"
      },
      "execution_count": 14,
      "outputs": []
    },
    {
      "cell_type": "code",
      "execution_count": 15,
      "metadata": {
        "pycharm": {
          "name": "#%%\n"
        },
        "colab": {
          "base_uri": "https://localhost:8080/"
        },
        "id": "uLMrOQkA40tv",
        "outputId": "344e7edb-667e-4560-a8c4-ba05c0d0e413"
      },
      "outputs": [
        {
          "output_type": "stream",
          "name": "stderr",
          "text": [
            "/usr/local/lib/python3.8/dist-packages/keras/engine/training_v1.py:2067: UserWarning: `Model.state_updates` will be removed in a future version. This property should not be used in TensorFlow 2.0, as `updates` are applied automatically.\n",
            "  updates=self.state_updates,\n"
          ]
        },
        {
          "output_type": "stream",
          "name": "stdout",
          "text": [
            "For CarliniL2Method attack, MR = 0.09\n",
            "For ElasticNet attack, MR = 0.4\n",
            "For SaliencyMapMethod attack, MR = 0.13\n"
          ]
        }
      ],
      "source": [
        "# Calculate Misclassification Ratio (MR) for CarliniL2Method attack\n",
        "predictions = substitute_model.predict(carlinil_adv_examples)\n",
        "carlinil_mr = misclassification_ratio(target_y_labels, predictions)\n",
        "print('For CarliniL2Method attack, MR = {}'.format(carlinil_mr))\n",
        "\n",
        "# # Calculate Misclassification Ratio (MR) for ElasticNet attack\n",
        "predictions = substitute_model.predict(elastic_net_adv_examples)\n",
        "elastic_net_mr = misclassification_ratio(target_y_labels, predictions)\n",
        "print('For ElasticNet attack, MR = {}'.format(elastic_net_mr))\n",
        "\n",
        "# # Calculate Misclassification Ratio (MR) for SaliencyMapMethod attack\n",
        "predictions = substitute_model.predict(saliency_adv_examples)\n",
        "saliency_mr = misclassification_ratio(target_y_labels, predictions)\n",
        "print('For SaliencyMapMethod attack, MR = {}'.format(saliency_mr))"
      ]
    },
    {
      "cell_type": "code",
      "execution_count": 16,
      "metadata": {
        "pycharm": {
          "name": "#%%\n"
        },
        "colab": {
          "base_uri": "https://localhost:8080/",
          "height": 281
        },
        "id": "13ClSlGi40tw",
        "outputId": "f3a17fd0-ac7f-4121-ee9a-1428b6c441ff"
      },
      "outputs": [
        {
          "output_type": "display_data",
          "data": {
            "text/plain": [
              "<Figure size 432x288 with 1 Axes>"
            ],
            "image/png": "[encoded data removed]"
          },
          "metadata": {
            "needs_background": "light"
          }
        }
      ],
      "source": [
        "# Make a plot\n",
        "X = ['CarliniL2Method','ElasticNet', 'SaliencyMapMethod']\n",
        "Y = [carlinil_mr, elastic_net_mr, saliency_mr]\n",
        "plt.bar(X, Y, color=['r', 'g', 'b'])\n",
        "plt.title('Misclassification Ratio (MR) for each attack')\n",
        "plt.show()\n",
        "plt.close()"
      ]
    },
    {
      "cell_type": "markdown",
      "metadata": {
        "pycharm": {
          "name": "#%% md\n"
        },
        "id": "K6iD7ckW40tw"
      },
      "source": [
        "## Part 2"
      ]
    },
    {
      "cell_type": "markdown",
      "metadata": {
        "pycharm": {
          "name": "#%% md\n"
        },
        "id": "KCkVzizU40tw"
      },
      "source": [
        "### You need to complete the following."
      ]
    },
    {
      "cell_type": "code",
      "execution_count": 17,
      "metadata": {
        "pycharm": {
          "name": "#%%\n"
        },
        "colab": {
          "base_uri": "https://localhost:8080/"
        },
        "id": "lNhK2R-E40tw",
        "outputId": "9185789b-d029-4366-d529-d41c8cb466ec"
      },
      "outputs": [
        {
          "output_type": "stream",
          "name": "stdout",
          "text": [
            "For images of true class = 0\n",
            "Methods \t L0 \t L2 \t L_inf\n",
            "carlinil \t 198.5 \t 1.0757221536729457e-07 \t 1.8596021295058663e-08\n",
            "elastic_net \t 248.8 \t 1.9891437653551285 \t 0.21627955934258578\n",
            "saliency \t 203.2 \t 2.1942036567995693 \t 0.9455630225591621\n",
            "\n",
            "\n",
            "For images of true class = 1\n",
            "Methods \t L0 \t L2 \t L_inf\n",
            "carlinil \t 236.3 \t 0.1696912875943395 \t 0.06501828081054009\n",
            "elastic_net \t 210.7 \t 1.6745372770812126 \t 0.500735379755497\n",
            "saliency \t 99.9 \t 1.6405045145043922 \t 0.9200000047683716\n",
            "\n",
            "\n",
            "For images of true class = 2\n",
            "Methods \t L0 \t L2 \t L_inf\n",
            "carlinil \t 484.5 \t 0.4273054867761122 \t 0.14725453354935542\n",
            "elastic_net \t 306.6 \t 1.6318050781279543 \t 0.39266234407388245\n",
            "saliency \t 185.1 \t 1.5027614971624703 \t 0.8002569470717752\n",
            "\n",
            "\n",
            "For images of true class = 3\n",
            "Methods \t L0 \t L2 \t L_inf\n",
            "carlinil \t 288.2 \t 0.1263832789428048 \t 0.03612639758491821\n",
            "elastic_net \t 296.1 \t 3.037727611913783 \t 0.5721075770988112\n",
            "saliency \t 169.1 \t 2.4317800397210343 \t 0.9327444408056931\n",
            "\n",
            "\n",
            "For images of true class = 4\n",
            "Methods \t L0 \t L2 \t L_inf\n",
            "carlinil \t 204.9 \t 0.06680597228907885 \t 0.02634056306817082\n",
            "elastic_net \t 220.8 \t 2.736990409606888 \t 0.24768132195463538\n",
            "saliency \t 148.8 \t 2.6319257401317375 \t 0.9696992501747863\n",
            "\n",
            "\n",
            "For images of true class = 5\n",
            "Methods \t L0 \t L2 \t L_inf\n",
            "carlinil \t 117.6 \t 9.957177775996605e-08 \t 2.7308131922421097e-08\n",
            "elastic_net \t 241.1 \t 3.6838154244670482 \t 0.7786208723667993\n",
            "saliency \t 121.5 \t 2.0930290468066914 \t 0.9709158314138518\n",
            "\n",
            "\n",
            "For images of true class = 6\n",
            "Methods \t L0 \t L2 \t L_inf\n",
            "carlinil \t 464.0 \t 0.5215972728928918 \t 0.16454873965265188\n",
            "elastic_net \t 259.5 \t 0.9429186701335259 \t 0.2647334937842317\n",
            "saliency \t 150.3 \t 1.5421585659411814 \t 0.8542272320631923\n",
            "\n",
            "\n",
            "For images of true class = 7\n",
            "Methods \t L0 \t L2 \t L_inf\n",
            "carlinil \t 257.3 \t 0.1489636953356087 \t 0.05412008068505072\n",
            "elastic_net \t 287.9 \t 4.039028169999539 \t 0.6148162393093866\n",
            "saliency \t 137.4 \t 3.173075100547302 \t 0.9735570568079164\n",
            "\n",
            "\n",
            "For images of true class = 8\n",
            "Methods \t L0 \t L2 \t L_inf\n",
            "carlinil \t 228.0 \t 0.0944219173807215 \t 0.045072643781349384\n",
            "elastic_net \t 290.4 \t 4.738153718765301 \t 0.6948890799813154\n",
            "saliency \t 163.9 \t 1.7847354079825262 \t 0.9177693233375793\n",
            "\n",
            "\n",
            "For images of true class = 9\n",
            "Methods \t L0 \t L2 \t L_inf\n",
            "carlinil \t 189.8 \t 0.02703031930445755 \t 0.011826575273635264\n",
            "elastic_net \t 299.5 \t 2.322542449955338 \t 0.492671352378432\n",
            "saliency \t 133.6 \t 2.6138962166131874 \t 0.9563766831193098\n",
            "\n",
            "\n"
          ]
        }
      ],
      "source": [
        "# Imports\n",
        "from numpy import linalg as LA\n",
        "\n",
        "for class_label in range(0, 10):\n",
        "    print('For images of true class = {}'.format(class_label))\n",
        "    norms_average = {\n",
        "        'carlinil': {\n",
        "            'l0': 0,\n",
        "            'l2': 0,\n",
        "            'l_inf': 0,\n",
        "        },\n",
        "        'elastic_net': {\n",
        "            'l0': 0,\n",
        "            'l2': 0,\n",
        "            'l_inf': 0,\n",
        "        },\n",
        "        'saliency': {\n",
        "            'l0': 0,\n",
        "            'l2': 0,\n",
        "            'l_inf': 0,\n",
        "        },\n",
        "    }\n",
        "    \n",
        "    ctr = 0\n",
        "    n = final_train_y.shape[0]\n",
        "    cur_adv_examples = np.zeros(n)\n",
        "    for i in range(n):\n",
        "        cur_true_label = final_train_y[i].tolist().index(1)\n",
        "        if cur_true_label == class_label:\n",
        "            ctr += 1\n",
        "            for attack_method in ['carlinil', 'elastic_net', 'saliency']:\n",
        "                if attack_method == 'carlinil': cur_adv_examples = carlinil_adv_examples\n",
        "                elif attack_method == 'elastic_net': cur_adv_examples = elastic_net_adv_examples\n",
        "                elif attack_method == 'saliency': cur_adv_examples = saliency_adv_examples\n",
        "                x_diff = (final_train_x[i].squeeze() - cur_adv_examples[i].squeeze()).reshape(-1)\n",
        "                norms_average[attack_method]['l0'] += LA.norm(x_diff, 0)\n",
        "                norms_average[attack_method]['l2'] += LA.norm(x_diff, 2)\n",
        "                norms_average[attack_method]['l_inf'] += LA.norm(x_diff, np.inf)\n",
        "    \n",
        "    print('Methods \\t L0 \\t L2 \\t L_inf')\n",
        "    for attack_method in ['carlinil', 'elastic_net', 'saliency']:\n",
        "        l0_average = norms_average[attack_method]['l0'] / ctr\n",
        "        l2_average = norms_average[attack_method]['l2'] / ctr\n",
        "        linf_average = norms_average[attack_method]['l_inf'] / ctr\n",
        "        print('{} \\t {} \\t {} \\t {}'.format(attack_method, l0_average, l2_average, linf_average))\n",
        "    print('\\n')"
      ]
    },
    {
      "cell_type": "markdown",
      "metadata": {
        "pycharm": {
          "name": "#%% md\n"
        },
        "id": "zVayMw6A40tx"
      },
      "source": [
        "## Part 3"
      ]
    },
    {
      "cell_type": "markdown",
      "metadata": {
        "pycharm": {
          "name": "#%% md\n"
        },
        "id": "IVLBjIKO40tx"
      },
      "source": [
        "### You need to complete the following."
      ]
    },
    {
      "cell_type": "code",
      "source": [
        "!unzip network.zip"
      ],
      "metadata": {
        "colab": {
          "base_uri": "https://localhost:8080/"
        },
        "id": "bjD8MQhJ5i2U",
        "outputId": "55a3299f-74aa-41a4-918b-b292dc20c542"
      },
      "execution_count": 18,
      "outputs": [
        {
          "output_type": "stream",
          "name": "stdout",
          "text": [
            "Archive:  network.zip\n",
            "   creating: network/\n",
            "  inflating: __MACOSX/._network      \n",
            "  inflating: network/mnist_loader.py  \n",
            "  inflating: __MACOSX/network/._mnist_loader.py  \n",
            "  inflating: network/trained_network.pkl  \n",
            "  inflating: __MACOSX/network/._trained_network.pkl  \n",
            "   creating: network/__pycache__/\n",
            "  inflating: network/network.py      \n",
            "  inflating: __MACOSX/network/._network.py  \n",
            "  inflating: network/__pycache__/mnist_loader.cpython-310.pyc  \n",
            "  inflating: network/__pycache__/network.cpython-310.pyc  \n"
          ]
        }
      ]
    },
    {
      "cell_type": "code",
      "execution_count": 19,
      "metadata": {
        "pycharm": {
          "name": "#%%\n"
        },
        "id": "z9mxn4UQ40tx"
      },
      "outputs": [],
      "source": [
        "# Imports\n",
        "\n",
        "# Reload the trained model from HW#3 Problem 4\n",
        "import network.network as Network\n",
        "import network.mnist_loader as mnist_loader\n",
        "import pickle\n",
        "\n",
        "# Load the pre-trained model.\n",
        "with open('network/trained_network.pkl', 'rb') as f:\n",
        "    u = pickle._Unpickler(f)\n",
        "    u.encoding = 'latin1'\n",
        "    target_net = u.load()"
      ]
    },
    {
      "cell_type": "code",
      "execution_count": 20,
      "metadata": {
        "pycharm": {
          "name": "#%%\n"
        },
        "id": "QjJOnoLY40ty"
      },
      "outputs": [],
      "source": [
        "def predict_using_target_net(x, verbose=False):\n",
        "    x = x.squeeze().reshape(-1, 1)\n",
        "    outputs = target_net.feedforward(x)\n",
        "    predictions = np.argmax(outputs)\n",
        "    if verbose:\n",
        "        print('Network output: \\n' + str(np.round(outputs, 2)) + '\\n')\n",
        "        print('Network prediction: ' + str(predictions) + '\\n')\n",
        "        print('Actual image: ')\n",
        "    \n",
        "        # Draw the image\n",
        "        plt.imshow(x.reshape((28,28)), cmap='Greys')\n",
        "    return predictions"
      ]
    },
    {
      "cell_type": "code",
      "execution_count": 21,
      "metadata": {
        "pycharm": {
          "name": "#%%\n"
        },
        "colab": {
          "base_uri": "https://localhost:8080/"
        },
        "id": "6sY-Cm8240ty",
        "outputId": "51c3cb1d-133d-472a-b8e5-0f5e6f3ffc85"
      },
      "outputs": [
        {
          "output_type": "stream",
          "name": "stdout",
          "text": [
            "For carlinil, Misclassification Ratio = 0.03\n",
            "For elastic_net, Misclassification Ratio = 0.15\n",
            "For saliency, Misclassification Ratio = 0.03\n"
          ]
        }
      ],
      "source": [
        "# Evaluate whether adversarial examples generated with the substitute model will transfer to the target model\n",
        "for attack_method in ['carlinil', 'elastic_net', 'saliency']:\n",
        "    if attack_method == 'carlinil': cur_adv_examples = carlinil_adv_examples\n",
        "    elif attack_method == 'elastic_net': cur_adv_examples = elastic_net_adv_examples\n",
        "    elif attack_method == 'saliency': cur_adv_examples = saliency_adv_examples\n",
        "    predictions = [predict_using_target_net(example) for example in cur_adv_examples]\n",
        "    predictions = np.asarray(predictions)\n",
        "    mr = misclassification_ratio(target_y_labels, predictions)\n",
        "    print('For {}, Misclassification Ratio = {}'.format(attack_method, mr))"
      ]
    },
    {
      "cell_type": "markdown",
      "metadata": {
        "pycharm": {
          "name": "#%% md\n"
        },
        "id": "40Z9TjIc40ty"
      },
      "source": [
        "## Part 4"
      ]
    },
    {
      "cell_type": "markdown",
      "metadata": {
        "pycharm": {
          "name": "#%% md\n"
        },
        "id": "N7jQ5jap40tz"
      },
      "source": [
        "### You need to complete the following."
      ]
    },
    {
      "cell_type": "code",
      "execution_count": 22,
      "metadata": {
        "pycharm": {
          "name": "#%%\n"
        },
        "id": "vVkk9KQu40tz"
      },
      "outputs": [],
      "source": [
        "# Imports\n",
        "from sklearn.model_selection import GridSearchCV\n",
        "from sklearn.neural_network import MLPClassifier\n",
        "from sklearn.linear_model import LogisticRegression\n",
        "from sklearn.neighbors import KNeighborsClassifier\n",
        "from sklearn.naive_bayes import GaussianNB\n",
        "from sklearn.ensemble import VotingClassifier\n",
        "from sklearn.svm import SVC"
      ]
    },
    {
      "cell_type": "code",
      "execution_count": 23,
      "metadata": {
        "pycharm": {
          "name": "#%%\n"
        },
        "id": "M_Cqwo1N40tz"
      },
      "outputs": [],
      "source": [
        "# Re-load the MNIST dataset\n",
        "(x_train, y_train), (x_test, y_test) = mnist.load_data()\n",
        "\n",
        "# Normalization\n",
        "x_train = keras.utils.normalize(x_train, axis=1)\n",
        "x_test = keras.utils.normalize(x_test, axis=1)\n",
        "\n",
        "nb_trains = x_train.shape[0]\n",
        "nb_tests = x_test.shape[0]"
      ]
    },
    {
      "cell_type": "code",
      "execution_count": 24,
      "metadata": {
        "pycharm": {
          "name": "#%%\n"
        },
        "colab": {
          "base_uri": "https://localhost:8080/"
        },
        "id": "lCjHJ-Un40tz",
        "outputId": "7cbff19f-388b-4df2-ec0e-1fac3a153b7a"
      },
      "outputs": [
        {
          "output_type": "stream",
          "name": "stdout",
          "text": [
            "0.9714\n"
          ]
        }
      ],
      "source": [
        "# ANN model\n",
        "ann_parameters = {\n",
        "'hidden_layer_sizes': [(100), (100,100)]\n",
        "}\n",
        "\n",
        "ann_clf = GridSearchCV(MLPClassifier(), param_grid=ann_parameters, n_jobs=-1)\n",
        "ann_clf.fit(x_train.reshape(x_train.shape[0], x_train.shape[1] * x_train.shape[2]), y_train)\n",
        "print(ann_clf.best_score_)"
      ]
    },
    {
      "cell_type": "code",
      "execution_count": 25,
      "metadata": {
        "pycharm": {
          "name": "#%%\n"
        },
        "colab": {
          "base_uri": "https://localhost:8080/"
        },
        "id": "go3v6PS140t0",
        "outputId": "62634791-dafd-40e5-8f49-e71bc083c5ad"
      },
      "outputs": [
        {
          "output_type": "stream",
          "name": "stderr",
          "text": [
            "/usr/local/lib/python3.8/dist-packages/joblib/externals/loky/process_executor.py:700: UserWarning: A worker stopped while some jobs were given to the executor. This can be caused by a too short worker timeout or by a memory leak.\n",
            "  warnings.warn(\n"
          ]
        },
        {
          "output_type": "stream",
          "name": "stdout",
          "text": [
            "0.9795666666666667\n"
          ]
        }
      ],
      "source": [
        "# SVM model\n",
        "svm_parameters = {\n",
        "    'kernel': ['rbf'],\n",
        "    'C': [1, 10]\n",
        "}\n",
        "\n",
        "svm_clf = GridSearchCV(SVC(), param_grid=svm_parameters, n_jobs=-1)\n",
        "svm_clf.fit(x_train.reshape(x_train.shape[0], x_train.shape[1] * x_train.shape[2]), y_train)\n",
        "print(svm_clf.best_score_)"
      ]
    },
    {
      "cell_type": "code",
      "execution_count": 26,
      "metadata": {
        "pycharm": {
          "name": "#%%\n"
        },
        "colab": {
          "base_uri": "https://localhost:8080/"
        },
        "id": "YLXaOIo-40t0",
        "outputId": "46218d4e-e4f5-4908-e1a2-93046b0efbfd"
      },
      "outputs": [
        {
          "output_type": "stream",
          "name": "stderr",
          "text": [
            "/usr/local/lib/python3.8/dist-packages/sklearn/model_selection/_validation.py:372: FitFailedWarning: \n",
            "10 fits failed out of a total of 20.\n",
            "The score on these train-test partitions for these parameters will be set to nan.\n",
            "If these failures are not expected, you can try to debug them by setting error_score='raise'.\n",
            "\n",
            "Below are more details about the failures:\n",
            "--------------------------------------------------------------------------------\n",
            "10 fits failed with the following error:\n",
            "Traceback (most recent call last):\n",
            "  File \"/usr/local/lib/python3.8/dist-packages/sklearn/model_selection/_validation.py\", line 680, in _fit_and_score\n",
            "    estimator.fit(X_train, y_train, **fit_params)\n",
            "  File \"/usr/local/lib/python3.8/dist-packages/sklearn/linear_model/_logistic.py\", line 1461, in fit\n",
            "    solver = _check_solver(self.solver, self.penalty, self.dual)\n",
            "  File \"/usr/local/lib/python3.8/dist-packages/sklearn/linear_model/_logistic.py\", line 447, in _check_solver\n",
            "    raise ValueError(\n",
            "ValueError: Solver lbfgs supports only 'l2' or 'none' penalties, got l1 penalty.\n",
            "\n",
            "  warnings.warn(some_fits_failed_message, FitFailedWarning)\n",
            "/usr/local/lib/python3.8/dist-packages/sklearn/model_selection/_search.py:969: UserWarning: One or more of the test scores are non-finite: [    nan 0.91915     nan 0.91685]\n",
            "  warnings.warn(\n"
          ]
        },
        {
          "output_type": "stream",
          "name": "stdout",
          "text": [
            "0.9191499999999999\n"
          ]
        },
        {
          "output_type": "stream",
          "name": "stderr",
          "text": [
            "/usr/local/lib/python3.8/dist-packages/sklearn/linear_model/_logistic.py:814: ConvergenceWarning: lbfgs failed to converge (status=1):\n",
            "STOP: TOTAL NO. of ITERATIONS REACHED LIMIT.\n",
            "\n",
            "Increase the number of iterations (max_iter) or scale the data as shown in:\n",
            "    https://scikit-learn.org/stable/modules/preprocessing.html\n",
            "Please also refer to the documentation for alternative solver options:\n",
            "    https://scikit-learn.org/stable/modules/linear_model.html#logistic-regression\n",
            "  n_iter_i = _check_optimize_result(\n"
          ]
        }
      ],
      "source": [
        "# Logistic Regression model\n",
        "lr_parameters = {\n",
        "    'multi_class': ['auto'],\n",
        "    'penalty' : ['l1', 'l2'],\n",
        "    'C': [1, 10],\n",
        "}\n",
        "\n",
        "lr_clf = GridSearchCV(LogisticRegression(), param_grid=lr_parameters, n_jobs=-1)\n",
        "lr_clf.fit(x_train.reshape(x_train.shape[0], x_train.shape[1] * x_train.shape[2]), y_train)\n",
        "print(lr_clf.best_score_)"
      ]
    },
    {
      "cell_type": "code",
      "execution_count": 27,
      "metadata": {
        "pycharm": {
          "name": "#%%\n"
        },
        "colab": {
          "base_uri": "https://localhost:8080/"
        },
        "id": "enBWvBU040t0",
        "outputId": "38bc7763-6066-45ab-e0de-fa2cccf9afd9"
      },
      "outputs": [
        {
          "output_type": "stream",
          "name": "stderr",
          "text": [
            "/usr/local/lib/python3.8/dist-packages/joblib/externals/loky/process_executor.py:700: UserWarning: A worker stopped while some jobs were given to the executor. This can be caused by a too short worker timeout or by a memory leak.\n",
            "  warnings.warn(\n"
          ]
        },
        {
          "output_type": "stream",
          "name": "stdout",
          "text": [
            "0.9588333333333333\n"
          ]
        }
      ],
      "source": [
        "# kNN\n",
        "knn_parameters = {\n",
        "    'n_neighbors': [5],\n",
        "    'weights': ['uniform', 'distance']\n",
        "}\n",
        "knn_clf = GridSearchCV(KNeighborsClassifier(), param_grid=knn_parameters, n_jobs=-1)\n",
        "knn_clf.fit(x_train.reshape(x_train.shape[0], x_train.shape[1] * x_train.shape[2]), y_train)\n",
        "print(knn_clf.best_score_)"
      ]
    },
    {
      "cell_type": "code",
      "execution_count": 28,
      "metadata": {
        "pycharm": {
          "name": "#%%\n"
        },
        "colab": {
          "base_uri": "https://localhost:8080/"
        },
        "id": "BkuBGVK740t0",
        "outputId": "9f272324-ac32-4c47-9140-63634ab7e63f"
      },
      "outputs": [
        {
          "output_type": "stream",
          "name": "stdout",
          "text": [
            "0.7967000000000001\n"
          ]
        }
      ],
      "source": [
        "# Naive Bayes\n",
        "naive_bayes_parameters = {\n",
        "    'var_smoothing': [1e-3, 1e-2, 1e-1]\n",
        "}\n",
        "naive_bayes_clf = GridSearchCV(GaussianNB(), param_grid=naive_bayes_parameters, n_jobs=-1)\n",
        "naive_bayes_clf.fit(x_train.reshape(x_train.shape[0], x_train.shape[1] * x_train.shape[2]), y_train)\n",
        "print(naive_bayes_clf.best_score_)"
      ]
    },
    {
      "cell_type": "code",
      "execution_count": 29,
      "metadata": {
        "pycharm": {
          "name": "#%%\n"
        },
        "id": "6UKXRhh-40t1",
        "outputId": "35030e51-2060-4780-bc6d-da3ca9fdd8ef",
        "colab": {
          "base_uri": "https://localhost:8080/"
        }
      },
      "outputs": [
        {
          "output_type": "stream",
          "name": "stdout",
          "text": [
            "0.9428833333333333\n"
          ]
        },
        {
          "output_type": "stream",
          "name": "stderr",
          "text": [
            "/usr/local/lib/python3.8/dist-packages/sklearn/linear_model/_logistic.py:814: ConvergenceWarning: lbfgs failed to converge (status=1):\n",
            "STOP: TOTAL NO. of ITERATIONS REACHED LIMIT.\n",
            "\n",
            "Increase the number of iterations (max_iter) or scale the data as shown in:\n",
            "    https://scikit-learn.org/stable/modules/preprocessing.html\n",
            "Please also refer to the documentation for alternative solver options:\n",
            "    https://scikit-learn.org/stable/modules/linear_model.html#logistic-regression\n",
            "  n_iter_i = _check_optimize_result(\n"
          ]
        }
      ],
      "source": [
        "# Voting classifiers\n",
        "voting_clf = VotingClassifier(estimators=[\n",
        "                                ('naive_bayes', GaussianNB()),\n",
        "                                ('ann', MLPClassifier()),\n",
        "                                ('lr', LogisticRegression()),\n",
        "                               ], voting='soft')\n",
        "\n",
        "params = {\n",
        "          'naive_bayes__var_smoothing': [1e-3, 1e-2, 1e-1],\n",
        "          'lr__C': [1, 10],\n",
        "          'ann__hidden_layer_sizes': [(100), (100,100)]}\n",
        "\n",
        "voting_clf = GridSearchCV(voting_clf, param_grid=params, n_jobs=-1)\n",
        "voting_clf.fit(x_train.reshape(x_train.shape[0], x_train.shape[1] * x_train.shape[2]), y_train)\n",
        "print(voting_clf.best_score_)"
      ]
    },
    {
      "cell_type": "code",
      "execution_count": 30,
      "metadata": {
        "pycharm": {
          "name": "#%%\n"
        },
        "id": "qAlcx4hg40t1",
        "outputId": "ebbf3fe3-394a-42cf-950c-dcd348dfac6b",
        "colab": {
          "base_uri": "https://localhost:8080/"
        }
      },
      "outputs": [
        {
          "output_type": "stream",
          "name": "stdout",
          "text": [
            "Methods \t Test Acc \t Carlinil MR \t ElasticNet MR \t Saliency MR\n",
            "ANN \t 0.9755 \t 0.02 \t 0.1 \t 0.02\n",
            "SVM \t 0.9817 \t 0.01 \t 0.12 \t 0.01\n",
            "Logistic Regression \t 0.9243 \t 0.03 \t 0.17 \t 0.05\n",
            "kNN \t 0.9622 \t 0.01 \t 0.05 \t 0.0\n",
            "Naive Bayes \t 0.8073 \t 0.07 \t 0.13 \t 0.08\n",
            "Voting classifiers \t 0.9461 \t 0.03 \t 0.1 \t 0.06\n"
          ]
        }
      ],
      "source": [
        "classifier_names = ['ANN', 'SVM', 'Logistic Regression', 'kNN', 'Naive Bayes', 'Voting classifiers']\n",
        "classifiers = [ann_clf, svm_clf, lr_clf, knn_clf, naive_bayes_clf, voting_clf]\n",
        "print('Methods \\t Test Acc \\t Carlinil MR \\t ElasticNet MR \\t Saliency MR')\n",
        "for i in range(len(classifiers)):\n",
        "    test_acc = classifiers[i].score(np.reshape(x_test, (len(x_test), x_test.shape[1]*x_test.shape[2])), y_test)\n",
        "    carlinil_acc = classifiers[i].score(np.reshape(carlinil_adv_examples, (len(carlinil_adv_examples), carlinil_adv_examples.shape[2] * carlinil_adv_examples.shape[3])), target_y_labels)\n",
        "    elasticnet_acc = classifiers[i].score(np.reshape(elastic_net_adv_examples, (len(elastic_net_adv_examples), elastic_net_adv_examples.shape[2] * elastic_net_adv_examples.shape[3])), target_y_labels)\n",
        "    saliency_acc = classifiers[i].score(np.reshape(saliency_adv_examples, (len(saliency_adv_examples), saliency_adv_examples.shape[2] * saliency_adv_examples.shape[3])), target_y_labels)\n",
        "    print('{} \\t {} \\t {} \\t {} \\t {}'.format(classifier_names[i], str(test_acc), str(carlinil_acc), str(elasticnet_acc), str(saliency_acc)))"
      ]
    }
  ],
  "metadata": {
    "kernelspec": {
      "display_name": "Python 3 (ipykernel)",
      "language": "python",
      "name": "python3"
    },
    "language_info": {
      "codemirror_mode": {
        "name": "ipython",
        "version": 3
      },
      "file_extension": ".py",
      "mimetype": "text/x-python",
      "name": "python",
      "nbconvert_exporter": "python",
      "pygments_lexer": "ipython3",
      "version": "3.10.6"
    },
    "colab": {
      "provenance": []
    },
    "accelerator": "GPU",
    "gpuClass": "standard"
  },
  "nbformat": 4,
  "nbformat_minor": 0
}