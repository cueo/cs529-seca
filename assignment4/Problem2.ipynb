{
  "cells": [
    {
      "cell_type": "code",
      "execution_count": 10,
      "metadata": {
        "pycharm": {
          "name": "#%%\n"
        },
        "colab": {
          "base_uri": "https://localhost:8080/"
        },
        "id": "zCI1-FTp40tp",
        "outputId": "c7f08ca2-7f02-4d58-9068-16a379674282"
      },
      "outputs": [
        {
          "output_type": "stream",
          "name": "stdout",
          "text": [
            "Looking in indexes: https://pypi.org/simple, https://us-python.pkg.dev/colab-wheels/public/simple/\n",
            "Requirement already satisfied: adversarial-robustness-toolbox in /usr/local/lib/python3.8/dist-packages (1.12.2)\n",
            "Requirement already satisfied: scipy>=1.4.1 in /usr/local/lib/python3.8/dist-packages (from adversarial-robustness-toolbox) (1.7.3)\n",
            "Requirement already satisfied: scikit-learn<1.1.0,>=0.22.2 in /usr/local/lib/python3.8/dist-packages (from adversarial-robustness-toolbox) (1.0.2)\n",
            "Requirement already satisfied: setuptools in /usr/local/lib/python3.8/dist-packages (from adversarial-robustness-toolbox) (57.4.0)\n",
            "Requirement already satisfied: numpy>=1.18.0 in /usr/local/lib/python3.8/dist-packages (from adversarial-robustness-toolbox) (1.21.6)\n",
            "Requirement already satisfied: tqdm in /usr/local/lib/python3.8/dist-packages (from adversarial-robustness-toolbox) (4.64.1)\n",
            "Requirement already satisfied: six in /usr/local/lib/python3.8/dist-packages (from adversarial-robustness-toolbox) (1.15.0)\n",
            "Requirement already satisfied: joblib>=0.11 in /usr/local/lib/python3.8/dist-packages (from scikit-learn<1.1.0,>=0.22.2->adversarial-robustness-toolbox) (1.2.0)\n",
            "Requirement already satisfied: threadpoolctl>=2.0.0 in /usr/local/lib/python3.8/dist-packages (from scikit-learn<1.1.0,>=0.22.2->adversarial-robustness-toolbox) (3.1.0)\n"
          ]
        }
      ],
      "source": [
        "!pip install adversarial-robustness-toolbox"
      ]
    },
    {
      "cell_type": "code",
      "execution_count": 11,
      "metadata": {
        "pycharm": {
          "name": "#%%\n"
        },
        "id": "1kMuOXHX40tq"
      },
      "outputs": [],
      "source": [
        "# Imports\n",
        "import keras\n",
        "import random\n",
        "import numpy as np\n",
        "import matplotlib.pyplot as plt\n",
        "\n",
        "from keras.datasets import mnist\n",
        "from keras.models import Sequential\n",
        "from keras.layers import Dense, Dropout, Flatten\n",
        "from keras.layers import Conv2D, MaxPooling2D\n",
        "from keras import backend as K\n",
        "\n",
        "from art.attacks.evasion import CarliniL2Method, SaliencyMapMethod, ElasticNet\n",
        "from art.estimators.classification import KerasClassifier\n",
        "\n",
        "# Set the random seeds. Do not change this!\n",
        "seedVal = 41\n",
        "random.seed(seedVal)\n",
        "np.random.seed(seedVal)\n",
        "\n",
        "# Define some constants.\n",
        "NUM_CLASSES = 10\n",
        "BATCH_SIZE = 32"
      ]
    },
    {
      "cell_type": "markdown",
      "metadata": {
        "pycharm": {
          "name": "#%% md\n"
        },
        "id": "R7Ctq2y440tr"
      },
      "source": [
        "## Part 1"
      ]
    },
    {
      "cell_type": "markdown",
      "metadata": {
        "pycharm": {
          "name": "#%% md\n"
        },
        "id": "LUMS_akl40tt"
      },
      "source": [
        "### You need to complete the following."
      ]
    },
    {
      "cell_type": "code",
      "execution_count": 12,
      "metadata": {
        "pycharm": {
          "name": "#%%\n"
        },
        "id": "jyGcJdg540tt"
      },
      "outputs": [],
      "source": [
        "# Load the MNIST dataset\n",
        "(x_train, y_train), (x_test, y_test) = mnist.load_data()\n",
        "\n",
        "# Normalization\n",
        "x_train = keras.utils.normalize(x_train, axis=1)\n",
        "x_test = keras.utils.normalize(x_test, axis=1)\n",
        "\n",
        "# convert class vectors to binary class matrices\n",
        "y_train = keras.utils.to_categorical(y_train, NUM_CLASSES)\n",
        "y_test = keras.utils.to_categorical(y_test, NUM_CLASSES)\n",
        "\n",
        "K.set_image_data_format('channels_first')\n",
        "\n",
        "# Reshape the data.\n",
        "x_train = x_train.reshape(x_train.shape[0], 1, 28, 28)\n",
        "x_test = x_test.reshape(x_test.shape[0], 1, 28, 28)"
      ]
    },
    {
      "cell_type": "code",
      "execution_count": 13,
      "metadata": {
        "pycharm": {
          "name": "#%%\n"
        },
        "id": "-_W8Ugdc40tu"
      },
      "outputs": [],
      "source": [
        "# Build a training dataset for the substitute model\n",
        "# Collect ten images from each dataset class (numbers 0-9)\n",
        "selected_examples = []\n",
        "for target_label in range(0, 10):\n",
        "    count = 0\n",
        "    for i in range(y_train.shape[0]):\n",
        "        if y_train[i].tolist().index(1) == target_label:\n",
        "            count += 1\n",
        "            selected_examples.append((x_train[i, :, :], y_train[i]))\n",
        "            if count == 10:\n",
        "                break\n",
        "\n",
        "# Convert selected examples to numpy array\n",
        "# final_train_x =  np.array([selected_examples[i][0] for i in range(len(selected_examples))])\n",
        "# final_train_y = np.array([selected_examples[i][1] for i in range(len(selected_examples))])\n",
        "final_train_x = []\n",
        "final_train_y = []\n",
        "\n",
        "for example in selected_examples:\n",
        "  final_train_x.append(example[0])\n",
        "  final_train_y.append(example[1])\n",
        "final_train_x = np.array(final_train_x)\n",
        "final_train_y = np.array(final_train_y)"
      ]
    },
    {
      "cell_type": "code",
      "source": [
        "import tensorflow as tf\n",
        "\n",
        "tf.compat.v1.disable_eager_execution()"
      ],
      "metadata": {
        "id": "pmZXAqoi4-3L"
      },
      "execution_count": 14,
      "outputs": []
    },
    {
      "cell_type": "code",
      "execution_count": 15,
      "metadata": {
        "pycharm": {
          "name": "#%%\n"
        },
        "colab": {
          "base_uri": "https://localhost:8080/"
        },
        "id": "FcH2uqyq40tu",
        "outputId": "d5b202f5-3c8e-4b37-cf46-b5a83e38b123"
      },
      "outputs": [
        {
          "output_type": "stream",
          "name": "stdout",
          "text": [
            "(1, 28, 28)\n",
            "Model: \"sequential\"\n",
            "_________________________________________________________________\n",
            " Layer (type)                Output Shape              Param #   \n",
            "=================================================================\n",
            " conv2d (Conv2D)             (None, 32, 26, 26)        320       \n",
            "                                                                 \n",
            " max_pooling2d (MaxPooling2D  (None, 32, 13, 13)       0         \n",
            " )                                                               \n",
            "                                                                 \n",
            " conv2d_1 (Conv2D)           (None, 64, 11, 11)        18496     \n",
            "                                                                 \n",
            " max_pooling2d_1 (MaxPooling  (None, 64, 5, 5)         0         \n",
            " 2D)                                                             \n",
            "                                                                 \n",
            " conv2d_2 (Conv2D)           (None, 64, 3, 3)          36928     \n",
            "                                                                 \n",
            " flatten (Flatten)           (None, 576)               0         \n",
            "                                                                 \n",
            " dense (Dense)               (None, 64)                36928     \n",
            "                                                                 \n",
            " dense_1 (Dense)             (None, 10)                650       \n",
            "                                                                 \n",
            "=================================================================\n",
            "Total params: 93,322\n",
            "Trainable params: 93,322\n",
            "Non-trainable params: 0\n",
            "_________________________________________________________________\n"
          ]
        },
        {
          "output_type": "stream",
          "name": "stderr",
          "text": [
            "/usr/local/lib/python3.8/dist-packages/tensorflow/python/util/dispatch.py:1082: UserWarning: \"`sparse_categorical_crossentropy` received `from_logits=True`, but the `output` argument was produced by a sigmoid or softmax activation and thus does not represent logits. Was this intended?\"\n",
            "  return dispatch_target(*args, **kwargs)\n"
          ]
        },
        {
          "output_type": "stream",
          "name": "stdout",
          "text": [
            "Train on 100 samples\n",
            "Epoch 1/30\n",
            "100/100 [==============================] - 10s 97ms/sample - loss: 2.3014 - accuracy: 0.2000\n",
            "Epoch 2/30\n",
            "100/100 [==============================] - 0s 383us/sample - loss: 2.2660 - accuracy: 0.2600\n",
            "Epoch 3/30\n",
            "100/100 [==============================] - 0s 330us/sample - loss: 2.2180 - accuracy: 0.3300\n",
            "Epoch 4/30\n",
            "100/100 [==============================] - 0s 213us/sample - loss: 2.1357 - accuracy: 0.4300\n",
            "Epoch 5/30\n",
            "100/100 [==============================] - 0s 261us/sample - loss: 1.9982 - accuracy: 0.4600\n",
            "Epoch 6/30\n",
            "100/100 [==============================] - 0s 247us/sample - loss: 1.8150 - accuracy: 0.4200\n",
            "Epoch 7/30\n",
            "100/100 [==============================] - 0s 235us/sample - loss: 1.6226 - accuracy: 0.4900\n",
            "Epoch 8/30\n",
            "100/100 [==============================] - 0s 304us/sample - loss: 1.3900 - accuracy: 0.5600\n",
            "Epoch 9/30\n",
            "100/100 [==============================] - 0s 308us/sample - loss: 1.1341 - accuracy: 0.7100\n",
            "Epoch 10/30\n",
            "100/100 [==============================] - 0s 227us/sample - loss: 0.9454 - accuracy: 0.7700\n",
            "Epoch 11/30\n",
            "100/100 [==============================] - 0s 211us/sample - loss: 0.8594 - accuracy: 0.7200\n",
            "Epoch 12/30\n",
            "100/100 [==============================] - 0s 185us/sample - loss: 0.6923 - accuracy: 0.7800\n",
            "Epoch 13/30\n",
            "100/100 [==============================] - 0s 336us/sample - loss: 0.5814 - accuracy: 0.8200\n",
            "Epoch 14/30\n",
            "100/100 [==============================] - 0s 212us/sample - loss: 0.5042 - accuracy: 0.8300\n",
            "Epoch 15/30\n",
            "100/100 [==============================] - 0s 255us/sample - loss: 0.3847 - accuracy: 0.8900\n",
            "Epoch 16/30\n",
            "100/100 [==============================] - 0s 195us/sample - loss: 0.3583 - accuracy: 0.8700\n",
            "Epoch 17/30\n",
            "100/100 [==============================] - 0s 224us/sample - loss: 0.3132 - accuracy: 0.9100\n",
            "Epoch 18/30\n",
            "100/100 [==============================] - 0s 396us/sample - loss: 0.2880 - accuracy: 0.9200\n",
            "Epoch 19/30\n",
            "100/100 [==============================] - 0s 248us/sample - loss: 0.2936 - accuracy: 0.9300\n",
            "Epoch 20/30\n",
            "100/100 [==============================] - 0s 226us/sample - loss: 0.1992 - accuracy: 0.9700\n",
            "Epoch 21/30\n",
            "100/100 [==============================] - 0s 232us/sample - loss: 0.2707 - accuracy: 0.9200\n",
            "Epoch 22/30\n",
            "100/100 [==============================] - 0s 279us/sample - loss: 0.2034 - accuracy: 0.9500\n",
            "Epoch 23/30\n",
            "100/100 [==============================] - 0s 325us/sample - loss: 0.1407 - accuracy: 0.9800\n",
            "Epoch 24/30\n",
            "100/100 [==============================] - 0s 238us/sample - loss: 0.1058 - accuracy: 1.0000\n",
            "Epoch 25/30\n",
            "100/100 [==============================] - 0s 244us/sample - loss: 0.1000 - accuracy: 0.9900\n",
            "Epoch 26/30\n",
            "100/100 [==============================] - 0s 349us/sample - loss: 0.0738 - accuracy: 1.0000\n",
            "Epoch 27/30\n",
            "100/100 [==============================] - 0s 253us/sample - loss: 0.0655 - accuracy: 1.0000\n",
            "Epoch 28/30\n",
            "100/100 [==============================] - 0s 185us/sample - loss: 0.0821 - accuracy: 0.9800\n",
            "Epoch 29/30\n",
            "100/100 [==============================] - 0s 222us/sample - loss: 0.0382 - accuracy: 1.0000\n",
            "Epoch 30/30\n",
            "100/100 [==============================] - 0s 276us/sample - loss: 0.1082 - accuracy: 0.9600\n"
          ]
        }
      ],
      "source": [
        "# Train a CNN-based substitute model using the newly collected dataset\n",
        "substitute_model = Sequential()\n",
        "\n",
        "input_shape = final_train_x[0].shape\n",
        "print(input_shape)\n",
        "\n",
        "# Define the intermediate layers.\n",
        "# GPU\n",
        "substitute_model.add(Conv2D(32, (3, 3), activation='relu', input_shape=input_shape))\n",
        "substitute_model.add(MaxPooling2D((2, 2), data_format='channels_first'))\n",
        "substitute_model.add(Conv2D(64, (3, 3), activation='relu'))\n",
        "substitute_model.add(MaxPooling2D((2, 2), data_format='channels_first'))\n",
        "substitute_model.add(Conv2D(64, (3, 3), activation='relu'))\n",
        "\n",
        "substitute_model.add(Flatten())\n",
        "\n",
        "substitute_model.add(Dense(64, activation='relu'))\n",
        "substitute_model.add(Dense(NUM_CLASSES, activation='softmax'))\n",
        "\n",
        "substitute_model.summary()\n",
        "\n",
        "# Compile the model\n",
        "substitute_model.compile(optimizer='adam',\n",
        "              loss=keras.losses.SparseCategoricalCrossentropy(from_logits=True),\n",
        "              metrics=['accuracy'])\n",
        "\n",
        "substitute_model = KerasClassifier(model=substitute_model, clip_values=(0,1))\n",
        "\n",
        "# Fit the model\n",
        "substitute_model.fit(final_train_x, final_train_y, nb_epochs=30, batch_size=BATCH_SIZE)"
      ]
    },
    {
      "cell_type": "markdown",
      "metadata": {
        "pycharm": {
          "name": "#%% md\n"
        },
        "id": "v_Q_cG9r40tu"
      },
      "source": [
        "    Please ONLY use the following attack methods."
      ]
    },
    {
      "cell_type": "code",
      "execution_count": 17,
      "metadata": {
        "pycharm": {
          "name": "#%%\n"
        },
        "id": "5uZ1IFVQ40tv"
      },
      "outputs": [],
      "source": [
        "import pickle\n",
        "\n",
        "# Define methods for generating \"targetted\" adversarial examples\n",
        "def generate_adv_examples_CarliniL2Method(classifier, x, target_y):\n",
        "    filename = 'carlinil_adv_examples_gpu.pkl'\n",
        "    if os.path.exists(filename):\n",
        "      with open(filename, 'rb') as f:\n",
        "        return pickle.load(f)\n",
        "    \n",
        "    attack = CarliniL2Method(classifier, targeted=True)\n",
        "    examples = attack.generate(x, target_y)\n",
        "    \n",
        "    with open(filename, 'wb') as f:\n",
        "      pickle.dump(examples, f)\n",
        "    return examples\n",
        "\n",
        "def generate_adv_examples_ElasticNet(classifier, x, target_y):\n",
        "    filename = 'elastic_net_adv_examples_gpu.pkl'\n",
        "    if os.path.exists(filename):\n",
        "      with open(filename, 'rb') as f:\n",
        "        return pickle.load(f)\n",
        "    \n",
        "    attack = ElasticNet(classifier, targeted=True)\n",
        "    examples = attack.generate(x, target_y)\n",
        "    \n",
        "    with open(filename, 'wb') as f:\n",
        "      pickle.dump(examples, f)\n",
        "    return examples\n",
        "\n",
        "def generate_adv_examples_SaliencyMapMethod(classifier, x, target_y):\n",
        "    filename = 'saliency_adv_examples_gpu.pkl'\n",
        "    if os.path.exists(filename):\n",
        "      with open(filename, 'rb') as f:\n",
        "        return pickle.load(f)\n",
        "\n",
        "    attack = SaliencyMapMethod(classifier)\n",
        "    examples = attack.generate(x, target_y)\n",
        "    \n",
        "    with open(filename, 'wb') as f:\n",
        "      pickle.dump(examples, f)\n",
        "    return examples"
      ]
    },
    {
      "cell_type": "code",
      "source": [
        "import os\n",
        "\n",
        "from google.colab import drive\n",
        "from shutil import copy\n",
        "\n",
        "drive.mount('/content/drive')\n",
        "\n",
        "# for filename in ['carlinil_adv_examples_gpu.pkl', 'elastic_net_adv_examples_gpu.pkl', 'saliency_adv_examples_gpu.pkl']:\n",
        "#   # copy(filename, os.path.join('drive/MyDrive/Colab Notebooks', filename))\n",
        "#   src = os.path.join('drive/MyDrive/Colab Notebooks', filename)\n",
        "#   if os.path.exists(src):\n",
        "#     copy(src, filename)"
      ],
      "metadata": {
        "colab": {
          "base_uri": "https://localhost:8080/"
        },
        "id": "nhnyj4F15unH",
        "outputId": "1b2d3a7a-90a9-4bb4-b059-f17263aad2c6"
      },
      "execution_count": 9,
      "outputs": [
        {
          "output_type": "stream",
          "name": "stdout",
          "text": [
            "Mounted at /content/drive\n"
          ]
        }
      ]
    },
    {
      "cell_type": "code",
      "execution_count": 18,
      "metadata": {
        "pycharm": {
          "name": "#%%\n"
        },
        "colab": {
          "base_uri": "https://localhost:8080/",
          "height": 184,
          "referenced_widgets": [
            "49d71882b60e43d39797d516cbace404",
            "178213dc54a74c63950e892729fb6efa",
            "b7286462f4a54020bd4bd6eb30d0d381",
            "3a647ac0aacd4dfd9c3fcdf6894b3724",
            "f209c348e6e0427288dce84276182459",
            "be932cb06b93403abbde358dc2bd719e",
            "6a961e1d69204cd39e3901fa6cc95a39",
            "90dcdb296115480cac7abf0d1c798ba1",
            "4ee65466e7764bb390358888ce2a9ec1",
            "176dc6e48b6c458997015241a8fb1565",
            "6e7c959c3c3a4385927332565e70b347",
            "d80d4a3a919046cf98f0918b004bbd23",
            "9f3e9c55b94c4fefac3334efe34da3f8",
            "9dc7b6b4a53d41f2a739de3733667b5d",
            "770170e286394a5ea09a7918583fdfc3",
            "efa9eaf67b0d40c6869a522aea298c16",
            "ed545c8f59c141d59028350d26950485",
            "700cf246a61c42dfa0ad8eb4663aeef1",
            "36cdd5546e334c3c92c74b0e668d7c40",
            "e1e11d307e8145e6ac3fb67cf0c22e35",
            "df01690cb20d4e87999844b3cb0621b5",
            "1b51762829d24e7fa0e62905ed36074c",
            "54bd7cd2f0c34fe3a26c5e2fa7493e23",
            "1c9aeb5304ab4596a5881b41f18ac902",
            "01610669788543adb0c1d74deabfb047",
            "3b2bf0bd865949a6bb188a4c23d6d448",
            "b407b296860441d4b0dd98b890836e30",
            "33efca93b83d4805a8c0274dfb5f2686",
            "46688529c54d451f9b4c9592782aaf8c",
            "40a18811880a4fe7837f923a678f21e6",
            "949be3fa64244fd8b4590cfc0982e086",
            "e280d0569e984bedbd5331a74eb1d8d0",
            "73f2f898fb4142819269e7ff1b930439"
          ]
        },
        "id": "wo7TX4DI40tv",
        "outputId": "2690c23c-fd3a-40d7-a193-fb004660446c"
      },
      "outputs": [
        {
          "output_type": "display_data",
          "data": {
            "text/plain": [
              "C&W L_2:   0%|          | 0/100 [00:00<?, ?it/s]"
            ],
            "application/vnd.jupyter.widget-view+json": {
              "version_major": 2,
              "version_minor": 0,
              "model_id": "49d71882b60e43d39797d516cbace404"
            }
          },
          "metadata": {}
        },
        {
          "output_type": "stream",
          "name": "stderr",
          "text": [
            "/usr/local/lib/python3.8/dist-packages/keras/engine/training_v1.py:2067: UserWarning: `Model.state_updates` will be removed in a future version. This property should not be used in TensorFlow 2.0, as `updates` are applied automatically.\n",
            "  updates=self.state_updates,\n"
          ]
        },
        {
          "output_type": "display_data",
          "data": {
            "text/plain": [
              "EAD:   0%|          | 0/100 [00:00<?, ?it/s]"
            ],
            "application/vnd.jupyter.widget-view+json": {
              "version_major": 2,
              "version_minor": 0,
              "model_id": "d80d4a3a919046cf98f0918b004bbd23"
            }
          },
          "metadata": {}
        },
        {
          "output_type": "display_data",
          "data": {
            "text/plain": [
              "JSMA:   0%|          | 0/100 [00:00<?, ?it/s]"
            ],
            "application/vnd.jupyter.widget-view+json": {
              "version_major": 2,
              "version_minor": 0,
              "model_id": "54bd7cd2f0c34fe3a26c5e2fa7493e23"
            }
          },
          "metadata": {}
        },
        {
          "output_type": "stream",
          "name": "stdout",
          "text": [
            "(100, 1, 28, 28) (100, 1, 28, 28) (100, 1, 28, 28)\n"
          ]
        }
      ],
      "source": [
        "# Build a mapping from the true label to the fake label\n",
        "# For example, in the mapping below, we want the classifier to predict 0 images as 8.\n",
        "label_map = {0:8, 1:9, 2:3, 3:5, 4:6, 5:7, 6:4, 7:2, 8:1, 9:0}\n",
        "for k, v in label_map.items():\n",
        "    assert(k != v)\n",
        "assert(len(set(label_map.keys())) == 10)\n",
        "assert(len(set(label_map.values())) == 10)\n",
        "\n",
        "# Build target_y\n",
        "target_y_labels = []\n",
        "for i in range(final_train_y.shape[0]):\n",
        "    cur_true_label = final_train_y[i].tolist().index(1)\n",
        "    target_label = label_map[cur_true_label]\n",
        "    target_y_labels.append(target_label)\n",
        "target_y_labels = np.asarray(target_y_labels)\n",
        "target_y = keras.utils.to_categorical(target_y_labels, NUM_CLASSES)\n",
        "\n",
        "# Generate 300 adversarial images\n",
        "carlinil_adv_examples = generate_adv_examples_CarliniL2Method(substitute_model, final_train_x, target_y_labels)\n",
        "elastic_net_adv_examples = generate_adv_examples_ElasticNet(substitute_model, final_train_x, target_y_labels)\n",
        "saliency_adv_examples = generate_adv_examples_SaliencyMapMethod(substitute_model, final_train_x, target_y_labels)\n",
        "\n",
        "print(carlinil_adv_examples.shape, elastic_net_adv_examples.shape, saliency_adv_examples.shape)"
      ]
    },
    {
      "cell_type": "code",
      "source": [
        "for filename in ['carlinil_adv_examples_gpu.pkl', 'elastic_net_adv_examples_gpu.pkl', 'saliency_adv_examples_gpu.pkl']:\n",
        "  copy(filename, os.path.join('drive/MyDrive/Colab Notebooks', filename))\n",
        "  # src = os.path.join('drive/MyDrive/Colab Notebooks', filename)\n",
        "  # if os.path.exists(src):\n",
        "  #   copy(src, filename)"
      ],
      "metadata": {
        "id": "5dOOFxf-Wql0"
      },
      "execution_count": 19,
      "outputs": []
    },
    {
      "cell_type": "code",
      "source": [
        "def misclassification_ratio(labels, predictions):\n",
        "  if predictions.shape != (100,):\n",
        "    predictions = np.argmax(predictions, axis=1)\n",
        "  return np.count_nonzero(predictions==target_y_labels) / len(target_y_labels)"
      ],
      "metadata": {
        "id": "38pvE3ho5P3M"
      },
      "execution_count": 20,
      "outputs": []
    },
    {
      "cell_type": "code",
      "execution_count": 21,
      "metadata": {
        "pycharm": {
          "name": "#%%\n"
        },
        "colab": {
          "base_uri": "https://localhost:8080/"
        },
        "id": "uLMrOQkA40tv",
        "outputId": "8dc3604e-6d1b-4ca1-aa15-4c93236e5721"
      },
      "outputs": [
        {
          "output_type": "stream",
          "name": "stdout",
          "text": [
            "For CarliniL2Method attack, MR = 0.32\n",
            "For ElasticNet attack, MR = 0.88\n",
            "For SaliencyMapMethod attack, MR = 1.0\n"
          ]
        }
      ],
      "source": [
        "# Calculate Misclassification Ratio (MR) for CarliniL2Method attack\n",
        "predictions = substitute_model.predict(carlinil_adv_examples)\n",
        "carlinil_mr = misclassification_ratio(target_y_labels, predictions)\n",
        "print('For CarliniL2Method attack, MR = {}'.format(carlinil_mr))\n",
        "\n",
        "# # Calculate Misclassification Ratio (MR) for ElasticNet attack\n",
        "predictions = substitute_model.predict(elastic_net_adv_examples)\n",
        "elastic_net_mr = misclassification_ratio(target_y_labels, predictions)\n",
        "print('For ElasticNet attack, MR = {}'.format(elastic_net_mr))\n",
        "\n",
        "# # Calculate Misclassification Ratio (MR) for SaliencyMapMethod attack\n",
        "predictions = substitute_model.predict(saliency_adv_examples)\n",
        "saliency_mr = misclassification_ratio(target_y_labels, predictions)\n",
        "print('For SaliencyMapMethod attack, MR = {}'.format(saliency_mr))"
      ]
    },
    {
      "cell_type": "code",
      "execution_count": 22,
      "metadata": {
        "pycharm": {
          "name": "#%%\n"
        },
        "colab": {
          "base_uri": "https://localhost:8080/",
          "height": 281
        },
        "id": "13ClSlGi40tw",
        "outputId": "f4cfd32f-1e34-45e2-9ab8-1e4d7b3d80df"
      },
      "outputs": [
        {
          "output_type": "display_data",
          "data": {
            "text/plain": [
              "<Figure size 432x288 with 1 Axes>"
            ],
            "image/png": "[encoded data removed]"
          },
          "metadata": {
            "needs_background": "light"
          }
        }
      ],
      "source": [
        "# Make a plot\n",
        "X = ['CarliniL2Method','ElasticNet', 'SaliencyMapMethod']\n",
        "Y = [carlinil_mr, elastic_net_mr, saliency_mr]\n",
        "plt.bar(X, Y, color=['r', 'g', 'b'])\n",
        "plt.title('Misclassification Ratio (MR) for each attack')\n",
        "plt.show()\n",
        "plt.close()"
      ]
    },
    {
      "cell_type": "markdown",
      "metadata": {
        "pycharm": {
          "name": "#%% md\n"
        },
        "id": "K6iD7ckW40tw"
      },
      "source": [
        "## Part 2"
      ]
    },
    {
      "cell_type": "markdown",
      "metadata": {
        "pycharm": {
          "name": "#%% md\n"
        },
        "id": "KCkVzizU40tw"
      },
      "source": [
        "### You need to complete the following."
      ]
    },
    {
      "cell_type": "code",
      "execution_count": 23,
      "metadata": {
        "pycharm": {
          "name": "#%%\n"
        },
        "colab": {
          "base_uri": "https://localhost:8080/"
        },
        "id": "lNhK2R-E40tw",
        "outputId": "d6e291ab-e7c0-4e4c-be5f-4131880ff515"
      },
      "outputs": [
        {
          "output_type": "stream",
          "name": "stdout",
          "text": [
            "For images of true class = 0\n",
            "Methods \t L0 \t L2 \t L_inf\n",
            "carlinil \t 258.6 \t 0.06296196188464215 \t 0.01648665352123903\n",
            "elastic_net \t 228.5 \t 1.9059995181279572 \t 0.25493220710858067\n",
            "saliency \t 201.5 \t 2.048820077555106 \t 0.8878530196819735\n",
            "\n",
            "\n",
            "For images of true class = 1\n",
            "Methods \t L0 \t L2 \t L_inf\n",
            "carlinil \t 446.6 \t 0.3599137613212931 \t 0.1496709515675691\n",
            "elastic_net \t 146.5 \t 0.9003535525916121 \t 0.38826760596971654\n",
            "saliency \t 96.8 \t 1.2390649442153325 \t 0.8467467215442843\n",
            "\n",
            "\n",
            "For images of true class = 2\n",
            "Methods \t L0 \t L2 \t L_inf\n",
            "carlinil \t 604.7 \t 0.28081971234591496 \t 0.1059079284535948\n",
            "elastic_net \t 222.8 \t 0.6318408597189848 \t 0.24964422305927664\n",
            "saliency \t 184.1 \t 0.9699456912372668 \t 0.596783387219559\n",
            "\n",
            "\n",
            "For images of true class = 3\n",
            "Methods \t L0 \t L2 \t L_inf\n",
            "carlinil \t 476.2 \t 0.4558438564930273 \t 0.10536039295690731\n",
            "elastic_net \t 312.9 \t 3.887719978052304 \t 0.4393490031598267\n",
            "saliency \t 167.7 \t 1.8855516965924788 \t 0.8976290493928879\n",
            "\n",
            "\n",
            "For images of true class = 4\n",
            "Methods \t L0 \t L2 \t L_inf\n",
            "carlinil \t 142.4 \t 9.912309923102016e-08 \t 2.6589195489812313e-08\n",
            "elastic_net \t 195.2 \t 1.149208397599795 \t 0.1997008816409273\n",
            "saliency \t 149.4 \t 2.6401334846184237 \t 0.9777005389513391\n",
            "\n",
            "\n",
            "For images of true class = 5\n",
            "Methods \t L0 \t L2 \t L_inf\n",
            "carlinil \t 320.7 \t 0.2612361820275556 \t 0.0747312063764094\n",
            "elastic_net \t 219.6 \t 2.427148349053862 \t 0.5179062215418858\n",
            "saliency \t 120.4 \t 1.9073357416053018 \t 0.9482792437744685\n",
            "\n",
            "\n",
            "For images of true class = 6\n",
            "Methods \t L0 \t L2 \t L_inf\n",
            "carlinil \t 719.7 \t 0.5443586871957397 \t 0.16859892237227408\n",
            "elastic_net \t 185.0 \t 0.5997525821797691 \t 0.23408711111564678\n",
            "saliency \t 149.4 \t 1.0285112425635525 \t 0.6956633728129689\n",
            "\n",
            "\n",
            "For images of true class = 7\n",
            "Methods \t L0 \t L2 \t L_inf\n",
            "carlinil \t 125.6 \t 9.339907505943628e-08 \t 2.6560127996955173e-08\n",
            "elastic_net \t 296.2 \t 5.49365875283614 \t 0.7379472477327985\n",
            "saliency \t 142.1 \t 3.8474516776473067 \t 0.9804192147947696\n",
            "\n",
            "\n",
            "For images of true class = 8\n",
            "Methods \t L0 \t L2 \t L_inf\n",
            "carlinil \t 228.0 \t 0.05379206926308365 \t 0.018309089971129348\n",
            "elastic_net \t 258.2 \t 2.6214216178253418 \t 0.6122761942757639\n",
            "saliency \t 162.5 \t 1.5117083685583346 \t 0.7711664433854301\n",
            "\n",
            "\n",
            "For images of true class = 9\n",
            "Methods \t L0 \t L2 \t L_inf\n",
            "carlinil \t 189.8 \t 0.02801095205811051 \t 0.012822073904218873\n",
            "elastic_net \t 268.5 \t 2.800373683537887 \t 0.5770917268034451\n",
            "saliency \t 136.2 \t 2.679132058850692 \t 0.9610728515478509\n",
            "\n",
            "\n"
          ]
        }
      ],
      "source": [
        "# Imports\n",
        "from numpy import linalg as LA\n",
        "\n",
        "for class_label in range(0, 10):\n",
        "    print('For images of true class = {}'.format(class_label))\n",
        "    norms_average = {\n",
        "        'carlinil': {\n",
        "            'l0': 0,\n",
        "            'l2': 0,\n",
        "            'l_inf': 0,\n",
        "        },\n",
        "        'elastic_net': {\n",
        "            'l0': 0,\n",
        "            'l2': 0,\n",
        "            'l_inf': 0,\n",
        "        },\n",
        "        'saliency': {\n",
        "            'l0': 0,\n",
        "            'l2': 0,\n",
        "            'l_inf': 0,\n",
        "        },\n",
        "    }\n",
        "    \n",
        "    ctr = 0\n",
        "    n = final_train_y.shape[0]\n",
        "    cur_adv_examples = np.zeros(n)\n",
        "    for i in range(n):\n",
        "        cur_true_label = final_train_y[i].tolist().index(1)\n",
        "        if cur_true_label == class_label:\n",
        "            ctr += 1\n",
        "            for attack_method in ['carlinil', 'elastic_net', 'saliency']:\n",
        "                if attack_method == 'carlinil': cur_adv_examples = carlinil_adv_examples\n",
        "                elif attack_method == 'elastic_net': cur_adv_examples = elastic_net_adv_examples\n",
        "                elif attack_method == 'saliency': cur_adv_examples = saliency_adv_examples\n",
        "                x_diff = (final_train_x[i].squeeze() - cur_adv_examples[i].squeeze()).reshape(-1)\n",
        "                norms_average[attack_method]['l0'] += LA.norm(x_diff, 0)\n",
        "                norms_average[attack_method]['l2'] += LA.norm(x_diff, 2)\n",
        "                norms_average[attack_method]['l_inf'] += LA.norm(x_diff, np.inf)\n",
        "    \n",
        "    print('Methods \\t L0 \\t L2 \\t L_inf')\n",
        "    for attack_method in ['carlinil', 'elastic_net', 'saliency']:\n",
        "        l0_average = norms_average[attack_method]['l0'] / ctr\n",
        "        l2_average = norms_average[attack_method]['l2'] / ctr\n",
        "        linf_average = norms_average[attack_method]['l_inf'] / ctr\n",
        "        print('{} \\t {} \\t {} \\t {}'.format(attack_method, l0_average, l2_average, linf_average))\n",
        "    print('\\n')"
      ]
    },
    {
      "cell_type": "markdown",
      "metadata": {
        "pycharm": {
          "name": "#%% md\n"
        },
        "id": "zVayMw6A40tx"
      },
      "source": [
        "## Part 3"
      ]
    },
    {
      "cell_type": "markdown",
      "metadata": {
        "pycharm": {
          "name": "#%% md\n"
        },
        "id": "IVLBjIKO40tx"
      },
      "source": [
        "### You need to complete the following."
      ]
    },
    {
      "cell_type": "code",
      "source": [
        "!unzip network.zip"
      ],
      "metadata": {
        "colab": {
          "base_uri": "https://localhost:8080/"
        },
        "id": "bjD8MQhJ5i2U",
        "outputId": "1c5239d7-9dcf-4f49-b405-406a2f489f36"
      },
      "execution_count": 24,
      "outputs": [
        {
          "output_type": "stream",
          "name": "stdout",
          "text": [
            "Archive:  network.zip\n",
            "   creating: network/\n",
            "  inflating: __MACOSX/._network      \n",
            "  inflating: network/mnist_loader.py  \n",
            "  inflating: __MACOSX/network/._mnist_loader.py  \n",
            "  inflating: network/trained_network.pkl  \n",
            "  inflating: __MACOSX/network/._trained_network.pkl  \n",
            "   creating: network/__pycache__/\n",
            "  inflating: network/network.py      \n",
            "  inflating: __MACOSX/network/._network.py  \n",
            "  inflating: network/__pycache__/mnist_loader.cpython-310.pyc  \n",
            "  inflating: network/__pycache__/network.cpython-310.pyc  \n"
          ]
        }
      ]
    },
    {
      "cell_type": "code",
      "execution_count": 25,
      "metadata": {
        "pycharm": {
          "name": "#%%\n"
        },
        "id": "z9mxn4UQ40tx"
      },
      "outputs": [],
      "source": [
        "# Imports\n",
        "\n",
        "# Reload the trained model from HW#3 Problem 4\n",
        "import network.network as Network\n",
        "import network.mnist_loader as mnist_loader\n",
        "import pickle\n",
        "\n",
        "# Load the pre-trained model.\n",
        "with open('network/trained_network.pkl', 'rb') as f:\n",
        "    u = pickle._Unpickler(f)\n",
        "    u.encoding = 'latin1'\n",
        "    target_net = u.load()"
      ]
    },
    {
      "cell_type": "code",
      "execution_count": 26,
      "metadata": {
        "pycharm": {
          "name": "#%%\n"
        },
        "id": "QjJOnoLY40ty"
      },
      "outputs": [],
      "source": [
        "def predict_using_target_net(x, verbose=False):\n",
        "    x = x.squeeze().reshape(-1, 1)\n",
        "    outputs = target_net.feedforward(x)\n",
        "    predictions = np.argmax(outputs)\n",
        "    if verbose:\n",
        "        print('Network output: \\n' + str(np.round(outputs, 2)) + '\\n')\n",
        "        print('Network prediction: ' + str(predictions) + '\\n')\n",
        "        print('Actual image: ')\n",
        "    \n",
        "        # Draw the image\n",
        "        plt.imshow(x.reshape((28,28)), cmap='Greys')\n",
        "    return predictions"
      ]
    },
    {
      "cell_type": "code",
      "execution_count": 27,
      "metadata": {
        "pycharm": {
          "name": "#%%\n"
        },
        "colab": {
          "base_uri": "https://localhost:8080/"
        },
        "id": "6sY-Cm8240ty",
        "outputId": "d9a1d815-c7d2-43a1-d92d-c8a3b5b2e4c3"
      },
      "outputs": [
        {
          "output_type": "stream",
          "name": "stdout",
          "text": [
            "For carlinil, Misclassification Ratio = 0.03\n",
            "For elastic_net, Misclassification Ratio = 0.13\n",
            "For saliency, Misclassification Ratio = 0.06\n"
          ]
        }
      ],
      "source": [
        "# Evaluate whether adversarial examples generated with the substitute model will transfer to the target model\n",
        "for attack_method in ['carlinil', 'elastic_net', 'saliency']:\n",
        "    if attack_method == 'carlinil': cur_adv_examples = carlinil_adv_examples\n",
        "    elif attack_method == 'elastic_net': cur_adv_examples = elastic_net_adv_examples\n",
        "    elif attack_method == 'saliency': cur_adv_examples = saliency_adv_examples\n",
        "    predictions = [predict_using_target_net(example) for example in cur_adv_examples]\n",
        "    predictions = np.asarray(predictions)\n",
        "    mr = misclassification_ratio(target_y_labels, predictions)\n",
        "    print('For {}, Misclassification Ratio = {}'.format(attack_method, mr))"
      ]
    },
    {
      "cell_type": "markdown",
      "metadata": {
        "pycharm": {
          "name": "#%% md\n"
        },
        "id": "40Z9TjIc40ty"
      },
      "source": [
        "## Part 4"
      ]
    },
    {
      "cell_type": "markdown",
      "metadata": {
        "pycharm": {
          "name": "#%% md\n"
        },
        "id": "N7jQ5jap40tz"
      },
      "source": [
        "### You need to complete the following."
      ]
    },
    {
      "cell_type": "code",
      "execution_count": 28,
      "metadata": {
        "pycharm": {
          "name": "#%%\n"
        },
        "id": "vVkk9KQu40tz"
      },
      "outputs": [],
      "source": [
        "# Imports\n",
        "from sklearn.model_selection import GridSearchCV\n",
        "from sklearn.neural_network import MLPClassifier\n",
        "from sklearn.linear_model import LogisticRegression\n",
        "from sklearn.neighbors import KNeighborsClassifier\n",
        "from sklearn.naive_bayes import GaussianNB\n",
        "from sklearn.ensemble import VotingClassifier\n",
        "from sklearn.svm import SVC"
      ]
    },
    {
      "cell_type": "code",
      "execution_count": 29,
      "metadata": {
        "pycharm": {
          "name": "#%%\n"
        },
        "id": "M_Cqwo1N40tz"
      },
      "outputs": [],
      "source": [
        "# Re-load the MNIST dataset\n",
        "(x_train, y_train), (x_test, y_test) = mnist.load_data()\n",
        "\n",
        "# Normalization\n",
        "x_train = keras.utils.normalize(x_train, axis=1)\n",
        "x_test = keras.utils.normalize(x_test, axis=1)\n",
        "\n",
        "nb_trains = x_train.shape[0]\n",
        "nb_tests = x_test.shape[0]"
      ]
    },
    {
      "cell_type": "code",
      "execution_count": 34,
      "metadata": {
        "pycharm": {
          "name": "#%%\n"
        },
        "colab": {
          "base_uri": "https://localhost:8080/"
        },
        "id": "lCjHJ-Un40tz",
        "outputId": "f231bd90-888e-4b72-f41f-c9fdd6a45b07"
      },
      "outputs": [
        {
          "output_type": "stream",
          "name": "stdout",
          "text": [
            "0.9713666666666667\n"
          ]
        }
      ],
      "source": [
        "# ANN model\n",
        "ann_parameters = {\n",
        "'hidden_layer_sizes': [(100), (100,100)]\n",
        "}\n",
        "\n",
        "ann_clf = GridSearchCV(MLPClassifier(), param_grid=ann_parameters, n_jobs=-1)\n",
        "ann_clf.fit(x_train.reshape(x_train.shape[0], x_train.shape[1] * x_train.shape[2]), y_train)\n",
        "print(ann_clf.best_score_)"
      ]
    },
    {
      "cell_type": "code",
      "execution_count": 30,
      "metadata": {
        "pycharm": {
          "name": "#%%\n"
        },
        "colab": {
          "base_uri": "https://localhost:8080/"
        },
        "id": "go3v6PS140t0",
        "outputId": "35d9ee77-2ac1-4524-e19c-4422aaa8c14f"
      },
      "outputs": [
        {
          "output_type": "stream",
          "name": "stdout",
          "text": [
            "0.9795666666666667\n"
          ]
        }
      ],
      "source": [
        "# SVM model\n",
        "svm_parameters = {\n",
        "    'kernel': ['rbf'],\n",
        "    'C': [1, 10]\n",
        "}\n",
        "\n",
        "svm_clf = GridSearchCV(SVC(), param_grid=svm_parameters, n_jobs=-1)\n",
        "svm_clf.fit(x_train.reshape(x_train.shape[0], x_train.shape[1] * x_train.shape[2]), y_train)\n",
        "print(svm_clf.best_score_)"
      ]
    },
    {
      "cell_type": "code",
      "execution_count": 34,
      "metadata": {
        "pycharm": {
          "name": "#%%\n"
        },
        "colab": {
          "base_uri": "https://localhost:8080/"
        },
        "id": "YLXaOIo-40t0",
        "outputId": "021bac27-c21f-46da-ef6c-aec3bf620f91"
      },
      "outputs": [
        {
          "output_type": "stream",
          "name": "stderr",
          "text": [
            "/usr/local/lib/python3.8/dist-packages/joblib/externals/loky/process_executor.py:700: UserWarning: A worker stopped while some jobs were given to the executor. This can be caused by a too short worker timeout or by a memory leak.\n",
            "  warnings.warn(\n",
            "/usr/local/lib/python3.8/dist-packages/sklearn/model_selection/_validation.py:372: FitFailedWarning: \n",
            "10 fits failed out of a total of 20.\n",
            "The score on these train-test partitions for these parameters will be set to nan.\n",
            "If these failures are not expected, you can try to debug them by setting error_score='raise'.\n",
            "\n",
            "Below are more details about the failures:\n",
            "--------------------------------------------------------------------------------\n",
            "10 fits failed with the following error:\n",
            "Traceback (most recent call last):\n",
            "  File \"/usr/local/lib/python3.8/dist-packages/sklearn/model_selection/_validation.py\", line 680, in _fit_and_score\n",
            "    estimator.fit(X_train, y_train, **fit_params)\n",
            "  File \"/usr/local/lib/python3.8/dist-packages/sklearn/linear_model/_logistic.py\", line 1461, in fit\n",
            "    solver = _check_solver(self.solver, self.penalty, self.dual)\n",
            "  File \"/usr/local/lib/python3.8/dist-packages/sklearn/linear_model/_logistic.py\", line 447, in _check_solver\n",
            "    raise ValueError(\n",
            "ValueError: Solver lbfgs supports only 'l2' or 'none' penalties, got l1 penalty.\n",
            "\n",
            "  warnings.warn(some_fits_failed_message, FitFailedWarning)\n",
            "/usr/local/lib/python3.8/dist-packages/sklearn/model_selection/_search.py:969: UserWarning: One or more of the test scores are non-finite: [    nan 0.91915     nan 0.91685]\n",
            "  warnings.warn(\n"
          ]
        },
        {
          "output_type": "stream",
          "name": "stdout",
          "text": [
            "0.9191499999999999\n"
          ]
        },
        {
          "output_type": "stream",
          "name": "stderr",
          "text": [
            "/usr/local/lib/python3.8/dist-packages/sklearn/linear_model/_logistic.py:814: ConvergenceWarning: lbfgs failed to converge (status=1):\n",
            "STOP: TOTAL NO. of ITERATIONS REACHED LIMIT.\n",
            "\n",
            "Increase the number of iterations (max_iter) or scale the data as shown in:\n",
            "    https://scikit-learn.org/stable/modules/preprocessing.html\n",
            "Please also refer to the documentation for alternative solver options:\n",
            "    https://scikit-learn.org/stable/modules/linear_model.html#logistic-regression\n",
            "  n_iter_i = _check_optimize_result(\n"
          ]
        }
      ],
      "source": [
        "# Logistic Regression model\n",
        "lr_parameters = {\n",
        "    'multi_class': ['auto'],\n",
        "    'penalty' : ['l1', 'l2'],\n",
        "    'C': [1, 10],\n",
        "}\n",
        "\n",
        "lr_clf = GridSearchCV(LogisticRegression(), param_grid=lr_parameters, n_jobs=-1)\n",
        "lr_clf.fit(x_train.reshape(x_train.shape[0], x_train.shape[1] * x_train.shape[2]), y_train)\n",
        "print(lr_clf.best_score_)"
      ]
    },
    {
      "cell_type": "code",
      "execution_count": 35,
      "metadata": {
        "pycharm": {
          "name": "#%%\n"
        },
        "colab": {
          "base_uri": "https://localhost:8080/"
        },
        "id": "enBWvBU040t0",
        "outputId": "2f53e768-8f17-44df-95d1-6d120ef4772f"
      },
      "outputs": [
        {
          "output_type": "stream",
          "name": "stderr",
          "text": [
            "/usr/local/lib/python3.8/dist-packages/joblib/externals/loky/process_executor.py:700: UserWarning: A worker stopped while some jobs were given to the executor. This can be caused by a too short worker timeout or by a memory leak.\n",
            "  warnings.warn(\n"
          ]
        },
        {
          "output_type": "stream",
          "name": "stdout",
          "text": [
            "0.9588333333333333\n"
          ]
        }
      ],
      "source": [
        "# kNN\n",
        "knn_parameters = {\n",
        "    'n_neighbors': [5],\n",
        "    'weights': ['uniform', 'distance']\n",
        "}\n",
        "knn_clf = GridSearchCV(KNeighborsClassifier(), param_grid=knn_parameters, n_jobs=-1)\n",
        "knn_clf.fit(x_train.reshape(x_train.shape[0], x_train.shape[1] * x_train.shape[2]), y_train)\n",
        "print(knn_clf.best_score_)"
      ]
    },
    {
      "cell_type": "code",
      "execution_count": 36,
      "metadata": {
        "pycharm": {
          "name": "#%%\n"
        },
        "colab": {
          "base_uri": "https://localhost:8080/"
        },
        "id": "BkuBGVK740t0",
        "outputId": "8f532077-3709-49fb-9c05-249e16210741"
      },
      "outputs": [
        {
          "output_type": "stream",
          "name": "stdout",
          "text": [
            "0.7967000000000001\n"
          ]
        }
      ],
      "source": [
        "# Naive Bayes\n",
        "naive_bayes_parameters = {\n",
        "    'var_smoothing': [1e-3, 1e-2, 1e-1]\n",
        "}\n",
        "naive_bayes_clf = GridSearchCV(GaussianNB(), param_grid=naive_bayes_parameters, n_jobs=-1)\n",
        "naive_bayes_clf.fit(x_train.reshape(x_train.shape[0], x_train.shape[1] * x_train.shape[2]), y_train)\n",
        "print(naive_bayes_clf.best_score_)"
      ]
    },
    {
      "cell_type": "code",
      "execution_count": null,
      "metadata": {
        "pycharm": {
          "name": "#%%\n"
        },
        "id": "6UKXRhh-40t1"
      },
      "outputs": [],
      "source": [
        "# Voting classifiers\n",
        "voting_clf = VotingClassifier(estimators=[\n",
        "                                ('naive_bayes', GaussianNB()),\n",
        "                                ('ann', MLPClassifier()),\n",
        "                                ('lr', LogisticRegression()),\n",
        "                               ], voting='soft')\n",
        "\n",
        "params = {\n",
        "          'naive_bayes__var_smoothing': [1e-3, 1e-2, 1e-1],\n",
        "          'lr__C': [1, 10],\n",
        "          'ann__hidden_layer_sizes': [(100), (100,100)]}\n",
        "\n",
        "voting_clf = GridSearchCV(voting_clf, param_grid=params, n_jobs=-1)\n",
        "voting_clf.fit(x_train.reshape(x_train.shape[0], x_train.shape[1] * x_train.shape[2]), y_train)\n",
        "print(voting_clf.best_score_)"
      ]
    },
    {
      "cell_type": "code",
      "execution_count": null,
      "metadata": {
        "pycharm": {
          "name": "#%%\n"
        },
        "id": "qAlcx4hg40t1"
      },
      "outputs": [],
      "source": [
        "classifier_names = ['ANN', 'SVM', 'Logistic Regression', 'kNN', 'Naive Bayes', 'Voting classifiers']\n",
        "classifiers = [ann_clf, svm_clf, lr_clf, knn_clf, naive_bayes_clf, voting_clf]\n",
        "print('Methods \\t Test Acc \\t Carlinil MR \\t ElasticNet MR \\t Saliency MR')\n",
        "for i in range(len(classifiers)):\n",
        "    test_acc = classifiers[i].score(np.reshape(x_test, (len(x_test), x_test.shape[1]*x_test.shape[2])), y_test)\n",
        "    carlinil_acc = classifiers[i].score(np.reshape(carlinil_adv_examples, (len(carlinil_adv_examples), carlinil_adv_examples.shape[2] * carlinil_adv_examples.shape[3])), target_y_labels)\n",
        "    elasticnet_acc = classifiers[i].score(np.reshape(elastic_net_adv_examples, (len(elastic_net_adv_examples), elastic_net_adv_examples.shape[2] * elastic_net_adv_examples.shape[3])), target_y_labels)\n",
        "    saliency_acc = classifiers[i].score(np.reshape(saliency_adv_examples, (len(saliency_adv_examples), saliency_adv_examples.shape[2] * saliency_adv_examples.shape[3])), target_y_labels)\n",
        "    print('{} \\t {} \\t {} \\t {} \\t {}'.format(classifier_names[i], str(test_acc), str(carlinil_acc), str(elasticnet_acc), str(saliency_acc)))"
      ]
    }
  ],
  "metadata": {
    "kernelspec": {
      "display_name": "Python 3 (ipykernel)",
      "language": "python",
      "name": "python3"
    },
    "language_info": {
      "codemirror_mode": {
        "name": "ipython",
        "version": 3
      },
      "file_extension": ".py",
      "mimetype": "text/x-python",
      "name": "python",
      "nbconvert_exporter": "python",
      "pygments_lexer": "ipython3",
      "version": "3.10.6"
    },
    "colab": {
      "provenance": []
    },
    "accelerator": "GPU",
    "gpuClass": "standard",
    "widgets": {
      "application/vnd.jupyter.widget-state+json": {
        "49d71882b60e43d39797d516cbace404": {
          "model_module": "@jupyter-widgets/controls",
          "model_name": "HBoxModel",
          "model_module_version": "1.5.0",
          "state": {
            "_dom_classes": [],
            "_model_module": "@jupyter-widgets/controls",
            "_model_module_version": "1.5.0",
            "_model_name": "HBoxModel",
            "_view_count": null,
            "_view_module": "@jupyter-widgets/controls",
            "_view_module_version": "1.5.0",
            "_view_name": "HBoxView",
            "box_style": "",
            "children": [
              "IPY_MODEL_178213dc54a74c63950e892729fb6efa",
              "IPY_MODEL_b7286462f4a54020bd4bd6eb30d0d381",
              "IPY_MODEL_3a647ac0aacd4dfd9c3fcdf6894b3724"
            ],
            "layout": "IPY_MODEL_f209c348e6e0427288dce84276182459"
          }
        },
        "178213dc54a74c63950e892729fb6efa": {
          "model_module": "@jupyter-widgets/controls",
          "model_name": "HTMLModel",
          "model_module_version": "1.5.0",
          "state": {
            "_dom_classes": [],
            "_model_module": "@jupyter-widgets/controls",
            "_model_module_version": "1.5.0",
            "_model_name": "HTMLModel",
            "_view_count": null,
            "_view_module": "@jupyter-widgets/controls",
            "_view_module_version": "1.5.0",
            "_view_name": "HTMLView",
            "description": "",
            "description_tooltip": null,
            "layout": "IPY_MODEL_be932cb06b93403abbde358dc2bd719e",
            "placeholder": "​",
            "style": "IPY_MODEL_6a961e1d69204cd39e3901fa6cc95a39",
            "value": "C&amp;W L_2: 100%"
          }
        },
        "b7286462f4a54020bd4bd6eb30d0d381": {
          "model_module": "@jupyter-widgets/controls",
          "model_name": "FloatProgressModel",
          "model_module_version": "1.5.0",
          "state": {
            "_dom_classes": [],
            "_model_module": "@jupyter-widgets/controls",
            "_model_module_version": "1.5.0",
            "_model_name": "FloatProgressModel",
            "_view_count": null,
            "_view_module": "@jupyter-widgets/controls",
            "_view_module_version": "1.5.0",
            "_view_name": "ProgressView",
            "bar_style": "success",
            "description": "",
            "description_tooltip": null,
            "layout": "IPY_MODEL_90dcdb296115480cac7abf0d1c798ba1",
            "max": 100,
            "min": 0,
            "orientation": "horizontal",
            "style": "IPY_MODEL_4ee65466e7764bb390358888ce2a9ec1",
            "value": 100
          }
        },
        "3a647ac0aacd4dfd9c3fcdf6894b3724": {
          "model_module": "@jupyter-widgets/controls",
          "model_name": "HTMLModel",
          "model_module_version": "1.5.0",
          "state": {
            "_dom_classes": [],
            "_model_module": "@jupyter-widgets/controls",
            "_model_module_version": "1.5.0",
            "_model_name": "HTMLModel",
            "_view_count": null,
            "_view_module": "@jupyter-widgets/controls",
            "_view_module_version": "1.5.0",
            "_view_name": "HTMLView",
            "description": "",
            "description_tooltip": null,
            "layout": "IPY_MODEL_176dc6e48b6c458997015241a8fb1565",
            "placeholder": "​",
            "style": "IPY_MODEL_6e7c959c3c3a4385927332565e70b347",
            "value": " 100/100 [02:07&lt;00:00,  1.22s/it]"
          }
        },
        "f209c348e6e0427288dce84276182459": {
          "model_module": "@jupyter-widgets/base",
          "model_name": "LayoutModel",
          "model_module_version": "1.2.0",
          "state": {
            "_model_module": "@jupyter-widgets/base",
            "_model_module_version": "1.2.0",
            "_model_name": "LayoutModel",
            "_view_count": null,
            "_view_module": "@jupyter-widgets/base",
            "_view_module_version": "1.2.0",
            "_view_name": "LayoutView",
            "align_content": null,
            "align_items": null,
            "align_self": null,
            "border": null,
            "bottom": null,
            "display": null,
            "flex": null,
            "flex_flow": null,
            "grid_area": null,
            "grid_auto_columns": null,
            "grid_auto_flow": null,
            "grid_auto_rows": null,
            "grid_column": null,
            "grid_gap": null,
            "grid_row": null,
            "grid_template_areas": null,
            "grid_template_columns": null,
            "grid_template_rows": null,
            "height": null,
            "justify_content": null,
            "justify_items": null,
            "left": null,
            "margin": null,
            "max_height": null,
            "max_width": null,
            "min_height": null,
            "min_width": null,
            "object_fit": null,
            "object_position": null,
            "order": null,
            "overflow": null,
            "overflow_x": null,
            "overflow_y": null,
            "padding": null,
            "right": null,
            "top": null,
            "visibility": null,
            "width": null
          }
        },
        "be932cb06b93403abbde358dc2bd719e": {
          "model_module": "@jupyter-widgets/base",
          "model_name": "LayoutModel",
          "model_module_version": "1.2.0",
          "state": {
            "_model_module": "@jupyter-widgets/base",
            "_model_module_version": "1.2.0",
            "_model_name": "LayoutModel",
            "_view_count": null,
            "_view_module": "@jupyter-widgets/base",
            "_view_module_version": "1.2.0",
            "_view_name": "LayoutView",
            "align_content": null,
            "align_items": null,
            "align_self": null,
            "border": null,
            "bottom": null,
            "display": null,
            "flex": null,
            "flex_flow": null,
            "grid_area": null,
            "grid_auto_columns": null,
            "grid_auto_flow": null,
            "grid_auto_rows": null,
            "grid_column": null,
            "grid_gap": null,
            "grid_row": null,
            "grid_template_areas": null,
            "grid_template_columns": null,
            "grid_template_rows": null,
            "height": null,
            "justify_content": null,
            "justify_items": null,
            "left": null,
            "margin": null,
            "max_height": null,
            "max_width": null,
            "min_height": null,
            "min_width": null,
            "object_fit": null,
            "object_position": null,
            "order": null,
            "overflow": null,
            "overflow_x": null,
            "overflow_y": null,
            "padding": null,
            "right": null,
            "top": null,
            "visibility": null,
            "width": null
          }
        },
        "6a961e1d69204cd39e3901fa6cc95a39": {
          "model_module": "@jupyter-widgets/controls",
          "model_name": "DescriptionStyleModel",
          "model_module_version": "1.5.0",
          "state": {
            "_model_module": "@jupyter-widgets/controls",
            "_model_module_version": "1.5.0",
            "_model_name": "DescriptionStyleModel",
            "_view_count": null,
            "_view_module": "@jupyter-widgets/base",
            "_view_module_version": "1.2.0",
            "_view_name": "StyleView",
            "description_width": ""
          }
        },
        "90dcdb296115480cac7abf0d1c798ba1": {
          "model_module": "@jupyter-widgets/base",
          "model_name": "LayoutModel",
          "model_module_version": "1.2.0",
          "state": {
            "_model_module": "@jupyter-widgets/base",
            "_model_module_version": "1.2.0",
            "_model_name": "LayoutModel",
            "_view_count": null,
            "_view_module": "@jupyter-widgets/base",
            "_view_module_version": "1.2.0",
            "_view_name": "LayoutView",
            "align_content": null,
            "align_items": null,
            "align_self": null,
            "border": null,
            "bottom": null,
            "display": null,
            "flex": null,
            "flex_flow": null,
            "grid_area": null,
            "grid_auto_columns": null,
            "grid_auto_flow": null,
            "grid_auto_rows": null,
            "grid_column": null,
            "grid_gap": null,
            "grid_row": null,
            "grid_template_areas": null,
            "grid_template_columns": null,
            "grid_template_rows": null,
            "height": null,
            "justify_content": null,
            "justify_items": null,
            "left": null,
            "margin": null,
            "max_height": null,
            "max_width": null,
            "min_height": null,
            "min_width": null,
            "object_fit": null,
            "object_position": null,
            "order": null,
            "overflow": null,
            "overflow_x": null,
            "overflow_y": null,
            "padding": null,
            "right": null,
            "top": null,
            "visibility": null,
            "width": null
          }
        },
        "4ee65466e7764bb390358888ce2a9ec1": {
          "model_module": "@jupyter-widgets/controls",
          "model_name": "ProgressStyleModel",
          "model_module_version": "1.5.0",
          "state": {
            "_model_module": "@jupyter-widgets/controls",
            "_model_module_version": "1.5.0",
            "_model_name": "ProgressStyleModel",
            "_view_count": null,
            "_view_module": "@jupyter-widgets/base",
            "_view_module_version": "1.2.0",
            "_view_name": "StyleView",
            "bar_color": null,
            "description_width": ""
          }
        },
        "176dc6e48b6c458997015241a8fb1565": {
          "model_module": "@jupyter-widgets/base",
          "model_name": "LayoutModel",
          "model_module_version": "1.2.0",
          "state": {
            "_model_module": "@jupyter-widgets/base",
            "_model_module_version": "1.2.0",
            "_model_name": "LayoutModel",
            "_view_count": null,
            "_view_module": "@jupyter-widgets/base",
            "_view_module_version": "1.2.0",
            "_view_name": "LayoutView",
            "align_content": null,
            "align_items": null,
            "align_self": null,
            "border": null,
            "bottom": null,
            "display": null,
            "flex": null,
            "flex_flow": null,
            "grid_area": null,
            "grid_auto_columns": null,
            "grid_auto_flow": null,
            "grid_auto_rows": null,
            "grid_column": null,
            "grid_gap": null,
            "grid_row": null,
            "grid_template_areas": null,
            "grid_template_columns": null,
            "grid_template_rows": null,
            "height": null,
            "justify_content": null,
            "justify_items": null,
            "left": null,
            "margin": null,
            "max_height": null,
            "max_width": null,
            "min_height": null,
            "min_width": null,
            "object_fit": null,
            "object_position": null,
            "order": null,
            "overflow": null,
            "overflow_x": null,
            "overflow_y": null,
            "padding": null,
            "right": null,
            "top": null,
            "visibility": null,
            "width": null
          }
        },
        "6e7c959c3c3a4385927332565e70b347": {
          "model_module": "@jupyter-widgets/controls",
          "model_name": "DescriptionStyleModel",
          "model_module_version": "1.5.0",
          "state": {
            "_model_module": "@jupyter-widgets/controls",
            "_model_module_version": "1.5.0",
            "_model_name": "DescriptionStyleModel",
            "_view_count": null,
            "_view_module": "@jupyter-widgets/base",
            "_view_module_version": "1.2.0",
            "_view_name": "StyleView",
            "description_width": ""
          }
        },
        "d80d4a3a919046cf98f0918b004bbd23": {
          "model_module": "@jupyter-widgets/controls",
          "model_name": "HBoxModel",
          "model_module_version": "1.5.0",
          "state": {
            "_dom_classes": [],
            "_model_module": "@jupyter-widgets/controls",
            "_model_module_version": "1.5.0",
            "_model_name": "HBoxModel",
            "_view_count": null,
            "_view_module": "@jupyter-widgets/controls",
            "_view_module_version": "1.5.0",
            "_view_name": "HBoxView",
            "box_style": "",
            "children": [
              "IPY_MODEL_9f3e9c55b94c4fefac3334efe34da3f8",
              "IPY_MODEL_9dc7b6b4a53d41f2a739de3733667b5d",
              "IPY_MODEL_770170e286394a5ea09a7918583fdfc3"
            ],
            "layout": "IPY_MODEL_efa9eaf67b0d40c6869a522aea298c16"
          }
        },
        "9f3e9c55b94c4fefac3334efe34da3f8": {
          "model_module": "@jupyter-widgets/controls",
          "model_name": "HTMLModel",
          "model_module_version": "1.5.0",
          "state": {
            "_dom_classes": [],
            "_model_module": "@jupyter-widgets/controls",
            "_model_module_version": "1.5.0",
            "_model_name": "HTMLModel",
            "_view_count": null,
            "_view_module": "@jupyter-widgets/controls",
            "_view_module_version": "1.5.0",
            "_view_name": "HTMLView",
            "description": "",
            "description_tooltip": null,
            "layout": "IPY_MODEL_ed545c8f59c141d59028350d26950485",
            "placeholder": "​",
            "style": "IPY_MODEL_700cf246a61c42dfa0ad8eb4663aeef1",
            "value": "EAD: 100%"
          }
        },
        "9dc7b6b4a53d41f2a739de3733667b5d": {
          "model_module": "@jupyter-widgets/controls",
          "model_name": "FloatProgressModel",
          "model_module_version": "1.5.0",
          "state": {
            "_dom_classes": [],
            "_model_module": "@jupyter-widgets/controls",
            "_model_module_version": "1.5.0",
            "_model_name": "FloatProgressModel",
            "_view_count": null,
            "_view_module": "@jupyter-widgets/controls",
            "_view_module_version": "1.5.0",
            "_view_name": "ProgressView",
            "bar_style": "success",
            "description": "",
            "description_tooltip": null,
            "layout": "IPY_MODEL_36cdd5546e334c3c92c74b0e668d7c40",
            "max": 100,
            "min": 0,
            "orientation": "horizontal",
            "style": "IPY_MODEL_e1e11d307e8145e6ac3fb67cf0c22e35",
            "value": 100
          }
        },
        "770170e286394a5ea09a7918583fdfc3": {
          "model_module": "@jupyter-widgets/controls",
          "model_name": "HTMLModel",
          "model_module_version": "1.5.0",
          "state": {
            "_dom_classes": [],
            "_model_module": "@jupyter-widgets/controls",
            "_model_module_version": "1.5.0",
            "_model_name": "HTMLModel",
            "_view_count": null,
            "_view_module": "@jupyter-widgets/controls",
            "_view_module_version": "1.5.0",
            "_view_name": "HTMLView",
            "description": "",
            "description_tooltip": null,
            "layout": "IPY_MODEL_df01690cb20d4e87999844b3cb0621b5",
            "placeholder": "​",
            "style": "IPY_MODEL_1b51762829d24e7fa0e62905ed36074c",
            "value": " 100/100 [10:13&lt;00:00,  6.02s/it]"
          }
        },
        "efa9eaf67b0d40c6869a522aea298c16": {
          "model_module": "@jupyter-widgets/base",
          "model_name": "LayoutModel",
          "model_module_version": "1.2.0",
          "state": {
            "_model_module": "@jupyter-widgets/base",
            "_model_module_version": "1.2.0",
            "_model_name": "LayoutModel",
            "_view_count": null,
            "_view_module": "@jupyter-widgets/base",
            "_view_module_version": "1.2.0",
            "_view_name": "LayoutView",
            "align_content": null,
            "align_items": null,
            "align_self": null,
            "border": null,
            "bottom": null,
            "display": null,
            "flex": null,
            "flex_flow": null,
            "grid_area": null,
            "grid_auto_columns": null,
            "grid_auto_flow": null,
            "grid_auto_rows": null,
            "grid_column": null,
            "grid_gap": null,
            "grid_row": null,
            "grid_template_areas": null,
            "grid_template_columns": null,
            "grid_template_rows": null,
            "height": null,
            "justify_content": null,
            "justify_items": null,
            "left": null,
            "margin": null,
            "max_height": null,
            "max_width": null,
            "min_height": null,
            "min_width": null,
            "object_fit": null,
            "object_position": null,
            "order": null,
            "overflow": null,
            "overflow_x": null,
            "overflow_y": null,
            "padding": null,
            "right": null,
            "top": null,
            "visibility": null,
            "width": null
          }
        },
        "ed545c8f59c141d59028350d26950485": {
          "model_module": "@jupyter-widgets/base",
          "model_name": "LayoutModel",
          "model_module_version": "1.2.0",
          "state": {
            "_model_module": "@jupyter-widgets/base",
            "_model_module_version": "1.2.0",
            "_model_name": "LayoutModel",
            "_view_count": null,
            "_view_module": "@jupyter-widgets/base",
            "_view_module_version": "1.2.0",
            "_view_name": "LayoutView",
            "align_content": null,
            "align_items": null,
            "align_self": null,
            "border": null,
            "bottom": null,
            "display": null,
            "flex": null,
            "flex_flow": null,
            "grid_area": null,
            "grid_auto_columns": null,
            "grid_auto_flow": null,
            "grid_auto_rows": null,
            "grid_column": null,
            "grid_gap": null,
            "grid_row": null,
            "grid_template_areas": null,
            "grid_template_columns": null,
            "grid_template_rows": null,
            "height": null,
            "justify_content": null,
            "justify_items": null,
            "left": null,
            "margin": null,
            "max_height": null,
            "max_width": null,
            "min_height": null,
            "min_width": null,
            "object_fit": null,
            "object_position": null,
            "order": null,
            "overflow": null,
            "overflow_x": null,
            "overflow_y": null,
            "padding": null,
            "right": null,
            "top": null,
            "visibility": null,
            "width": null
          }
        },
        "700cf246a61c42dfa0ad8eb4663aeef1": {
          "model_module": "@jupyter-widgets/controls",
          "model_name": "DescriptionStyleModel",
          "model_module_version": "1.5.0",
          "state": {
            "_model_module": "@jupyter-widgets/controls",
            "_model_module_version": "1.5.0",
            "_model_name": "DescriptionStyleModel",
            "_view_count": null,
            "_view_module": "@jupyter-widgets/base",
            "_view_module_version": "1.2.0",
            "_view_name": "StyleView",
            "description_width": ""
          }
        },
        "36cdd5546e334c3c92c74b0e668d7c40": {
          "model_module": "@jupyter-widgets/base",
          "model_name": "LayoutModel",
          "model_module_version": "1.2.0",
          "state": {
            "_model_module": "@jupyter-widgets/base",
            "_model_module_version": "1.2.0",
            "_model_name": "LayoutModel",
            "_view_count": null,
            "_view_module": "@jupyter-widgets/base",
            "_view_module_version": "1.2.0",
            "_view_name": "LayoutView",
            "align_content": null,
            "align_items": null,
            "align_self": null,
            "border": null,
            "bottom": null,
            "display": null,
            "flex": null,
            "flex_flow": null,
            "grid_area": null,
            "grid_auto_columns": null,
            "grid_auto_flow": null,
            "grid_auto_rows": null,
            "grid_column": null,
            "grid_gap": null,
            "grid_row": null,
            "grid_template_areas": null,
            "grid_template_columns": null,
            "grid_template_rows": null,
            "height": null,
            "justify_content": null,
            "justify_items": null,
            "left": null,
            "margin": null,
            "max_height": null,
            "max_width": null,
            "min_height": null,
            "min_width": null,
            "object_fit": null,
            "object_position": null,
            "order": null,
            "overflow": null,
            "overflow_x": null,
            "overflow_y": null,
            "padding": null,
            "right": null,
            "top": null,
            "visibility": null,
            "width": null
          }
        },
        "e1e11d307e8145e6ac3fb67cf0c22e35": {
          "model_module": "@jupyter-widgets/controls",
          "model_name": "ProgressStyleModel",
          "model_module_version": "1.5.0",
          "state": {
            "_model_module": "@jupyter-widgets/controls",
            "_model_module_version": "1.5.0",
            "_model_name": "ProgressStyleModel",
            "_view_count": null,
            "_view_module": "@jupyter-widgets/base",
            "_view_module_version": "1.2.0",
            "_view_name": "StyleView",
            "bar_color": null,
            "description_width": ""
          }
        },
        "df01690cb20d4e87999844b3cb0621b5": {
          "model_module": "@jupyter-widgets/base",
          "model_name": "LayoutModel",
          "model_module_version": "1.2.0",
          "state": {
            "_model_module": "@jupyter-widgets/base",
            "_model_module_version": "1.2.0",
            "_model_name": "LayoutModel",
            "_view_count": null,
            "_view_module": "@jupyter-widgets/base",
            "_view_module_version": "1.2.0",
            "_view_name": "LayoutView",
            "align_content": null,
            "align_items": null,
            "align_self": null,
            "border": null,
            "bottom": null,
            "display": null,
            "flex": null,
            "flex_flow": null,
            "grid_area": null,
            "grid_auto_columns": null,
            "grid_auto_flow": null,
            "grid_auto_rows": null,
            "grid_column": null,
            "grid_gap": null,
            "grid_row": null,
            "grid_template_areas": null,
            "grid_template_columns": null,
            "grid_template_rows": null,
            "height": null,
            "justify_content": null,
            "justify_items": null,
            "left": null,
            "margin": null,
            "max_height": null,
            "max_width": null,
            "min_height": null,
            "min_width": null,
            "object_fit": null,
            "object_position": null,
            "order": null,
            "overflow": null,
            "overflow_x": null,
            "overflow_y": null,
            "padding": null,
            "right": null,
            "top": null,
            "visibility": null,
            "width": null
          }
        },
        "1b51762829d24e7fa0e62905ed36074c": {
          "model_module": "@jupyter-widgets/controls",
          "model_name": "DescriptionStyleModel",
          "model_module_version": "1.5.0",
          "state": {
            "_model_module": "@jupyter-widgets/controls",
            "_model_module_version": "1.5.0",
            "_model_name": "DescriptionStyleModel",
            "_view_count": null,
            "_view_module": "@jupyter-widgets/base",
            "_view_module_version": "1.2.0",
            "_view_name": "StyleView",
            "description_width": ""
          }
        },
        "54bd7cd2f0c34fe3a26c5e2fa7493e23": {
          "model_module": "@jupyter-widgets/controls",
          "model_name": "HBoxModel",
          "model_module_version": "1.5.0",
          "state": {
            "_dom_classes": [],
            "_model_module": "@jupyter-widgets/controls",
            "_model_module_version": "1.5.0",
            "_model_name": "HBoxModel",
            "_view_count": null,
            "_view_module": "@jupyter-widgets/controls",
            "_view_module_version": "1.5.0",
            "_view_name": "HBoxView",
            "box_style": "",
            "children": [
              "IPY_MODEL_1c9aeb5304ab4596a5881b41f18ac902",
              "IPY_MODEL_01610669788543adb0c1d74deabfb047",
              "IPY_MODEL_3b2bf0bd865949a6bb188a4c23d6d448"
            ],
            "layout": "IPY_MODEL_b407b296860441d4b0dd98b890836e30"
          }
        },
        "1c9aeb5304ab4596a5881b41f18ac902": {
          "model_module": "@jupyter-widgets/controls",
          "model_name": "HTMLModel",
          "model_module_version": "1.5.0",
          "state": {
            "_dom_classes": [],
            "_model_module": "@jupyter-widgets/controls",
            "_model_module_version": "1.5.0",
            "_model_name": "HTMLModel",
            "_view_count": null,
            "_view_module": "@jupyter-widgets/controls",
            "_view_module_version": "1.5.0",
            "_view_name": "HTMLView",
            "description": "",
            "description_tooltip": null,
            "layout": "IPY_MODEL_33efca93b83d4805a8c0274dfb5f2686",
            "placeholder": "​",
            "style": "IPY_MODEL_46688529c54d451f9b4c9592782aaf8c",
            "value": "JSMA: 100%"
          }
        },
        "01610669788543adb0c1d74deabfb047": {
          "model_module": "@jupyter-widgets/controls",
          "model_name": "FloatProgressModel",
          "model_module_version": "1.5.0",
          "state": {
            "_dom_classes": [],
            "_model_module": "@jupyter-widgets/controls",
            "_model_module_version": "1.5.0",
            "_model_name": "FloatProgressModel",
            "_view_count": null,
            "_view_module": "@jupyter-widgets/controls",
            "_view_module_version": "1.5.0",
            "_view_name": "ProgressView",
            "bar_style": "success",
            "description": "",
            "description_tooltip": null,
            "layout": "IPY_MODEL_40a18811880a4fe7837f923a678f21e6",
            "max": 100,
            "min": 0,
            "orientation": "horizontal",
            "style": "IPY_MODEL_949be3fa64244fd8b4590cfc0982e086",
            "value": 100
          }
        },
        "3b2bf0bd865949a6bb188a4c23d6d448": {
          "model_module": "@jupyter-widgets/controls",
          "model_name": "HTMLModel",
          "model_module_version": "1.5.0",
          "state": {
            "_dom_classes": [],
            "_model_module": "@jupyter-widgets/controls",
            "_model_module_version": "1.5.0",
            "_model_name": "HTMLModel",
            "_view_count": null,
            "_view_module": "@jupyter-widgets/controls",
            "_view_module_version": "1.5.0",
            "_view_name": "HTMLView",
            "description": "",
            "description_tooltip": null,
            "layout": "IPY_MODEL_e280d0569e984bedbd5331a74eb1d8d0",
            "placeholder": "​",
            "style": "IPY_MODEL_73f2f898fb4142819269e7ff1b930439",
            "value": " 100/100 [00:11&lt;00:00,  4.96it/s]"
          }
        },
        "b407b296860441d4b0dd98b890836e30": {
          "model_module": "@jupyter-widgets/base",
          "model_name": "LayoutModel",
          "model_module_version": "1.2.0",
          "state": {
            "_model_module": "@jupyter-widgets/base",
            "_model_module_version": "1.2.0",
            "_model_name": "LayoutModel",
            "_view_count": null,
            "_view_module": "@jupyter-widgets/base",
            "_view_module_version": "1.2.0",
            "_view_name": "LayoutView",
            "align_content": null,
            "align_items": null,
            "align_self": null,
            "border": null,
            "bottom": null,
            "display": null,
            "flex": null,
            "flex_flow": null,
            "grid_area": null,
            "grid_auto_columns": null,
            "grid_auto_flow": null,
            "grid_auto_rows": null,
            "grid_column": null,
            "grid_gap": null,
            "grid_row": null,
            "grid_template_areas": null,
            "grid_template_columns": null,
            "grid_template_rows": null,
            "height": null,
            "justify_content": null,
            "justify_items": null,
            "left": null,
            "margin": null,
            "max_height": null,
            "max_width": null,
            "min_height": null,
            "min_width": null,
            "object_fit": null,
            "object_position": null,
            "order": null,
            "overflow": null,
            "overflow_x": null,
            "overflow_y": null,
            "padding": null,
            "right": null,
            "top": null,
            "visibility": null,
            "width": null
          }
        },
        "33efca93b83d4805a8c0274dfb5f2686": {
          "model_module": "@jupyter-widgets/base",
          "model_name": "LayoutModel",
          "model_module_version": "1.2.0",
          "state": {
            "_model_module": "@jupyter-widgets/base",
            "_model_module_version": "1.2.0",
            "_model_name": "LayoutModel",
            "_view_count": null,
            "_view_module": "@jupyter-widgets/base",
            "_view_module_version": "1.2.0",
            "_view_name": "LayoutView",
            "align_content": null,
            "align_items": null,
            "align_self": null,
            "border": null,
            "bottom": null,
            "display": null,
            "flex": null,
            "flex_flow": null,
            "grid_area": null,
            "grid_auto_columns": null,
            "grid_auto_flow": null,
            "grid_auto_rows": null,
            "grid_column": null,
            "grid_gap": null,
            "grid_row": null,
            "grid_template_areas": null,
            "grid_template_columns": null,
            "grid_template_rows": null,
            "height": null,
            "justify_content": null,
            "justify_items": null,
            "left": null,
            "margin": null,
            "max_height": null,
            "max_width": null,
            "min_height": null,
            "min_width": null,
            "object_fit": null,
            "object_position": null,
            "order": null,
            "overflow": null,
            "overflow_x": null,
            "overflow_y": null,
            "padding": null,
            "right": null,
            "top": null,
            "visibility": null,
            "width": null
          }
        },
        "46688529c54d451f9b4c9592782aaf8c": {
          "model_module": "@jupyter-widgets/controls",
          "model_name": "DescriptionStyleModel",
          "model_module_version": "1.5.0",
          "state": {
            "_model_module": "@jupyter-widgets/controls",
            "_model_module_version": "1.5.0",
            "_model_name": "DescriptionStyleModel",
            "_view_count": null,
            "_view_module": "@jupyter-widgets/base",
            "_view_module_version": "1.2.0",
            "_view_name": "StyleView",
            "description_width": ""
          }
        },
        "40a18811880a4fe7837f923a678f21e6": {
          "model_module": "@jupyter-widgets/base",
          "model_name": "LayoutModel",
          "model_module_version": "1.2.0",
          "state": {
            "_model_module": "@jupyter-widgets/base",
            "_model_module_version": "1.2.0",
            "_model_name": "LayoutModel",
            "_view_count": null,
            "_view_module": "@jupyter-widgets/base",
            "_view_module_version": "1.2.0",
            "_view_name": "LayoutView",
            "align_content": null,
            "align_items": null,
            "align_self": null,
            "border": null,
            "bottom": null,
            "display": null,
            "flex": null,
            "flex_flow": null,
            "grid_area": null,
            "grid_auto_columns": null,
            "grid_auto_flow": null,
            "grid_auto_rows": null,
            "grid_column": null,
            "grid_gap": null,
            "grid_row": null,
            "grid_template_areas": null,
            "grid_template_columns": null,
            "grid_template_rows": null,
            "height": null,
            "justify_content": null,
            "justify_items": null,
            "left": null,
            "margin": null,
            "max_height": null,
            "max_width": null,
            "min_height": null,
            "min_width": null,
            "object_fit": null,
            "object_position": null,
            "order": null,
            "overflow": null,
            "overflow_x": null,
            "overflow_y": null,
            "padding": null,
            "right": null,
            "top": null,
            "visibility": null,
            "width": null
          }
        },
        "949be3fa64244fd8b4590cfc0982e086": {
          "model_module": "@jupyter-widgets/controls",
          "model_name": "ProgressStyleModel",
          "model_module_version": "1.5.0",
          "state": {
            "_model_module": "@jupyter-widgets/controls",
            "_model_module_version": "1.5.0",
            "_model_name": "ProgressStyleModel",
            "_view_count": null,
            "_view_module": "@jupyter-widgets/base",
            "_view_module_version": "1.2.0",
            "_view_name": "StyleView",
            "bar_color": null,
            "description_width": ""
          }
        },
        "e280d0569e984bedbd5331a74eb1d8d0": {
          "model_module": "@jupyter-widgets/base",
          "model_name": "LayoutModel",
          "model_module_version": "1.2.0",
          "state": {
            "_model_module": "@jupyter-widgets/base",
            "_model_module_version": "1.2.0",
            "_model_name": "LayoutModel",
            "_view_count": null,
            "_view_module": "@jupyter-widgets/base",
            "_view_module_version": "1.2.0",
            "_view_name": "LayoutView",
            "align_content": null,
            "align_items": null,
            "align_self": null,
            "border": null,
            "bottom": null,
            "display": null,
            "flex": null,
            "flex_flow": null,
            "grid_area": null,
            "grid_auto_columns": null,
            "grid_auto_flow": null,
            "grid_auto_rows": null,
            "grid_column": null,
            "grid_gap": null,
            "grid_row": null,
            "grid_template_areas": null,
            "grid_template_columns": null,
            "grid_template_rows": null,
            "height": null,
            "justify_content": null,
            "justify_items": null,
            "left": null,
            "margin": null,
            "max_height": null,
            "max_width": null,
            "min_height": null,
            "min_width": null,
            "object_fit": null,
            "object_position": null,
            "order": null,
            "overflow": null,
            "overflow_x": null,
            "overflow_y": null,
            "padding": null,
            "right": null,
            "top": null,
            "visibility": null,
            "width": null
          }
        },
        "73f2f898fb4142819269e7ff1b930439": {
          "model_module": "@jupyter-widgets/controls",
          "model_name": "DescriptionStyleModel",
          "model_module_version": "1.5.0",
          "state": {
            "_model_module": "@jupyter-widgets/controls",
            "_model_module_version": "1.5.0",
            "_model_name": "DescriptionStyleModel",
            "_view_count": null,
            "_view_module": "@jupyter-widgets/base",
            "_view_module_version": "1.2.0",
            "_view_name": "StyleView",
            "description_width": ""
          }
        }
      }
    }
  },
  "nbformat": 4,
  "nbformat_minor": 0
}